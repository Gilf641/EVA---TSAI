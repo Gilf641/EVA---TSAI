{
  "nbformat": 4,
  "nbformat_minor": 0,
  "metadata": {
    "colab": {
      "name": "S6_Assignment_Solution.ipynb",
      "provenance": [],
      "collapsed_sections": [],
      "authorship_tag": "ABX9TyPjPLSj1EkpKA3uDEYQ8zvs",
      "include_colab_link": true
    },
    "kernelspec": {
      "name": "python3",
      "display_name": "Python 3"
    }
  },
  "cells": [
    {
      "cell_type": "markdown",
      "metadata": {
        "id": "view-in-github",
        "colab_type": "text"
      },
      "source": [
        "<a href=\"https://colab.research.google.com/github/Gilf641/EVA4/blob/master/S6_Assignment_Solution.ipynb\" target=\"_parent\"><img src=\"https://colab.research.google.com/assets/colab-badge.svg\" alt=\"Open In Colab\"/></a>"
      ]
    },
    {
      "cell_type": "markdown",
      "metadata": {
        "id": "aoG0WKvrZP7-",
        "colab_type": "text"
      },
      "source": [
        "**Import required Libraries**\n"
      ]
    },
    {
      "cell_type": "code",
      "metadata": {
        "id": "ibCd4l21ZcLp",
        "colab_type": "code",
        "colab": {}
      },
      "source": [
        "from __future__ import print_function\n",
        "import torch\n",
        "import torch.nn as nn\n",
        "import torch.nn.functional as F\n",
        "import torch.optim as optim\n",
        "from torchvision import datasets, transforms\n",
        "%matplotlib inline\n",
        "import matplotlib.pyplot as plt\n",
        "from torch.optim.lr_scheduler import OneCycleLR"
      ],
      "execution_count": 0,
      "outputs": []
    },
    {
      "cell_type": "code",
      "metadata": {
        "id": "TzgJ4ZSsTrY8",
        "colab_type": "code",
        "outputId": "0a3c4c75-e817-4a67-8dba-45597a939703",
        "colab": {
          "resources": {
            "http://localhost:8080/nbextensions/google.colab/files.js": {
              "data": "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",
              "ok": true,
              "headers": [
                [
                  "content-type",
                  "application/javascript"
                ]
              ],
              "status": 200,
              "status_text": "OK"
            }
          },
          "base_uri": "https://localhost:8080/",
          "height": 52
        }
      },
      "source": [
        "# simple function to upload files from local drive\n",
        "\n",
        "from google.colab import files\n",
        "def getLocalFiles():\n",
        "    _files = files.upload()\n",
        "    if len(_files) >0:\n",
        "       for k,v in _files.items():\n",
        "         open(k,'wb').write(v)\n",
        "getLocalFiles()"
      ],
      "execution_count": 2,
      "outputs": [
        {
          "output_type": "display_data",
          "data": {
            "text/html": [
              "\n",
              "     <input type=\"file\" id=\"files-8d2fd137-f269-42a0-8767-398756053178\" name=\"files[]\" multiple disabled />\n",
              "     <output id=\"result-8d2fd137-f269-42a0-8767-398756053178\">\n",
              "      Upload widget is only available when the cell has been executed in the\n",
              "      current browser session. Please rerun this cell to enable.\n",
              "      </output>\n",
              "      <script src=\"/nbextensions/google.colab/files.js\"></script> "
            ],
            "text/plain": [
              "<IPython.core.display.HTML object>"
            ]
          },
          "metadata": {
            "tags": []
          }
        }
      ]
    },
    {
      "cell_type": "markdown",
      "metadata": {
        "id": "t3a1GIQuaH3_",
        "colab_type": "text"
      },
      "source": [
        "**Data Transformations**\n",
        "\n",
        "\n",
        "* Here I've created a Class to transform Train & Test Data. And I'm using Compose function to chain in all the transform operations required in the form of list and then pass it on the different sets of data.\n",
        "* I have already set the mean and the standard deviation to 0.1307 & 0.3081 \n",
        "* 2 main parameters normalize(boolean) and rotate(default value = 0).\n"
      ]
    },
    {
      "cell_type": "code",
      "metadata": {
        "id": "mYbs3e8iVWeP",
        "colab_type": "code",
        "colab": {}
      },
      "source": [
        "# # Transformations \n",
        "\n",
        "# class Transformations():\n",
        "\n",
        "#   def __init__(self, normalize=True, rotate = 0):\n",
        "#       self.normalize = normalize\n",
        "#       self.rotate = rotate\n",
        "\n",
        "\n",
        "#   # For Train Data\n",
        "#   def train_transforms(self, tensorToPIL = True):\n",
        "#       self.tensorToPIL = tensorToPIL\n",
        "#       transforms_list = []\n",
        "#       transforms_list.append(transforms.ToTensor())\n",
        "#       if self.normalize: \n",
        "#           transforms_list.append(transforms.Normalize((0.1307, ), (0.3081, )))\n",
        "#       if self.rotate:\n",
        "#           transforms_list.append(transforms.RandomRotation((-1*int(self.rotate), int(self.rotate)), fill=(1,)))\n",
        "#       if self.tensorToPIL:\n",
        "#           transforms_list.append(transforms.ToPILImage())\n",
        "#       return transforms.Compose(transforms_list)\n",
        "\n",
        "\n",
        "#   # For Test Data\n",
        "#   def test_transforms(self, tensorToPIL = True):\n",
        "#       self.tensorToPIL = tensorToPIL\n",
        "#       transforms_list = [transforms.ToTensor()]\n",
        "#       if self.normalize:\n",
        "#           transforms_list.append(transforms.Normalize((0.1307, ),(0.3081, )))\n",
        "#       if self.tensorToPIL:\n",
        "#           transforms_list.append(transforms.ToPILImage())\n",
        "#       return transforms.Compose(transforms_list)\n",
        "\n",
        "\n",
        "\n",
        "# mnist_data = Transformations(normalize = True, rotate = 5)    # set normalize = True\n",
        "# train_trans = mnist_data.train_transforms(tensorToPIL = True)  # Rotation of Train Images\n",
        "# test_trans = mnist_data.test_transforms(tensorToPIL = True)"
      ],
      "execution_count": 0,
      "outputs": []
    },
    {
      "cell_type": "code",
      "metadata": {
        "id": "17V5fNETSWSw",
        "colab_type": "code",
        "colab": {}
      },
      "source": [
        "# Transformations\n",
        "\n",
        "# Train Phase transformations\n",
        "train_transforms = transforms.Compose([\n",
        "                                       transforms.RandomRotation((-7.0, 7.0), fill=(1,)),\n",
        "                                       transforms.ToTensor(),\n",
        "                                       transforms.Normalize((0.1307,), (0.3081,)) \n",
        "                                      #  transforms.ToPILImage()# The mean and std have to be sequences (e.g., tuples), therefore you should add a comma after the values. \n",
        "                                       # Note the difference between (0.1307) and (0.1307,)\n",
        "                                       ])\n",
        "\n",
        "# Test Phase transformations\n",
        "test_transforms = transforms.Compose([\n",
        "                                       transforms.ToTensor(),\n",
        "                                       transforms.Normalize((0.1307,), (0.3081,))\n",
        "                                      #  transforms.ToPILImage()\n",
        "                                       ])\n"
      ],
      "execution_count": 0,
      "outputs": []
    },
    {
      "cell_type": "code",
      "metadata": {
        "id": "YjKsa_TOghQ-",
        "colab_type": "code",
        "colab": {}
      },
      "source": [
        "# Split Test & Train Data\n",
        "train = datasets.MNIST('./data', train = True, download = True, transform = train_transforms)\n",
        "test = datasets.MNIST('./data', train = False, download = True, transform = test_transforms)"
      ],
      "execution_count": 0,
      "outputs": []
    },
    {
      "cell_type": "markdown",
      "metadata": {
        "id": "cIARLXpaulAk",
        "colab_type": "text"
      },
      "source": [
        "**Dataloaders Arguments & Train/Test Dataloaders**"
      ]
    },
    {
      "cell_type": "code",
      "metadata": {
        "id": "khdQSGETuijY",
        "colab_type": "code",
        "colab": {}
      },
      "source": [
        "# DataLoaders\n",
        "\n",
        "class Dataloader:\n",
        "  def __init__(self, shuffle = True, batch_size = 128):\n",
        "      cuda = torch.cuda.is_available()\n",
        "      if cuda:\n",
        "        torch.cuda.manual_seed(seed)\n",
        "      self.dataloader_args = dict(shuffle=shuffle, batch_size=batch_size, num_workers=4, pin_memory=True) #if cuda else dict(shuffle=True, batch_size=64)\n",
        "\n",
        "  def dataset_loader(self, data):\n",
        "      return torch.utils.data.DataLoader(data, **self.dataloader_args) # **dataloader_args get passed when dataset_loader gets called\n",
        "\n",
        "\n",
        "dl = Dataloader()\n",
        "\n",
        "# train dataloader\n",
        "train_loader = dl.dataset_loader(train)\n",
        "\n",
        "# test dataloader\n",
        "test_loader = dl.dataset_loader(test)"
      ],
      "execution_count": 0,
      "outputs": []
    },
    {
      "cell_type": "markdown",
      "metadata": {
        "id": "1MTSvxCciQp2",
        "colab_type": "text"
      },
      "source": [
        "**Data Statistics**"
      ]
    },
    {
      "cell_type": "code",
      "metadata": {
        "id": "M306Y3nfgbP3",
        "colab_type": "code",
        "outputId": "dd38aa31-ca74-4fba-d8fd-405475284f2b",
        "colab": {
          "base_uri": "https://localhost:8080/",
          "height": 501
        }
      },
      "source": [
        "\n",
        "data_iter = iter(train_loader)\n",
        "images, labels = data_iter.next()\n",
        "\n",
        "print(images.shape) # [64, 1, 28, 28]\n",
        "print(labels.shape) # [64]\n",
        "\n",
        "\n",
        "from matplotlib import pyplot as plt\n",
        "import matplotlib.gridspec as gridspec\n",
        "\n",
        "%matplotlib inline\n",
        "\n",
        "\n",
        "def display_25(images, labels):\n",
        "  figmatrix = plt.figure(figsize=(8, 8))\n",
        "  row, col = 5, 5 # set rows & columns = 5\n",
        "  gs = gridspec.GridSpec(row, col)\n",
        "  gs.update(wspace=0.005, hspace=0.05)\n",
        "\n",
        "  for i in range(1, 26):\n",
        "    plt.subplot(gs[i-1])\n",
        "    plt.tick_params( axis='both', which='both', labelbottom=False, labelleft=False, left=False, bottom=False)\n",
        "    plt.imshow(images[i-1].numpy().squeeze(), cmap='gray_r')\n",
        "    plt.text(2, 6, labels[i-1].numpy(), color=\"green\", fontsize=\"xx-large\")\n",
        "  plt.show()\n",
        "\n",
        "display_25(images[:25], labels[:25])\n",
        "\n"
      ],
      "execution_count": 7,
      "outputs": [
        {
          "output_type": "stream",
          "text": [
            "torch.Size([128, 1, 28, 28])\n",
            "torch.Size([128])\n"
          ],
          "name": "stdout"
        },
        {
          "output_type": "display_data",
          "data": {
            "image/png": "[encoded data removed]",
            "text/plain": [
              "<Figure size 576x576 with 25 Axes>"
            ]
          },
          "metadata": {
            "tags": []
          }
        }
      ]
    },
    {
      "cell_type": "code",
      "metadata": {
        "id": "O2jRSe6E3VbV",
        "colab_type": "code",
        "outputId": "d9160eba-ebb6-472c-d6c5-c71f5b54f7a6",
        "colab": {
          "base_uri": "https://localhost:8080/",
          "height": 239
        }
      },
      "source": [
        "# Just curious at the orientation of these mnist images\n",
        "figure = plt.figure()\n",
        "num_of_images = 50\n",
        "for i in range(1,num_of_images+1):\n",
        "  plt.subplot(5,10, i)\n",
        "  plt.axis('off')\n",
        "  plt.imshow(images[i-1].numpy().squeeze(), cmap = 'gray_r')"
      ],
      "execution_count": 8,
      "outputs": [
        {
          "output_type": "display_data",
          "data": {
            "image/png": "[encoded data removed]",
            "text/plain": [
              "<Figure size 432x288 with 50 Axes>"
            ]
          },
          "metadata": {
            "tags": [],
            "needs_background": "light"
          }
        }
      ]
    },
    {
      "cell_type": "code",
      "metadata": {
        "id": "cRFrxuxH2wVI",
        "colab_type": "code",
        "colab": {}
      },
      "source": [
        "# Main Model with Batch Normalization\n",
        "class Net(nn.Module):\n",
        "    def __init__(self):\n",
        "      super(Net, self).__init__()\n",
        "\n",
        "      # Conv Block1 \n",
        "      self.convblock1 = nn.Sequential(\n",
        "          nn.Conv2d(in_channels = 1, out_channels = 8, kernel_size = (3,3), padding = 0, bias = False), \n",
        "          nn.ReLU(),\n",
        "          nn.BatchNorm2d(8)) # O/P: 26\n",
        "      \n",
        "      # Conv Block2\n",
        "      self.convblock2 = nn.Sequential(\n",
        "          nn.Conv2d(in_channels = 8, out_channels = 10, kernel_size = (3,3), padding = 0, bias = False),\n",
        "          nn.ReLU(),\n",
        "          nn.BatchNorm2d(10)) # O/P: 24\n",
        "\n",
        "      # MaxPool Layer\n",
        "      self.maxpool = nn.Sequential(nn.MaxPool2d((2,2))) # O/P: 12\n",
        "\n",
        "      # ConvBlock 3\n",
        "      self.convblock3 = nn.Sequential(\n",
        "          nn.Conv2d(in_channels = 10, out_channels = 16, kernel_size = (3,3), padding = 0, bias = False),\n",
        "          nn.ReLU(),\n",
        "          nn.BatchNorm2d(16)) # O/P: 10\n",
        "      \n",
        "      \n",
        "      # ConvBlock 4\n",
        "      self.convblock4 = nn.Sequential(\n",
        "          nn.Conv2d(in_channels = 16, out_channels = 16, kernel_size = (3,3), padding = 0, bias = False),\n",
        "          nn.ReLU(),\n",
        "          nn.BatchNorm2d(16)) # O/P: 8\n",
        "      \n",
        "      # ConvBlock 5\n",
        "      self.convblock5 = nn.Sequential(\n",
        "          nn.Conv2d(in_channels = 16, out_channels = 16, kernel_size = (3,3), padding = 0, bias = False),\n",
        "          nn.ReLU(),\n",
        "          nn.BatchNorm2d(16)) # O/P: 6\n",
        "\n",
        "      # ConvBlock 6\n",
        "      self.convblock6 = nn.Sequential(\n",
        "          nn.Conv2d(in_channels = 16, out_channels = 16, kernel_size = (3,3), padding = 0,  bias = False))\n",
        "         \n",
        "\n",
        "    # GAP\n",
        "      self.gap = nn.Sequential(nn.AvgPool2d(4))\n",
        "\n",
        "    \n",
        "    # Last Layer\n",
        "      self.convblock9 = nn.Sequential(\n",
        "          nn.Conv2d(in_channels = 16, out_channels = 10, kernel_size = (1,1), padding = 0, bias = False))\n",
        "\n",
        "\n",
        "    # Dropout Layer\n",
        "      self.drop = nn.Sequential(nn.Dropout(0.08))\n",
        "\n",
        "\n",
        "\n",
        "    def forward(self,x):\n",
        "      x = self.convblock1(x)\n",
        "      x = self.drop(x)\n",
        "      x = self.convblock2(x)\n",
        "      x = self.drop(x)\n",
        "      x = self.maxpool(x)\n",
        "      x = self.convblock3(x)\n",
        "      x = self.drop(x)\n",
        "      x = self.convblock4(x)\n",
        "      x = self.drop(x)\n",
        "      x = self.convblock5(x)\n",
        "      x = self.convblock6(x)\n",
        "      x = self.gap(x)\n",
        "      x = self.convblock9(x)\n",
        "     \n",
        "      x = x.view(-1, 10)\n",
        "      return F.log_softmax(x, dim = -1)\n",
        "      \n",
        "\n"
      ],
      "execution_count": 0,
      "outputs": []
    },
    {
      "cell_type": "code",
      "metadata": {
        "id": "142jVP2a2wjW",
        "colab_type": "code",
        "outputId": "f6126cb2-6ef1-4733-f6cf-25d66396057e",
        "colab": {
          "base_uri": "https://localhost:8080/",
          "height": 660
        }
      },
      "source": [
        "# BN Model Summary \n",
        "!pip install torchsummary\n",
        "from torchsummary import summary\n",
        "use_cuda = torch.cuda.is_available()\n",
        "device = torch.device(\"cuda\" if use_cuda else \"cpu\")\n",
        "model = Net().to(device)\n",
        "summary(model, input_size=(1, 28, 28))"
      ],
      "execution_count": 10,
      "outputs": [
        {
          "output_type": "stream",
          "text": [
            "Requirement already satisfied: torchsummary in /usr/local/lib/python3.6/dist-packages (1.5.1)\n",
            "----------------------------------------------------------------\n",
            "        Layer (type)               Output Shape         Param #\n",
            "================================================================\n",
            "            Conv2d-1            [-1, 8, 26, 26]              72\n",
            "              ReLU-2            [-1, 8, 26, 26]               0\n",
            "       BatchNorm2d-3            [-1, 8, 26, 26]              16\n",
            "           Dropout-4            [-1, 8, 26, 26]               0\n",
            "            Conv2d-5           [-1, 10, 24, 24]             720\n",
            "              ReLU-6           [-1, 10, 24, 24]               0\n",
            "       BatchNorm2d-7           [-1, 10, 24, 24]              20\n",
            "           Dropout-8           [-1, 10, 24, 24]               0\n",
            "         MaxPool2d-9           [-1, 10, 12, 12]               0\n",
            "           Conv2d-10           [-1, 16, 10, 10]           1,440\n",
            "             ReLU-11           [-1, 16, 10, 10]               0\n",
            "      BatchNorm2d-12           [-1, 16, 10, 10]              32\n",
            "          Dropout-13           [-1, 16, 10, 10]               0\n",
            "           Conv2d-14             [-1, 16, 8, 8]           2,304\n",
            "             ReLU-15             [-1, 16, 8, 8]               0\n",
            "      BatchNorm2d-16             [-1, 16, 8, 8]              32\n",
            "          Dropout-17             [-1, 16, 8, 8]               0\n",
            "           Conv2d-18             [-1, 16, 6, 6]           2,304\n",
            "             ReLU-19             [-1, 16, 6, 6]               0\n",
            "      BatchNorm2d-20             [-1, 16, 6, 6]              32\n",
            "           Conv2d-21             [-1, 16, 4, 4]           2,304\n",
            "        AvgPool2d-22             [-1, 16, 1, 1]               0\n",
            "           Conv2d-23             [-1, 10, 1, 1]             160\n",
            "================================================================\n",
            "Total params: 9,436\n",
            "Trainable params: 9,436\n",
            "Non-trainable params: 0\n",
            "----------------------------------------------------------------\n",
            "Input size (MB): 0.00\n",
            "Forward/backward pass size (MB): 0.45\n",
            "Params size (MB): 0.04\n",
            "Estimated Total Size (MB): 0.49\n",
            "----------------------------------------------------------------\n"
          ],
          "name": "stdout"
        }
      ]
    },
    {
      "cell_type": "code",
      "metadata": {
        "id": "zTtElIRtBsZL",
        "colab_type": "code",
        "colab": {}
      },
      "source": [
        "from tqdm import tqdm\n",
        "import numpy as np\n",
        "\n",
        "class Test_Train():\n",
        "  def __init__(self):\n",
        "\n",
        "# # This is to hold all the values and plot some graphs to extract few good insights.\n",
        "    self.train_losses = []\n",
        "    self.test_losses = []\n",
        "    self.train_acc = []\n",
        "    self.test_acc = []\n",
        "    self.train_epoch_end = []\n",
        "    self.test_loss_min = np.inf # setting it to infinity(max value)\n",
        "    # when the test loss becomes min I will save the particular model\n",
        "\n",
        "\n",
        "  def train(self, model, device, train_loader, optimizer, epoch,scheduler, L1lambda=None):\n",
        "    model.train()    # prepare model for training\n",
        "    pbar = tqdm(train_loader)\n",
        "    correct = 0\n",
        "    processed = 0\n",
        "    for batch_idx, (data, target) in enumerate(pbar): # passing on data & target values to device\n",
        "      data, target = data.to(device), target.to(device)\n",
        "      optimizer.zero_grad()    # clear the gradients of all optimized variables\n",
        "      \n",
        "      # Predict\n",
        "      y_pred = model(data)   # forward pass\n",
        "\n",
        "      # Calculate loss\n",
        "      loss = F.nll_loss(y_pred, target)\n",
        "\n",
        "      #Implementing L1 Regularization\n",
        "      if L1lambda:\n",
        "        with torch.enable_grad():\n",
        "          l1_loss = 0.\n",
        "          for param in model.parameters():\n",
        "            l1_loss += torch.sum(param.abs())\n",
        "          loss += L1lambda * l1_loss\n",
        "\n",
        "      self.train_losses.append(loss)\n",
        "\n",
        "      # Backpropagation\n",
        "      loss.backward()   # backward pass: compute gradient of the loss with respect to model parameters\n",
        "      optimizer.step()   # perform a single optimization step (parameter update)\n",
        "\n",
        "      # Update pbar-tqdm\n",
        "    \n",
        "      pred = y_pred.argmax(dim=1, keepdim=True)  # get the index of the max log-probability\n",
        "      correct += pred.eq(target.view_as(pred)).sum().item()\n",
        "      processed += len(data)\n",
        "\n",
        "      pbar.set_description(desc= f'Loss={loss.item()} Batch_id={batch_idx} Accuracy={100*correct/processed:0.2f}')\n",
        "      self.train_acc.append(100*correct/processed)\n",
        "      scheduler.step()\n",
        "      self.train_epoch_end.append(self.train_acc[-1])\n",
        "\n",
        "\n",
        "  def test(self, model, device, test_loader,filename):\n",
        "      model.eval()  # prep model for evaluation\n",
        "      test_loss = 0\n",
        "      correct = 0\n",
        "      with torch.no_grad():\n",
        "          for data, target in test_loader:\n",
        "            data, target = data.to(device), target.to(device)\n",
        "            output = model(data)  # forward pass: compute predicted outputs by passing inputs to the model\n",
        "            test_loss += F.nll_loss(output, target, reduction='sum').item()  # sum up batch loss\n",
        "            pred = output.argmax(dim=1, keepdim=True)  # get the index of the max log-probability\n",
        "            correct += pred.eq(target.view_as(pred)).sum().item()\n",
        "\n",
        "      test_loss /= len(test_loader.dataset)\n",
        "      self.test_losses.append(test_loss)\n",
        "\n",
        "      # save model if validation loss has decreased\n",
        "      if test_loss <= self.test_loss_min:\n",
        "          print('Validation loss has  decreased ({:.4f} --> {:.4f}).  Saving model ...'.format(self.test_loss_min, test_loss))\n",
        "          torch.save(model.state_dict(), filename)\n",
        "          self.test_loss_min = test_loss\n",
        "\n",
        "\n",
        "      print('\\nTest set: Average loss: {:.4f}, Accuracy: {}/{} ({:.2f}%)\\n'.format(\n",
        "          test_loss, correct, len(test_loader.dataset),\n",
        "          100. * correct / len(test_loader.dataset)))\n",
        "    \n",
        "      self.test_acc.append(100. * correct / len(test_loader.dataset))"
      ],
      "execution_count": 0,
      "outputs": []
    },
    {
      "cell_type": "markdown",
      "metadata": {
        "id": "bStuYmhx0EoM",
        "colab_type": "text"
      },
      "source": [
        "**Model 1**\n",
        "#without L1 and L2 regularization with BN\n"
      ]
    },
    {
      "cell_type": "code",
      "metadata": {
        "id": "bnfSxD6qDQch",
        "colab_type": "code",
        "colab": {}
      },
      "source": [
        "def withoutL1_L2_BN():\n",
        "  model =  Net().to(device)\n",
        "  optimizer = optim.SGD(model.parameters(), lr=0.01, momentum=0.9)\n",
        "  scheduler = torch.optim.lr_scheduler.OneCycleLR(optimizer, max_lr=0.1, steps_per_epoch=len(train_loader), epochs=25)\n",
        "\n",
        "#first model\n",
        "  print('without L1 and L2 regularization with BN')\n",
        "\n",
        "  model1= Test_Train()\n",
        "  # global loss1\n",
        "  # global acc1\n",
        "  loss1 = model1.test_losses\n",
        "  acc1 = model1.test_acc\n",
        "\n",
        "  EPOCHS = 5  \n",
        "  for epoch in range(1,EPOCHS+1):\n",
        "      print(\"EPOCH:\", epoch)\n",
        "      model1.train(model, device, train_loader, optimizer, epoch, scheduler)\n",
        "      model1.test(model, device, test_loader,\"model1.pt\")\n",
        "\n"
      ],
      "execution_count": 0,
      "outputs": []
    },
    {
      "cell_type": "markdown",
      "metadata": {
        "id": "_wyBeeIs0QhH",
        "colab_type": "text"
      },
      "source": [
        "**Model 2**\n",
        "#with L1 regularization with BN\n"
      ]
    },
    {
      "cell_type": "code",
      "metadata": {
        "id": "jYFTjTuCTscQ",
        "colab_type": "code",
        "colab": {}
      },
      "source": [
        "\n",
        "def withL1_BN():\n",
        "  model =  Net().to(device)\n",
        "  optimizer = optim.SGD(model.parameters(), lr=0.01, momentum=0.9,weight_decay=1e-4)\n",
        "  scheduler = torch.optim.lr_scheduler.OneCycleLR(optimizer, max_lr=0.1, steps_per_epoch=len(train_loader), epochs=25)\n",
        "\n",
        "#second model\n",
        "  print('with L1 regularization with BN')\n",
        "\n",
        "  model2 = Test_Train()\n",
        "  # global loss2\n",
        "  # global acc2\n",
        "  loss2 = model2.test_losses\n",
        "  acc2 = model2.test_acc\n",
        "\n",
        "  EPOCHS = 5\n",
        "  for epoch in range(1,EPOCHS+1):\n",
        "      print(\"EPOCH:\", epoch)\n",
        "      model2.train(model, device, train_loader, optimizer, epoch, scheduler, L1lambda = 1e-5)\n",
        "      model2.test(model, device, test_loader,\"model2.pt\")"
      ],
      "execution_count": 0,
      "outputs": []
    },
    {
      "cell_type": "markdown",
      "metadata": {
        "id": "GhhgosOW0XWH",
        "colab_type": "text"
      },
      "source": [
        "**Model 3**\n",
        "#with L2 regularization with BN\n"
      ]
    },
    {
      "cell_type": "code",
      "metadata": {
        "id": "aJmdpUz12cN3",
        "colab_type": "code",
        "colab": {}
      },
      "source": [
        "\n",
        "def withL2_BN():\n",
        "  model =  Net().to(device)\n",
        "  optimizer = optim.SGD(model.parameters(), lr=0.01, momentum=0.9,weight_decay=1e-4)\n",
        "  scheduler = torch.optim.lr_scheduler.OneCycleLR(optimizer, max_lr=0.1, steps_per_epoch=len(train_loader), epochs=25)\n",
        "\n",
        "#third model\n",
        "  print('with L2 regularization with BN')\n",
        "\n",
        "  model3 = Test_Train()\n",
        "  # global loss3\n",
        "  # global acc3\n",
        "  loss3 = model3.test_losses\n",
        "  acc3 = model3.test_acc\n",
        "\n",
        "  EPOCHS = 5\n",
        "  for epoch in range(1,EPOCHS+1):\n",
        "      print(\"EPOCH:\", epoch)\n",
        "      model3.train(model, device, train_loader, optimizer, epoch, scheduler)\n",
        "      model3.test(model, device, test_loader,\"model3.pt\")"
      ],
      "execution_count": 0,
      "outputs": []
    },
    {
      "cell_type": "markdown",
      "metadata": {
        "id": "gMPRwkhT0ctp",
        "colab_type": "text"
      },
      "source": [
        "**Model 4**\n",
        "#with both L1 & L2 regularization with BN\n"
      ]
    },
    {
      "cell_type": "code",
      "metadata": {
        "id": "LTMgeAnnzUna",
        "colab_type": "code",
        "colab": {}
      },
      "source": [
        "def withL1_L2_BN():\n",
        "  model =  Net().to(device)\n",
        "  optimizer = optim.SGD(model.parameters(), lr=0.01, momentum=0.9,weight_decay=1e-4)\n",
        "  scheduler = torch.optim.lr_scheduler.OneCycleLR(optimizer, max_lr=0.1, steps_per_epoch=len(train_loader), epochs=25)\n",
        "\n",
        "#fourth  model\n",
        "  print('with L1 & L2 regularization with BN')\n",
        "\n",
        "  model4 = Test_Train()\n",
        "  # global loss4\n",
        "  # global acc4\n",
        "  loss4 = model4.test_losses\n",
        "  acc4 = model4.test_acc\n",
        "\n",
        "  EPOCHS = 5\n",
        "  for epoch in range(1,EPOCHS+1):\n",
        "      print(\"EPOCH:\", epoch)\n",
        "      model4.train(model, device, train_loader, optimizer, epoch, scheduler, L1lambda = 1e-5)\n",
        "      model4.test(model, device, test_loader,\"model4.pt\")"
      ],
      "execution_count": 0,
      "outputs": []
    },
    {
      "cell_type": "code",
      "metadata": {
        "id": "0tMvfVbqV597",
        "colab_type": "code",
        "outputId": "f588942e-dd79-4eb1-afea-8a4ef5bd6d92",
        "colab": {
          "base_uri": "https://localhost:8080/",
          "height": 1000
        }
      },
      "source": [
        "modelTuple = iter(withoutL1_L2_BN(),\n",
        "  withL1_BN(),\n",
        "  withL2_BN(),\n",
        "  withL1_L2_BN())\n",
        "\n",
        "print(modelTuple.__next__())"
      ],
      "execution_count": 0,
      "outputs": [
        {
          "output_type": "stream",
          "text": [
            "\r  0%|          | 0/469 [00:00<?, ?it/s]"
          ],
          "name": "stderr"
        },
        {
          "output_type": "stream",
          "text": [
            "without L1 and L2 regularization with BN\n",
            "EPOCH: 1\n"
          ],
          "name": "stdout"
        },
        {
          "output_type": "stream",
          "text": [
            "Loss=0.04111553356051445 Batch_id=468 Accuracy=86.51: 100%|██████████| 469/469 [00:48<00:00,  9.69it/s]\n",
            "  0%|          | 0/469 [00:00<?, ?it/s]"
          ],
          "name": "stderr"
        },
        {
          "output_type": "stream",
          "text": [
            "Validation loss has  decreased (inf --> 0.0782).  Saving model ...\n",
            "\n",
            "Test set: Average loss: 0.0782, Accuracy: 9743/10000 (97.43%)\n",
            "\n",
            "EPOCH: 2\n"
          ],
          "name": "stdout"
        },
        {
          "output_type": "stream",
          "text": [
            "Loss=0.09798085689544678 Batch_id=468 Accuracy=97.53: 100%|██████████| 469/469 [00:47<00:00,  9.80it/s]\n",
            "  0%|          | 0/469 [00:00<?, ?it/s]"
          ],
          "name": "stderr"
        },
        {
          "output_type": "stream",
          "text": [
            "Validation loss has  decreased (0.0782 --> 0.0774).  Saving model ...\n",
            "\n",
            "Test set: Average loss: 0.0774, Accuracy: 9746/10000 (97.46%)\n",
            "\n",
            "EPOCH: 3\n"
          ],
          "name": "stdout"
        },
        {
          "output_type": "stream",
          "text": [
            "Loss=0.0688939169049263 Batch_id=468 Accuracy=97.98: 100%|██████████| 469/469 [00:50<00:00,  9.37it/s]\n",
            "  0%|          | 0/469 [00:00<?, ?it/s]"
          ],
          "name": "stderr"
        },
        {
          "output_type": "stream",
          "text": [
            "Validation loss has  decreased (0.0774 --> 0.0365).  Saving model ...\n",
            "\n",
            "Test set: Average loss: 0.0365, Accuracy: 9878/10000 (98.78%)\n",
            "\n",
            "EPOCH: 4\n"
          ],
          "name": "stdout"
        },
        {
          "output_type": "stream",
          "text": [
            "Loss=0.015699025243520737 Batch_id=468 Accuracy=98.30: 100%|██████████| 469/469 [00:48<00:00,  9.69it/s]\n",
            "  0%|          | 0/469 [00:00<?, ?it/s]"
          ],
          "name": "stderr"
        },
        {
          "output_type": "stream",
          "text": [
            "Validation loss has  decreased (0.0365 --> 0.0357).  Saving model ...\n",
            "\n",
            "Test set: Average loss: 0.0357, Accuracy: 9887/10000 (98.87%)\n",
            "\n",
            "EPOCH: 5\n"
          ],
          "name": "stdout"
        },
        {
          "output_type": "stream",
          "text": [
            "Loss=0.03014279715716839 Batch_id=468 Accuracy=98.47: 100%|██████████| 469/469 [00:48<00:00,  9.72it/s]\n",
            "  0%|          | 0/469 [00:00<?, ?it/s]"
          ],
          "name": "stderr"
        },
        {
          "output_type": "stream",
          "text": [
            "Validation loss has  decreased (0.0357 --> 0.0277).  Saving model ...\n",
            "\n",
            "Test set: Average loss: 0.0277, Accuracy: 9894/10000 (98.94%)\n",
            "\n",
            "with L1 regularization with BN\n",
            "EPOCH: 1\n"
          ],
          "name": "stdout"
        },
        {
          "output_type": "stream",
          "text": [
            "Loss=0.1037793904542923 Batch_id=468 Accuracy=88.22: 100%|██████████| 469/469 [00:48<00:00,  9.59it/s]\n",
            "  0%|          | 0/469 [00:00<?, ?it/s]"
          ],
          "name": "stderr"
        },
        {
          "output_type": "stream",
          "text": [
            "Validation loss has  decreased (inf --> 0.0975).  Saving model ...\n",
            "\n",
            "Test set: Average loss: 0.0975, Accuracy: 9706/10000 (97.06%)\n",
            "\n",
            "EPOCH: 2\n"
          ],
          "name": "stdout"
        },
        {
          "output_type": "stream",
          "text": [
            "Loss=0.11030608415603638 Batch_id=468 Accuracy=97.57: 100%|██████████| 469/469 [00:48<00:00,  9.71it/s]\n",
            "  0%|          | 0/469 [00:00<?, ?it/s]"
          ],
          "name": "stderr"
        },
        {
          "output_type": "stream",
          "text": [
            "Validation loss has  decreased (0.0975 --> 0.0489).  Saving model ...\n",
            "\n",
            "Test set: Average loss: 0.0489, Accuracy: 9838/10000 (98.38%)\n",
            "\n",
            "EPOCH: 3\n"
          ],
          "name": "stdout"
        },
        {
          "output_type": "stream",
          "text": [
            "Loss=0.06788524985313416 Batch_id=468 Accuracy=98.01: 100%|██████████| 469/469 [00:47<00:00,  9.79it/s]\n",
            "  0%|          | 0/469 [00:00<?, ?it/s]"
          ],
          "name": "stderr"
        },
        {
          "output_type": "stream",
          "text": [
            "Validation loss has  decreased (0.0489 --> 0.0431).  Saving model ...\n",
            "\n",
            "Test set: Average loss: 0.0431, Accuracy: 9872/10000 (98.72%)\n",
            "\n",
            "EPOCH: 4\n"
          ],
          "name": "stdout"
        },
        {
          "output_type": "stream",
          "text": [
            "Loss=0.03394118323922157 Batch_id=468 Accuracy=98.30: 100%|██████████| 469/469 [00:50<00:00,  9.32it/s]\n",
            "  0%|          | 0/469 [00:00<?, ?it/s]"
          ],
          "name": "stderr"
        },
        {
          "output_type": "stream",
          "text": [
            "Validation loss has  decreased (0.0431 --> 0.0338).  Saving model ...\n",
            "\n",
            "Test set: Average loss: 0.0338, Accuracy: 9896/10000 (98.96%)\n",
            "\n",
            "EPOCH: 5\n"
          ],
          "name": "stdout"
        },
        {
          "output_type": "stream",
          "text": [
            "Loss=0.07328779250383377 Batch_id=468 Accuracy=98.42: 100%|██████████| 469/469 [00:49<00:00,  9.52it/s]\n",
            "  0%|          | 0/469 [00:00<?, ?it/s]"
          ],
          "name": "stderr"
        },
        {
          "output_type": "stream",
          "text": [
            "\n",
            "Test set: Average loss: 0.0392, Accuracy: 9879/10000 (98.79%)\n",
            "\n",
            "with L2 regularization with BN\n",
            "EPOCH: 1\n"
          ],
          "name": "stdout"
        },
        {
          "output_type": "stream",
          "text": [
            "Loss=0.09526107460260391 Batch_id=468 Accuracy=86.34: 100%|██████████| 469/469 [00:49<00:00,  9.56it/s]\n",
            "  0%|          | 0/469 [00:00<?, ?it/s]"
          ],
          "name": "stderr"
        },
        {
          "output_type": "stream",
          "text": [
            "Validation loss has  decreased (inf --> 0.0610).  Saving model ...\n",
            "\n",
            "Test set: Average loss: 0.0610, Accuracy: 9811/10000 (98.11%)\n",
            "\n",
            "EPOCH: 2\n"
          ],
          "name": "stdout"
        },
        {
          "output_type": "stream",
          "text": [
            "Loss=0.062306638807058334 Batch_id=468 Accuracy=97.51: 100%|██████████| 469/469 [00:49<00:00,  9.54it/s]\n",
            "  0%|          | 0/469 [00:00<?, ?it/s]"
          ],
          "name": "stderr"
        },
        {
          "output_type": "stream",
          "text": [
            "Validation loss has  decreased (0.0610 --> 0.0496).  Saving model ...\n",
            "\n",
            "Test set: Average loss: 0.0496, Accuracy: 9840/10000 (98.40%)\n",
            "\n",
            "EPOCH: 3\n"
          ],
          "name": "stdout"
        },
        {
          "output_type": "stream",
          "text": [
            "Loss=0.08219601213932037 Batch_id=468 Accuracy=97.94: 100%|██████████| 469/469 [00:48<00:00,  9.68it/s]\n",
            "  0%|          | 0/469 [00:00<?, ?it/s]"
          ],
          "name": "stderr"
        },
        {
          "output_type": "stream",
          "text": [
            "Validation loss has  decreased (0.0496 --> 0.0438).  Saving model ...\n",
            "\n",
            "Test set: Average loss: 0.0438, Accuracy: 9862/10000 (98.62%)\n",
            "\n",
            "EPOCH: 4\n"
          ],
          "name": "stdout"
        },
        {
          "output_type": "stream",
          "text": [
            "Loss=0.07597459107637405 Batch_id=468 Accuracy=98.22: 100%|██████████| 469/469 [00:53<00:00,  8.75it/s]\n",
            "  0%|          | 0/469 [00:00<?, ?it/s]"
          ],
          "name": "stderr"
        },
        {
          "output_type": "stream",
          "text": [
            "Validation loss has  decreased (0.0438 --> 0.0393).  Saving model ...\n",
            "\n",
            "Test set: Average loss: 0.0393, Accuracy: 9876/10000 (98.76%)\n",
            "\n",
            "EPOCH: 5\n"
          ],
          "name": "stdout"
        },
        {
          "output_type": "stream",
          "text": [
            "Loss=0.0123362448066473 Batch_id=286 Accuracy=98.44:  61%|██████    | 287/469 [00:29<00:18,  9.80it/s]"
          ],
          "name": "stderr"
        }
      ]
    },
    {
      "cell_type": "code",
      "metadata": {
        "id": "MRvdcqw881_e",
        "colab_type": "code",
        "colab": {}
      },
      "source": [
        "# # Alternative method for running models (For BN)\n",
        "\n",
        "# from torch.optim.lr_scheduler import OneCycleLR\n",
        "# %matplotlib inline\n",
        "# import matplotlib.pyplot as plt\n",
        "\n",
        "# validation_acc = []\n",
        "# validation_loss = []\n",
        "# train_loss = []\n",
        "# misclassified_img = []\n",
        "# pred_class = []\n",
        "# act_class = []\n",
        "\n",
        "\n",
        "# # List - Tuple with L1 & L2 factors\n",
        "\n",
        "# # L1 = 0.0005, L2 = 0.0001\n",
        "\n",
        "# fact_tuple = [(0, 0), (0.0005 , 0), (0, 0.0001), (0.0005 , 0.0001)]\n",
        "\n",
        "\n",
        "# for factors in fact_tuple:\n",
        "#   model_name = 'model'+str(fact_tuple.index(factors))+'.pt'\n",
        "#   L1_factor, L2_factor = factors\n",
        "#   reg_factors = {'L1':L1_factor, 'L2':L2_factor}\n",
        "  \n",
        "#   train_losses = []\n",
        "#   test_losses = []\n",
        "#   train_acc = []\n",
        "#   test_acc = []\n",
        "#   train_acc_epoch = []\n",
        "#   train_losses_epoch = []\n",
        "\n",
        "#   actual_img = []\n",
        "#   wrong_pred = []\n",
        "#   target = []\n",
        "\n",
        "#   model = Net.to(device)\n",
        "#   optimizer = optim.SGD(model.parameters(), lr=0.01, momentum=0.9, weight_decay=L2_factor)\n",
        "#   scheduler = OneCycleLR(optimizer, max_lr=0.1, steps_per_epoch=len(train_loader), epochs=25)\n",
        "\n",
        "\n",
        "#   EPOCHS = 25\n",
        "#   L1Lambda = L1_factor\n",
        "#   for epoch in range(EPOCHS):\n",
        "#     print('EPOCH: ',epoch)\n",
        "#     train(model, device, train_loader, optimizer, scheduler, epoch, L1Lambda)\n",
        "#     test(model, device, test_loader, model_name)\n",
        "\n",
        "#     validation_acc.append(test_acc)\n",
        "#     validation_loss.append(test_losses)\n",
        "#     train_loss.append(train_losses_epoch)\n",
        "\n",
        "#     print('\\nMaxium test accuracy: {:.2f}, Achieved in epoch: {}, Max Train accuracy : {:.2f}, Achieved in epoch : {}\\n'.format(\n",
        "#            max(test_acc),  np.argmax(test_acc) , max(train_acc_epoch), np.argmax(train_acc_epoch)))"
      ],
      "execution_count": 0,
      "outputs": []
    },
    {
      "cell_type": "code",
      "metadata": {
        "id": "XxCvBWMd82Hm",
        "colab_type": "code",
        "colab": {}
      },
      "source": [
        ""
      ],
      "execution_count": 0,
      "outputs": []
    },
    {
      "cell_type": "code",
      "metadata": {
        "id": "fcO1DJJCJw4G",
        "colab_type": "code",
        "colab": {}
      },
      "source": [
        ""
      ],
      "execution_count": 0,
      "outputs": []
    },
    {
      "cell_type": "code",
      "metadata": {
        "id": "T6M0s2Dgzh3D",
        "colab_type": "code",
        "colab": {}
      },
      "source": [
        "# Validation Accuracy \n",
        "\n",
        "import matplotlib.pyplot as plt\n",
        "\n",
        "plt.figure(figsize=(15, 10))\n",
        "ax = plt.subplot(111)\n",
        "ax.plot(acc1)\n",
        "ax.plot(acc2)\n",
        "ax.plot(acc3)\n",
        "ax.plot(acc4)\n",
        "ax.set(title=\"Model Validation Accuracy of 4 Models with Batch-Normalization\", xlabel=\"Epoch\", ylabel=\"Accuracy\")\n",
        "ax.legend(['without L1 and L2', 'with L1', 'with L2', 'with L1 and L2'], loc='best')\n",
        "plt.savefig(\"Accuracyof4modelswithBN.png\")\n",
        "plt.show()\n",
        "\n"
      ],
      "execution_count": 0,
      "outputs": []
    },
    {
      "cell_type": "code",
      "metadata": {
        "id": "QMKKmrj3i7Rp",
        "colab_type": "code",
        "colab": {}
      },
      "source": [
        "# Validation Loss \n",
        "plt.figure(figsize = (15,10))\n",
        "ax = plt.subplot(111)\n",
        "ax.plot(loss1)\n",
        "ax.plot(loss2)\n",
        "ax.plot(loss3)\n",
        "ax.plot(loss4)\n",
        "ax.set(title='Validation Losses of 4 Models', xlabel='Epoch', ylabel = 'Loss')\n",
        "ax.legend(['without L1 & L2', 'with L1', 'with L2', 'with L1 & L2'], loc = 'best')\n",
        "plt.savefig('ValidationLossesBN.png')\n",
        "plt.show()\n"
      ],
      "execution_count": 0,
      "outputs": []
    },
    {
      "cell_type": "code",
      "metadata": {
        "id": "OICF0DG90i_9",
        "colab_type": "code",
        "colab": {}
      },
      "source": [
        "# Misclassified Images\n",
        "\n",
        "from google.colab import files\n",
        "def misclassifiedOnes(model, filename):\n",
        "  model = model.to(device)\n",
        "  dataiter = iter(test_loader) \n",
        "  count = 0\n",
        "  fig = plt.figure(figsize=(13,13))\n",
        "\n",
        "  while count<25:\n",
        "      images, labels = dataiter.next()\n",
        "      images, labels = images.to(device), labels.to(device)\n",
        "    \n",
        "      output = model(images) \n",
        "      _, pred = torch.max(output, 1)   # convert output probabilities to predicted class\n",
        "      images = images.cpu().numpy() # conv images to numpy format\n",
        "\n",
        "      for idx in np.arange(128):\n",
        "        if pred[idx]!=labels[idx]:\n",
        "          ax = fig.add_subplot(5, 5, count+1, xticks=[], yticks=[])\n",
        "          count=count+1\n",
        "          ax.imshow(np.squeeze(images[idx]), cmap='cool')\n",
        "          ax.set_title(\"Pred-{} (Target-{})\".format(str(pred[idx].item()), str(labels[idx].item())), color=\"yellow\")\n",
        "          if count==25:\n",
        "            break\n",
        "      plt.savefig(filename)\n",
        "      files.download(filename)\n",
        "\n",
        "   \n"
      ],
      "execution_count": 0,
      "outputs": []
    },
    {
      "cell_type": "code",
      "metadata": {
        "id": "7zP4BLLX9pvj",
        "colab_type": "code",
        "colab": {}
      },
      "source": [
        "print('Misclassifed Images from Model1')\n",
        "print('*'*30)\n",
        "\n",
        "model.load_state_dict(torch.load(\"model1.pt\")) \n",
        "misclassifiedOnes(model,'withoutL1_L2_BN.png')\n",
        "save_image()"
      ],
      "execution_count": 0,
      "outputs": []
    },
    {
      "cell_type": "code",
      "metadata": {
        "id": "7cKehoUB9oiM",
        "colab_type": "code",
        "colab": {}
      },
      "source": [
        "print('Misclassifed Images from Model2')\n",
        "print('*'*30)\n",
        "\n",
        "model.load_state_dict(torch.load(\"model2.pt\")) \n",
        "misclassifiedOnes(model,'withL1_BN.png')"
      ],
      "execution_count": 0,
      "outputs": []
    },
    {
      "cell_type": "code",
      "metadata": {
        "id": "Lv6-KKco-EX2",
        "colab_type": "code",
        "colab": {}
      },
      "source": [
        "print('Misclassifed Images from Model3')\n",
        "print('*'*30)\n",
        "model.load_state_dict(torch.load(\"model3.pt\")) \n",
        "misclassifiedOnes(model,'withL2_BN.png')"
      ],
      "execution_count": 0,
      "outputs": []
    },
    {
      "cell_type": "code",
      "metadata": {
        "id": "oP7SN2Vo-FYm",
        "colab_type": "code",
        "colab": {}
      },
      "source": [
        "print('Misclassifed Images from Model4')\n",
        "print('*'*30)\n",
        "\n",
        "model.load_state_dict(torch.load(\"model4.pt\")) \n",
        "misclassifiedOnes(model,'withL1_L2_BN.png')"
      ],
      "execution_count": 0,
      "outputs": []
    },
    {
      "cell_type": "code",
      "metadata": {
        "id": "CBT4QhC9ITPe",
        "colab_type": "code",
        "colab": {}
      },
      "source": [
        "# DataLoaders\n",
        "\n",
        "class Dataloader:\n",
        "  def __init__(self, shuffle = True, batch_size = 256):\n",
        "      cuda = torch.cuda.is_available()\n",
        "      if cuda:\n",
        "        torch.cuda.manual_seed(seed)\n",
        "      self.dataloader_args = dict(shuffle=shuffle, batch_size=batch_size, num_workers=4, pin_memory=True) #if cuda else dict(shuffle=True, batch_size=64)\n",
        "\n",
        "  def dataset_loader(self, data):\n",
        "      return torch.utils.data.DataLoader(data, **self.dataloader_args) # **dataloader_args get passed when dataset_loader gets called\n",
        "\n",
        "\n",
        "dl = Dataloader()\n",
        "\n",
        "# train dataloader\n",
        "train_loader = dl.dataset_loader(train)\n",
        "\n",
        "# test dataloader\n",
        "test_loader = dl.dataset_loader(test)"
      ],
      "execution_count": 0,
      "outputs": []
    },
    {
      "cell_type": "code",
      "metadata": {
        "id": "YFeJZGTRFq8Y",
        "colab_type": "code",
        "colab": {}
      },
      "source": [
        "# Main Model with Ghost Batch Normalization\n",
        "# use diff batch size for GBN\n",
        "\n",
        "class Net(nn.Module):\n",
        "    def __init__(self):\n",
        "      super(Net, self).__init__()\n",
        "\n",
        "      # Conv Block1 \n",
        "      self.convblock1 = nn.Sequential(\n",
        "          nn.Conv2d(in_channels = 1, out_channels = 8, kernel_size = (3,3), padding = 0, bias = False), \n",
        "          nn.ReLU(),\n",
        "          GhostBatchNorm(8,2)) # O/P: 26\n",
        "      \n",
        "      # Conv Block2\n",
        "      self.convblock2 = nn.Sequential(\n",
        "          nn.Conv2d(in_channels = 8, out_channels = 10, kernel_size = (3,3), padding = 0, bias = False),\n",
        "          nn.ReLU(),\n",
        "          GhostBatchNorm(10,2)) # O/P: 24\n",
        "\n",
        "      # MaxPool Layer\n",
        "      self.maxpool = nn.Sequential(nn.MaxPool2d((2,2))) # O/P: 12\n",
        "\n",
        "      # ConvBlock 3\n",
        "      self.convblock3 = nn.Sequential(\n",
        "          nn.Conv2d(in_channels = 10, out_channels = 16, kernel_size = (3,3), padding = 0, bias = False),\n",
        "          nn.ReLU(),\n",
        "          GhostBatchNorm(16,2)) # O/P: 10\n",
        "      \n",
        "      \n",
        "      # ConvBlock 4\n",
        "      self.convblock4 = nn.Sequential(\n",
        "          nn.Conv2d(in_channels = 16, out_channels = 16, kernel_size = (3,3), padding = 0, bias = False),\n",
        "          nn.ReLU(),\n",
        "          GhostBatchNorm(16,2)) # O/P: 8\n",
        "      \n",
        "      # ConvBlock 5\n",
        "      self.convblock5 = nn.Sequential(\n",
        "          nn.Conv2d(in_channels = 16, out_channels = 16, kernel_size = (3,3), padding = 0, bias = False),\n",
        "          nn.ReLU(),\n",
        "          GhostBatchNorm(16,2)) # O/P: 6\n",
        "\n",
        "      # ConvBlock 6\n",
        "      self.convblock6 = nn.Sequential(\n",
        "          nn.Conv2d(in_channels = 16, out_channels = 16, kernel_size = (3,3), padding = 0,  bias = False))\n",
        "         \n",
        "\n",
        "    # GAP\n",
        "      self.gap = nn.Sequential(nn.AvgPool2d(4))\n",
        "\n",
        "    \n",
        "    # Last Layer\n",
        "      self.convblock9 = nn.Sequential(\n",
        "          nn.Conv2d(in_channels = 16, out_channels = 10, kernel_size = (1,1), padding = 0, bias = False))\n",
        "\n",
        "\n",
        "    # Dropout Layer\n",
        "      self.drop = nn.Sequential(nn.Dropout(0.08))\n",
        "\n",
        "\n",
        "\n",
        "    def forward(self,x):\n",
        "      x = self.convblock1(x)\n",
        "      x = self.drop(x)\n",
        "      x = self.convblock2(x)\n",
        "      x = self.drop(x)\n",
        "      x = self.maxpool(x)\n",
        "      x = self.convblock3(x)\n",
        "      x = self.drop(x)\n",
        "      x = self.convblock4(x)\n",
        "      x = self.drop(x)\n",
        "      x = self.convblock5(x)\n",
        "      # x = self.drop(x)\n",
        "      x = self.convblock6(x)\n",
        "      x = self.gap(x)\n",
        "      x = self.convblock9(x)\n",
        "     \n",
        "      x = x.view(-1, 10)\n",
        "      return F.log_softmax(x, dim = -1)\n",
        "      \n",
        "\n",
        "\n",
        "# Ghost Batch Normalization\n",
        "\n",
        "class BatchNorm(nn.BatchNorm2d):\n",
        "    def __init__(self, num_features, eps=1e-05, momentum=0.1, weight=True, bias=True):\n",
        "        super().__init__(num_features, eps=eps, momentum=momentum)\n",
        "        self.weight.data.fill_(1.0) # fill_() helps you filling up the tensor with a particular data\n",
        "        self.bias.data.fill_(0.0)\n",
        "        self.weight.requires_grad = weight\n",
        "        self.bias.requires_grad = bias\n",
        "\n",
        "\n",
        "class GhostBatchNorm(BatchNorm):\n",
        "    def __init__(self, num_features, num_splits, **kw):\n",
        "        super().__init__(num_features, **kw)\n",
        "        self.num_splits = num_splits\n",
        "        self.register_buffer('running_mean', torch.zeros(num_features * self.num_splits))\n",
        "        self.register_buffer('running_var', torch.ones(num_features * self.num_splits))\n",
        "\n",
        "    def train(self, mode=True):\n",
        "        if (self.training is True) and (mode is False):  # lazily collate stats when we are going to use them\n",
        "            self.running_mean = torch.mean(self.running_mean.view(self.num_splits, self.num_features), dim=0).repeat(\n",
        "                self.num_splits)\n",
        "            self.running_var = torch.mean(self.running_var.view(self.num_splits, self.num_features), dim=0).repeat(\n",
        "                self.num_splits)\n",
        "        return super().train(mode)\n",
        "\n",
        "    def forward(self, input):\n",
        "        N, C, H, W = input.shape\n",
        "        if self.training or not self.track_running_stats:\n",
        "            return F.batch_norm(\n",
        "                input.view(-1, C * self.num_splits, H, W), self.running_mean, self.running_var,\n",
        "                self.weight.repeat(self.num_splits), self.bias.repeat(self.num_splits),\n",
        "                True, self.momentum, self.eps).view(N, C, H, W)\n",
        "        else:\n",
        "            return F.batch_norm(\n",
        "                input, self.running_mean[:self.num_features], self.running_var[:self.num_features],\n",
        "                self.weight, self.bias, False, self.momentum, self.eps)\n",
        "\n",
        "\n"
      ],
      "execution_count": 0,
      "outputs": []
    },
    {
      "cell_type": "code",
      "metadata": {
        "id": "0qfJkTHtF0Kk",
        "colab_type": "code",
        "colab": {}
      },
      "source": [
        "# GBN Model Summary \n",
        "!pip install torchsummary\n",
        "from torchsummary import summary\n",
        "use_cuda = torch.cuda.is_available()\n",
        "device = torch.device(\"cuda\" if use_cuda else \"cpu\")\n",
        "modelGBN = Net().to(device)\n",
        "summary(modelGBN, input_size=(1, 28, 28))"
      ],
      "execution_count": 0,
      "outputs": []
    },
    {
      "cell_type": "code",
      "metadata": {
        "id": "sWFXRrRbLYHj",
        "colab_type": "code",
        "colab": {}
      },
      "source": [
        "from tqdm import tqdm\n",
        "import numpy as np\n",
        "\n",
        "class Test_Train():\n",
        "  def __init__(self):\n",
        "\n",
        "# # This is to hold all the values and plot some graphs to extract few good insights.\n",
        "    self.train_losses = []\n",
        "    self.test_losses = []\n",
        "    self.train_acc = []\n",
        "    self.test_acc = []\n",
        "    self.train_epoch_end = []\n",
        "    self.test_loss_min = np.inf # setting it to infinity(max value)\n",
        "    # when the test loss becomes min I will save the particular model\n",
        "\n",
        "\n",
        "  def train(self, model, device, train_loader, optimizer, epoch,scheduler, L1lambda=None):\n",
        "    model.train()    # prepare model for training\n",
        "    pbar = tqdm(train_loader)\n",
        "    correct = 0\n",
        "    processed = 0\n",
        "    for batch_idx, (data, target) in enumerate(pbar): # passing on data & target values to device\n",
        "      data, target = data.to(device), target.to(device)\n",
        "      optimizer.zero_grad()    # clear the gradients of all optimized variables\n",
        "      \n",
        "      # Predict\n",
        "      y_pred = model(data)   # forward pass\n",
        "\n",
        "      # Calculate loss\n",
        "      loss = F.nll_loss(y_pred, target)\n",
        "\n",
        "      #Implementing L1 Regularization\n",
        "      if L1lambda:\n",
        "        with torch.enable_grad():\n",
        "          l1_loss = 0.\n",
        "          for param in model.parameters():\n",
        "            l1_loss += torch.sum(param.abs())\n",
        "          loss += L1lambda * l1_loss\n",
        "\n",
        "      self.train_losses.append(loss)\n",
        "\n",
        "      # Backpropagation\n",
        "      loss.backward()   # backward pass: compute gradient of the loss with respect to model parameters\n",
        "      optimizer.step()   # perform a single optimization step (parameter update)\n",
        "\n",
        "      # Update pbar-tqdm\n",
        "    \n",
        "      pred = y_pred.argmax(dim=1, keepdim=True)  # get the index of the max log-probability\n",
        "      correct += pred.eq(target.view_as(pred)).sum().item()\n",
        "      processed += len(data)\n",
        "\n",
        "      pbar.set_description(desc= f'Loss={loss.item()} Batch_id={batch_idx} Accuracy={100*correct/processed:0.2f}')\n",
        "      self.train_acc.append(100*correct/processed)\n",
        "      scheduler.step()\n",
        "      self.train_epoch_end.append(self.train_acc[-1])\n",
        "\n",
        "\n",
        "  def test(self, model, device, test_loader,filename):\n",
        "      model.eval()  # prep model for evaluation\n",
        "      test_loss = 0\n",
        "      correct = 0\n",
        "      with torch.no_grad():\n",
        "          for data, target in test_loader:\n",
        "            data, target = data.to(device), target.to(device)\n",
        "            output = model(data)  # forward pass: compute predicted outputs by passing inputs to the model\n",
        "            test_loss += F.nll_loss(output, target, reduction='sum').item()  # sum up batch loss\n",
        "            pred = output.argmax(dim=1, keepdim=True)  # get the index of the max log-probability\n",
        "            correct += pred.eq(target.view_as(pred)).sum().item()\n",
        "\n",
        "      test_loss /= len(test_loader.dataset)\n",
        "      self.test_losses.append(test_loss)\n",
        "\n",
        "      # save model if validation loss has decreased\n",
        "      if test_loss <= self.test_loss_min:\n",
        "          print('Validation loss has  decreased ({:.4f} --> {:.4f}).  Saving model ...'.format(self.test_loss_min, test_loss))\n",
        "          torch.save(model.state_dict(), filename)\n",
        "          self.test_loss_min = test_loss\n",
        "\n",
        "\n",
        "      print('\\nTest set: Average loss: {:.4f}, Accuracy: {}/{} ({:.2f}%)\\n'.format(\n",
        "          test_loss, correct, len(test_loader.dataset),\n",
        "          100. * correct / len(test_loader.dataset)))\n",
        "    \n",
        "      self.test_acc.append(100. * correct / len(test_loader.dataset))"
      ],
      "execution_count": 0,
      "outputs": []
    },
    {
      "cell_type": "code",
      "metadata": {
        "id": "Lg-dCyNNtuYP",
        "colab_type": "code",
        "colab": {}
      },
      "source": [
        "# Model 5\n",
        "\n",
        "def withoutL1_L2_GBN():\n",
        "  model =  Net().to(device)\n",
        "  optimizer = optim.SGD(model.parameters(), lr=0.01, momentum=0.9)\n",
        "  scheduler = torch.optim.lr_scheduler.OneCycleLR(optimizer, max_lr=0.1, steps_per_epoch=len(train_loader), epochs=25)\n",
        "\n",
        "#first model\n",
        "  print('without L1 and L2 regularization with GBN')\n",
        "#without L1 and L2 regularization with GBN\n",
        "\n",
        "  model5= Test_Train()\n",
        "  # global loss1\n",
        "  # global acc1\n",
        "  loss5 = model5.test_losses\n",
        "  acc5 = model5.test_acc\n",
        "\n",
        "  EPOCHS = 5  \n",
        "  for epoch in range(1,EPOCHS+1):\n",
        "      print(\"EPOCH:\", epoch)\n",
        "      model5.train(model, device, train_loader, optimizer, epoch, scheduler)\n",
        "      model5.test(model, device, test_loader,\"model5.pt\")\n",
        "\n"
      ],
      "execution_count": 0,
      "outputs": []
    },
    {
      "cell_type": "code",
      "metadata": {
        "id": "tS3vjGdpt0Az",
        "colab_type": "code",
        "colab": {}
      },
      "source": [
        "# Model 6\n",
        "\n",
        "def withL1_GBN():\n",
        "  model =  Net().to(device)\n",
        "  optimizer = optim.SGD(model.parameters(), lr=0.01, momentum=0.9,weight_decay=1e-4)\n",
        "  scheduler = torch.optim.lr_scheduler.OneCycleLR(optimizer, max_lr=0.1, steps_per_epoch=len(train_loader), epochs=25)\n",
        "\n",
        "#sixth model\n",
        "  print('with L1 regularization with GBN')\n",
        "#with L1 regularization with BN\n",
        "  model6 = Test_Train()\n",
        "  # global loss2\n",
        "  # global acc2\n",
        "  loss6 = model6.test_losses\n",
        "  acc6 = model6.test_acc\n",
        "\n",
        "  EPOCHS = 5\n",
        "  for epoch in range(1,EPOCHS+1):\n",
        "      print(\"EPOCH:\", epoch)\n",
        "      model6.train(model, device, train_loader, optimizer, epoch, scheduler, L1lambda = 1e-5)\n",
        "      model6.test(model, device, test_loader,\"model6.pt\")"
      ],
      "execution_count": 0,
      "outputs": []
    },
    {
      "cell_type": "code",
      "metadata": {
        "id": "KdXJFlOqt5KS",
        "colab_type": "code",
        "colab": {}
      },
      "source": [
        "\n",
        "def withL2_GBN():\n",
        "  model =  Net().to(device)\n",
        "  optimizer = optim.SGD(model.parameters(), lr=0.01, momentum=0.9,weight_decay=1e-4)\n",
        "  scheduler = torch.optim.lr_scheduler.OneCycleLR(optimizer, max_lr=0.1, steps_per_epoch=len(train_loader), epochs=25)\n",
        "\n",
        "#seventh model\n",
        "  print('with L2 regularization with GBN')\n",
        "#with L2 regularization \n",
        "  model7 = Test_Train()\n",
        "  # global loss3\n",
        "  # global acc3\n",
        "  loss7 = model7.test_losses\n",
        "  acc7 = model7.test_acc\n",
        "\n",
        "  EPOCHS = 5\n",
        "  for epoch in range(1,EPOCHS+1):\n",
        "      print(\"EPOCH:\", epoch)\n",
        "      model7.train(model, device, train_loader, optimizer, epoch, scheduler)\n",
        "      model7.test(model, device, test_loader,\"model7.pt\")"
      ],
      "execution_count": 0,
      "outputs": []
    },
    {
      "cell_type": "code",
      "metadata": {
        "id": "8-n0QJk7usul",
        "colab_type": "code",
        "colab": {}
      },
      "source": [
        "\n",
        "\n",
        "def withL1_L2_GBN():\n",
        "  model =  Net().to(device)\n",
        "  optimizer = optim.SGD(model.parameters(), lr=0.01, momentum=0.9,weight_decay=1e-4)\n",
        "  scheduler = torch.optim.lr_scheduler.OneCycleLR(optimizer, max_lr=0.1, steps_per_epoch=len(train_loader), epochs=25)\n",
        "\n",
        "#eighth  model\n",
        "  print('with L1 & L2 regularization with GBN')\n",
        "#with both L1 & L2 regularization with BN\n",
        "  model8 = Test_Train()\n",
        "  # global loss4\n",
        "  # global acc4\n",
        "  loss8 = model8.test_losses\n",
        "  acc8 = model8.test_acc\n",
        "\n",
        "  EPOCHS = 5\n",
        "  for epoch in range(1,EPOCHS+1):\n",
        "      print(\"EPOCH:\", epoch)\n",
        "      model8.train(model, device, train_loader, optimizer, epoch, scheduler, L1lambda = 1e-5)\n",
        "      model8.test(model, device, test_loader,\"model8.pt\")"
      ],
      "execution_count": 0,
      "outputs": []
    },
    {
      "cell_type": "code",
      "metadata": {
        "id": "lC7VFe3zvEBY",
        "colab_type": "code",
        "colab": {}
      },
      "source": [
        "modelTuple = iter(withoutL1_L2_GBN(),\n",
        "  withL1_GBN(),\n",
        "  withL2_GBN(),\n",
        "  withL1_L2_GBN())\n",
        "\n",
        "print(modelTuple.__next__())"
      ],
      "execution_count": 0,
      "outputs": []
    },
    {
      "cell_type": "code",
      "metadata": {
        "id": "udQlgjEhvs4z",
        "colab_type": "code",
        "colab": {}
      },
      "source": [
        "print('Misclassifed Images from Model4')\n",
        "print('*'*30)\n",
        "\n",
        "model.load_state_dict(torch.load(\"model4.pt\")) \n",
        "misclassifiedOnes(model,'withoutL1_L2_GBN.png')"
      ],
      "execution_count": 0,
      "outputs": []
    },
    {
      "cell_type": "code",
      "metadata": {
        "id": "YP2S4Cp7vvdg",
        "colab_type": "code",
        "colab": {}
      },
      "source": [
        "print('Misclassifed Images from Model5')\n",
        "print('*'*30)\n",
        "\n",
        "model.load_state_dict(torch.load(\"model5.pt\")) \n",
        "misclassifiedOnes(model,'withL1_GBN.png')"
      ],
      "execution_count": 0,
      "outputs": []
    },
    {
      "cell_type": "code",
      "metadata": {
        "id": "T6W6t1uavwIF",
        "colab_type": "code",
        "colab": {}
      },
      "source": [
        "print('Misclassifed Images from Model7')\n",
        "print('*'*30)\n",
        "\n",
        "model.load_state_dict(torch.load(\"model7.pt\")) \n",
        "misclassifiedOnes(model,'withL2_GBN.png')"
      ],
      "execution_count": 0,
      "outputs": []
    },
    {
      "cell_type": "code",
      "metadata": {
        "id": "rEXr4Jyfvwdd",
        "colab_type": "code",
        "colab": {}
      },
      "source": [
        "print('Misclassifed Images from Model8')\n",
        "print('*'*30)\n",
        "\n",
        "model.load_state_dict(torch.load(\"model8.pt\")) \n",
        "misclassifiedOnes(model,'withL1_L2_GBN.png')"
      ],
      "execution_count": 0,
      "outputs": []
    }
  ]
}