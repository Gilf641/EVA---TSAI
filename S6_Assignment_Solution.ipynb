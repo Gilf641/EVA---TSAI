{
  "nbformat": 4,
  "nbformat_minor": 0,
  "metadata": {
    "colab": {
      "name": "S6_Assignment_Solution.ipynb",
      "provenance": [],
      "collapsed_sections": [],
      "authorship_tag": "ABX9TyO6AKOlCt7XWgmqfgOgNKDo",
      "include_colab_link": true
    },
    "kernelspec": {
      "name": "python3",
      "display_name": "Python 3"
    }
  },
  "cells": [
    {
      "cell_type": "markdown",
      "metadata": {
        "id": "view-in-github",
        "colab_type": "text"
      },
      "source": [
        "<a href=\"https://colab.research.google.com/github/Gilf641/EVA4/blob/master/S6_Assignment_Solution.ipynb\" target=\"_parent\"><img src=\"https://colab.research.google.com/assets/colab-badge.svg\" alt=\"Open In Colab\"/></a>"
      ]
    },
    {
      "cell_type": "markdown",
      "metadata": {
        "id": "aoG0WKvrZP7-",
        "colab_type": "text"
      },
      "source": [
        "**Import required Libraries**\n"
      ]
    },
    {
      "cell_type": "code",
      "metadata": {
        "id": "ibCd4l21ZcLp",
        "colab_type": "code",
        "colab": {}
      },
      "source": [
        "from __future__ import print_function\n",
        "import torch\n",
        "import torch.nn as nn\n",
        "import torch.nn.functional as F\n",
        "import torch.optim as optim\n",
        "from torchvision import datasets, transforms\n",
        "%matplotlib inline\n",
        "import matplotlib.pyplot as plt\n",
        "from torch.optim.lr_scheduler import OneCycleLR"
      ],
      "execution_count": 0,
      "outputs": []
    },
    {
      "cell_type": "code",
      "metadata": {
        "id": "TzgJ4ZSsTrY8",
        "colab_type": "code",
        "outputId": "8ec00043-ff7b-44d4-a1f9-b5905d5483e9",
        "colab": {
          "resources": {
            "http://localhost:8080/nbextensions/google.colab/files.js": {
              "data": "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",
              "ok": true,
              "headers": [
                [
                  "content-type",
                  "application/javascript"
                ]
              ],
              "status": 200,
              "status_text": "OK"
            }
          },
          "base_uri": "https://localhost:8080/",
          "height": 56
        }
      },
      "source": [
        "# simple function to upload files from local drive\n",
        "\n",
        "from google.colab import files\n",
        "def getLocalFiles():\n",
        "    _files = files.upload()\n",
        "    if len(_files) >0:\n",
        "       for k,v in _files.items():\n",
        "         open(k,'wb').write(v)\n",
        "getLocalFiles()"
      ],
      "execution_count": 2,
      "outputs": [
        {
          "output_type": "display_data",
          "data": {
            "text/html": [
              "\n",
              "     <input type=\"file\" id=\"files-b301c363-81d6-439f-8e52-d1989c116d0b\" name=\"files[]\" multiple disabled />\n",
              "     <output id=\"result-b301c363-81d6-439f-8e52-d1989c116d0b\">\n",
              "      Upload widget is only available when the cell has been executed in the\n",
              "      current browser session. Please rerun this cell to enable.\n",
              "      </output>\n",
              "      <script src=\"/nbextensions/google.colab/files.js\"></script> "
            ],
            "text/plain": [
              "<IPython.core.display.HTML object>"
            ]
          },
          "metadata": {
            "tags": []
          }
        }
      ]
    },
    {
      "cell_type": "markdown",
      "metadata": {
        "id": "t3a1GIQuaH3_",
        "colab_type": "text"
      },
      "source": [
        "**Data Transformations**\n",
        "\n",
        "\n",
        "* Here I've created a Class to transform Train & Test Data. And I'm using Compose function to chain in all the transform operations required in the form of list and then pass it on the different sets of data.\n",
        "* I have already set the mean and the standard deviation to 0.1307 & 0.3081 \n",
        "* 2 main parameters normalize(boolean) and rotate(default value = 0).\n"
      ]
    },
    {
      "cell_type": "code",
      "metadata": {
        "id": "mYbs3e8iVWeP",
        "colab_type": "code",
        "colab": {}
      },
      "source": [
        "# # Transformations \n",
        "\n",
        "# class Transformations():\n",
        "\n",
        "#   def __init__(self, normalize=True, rotate = 0):\n",
        "#       self.normalize = normalize\n",
        "#       self.rotate = rotate\n",
        "\n",
        "\n",
        "#   # For Train Data\n",
        "#   def train_transforms(self, tensorToPIL = True):\n",
        "#       self.tensorToPIL = tensorToPIL\n",
        "#       transforms_list = []\n",
        "#       transforms_list.append(transforms.ToTensor())\n",
        "#       if self.normalize: \n",
        "#           transforms_list.append(transforms.Normalize((0.1307, ), (0.3081, )))\n",
        "#       if self.rotate:\n",
        "#           transforms_list.append(transforms.RandomRotation((-1*int(self.rotate), int(self.rotate)), fill=(1,)))\n",
        "#       if self.tensorToPIL:\n",
        "#           transforms_list.append(transforms.ToPILImage())\n",
        "#       return transforms.Compose(transforms_list)\n",
        "\n",
        "\n",
        "#   # For Test Data\n",
        "#   def test_transforms(self, tensorToPIL = True):\n",
        "#       self.tensorToPIL = tensorToPIL\n",
        "#       transforms_list = [transforms.ToTensor()]\n",
        "#       if self.normalize:\n",
        "#           transforms_list.append(transforms.Normalize((0.1307, ),(0.3081, )))\n",
        "#       if self.tensorToPIL:\n",
        "#           transforms_list.append(transforms.ToPILImage())\n",
        "#       return transforms.Compose(transforms_list)\n",
        "\n",
        "\n",
        "\n",
        "# mnist_data = Transformations(normalize = True, rotate = 5)    # set normalize = True\n",
        "# train_trans = mnist_data.train_transforms(tensorToPIL = True)  # Rotation of Train Images\n",
        "# test_trans = mnist_data.test_transforms(tensorToPIL = True)"
      ],
      "execution_count": 0,
      "outputs": []
    },
    {
      "cell_type": "code",
      "metadata": {
        "id": "17V5fNETSWSw",
        "colab_type": "code",
        "colab": {}
      },
      "source": [
        "# Transformations\n",
        "\n",
        "# Train Phase transformations\n",
        "train_transforms = transforms.Compose([\n",
        "                                       transforms.RandomRotation((-7.0, 7.0), fill=(1,)),\n",
        "                                       transforms.ToTensor(),\n",
        "                                       transforms.Normalize((0.1307,), (0.3081,)) \n",
        "                                      #  transforms.ToPILImage()# The mean and std have to be sequences (e.g., tuples), therefore you should add a comma after the values. \n",
        "                                       # Note the difference between (0.1307) and (0.1307,)\n",
        "                                       ])\n",
        "\n",
        "# Test Phase transformations\n",
        "test_transforms = transforms.Compose([\n",
        "                                       transforms.ToTensor(),\n",
        "                                       transforms.Normalize((0.1307,), (0.3081,))\n",
        "                                      #  transforms.ToPILImage()\n",
        "                                       ])\n"
      ],
      "execution_count": 0,
      "outputs": []
    },
    {
      "cell_type": "code",
      "metadata": {
        "id": "YjKsa_TOghQ-",
        "colab_type": "code",
        "colab": {}
      },
      "source": [
        "# Split Test & Train Data\n",
        "train = datasets.MNIST('./data', train = True, download = True, transform = train_transforms)\n",
        "test = datasets.MNIST('./data', train = False, download = True, transform = test_transforms)"
      ],
      "execution_count": 0,
      "outputs": []
    },
    {
      "cell_type": "markdown",
      "metadata": {
        "id": "cIARLXpaulAk",
        "colab_type": "text"
      },
      "source": [
        "**Dataloaders Arguments & Train/Test Dataloaders**"
      ]
    },
    {
      "cell_type": "code",
      "metadata": {
        "id": "khdQSGETuijY",
        "colab_type": "code",
        "colab": {}
      },
      "source": [
        "# DataLoaders\n",
        "\n",
        "class Dataloader:\n",
        "  def __init__(self, shuffle = True, batch_size = 128):\n",
        "      cuda = torch.cuda.is_available()\n",
        "      if cuda:\n",
        "        torch.cuda.manual_seed(seed)\n",
        "      self.dataloader_args = dict(shuffle=shuffle, batch_size=batch_size, num_workers=4, pin_memory=True) #if cuda else dict(shuffle=True, batch_size=64)\n",
        "\n",
        "  def dataset_loader(self, data):\n",
        "      return torch.utils.data.DataLoader(data, **self.dataloader_args) # **dataloader_args get passed when dataset_loader gets called\n",
        "\n",
        "\n",
        "dl = Dataloader()\n",
        "\n",
        "# train dataloader\n",
        "train_loader = dl.dataset_loader(train)\n",
        "\n",
        "# test dataloader\n",
        "test_loader = dl.dataset_loader(test)"
      ],
      "execution_count": 0,
      "outputs": []
    },
    {
      "cell_type": "markdown",
      "metadata": {
        "id": "1MTSvxCciQp2",
        "colab_type": "text"
      },
      "source": [
        "**Data Statistics**"
      ]
    },
    {
      "cell_type": "code",
      "metadata": {
        "id": "M306Y3nfgbP3",
        "colab_type": "code",
        "outputId": "18b62a36-7c69-4ff6-cdf7-ed2fef1d4d7d",
        "colab": {
          "base_uri": "https://localhost:8080/",
          "height": 501
        }
      },
      "source": [
        "\n",
        "data_iter = iter(train_loader)\n",
        "images, labels = data_iter.next()\n",
        "\n",
        "print(images.shape) # [64, 1, 28, 28]\n",
        "print(labels.shape) # [64]\n",
        "\n",
        "\n",
        "from matplotlib import pyplot as plt\n",
        "import matplotlib.gridspec as gridspec\n",
        "\n",
        "%matplotlib inline\n",
        "\n",
        "\n",
        "def display_25(images, labels):\n",
        "  figmatrix = plt.figure(figsize=(8, 8))\n",
        "  row, col = 5, 5 # set rows & columns = 5\n",
        "  gs = gridspec.GridSpec(row, col)\n",
        "  gs.update(wspace=0.005, hspace=0.05)\n",
        "\n",
        "  for i in range(1, 26):\n",
        "    plt.subplot(gs[i-1])\n",
        "    plt.tick_params( axis='both', which='both', labelbottom=False, labelleft=False, left=False, bottom=False)\n",
        "    plt.imshow(images[i-1].numpy().squeeze(), cmap='gray_r')\n",
        "    plt.text(2, 6, labels[i-1].numpy(), color=\"green\", fontsize=\"xx-large\")\n",
        "  plt.show()\n",
        "\n",
        "display_25(images[:25], labels[:25])\n",
        "\n"
      ],
      "execution_count": 7,
      "outputs": [
        {
          "output_type": "stream",
          "text": [
            "torch.Size([128, 1, 28, 28])\n",
            "torch.Size([128])\n"
          ],
          "name": "stdout"
        },
        {
          "output_type": "display_data",
          "data": {
            "image/png": "[encoded data removed]",
            "text/plain": [
              "<Figure size 576x576 with 25 Axes>"
            ]
          },
          "metadata": {
            "tags": []
          }
        }
      ]
    },
    {
      "cell_type": "code",
      "metadata": {
        "id": "O2jRSe6E3VbV",
        "colab_type": "code",
        "outputId": "1fd926d1-8ddf-4b90-89fe-ccfeaf5fcdb2",
        "colab": {
          "base_uri": "https://localhost:8080/",
          "height": 239
        }
      },
      "source": [
        "# Just curious at the orientation of these mnist images\n",
        "figure = plt.figure()\n",
        "num_of_images = 50\n",
        "for i in range(1,num_of_images+1):\n",
        "  plt.subplot(5,10, i)\n",
        "  plt.axis('off')\n",
        "  plt.imshow(images[i-1].numpy().squeeze(), cmap = 'gray_r')"
      ],
      "execution_count": 8,
      "outputs": [
        {
          "output_type": "display_data",
          "data": {
            "image/png": "[encoded data removed]",
            "text/plain": [
              "<Figure size 432x288 with 50 Axes>"
            ]
          },
          "metadata": {
            "tags": [],
            "needs_background": "light"
          }
        }
      ]
    },
    {
      "cell_type": "code",
      "metadata": {
        "id": "cRFrxuxH2wVI",
        "colab_type": "code",
        "colab": {}
      },
      "source": [
        "# Main Model with Batch Normalization\n",
        "class Net(nn.Module):\n",
        "    def __init__(self):\n",
        "      super(Net, self).__init__()\n",
        "\n",
        "      # Conv Block1 \n",
        "      self.convblock1 = nn.Sequential(\n",
        "          nn.Conv2d(in_channels = 1, out_channels = 8, kernel_size = (3,3), padding = 0, bias = False), \n",
        "          nn.ReLU(),\n",
        "          nn.BatchNorm2d(8)) # O/P: 26\n",
        "      \n",
        "      # Conv Block2\n",
        "      self.convblock2 = nn.Sequential(\n",
        "          nn.Conv2d(in_channels = 8, out_channels = 10, kernel_size = (3,3), padding = 0, bias = False),\n",
        "          nn.ReLU(),\n",
        "          nn.BatchNorm2d(10)) # O/P: 24\n",
        "\n",
        "      # MaxPool Layer\n",
        "      self.maxpool = nn.Sequential(nn.MaxPool2d((2,2))) # O/P: 12\n",
        "\n",
        "      # ConvBlock 3\n",
        "      self.convblock3 = nn.Sequential(\n",
        "          nn.Conv2d(in_channels = 10, out_channels = 16, kernel_size = (3,3), padding = 0, bias = False),\n",
        "          nn.ReLU(),\n",
        "          nn.BatchNorm2d(16)) # O/P: 10\n",
        "      \n",
        "      \n",
        "      # ConvBlock 4\n",
        "      self.convblock4 = nn.Sequential(\n",
        "          nn.Conv2d(in_channels = 16, out_channels = 16, kernel_size = (3,3), padding = 0, bias = False),\n",
        "          nn.ReLU(),\n",
        "          nn.BatchNorm2d(16)) # O/P: 8\n",
        "      \n",
        "      # ConvBlock 5\n",
        "      self.convblock5 = nn.Sequential(\n",
        "          nn.Conv2d(in_channels = 16, out_channels = 16, kernel_size = (3,3), padding = 0, bias = False),\n",
        "          nn.ReLU(),\n",
        "          nn.BatchNorm2d(16)) # O/P: 6\n",
        "\n",
        "      # ConvBlock 6\n",
        "      self.convblock6 = nn.Sequential(\n",
        "          nn.Conv2d(in_channels = 16, out_channels = 16, kernel_size = (3,3), padding = 0,  bias = False))\n",
        "         \n",
        "\n",
        "    # GAP\n",
        "      self.gap = nn.Sequential(nn.AvgPool2d(4))\n",
        "\n",
        "    \n",
        "    # Last Layer\n",
        "      self.convblock9 = nn.Sequential(\n",
        "          nn.Conv2d(in_channels = 16, out_channels = 10, kernel_size = (1,1), padding = 0, bias = False))\n",
        "\n",
        "\n",
        "    # Dropout Layer\n",
        "      self.drop = nn.Sequential(nn.Dropout(0.08))\n",
        "\n",
        "\n",
        "\n",
        "    def forward(self,x):\n",
        "      x = self.convblock1(x)\n",
        "      x = self.drop(x)\n",
        "      x = self.convblock2(x)\n",
        "      x = self.drop(x)\n",
        "      x = self.maxpool(x)\n",
        "      x = self.convblock3(x)\n",
        "      x = self.drop(x)\n",
        "      x = self.convblock4(x)\n",
        "      x = self.drop(x)\n",
        "      x = self.convblock5(x)\n",
        "      x = self.convblock6(x)\n",
        "      x = self.gap(x)\n",
        "      x = self.convblock9(x)\n",
        "     \n",
        "      x = x.view(-1, 10)\n",
        "      return F.log_softmax(x, dim = -1)\n",
        "      \n",
        "\n"
      ],
      "execution_count": 0,
      "outputs": []
    },
    {
      "cell_type": "markdown",
      "metadata": {
        "id": "Tw92Nq-Bmv4p",
        "colab_type": "text"
      },
      "source": [
        "**Model Summary**"
      ]
    },
    {
      "cell_type": "code",
      "metadata": {
        "id": "142jVP2a2wjW",
        "colab_type": "code",
        "outputId": "67321b75-05dd-4677-bad7-ce4ce1e578b9",
        "colab": {
          "base_uri": "https://localhost:8080/",
          "height": 660
        }
      },
      "source": [
        "# BN Model Summary \n",
        "!pip install torchsummary\n",
        "from torchsummary import summary\n",
        "use_cuda = torch.cuda.is_available()\n",
        "device = torch.device(\"cuda\" if use_cuda else \"cpu\")\n",
        "model = Net().to(device)\n",
        "summary(model, input_size=(1, 28, 28))"
      ],
      "execution_count": 10,
      "outputs": [
        {
          "output_type": "stream",
          "text": [
            "Requirement already satisfied: torchsummary in /usr/local/lib/python3.6/dist-packages (1.5.1)\n",
            "----------------------------------------------------------------\n",
            "        Layer (type)               Output Shape         Param #\n",
            "================================================================\n",
            "            Conv2d-1            [-1, 8, 26, 26]              72\n",
            "              ReLU-2            [-1, 8, 26, 26]               0\n",
            "       BatchNorm2d-3            [-1, 8, 26, 26]              16\n",
            "           Dropout-4            [-1, 8, 26, 26]               0\n",
            "            Conv2d-5           [-1, 10, 24, 24]             720\n",
            "              ReLU-6           [-1, 10, 24, 24]               0\n",
            "       BatchNorm2d-7           [-1, 10, 24, 24]              20\n",
            "           Dropout-8           [-1, 10, 24, 24]               0\n",
            "         MaxPool2d-9           [-1, 10, 12, 12]               0\n",
            "           Conv2d-10           [-1, 16, 10, 10]           1,440\n",
            "             ReLU-11           [-1, 16, 10, 10]               0\n",
            "      BatchNorm2d-12           [-1, 16, 10, 10]              32\n",
            "          Dropout-13           [-1, 16, 10, 10]               0\n",
            "           Conv2d-14             [-1, 16, 8, 8]           2,304\n",
            "             ReLU-15             [-1, 16, 8, 8]               0\n",
            "      BatchNorm2d-16             [-1, 16, 8, 8]              32\n",
            "          Dropout-17             [-1, 16, 8, 8]               0\n",
            "           Conv2d-18             [-1, 16, 6, 6]           2,304\n",
            "             ReLU-19             [-1, 16, 6, 6]               0\n",
            "      BatchNorm2d-20             [-1, 16, 6, 6]              32\n",
            "           Conv2d-21             [-1, 16, 4, 4]           2,304\n",
            "        AvgPool2d-22             [-1, 16, 1, 1]               0\n",
            "           Conv2d-23             [-1, 10, 1, 1]             160\n",
            "================================================================\n",
            "Total params: 9,436\n",
            "Trainable params: 9,436\n",
            "Non-trainable params: 0\n",
            "----------------------------------------------------------------\n",
            "Input size (MB): 0.00\n",
            "Forward/backward pass size (MB): 0.45\n",
            "Params size (MB): 0.04\n",
            "Estimated Total Size (MB): 0.49\n",
            "----------------------------------------------------------------\n"
          ],
          "name": "stdout"
        }
      ]
    },
    {
      "cell_type": "code",
      "metadata": {
        "id": "zTtElIRtBsZL",
        "colab_type": "code",
        "colab": {}
      },
      "source": [
        "from tqdm import tqdm\n",
        "import numpy as np\n",
        "\n",
        "class Test_Train():\n",
        "  def __init__(self):\n",
        "\n",
        "# # This is to hold all the values and plot some graphs to extract few good insights.\n",
        "    self.train_losses = []\n",
        "    self.test_losses = []\n",
        "    self.train_acc = []\n",
        "    self.test_acc = []\n",
        "    self.train_epoch_end = []\n",
        "    self.test_loss_min = np.inf # setting it to infinity(max value)\n",
        "    # when the test loss becomes min I will save the particular model\n",
        "\n",
        "\n",
        "  def train(self, model, device, train_loader, optimizer, epoch,scheduler, L1lambda=None):\n",
        "    model.train()    # prepare model for training\n",
        "    pbar = tqdm(train_loader)\n",
        "    correct = 0\n",
        "    processed = 0\n",
        "    for batch_idx, (data, target) in enumerate(pbar): # passing on data & target values to device\n",
        "      data, target = data.to(device), target.to(device)\n",
        "      optimizer.zero_grad()    # clear the gradients of all optimized variables\n",
        "      \n",
        "      # Predict\n",
        "      y_pred = model(data)   # forward pass\n",
        "\n",
        "      # Calculate loss\n",
        "      loss = F.nll_loss(y_pred, target)\n",
        "\n",
        "      #Implementing L1 Regularization\n",
        "      if L1lambda:\n",
        "        with torch.enable_grad():\n",
        "          l1_loss = 0.\n",
        "          for param in model.parameters():\n",
        "            l1_loss += torch.sum(param.abs())\n",
        "          loss += L1lambda * l1_loss\n",
        "\n",
        "      self.train_losses.append(loss)\n",
        "\n",
        "      # Backpropagation\n",
        "      loss.backward()   # backward pass: compute gradient of the loss with respect to model parameters\n",
        "      optimizer.step()   # perform a single optimization step (parameter update)\n",
        "\n",
        "      # Update pbar-tqdm\n",
        "    \n",
        "      pred = y_pred.argmax(dim=1, keepdim=True)  # get the index of the max log-probability\n",
        "      correct += pred.eq(target.view_as(pred)).sum().item()\n",
        "      processed += len(data)\n",
        "\n",
        "      pbar.set_description(desc= f'Loss={loss.item()} Batch_id={batch_idx} Accuracy={100*correct/processed:0.2f}')\n",
        "      self.train_acc.append(100*correct/processed)\n",
        "      scheduler.step()\n",
        "      self.train_epoch_end.append(self.train_acc[-1])\n",
        "\n",
        "\n",
        "  def test(self, model, device, test_loader,filename):\n",
        "      model.eval()  # prep model for evaluation\n",
        "      test_loss = 0\n",
        "      correct = 0\n",
        "      with torch.no_grad():\n",
        "          for data, target in test_loader:\n",
        "            data, target = data.to(device), target.to(device)\n",
        "            output = model(data)  # forward pass: compute predicted outputs by passing inputs to the model\n",
        "            test_loss += F.nll_loss(output, target, reduction='sum').item()  # sum up batch loss\n",
        "            pred = output.argmax(dim=1, keepdim=True)  # get the index of the max log-probability\n",
        "            correct += pred.eq(target.view_as(pred)).sum().item()\n",
        "\n",
        "      test_loss /= len(test_loader.dataset)\n",
        "      self.test_losses.append(test_loss)\n",
        "\n",
        "      # save model if validation loss has decreased\n",
        "      if test_loss <= self.test_loss_min:\n",
        "          print('Validation loss has  decreased ({:.4f} --> {:.4f}).  Saving model ...'.format(self.test_loss_min, test_loss))\n",
        "          torch.save(model.state_dict(), filename)\n",
        "          self.test_loss_min = test_loss\n",
        "\n",
        "\n",
        "      print('\\nTest set: Average loss: {:.4f}, Accuracy: {}/{} ({:.2f}%)\\n'.format(\n",
        "          test_loss, correct, len(test_loader.dataset),\n",
        "          100. * correct / len(test_loader.dataset)))\n",
        "    \n",
        "      self.test_acc.append(100. * correct / len(test_loader.dataset))\n",
        "\n",
        "\n",
        "  # def plot(graph = None):\n",
        "  #   super(Test_Train,self).__init__()\n",
        "\n",
        "  #   if graph == 'Accuracy':\n",
        "  #     plt.figure(figsize=(15, 10))\n",
        "  #     ax = plt.subplot(111)\n",
        "  #     ax.plot(acc1)\n",
        "  #     ax.plot(acc2)\n",
        "  #     ax.plot(acc3)\n",
        "  #     ax.plot(acc4)\n",
        "  #     ax.set(title=\"Model Validation Accuracy of 4 Models with Batch-Normalization\", xlabel=\"Epoch\", ylabel=\"Accuracy\")\n",
        "  #     ax.legend(['without L1 and L2', 'with L1', 'with L2', 'with L1 and L2'], loc='best')\n",
        "  #     plt.savefig(\"Accuracyof4modelswithBN.png\")\n",
        "  #     plt.show()\n",
        "\n",
        "    \n",
        "  #   elif graph == 'Loss':\n",
        "  #   plt.figure(figsize = (15,10))\n",
        "  #   ax = plt.subplot(111)\n",
        "  #   ax.plot(loss1)\n",
        "  #   ax.plot(loss2)\n",
        "  #   ax.plot(loss3)\n",
        "  #   ax.plot(loss4)\n",
        "  #   ax.set(title='Validation Losses of 4 Models', xlabel='Epoch', ylabel = 'Loss')\n",
        "  #   ax.legend(['without L1 & L2', 'with L1', 'with L2', 'with L1 & L2'], loc = 'best')\n",
        "  #   plt.savefig('ValidationLossesBN.png')\n",
        "  #   plt.show()\n",
        "\n",
        "\n",
        "\n",
        "\n",
        "\n"
      ],
      "execution_count": 0,
      "outputs": []
    },
    {
      "cell_type": "markdown",
      "metadata": {
        "id": "bStuYmhx0EoM",
        "colab_type": "text"
      },
      "source": [
        "**Model 1**\n",
        "#without L1 and L2 regularization with BN\n"
      ]
    },
    {
      "cell_type": "code",
      "metadata": {
        "id": "bnfSxD6qDQch",
        "colab_type": "code",
        "colab": {}
      },
      "source": [
        "def withoutL1_L2_BN():\n",
        "  model =  Net().to(device)\n",
        "  optimizer = optim.SGD(model.parameters(), lr=0.01, momentum=0.9)\n",
        "  scheduler = torch.optim.lr_scheduler.OneCycleLR(optimizer, max_lr=0.1, steps_per_epoch=len(train_loader), epochs=25)\n",
        "\n",
        "#first model\n",
        "  print('without L1 and L2 regularization with BN')\n",
        "\n",
        "  model1= Test_Train()\n",
        "  global loss1\n",
        "  global acc1\n",
        "  loss1 = model1.test_losses\n",
        "  acc1 = model1.test_acc\n",
        "\n",
        "  EPOCHS = 25 \n",
        "  for epoch in range(1,EPOCHS+1):\n",
        "      print(\"EPOCH:\", epoch)\n",
        "      model1.train(model, device, train_loader, optimizer, epoch, scheduler)\n",
        "      model1.test(model, device, test_loader,\"model1.pt\")\n",
        "\n"
      ],
      "execution_count": 0,
      "outputs": []
    },
    {
      "cell_type": "markdown",
      "metadata": {
        "id": "_wyBeeIs0QhH",
        "colab_type": "text"
      },
      "source": [
        "**Model 2**\n",
        "#with L1 regularization with BN\n"
      ]
    },
    {
      "cell_type": "code",
      "metadata": {
        "id": "jYFTjTuCTscQ",
        "colab_type": "code",
        "colab": {}
      },
      "source": [
        "def withL1_BN():\n",
        "  model =  Net().to(device)\n",
        "  optimizer = optim.SGD(model.parameters(), lr=0.01, momentum=0.9)\n",
        "  scheduler = torch.optim.lr_scheduler.OneCycleLR(optimizer, max_lr=0.1, steps_per_epoch=len(train_loader), epochs=25)\n",
        "\n",
        "#second model\n",
        "  print('with L1 regularization with BN')\n",
        "\n",
        "  model2 = Test_Train()\n",
        "  global loss2\n",
        "  global acc2\n",
        "  loss2 = model2.test_losses\n",
        "  acc2 = model2.test_acc\n",
        "\n",
        "  EPOCHS = 25\n",
        "  for epoch in range(1,EPOCHS+1):\n",
        "      print(\"EPOCH:\", epoch)\n",
        "      model2.train(model, device, train_loader, optimizer, epoch, scheduler, L1lambda = 1e-5)\n",
        "      model2.test(model, device, test_loader,\"model2.pt\")"
      ],
      "execution_count": 0,
      "outputs": []
    },
    {
      "cell_type": "markdown",
      "metadata": {
        "id": "GhhgosOW0XWH",
        "colab_type": "text"
      },
      "source": [
        "**Model 3**\n",
        "#with L2 regularization with BN\n"
      ]
    },
    {
      "cell_type": "code",
      "metadata": {
        "id": "aJmdpUz12cN3",
        "colab_type": "code",
        "colab": {}
      },
      "source": [
        "def withL2_BN():\n",
        "  model =  Net().to(device)\n",
        "  optimizer = optim.SGD(model.parameters(), lr=0.01, momentum=0.9,weight_decay=1e-5)\n",
        "  scheduler = torch.optim.lr_scheduler.OneCycleLR(optimizer, max_lr=0.1, steps_per_epoch=len(train_loader), epochs=25)\n",
        "\n",
        "#third model\n",
        "  print('with L2 regularization with BN')\n",
        "\n",
        "  model3 = Test_Train()\n",
        "  global loss3\n",
        "  global acc3\n",
        "  loss3 = model3.test_losses\n",
        "  acc3 = model3.test_acc\n",
        "\n",
        "  EPOCHS = 25\n",
        "  for epoch in range(1,EPOCHS+1):\n",
        "      print(\"EPOCH:\", epoch)\n",
        "      model3.train(model, device, train_loader, optimizer, epoch, scheduler)\n",
        "      model3.test(model, device, test_loader,\"model3.pt\")"
      ],
      "execution_count": 0,
      "outputs": []
    },
    {
      "cell_type": "markdown",
      "metadata": {
        "id": "gMPRwkhT0ctp",
        "colab_type": "text"
      },
      "source": [
        "**Model 4**\n",
        "#with both L1 & L2 regularization with BN\n"
      ]
    },
    {
      "cell_type": "code",
      "metadata": {
        "id": "LTMgeAnnzUna",
        "colab_type": "code",
        "colab": {}
      },
      "source": [
        "def withL1_L2_BN():\n",
        "  model =  Net().to(device)\n",
        "  optimizer = optim.SGD(model.parameters(), lr=0.01, momentum=0.9,weight_decay=1e-5)\n",
        "  scheduler = torch.optim.lr_scheduler.OneCycleLR(optimizer, max_lr=0.1, steps_per_epoch=len(train_loader), epochs=25)\n",
        "\n",
        "#fourth  model\n",
        "  print('with L1 & L2 regularization with BN')\n",
        "\n",
        "  model4 = Test_Train()\n",
        "  global loss4\n",
        "  global acc4\n",
        "  loss4 = model4.test_losses\n",
        "  acc4 = model4.test_acc\n",
        "\n",
        "  EPOCHS = 25\n",
        "  for epoch in range(1,EPOCHS+1):\n",
        "      print(\"EPOCH:\", epoch)\n",
        "      model4.train(model, device, train_loader, optimizer, epoch, scheduler, L1lambda = 1e-5)\n",
        "      model4.test(model, device, test_loader,\"model4.pt\")"
      ],
      "execution_count": 0,
      "outputs": []
    },
    {
      "cell_type": "code",
      "metadata": {
        "id": "0tMvfVbqV597",
        "colab_type": "code",
        "outputId": "19b7919d-4a95-4106-ebe4-25fb1ee1fe06",
        "colab": {
          "base_uri": "https://localhost:8080/",
          "height": 1000
        }
      },
      "source": [
        "modelTuple = iter(withoutL1_L2_BN(),\n",
        "  withL1_BN())\n",
        " \n",
        "print(modelTuple.__next__())"
      ],
      "execution_count": 16,
      "outputs": [
        {
          "output_type": "stream",
          "text": [
            "\r  0%|          | 0/469 [00:00<?, ?it/s]"
          ],
          "name": "stderr"
        },
        {
          "output_type": "stream",
          "text": [
            "without L1 and L2 regularization with BN\n",
            "EPOCH: 1\n"
          ],
          "name": "stdout"
        },
        {
          "output_type": "stream",
          "text": [
            "Loss=0.05608420446515083 Batch_id=468 Accuracy=86.78: 100%|██████████| 469/469 [00:51<00:00,  9.09it/s]\n",
            "  0%|          | 0/469 [00:00<?, ?it/s]"
          ],
          "name": "stderr"
        },
        {
          "output_type": "stream",
          "text": [
            "Validation loss has  decreased (inf --> 0.0659).  Saving model ...\n",
            "\n",
            "Test set: Average loss: 0.0659, Accuracy: 9803/10000 (98.03%)\n",
            "\n",
            "EPOCH: 2\n"
          ],
          "name": "stdout"
        },
        {
          "output_type": "stream",
          "text": [
            "Loss=0.039588987827301025 Batch_id=468 Accuracy=97.58: 100%|██████████| 469/469 [00:51<00:00,  9.10it/s]\n",
            "  0%|          | 0/469 [00:00<?, ?it/s]"
          ],
          "name": "stderr"
        },
        {
          "output_type": "stream",
          "text": [
            "Validation loss has  decreased (0.0659 --> 0.0544).  Saving model ...\n",
            "\n",
            "Test set: Average loss: 0.0544, Accuracy: 9835/10000 (98.35%)\n",
            "\n",
            "EPOCH: 3\n"
          ],
          "name": "stdout"
        },
        {
          "output_type": "stream",
          "text": [
            "Loss=0.1356959044933319 Batch_id=468 Accuracy=98.19: 100%|██████████| 469/469 [00:51<00:00,  9.10it/s]\n",
            "  0%|          | 0/469 [00:00<?, ?it/s]"
          ],
          "name": "stderr"
        },
        {
          "output_type": "stream",
          "text": [
            "Validation loss has  decreased (0.0544 --> 0.0429).  Saving model ...\n",
            "\n",
            "Test set: Average loss: 0.0429, Accuracy: 9865/10000 (98.65%)\n",
            "\n",
            "EPOCH: 4\n"
          ],
          "name": "stdout"
        },
        {
          "output_type": "stream",
          "text": [
            "Loss=0.02966737560927868 Batch_id=468 Accuracy=98.30: 100%|██████████| 469/469 [00:51<00:00,  9.09it/s]\n",
            "  0%|          | 0/469 [00:00<?, ?it/s]"
          ],
          "name": "stderr"
        },
        {
          "output_type": "stream",
          "text": [
            "Validation loss has  decreased (0.0429 --> 0.0349).  Saving model ...\n",
            "\n",
            "Test set: Average loss: 0.0349, Accuracy: 9887/10000 (98.87%)\n",
            "\n",
            "EPOCH: 5\n"
          ],
          "name": "stdout"
        },
        {
          "output_type": "stream",
          "text": [
            "Loss=0.04642550274729729 Batch_id=468 Accuracy=98.46: 100%|██████████| 469/469 [00:51<00:00,  9.08it/s]\n",
            "  0%|          | 0/469 [00:00<?, ?it/s]"
          ],
          "name": "stderr"
        },
        {
          "output_type": "stream",
          "text": [
            "Validation loss has  decreased (0.0349 --> 0.0321).  Saving model ...\n",
            "\n",
            "Test set: Average loss: 0.0321, Accuracy: 9896/10000 (98.96%)\n",
            "\n",
            "EPOCH: 6\n"
          ],
          "name": "stdout"
        },
        {
          "output_type": "stream",
          "text": [
            "Loss=0.05052627623081207 Batch_id=468 Accuracy=98.65: 100%|██████████| 469/469 [00:51<00:00,  9.08it/s]\n",
            "  0%|          | 0/469 [00:00<?, ?it/s]"
          ],
          "name": "stderr"
        },
        {
          "output_type": "stream",
          "text": [
            "Validation loss has  decreased (0.0321 --> 0.0306).  Saving model ...\n",
            "\n",
            "Test set: Average loss: 0.0306, Accuracy: 9909/10000 (99.09%)\n",
            "\n",
            "EPOCH: 7\n"
          ],
          "name": "stdout"
        },
        {
          "output_type": "stream",
          "text": [
            "Loss=0.01638380065560341 Batch_id=468 Accuracy=98.79: 100%|██████████| 469/469 [00:51<00:00,  9.06it/s]\n",
            "  0%|          | 0/469 [00:00<?, ?it/s]"
          ],
          "name": "stderr"
        },
        {
          "output_type": "stream",
          "text": [
            "Validation loss has  decreased (0.0306 --> 0.0247).  Saving model ...\n",
            "\n",
            "Test set: Average loss: 0.0247, Accuracy: 9923/10000 (99.23%)\n",
            "\n",
            "EPOCH: 8\n"
          ],
          "name": "stdout"
        },
        {
          "output_type": "stream",
          "text": [
            "Loss=0.14775294065475464 Batch_id=468 Accuracy=98.91: 100%|██████████| 469/469 [00:55<00:00,  8.42it/s]\n",
            "  0%|          | 0/469 [00:00<?, ?it/s]"
          ],
          "name": "stderr"
        },
        {
          "output_type": "stream",
          "text": [
            "\n",
            "Test set: Average loss: 0.0271, Accuracy: 9917/10000 (99.17%)\n",
            "\n",
            "EPOCH: 9\n"
          ],
          "name": "stdout"
        },
        {
          "output_type": "stream",
          "text": [
            "Loss=0.013409181497991085 Batch_id=468 Accuracy=98.97: 100%|██████████| 469/469 [00:51<00:00,  9.06it/s]\n",
            "  0%|          | 0/469 [00:00<?, ?it/s]"
          ],
          "name": "stderr"
        },
        {
          "output_type": "stream",
          "text": [
            "Validation loss has  decreased (0.0247 --> 0.0236).  Saving model ...\n",
            "\n",
            "Test set: Average loss: 0.0236, Accuracy: 9927/10000 (99.27%)\n",
            "\n",
            "EPOCH: 10\n"
          ],
          "name": "stdout"
        },
        {
          "output_type": "stream",
          "text": [
            "Loss=0.07270278036594391 Batch_id=468 Accuracy=99.01: 100%|██████████| 469/469 [00:53<00:00,  8.77it/s]\n",
            "  0%|          | 0/469 [00:00<?, ?it/s]"
          ],
          "name": "stderr"
        },
        {
          "output_type": "stream",
          "text": [
            "Validation loss has  decreased (0.0236 --> 0.0225).  Saving model ...\n",
            "\n",
            "Test set: Average loss: 0.0225, Accuracy: 9935/10000 (99.35%)\n",
            "\n",
            "EPOCH: 11\n"
          ],
          "name": "stdout"
        },
        {
          "output_type": "stream",
          "text": [
            "Loss=0.04866015911102295 Batch_id=468 Accuracy=99.02: 100%|██████████| 469/469 [00:51<00:00,  9.08it/s]\n",
            "  0%|          | 0/469 [00:00<?, ?it/s]"
          ],
          "name": "stderr"
        },
        {
          "output_type": "stream",
          "text": [
            "\n",
            "Test set: Average loss: 0.0243, Accuracy: 9932/10000 (99.32%)\n",
            "\n",
            "EPOCH: 12\n"
          ],
          "name": "stdout"
        },
        {
          "output_type": "stream",
          "text": [
            "Loss=0.028463982045650482 Batch_id=468 Accuracy=99.11: 100%|██████████| 469/469 [00:51<00:00,  9.08it/s]\n",
            "  0%|          | 0/469 [00:00<?, ?it/s]"
          ],
          "name": "stderr"
        },
        {
          "output_type": "stream",
          "text": [
            "Validation loss has  decreased (0.0225 --> 0.0182).  Saving model ...\n",
            "\n",
            "Test set: Average loss: 0.0182, Accuracy: 9932/10000 (99.32%)\n",
            "\n",
            "EPOCH: 13\n"
          ],
          "name": "stdout"
        },
        {
          "output_type": "stream",
          "text": [
            "Loss=0.02963620238006115 Batch_id=468 Accuracy=99.22: 100%|██████████| 469/469 [00:51<00:00,  9.04it/s]\n",
            "  0%|          | 0/469 [00:00<?, ?it/s]"
          ],
          "name": "stderr"
        },
        {
          "output_type": "stream",
          "text": [
            "\n",
            "Test set: Average loss: 0.0212, Accuracy: 9941/10000 (99.41%)\n",
            "\n",
            "EPOCH: 14\n"
          ],
          "name": "stdout"
        },
        {
          "output_type": "stream",
          "text": [
            "Loss=0.010521366260945797 Batch_id=468 Accuracy=99.15: 100%|██████████| 469/469 [00:51<00:00,  9.08it/s]\n",
            "  0%|          | 0/469 [00:00<?, ?it/s]"
          ],
          "name": "stderr"
        },
        {
          "output_type": "stream",
          "text": [
            "\n",
            "Test set: Average loss: 0.0189, Accuracy: 9946/10000 (99.46%)\n",
            "\n",
            "EPOCH: 15\n"
          ],
          "name": "stdout"
        },
        {
          "output_type": "stream",
          "text": [
            "Loss=0.006668111775070429 Batch_id=468 Accuracy=99.23: 100%|██████████| 469/469 [00:51<00:00,  9.04it/s]\n",
            "  0%|          | 0/469 [00:00<?, ?it/s]"
          ],
          "name": "stderr"
        },
        {
          "output_type": "stream",
          "text": [
            "\n",
            "Test set: Average loss: 0.0197, Accuracy: 9940/10000 (99.40%)\n",
            "\n",
            "EPOCH: 16\n"
          ],
          "name": "stdout"
        },
        {
          "output_type": "stream",
          "text": [
            "Loss=0.029221242293715477 Batch_id=468 Accuracy=99.28: 100%|██████████| 469/469 [00:51<00:00,  9.06it/s]\n",
            "  0%|          | 0/469 [00:00<?, ?it/s]"
          ],
          "name": "stderr"
        },
        {
          "output_type": "stream",
          "text": [
            "Validation loss has  decreased (0.0182 --> 0.0179).  Saving model ...\n",
            "\n",
            "Test set: Average loss: 0.0179, Accuracy: 9941/10000 (99.41%)\n",
            "\n",
            "EPOCH: 17\n"
          ],
          "name": "stdout"
        },
        {
          "output_type": "stream",
          "text": [
            "Loss=0.03184843808412552 Batch_id=468 Accuracy=99.36: 100%|██████████| 469/469 [00:51<00:00,  9.04it/s]\n",
            "  0%|          | 0/469 [00:00<?, ?it/s]"
          ],
          "name": "stderr"
        },
        {
          "output_type": "stream",
          "text": [
            "\n",
            "Test set: Average loss: 0.0189, Accuracy: 9939/10000 (99.39%)\n",
            "\n",
            "EPOCH: 18\n"
          ],
          "name": "stdout"
        },
        {
          "output_type": "stream",
          "text": [
            "Loss=0.032407473772764206 Batch_id=468 Accuracy=99.34: 100%|██████████| 469/469 [00:51<00:00,  9.02it/s]\n",
            "  0%|          | 0/469 [00:00<?, ?it/s]"
          ],
          "name": "stderr"
        },
        {
          "output_type": "stream",
          "text": [
            "\n",
            "Test set: Average loss: 0.0185, Accuracy: 9943/10000 (99.43%)\n",
            "\n",
            "EPOCH: 19\n"
          ],
          "name": "stdout"
        },
        {
          "output_type": "stream",
          "text": [
            "Loss=0.001902501448057592 Batch_id=468 Accuracy=99.38: 100%|██████████| 469/469 [00:56<00:00,  8.36it/s]\n",
            "  0%|          | 0/469 [00:00<?, ?it/s]"
          ],
          "name": "stderr"
        },
        {
          "output_type": "stream",
          "text": [
            "Validation loss has  decreased (0.0179 --> 0.0155).  Saving model ...\n",
            "\n",
            "Test set: Average loss: 0.0155, Accuracy: 9955/10000 (99.55%)\n",
            "\n",
            "EPOCH: 20\n"
          ],
          "name": "stdout"
        },
        {
          "output_type": "stream",
          "text": [
            "Loss=0.0006009562057442963 Batch_id=468 Accuracy=99.42: 100%|██████████| 469/469 [00:51<00:00,  9.03it/s]\n",
            "  0%|          | 0/469 [00:00<?, ?it/s]"
          ],
          "name": "stderr"
        },
        {
          "output_type": "stream",
          "text": [
            "\n",
            "Test set: Average loss: 0.0157, Accuracy: 9949/10000 (99.49%)\n",
            "\n",
            "EPOCH: 21\n"
          ],
          "name": "stdout"
        },
        {
          "output_type": "stream",
          "text": [
            "Loss=0.005985513795167208 Batch_id=468 Accuracy=99.50: 100%|██████████| 469/469 [00:52<00:00,  8.98it/s]\n",
            "  0%|          | 0/469 [00:00<?, ?it/s]"
          ],
          "name": "stderr"
        },
        {
          "output_type": "stream",
          "text": [
            "\n",
            "Test set: Average loss: 0.0157, Accuracy: 9948/10000 (99.48%)\n",
            "\n",
            "EPOCH: 22\n"
          ],
          "name": "stdout"
        },
        {
          "output_type": "stream",
          "text": [
            "Loss=0.030001310631632805 Batch_id=468 Accuracy=99.50: 100%|██████████| 469/469 [00:52<00:00,  8.99it/s]\n",
            "  0%|          | 0/469 [00:00<?, ?it/s]"
          ],
          "name": "stderr"
        },
        {
          "output_type": "stream",
          "text": [
            "Validation loss has  decreased (0.0155 --> 0.0149).  Saving model ...\n",
            "\n",
            "Test set: Average loss: 0.0149, Accuracy: 9951/10000 (99.51%)\n",
            "\n",
            "EPOCH: 23\n"
          ],
          "name": "stdout"
        },
        {
          "output_type": "stream",
          "text": [
            "Loss=0.0010761319426819682 Batch_id=468 Accuracy=99.58: 100%|██████████| 469/469 [00:52<00:00,  8.99it/s]\n",
            "  0%|          | 0/469 [00:00<?, ?it/s]"
          ],
          "name": "stderr"
        },
        {
          "output_type": "stream",
          "text": [
            "Validation loss has  decreased (0.0149 --> 0.0144).  Saving model ...\n",
            "\n",
            "Test set: Average loss: 0.0144, Accuracy: 9952/10000 (99.52%)\n",
            "\n",
            "EPOCH: 24\n"
          ],
          "name": "stdout"
        },
        {
          "output_type": "stream",
          "text": [
            "Loss=0.0008390180300921202 Batch_id=468 Accuracy=99.60: 100%|██████████| 469/469 [00:52<00:00,  8.94it/s]\n",
            "  0%|          | 0/469 [00:00<?, ?it/s]"
          ],
          "name": "stderr"
        },
        {
          "output_type": "stream",
          "text": [
            "Validation loss has  decreased (0.0144 --> 0.0144).  Saving model ...\n",
            "\n",
            "Test set: Average loss: 0.0144, Accuracy: 9952/10000 (99.52%)\n",
            "\n",
            "EPOCH: 25\n"
          ],
          "name": "stdout"
        },
        {
          "output_type": "stream",
          "text": [
            "Loss=0.011766891926527023 Batch_id=468 Accuracy=99.61: 100%|██████████| 469/469 [00:52<00:00,  8.93it/s]\n"
          ],
          "name": "stderr"
        },
        {
          "output_type": "stream",
          "text": [
            "Validation loss has  decreased (0.0144 --> 0.0142).  Saving model ...\n",
            "\n",
            "Test set: Average loss: 0.0142, Accuracy: 9954/10000 (99.54%)\n",
            "\n"
          ],
          "name": "stdout"
        },
        {
          "output_type": "stream",
          "text": [
            "\r  0%|          | 0/469 [00:00<?, ?it/s]"
          ],
          "name": "stderr"
        },
        {
          "output_type": "stream",
          "text": [
            "with L1 regularization with BN\n",
            "EPOCH: 1\n"
          ],
          "name": "stdout"
        },
        {
          "output_type": "stream",
          "text": [
            "Loss=0.20811393857002258 Batch_id=468 Accuracy=87.34: 100%|██████████| 469/469 [00:53<00:00,  8.74it/s]\n",
            "  0%|          | 0/469 [00:00<?, ?it/s]"
          ],
          "name": "stderr"
        },
        {
          "output_type": "stream",
          "text": [
            "Validation loss has  decreased (inf --> 0.0713).  Saving model ...\n",
            "\n",
            "Test set: Average loss: 0.0713, Accuracy: 9770/10000 (97.70%)\n",
            "\n",
            "EPOCH: 2\n"
          ],
          "name": "stdout"
        },
        {
          "output_type": "stream",
          "text": [
            "Loss=0.03022330440580845 Batch_id=468 Accuracy=97.66: 100%|██████████| 469/469 [00:53<00:00,  8.75it/s]\n",
            "  0%|          | 0/469 [00:00<?, ?it/s]"
          ],
          "name": "stderr"
        },
        {
          "output_type": "stream",
          "text": [
            "Validation loss has  decreased (0.0713 --> 0.0480).  Saving model ...\n",
            "\n",
            "Test set: Average loss: 0.0480, Accuracy: 9842/10000 (98.42%)\n",
            "\n",
            "EPOCH: 3\n"
          ],
          "name": "stdout"
        },
        {
          "output_type": "stream",
          "text": [
            "Loss=0.027227189391851425 Batch_id=468 Accuracy=98.01: 100%|██████████| 469/469 [00:53<00:00,  8.83it/s]\n",
            "  0%|          | 0/469 [00:00<?, ?it/s]"
          ],
          "name": "stderr"
        },
        {
          "output_type": "stream",
          "text": [
            "Validation loss has  decreased (0.0480 --> 0.0424).  Saving model ...\n",
            "\n",
            "Test set: Average loss: 0.0424, Accuracy: 9865/10000 (98.65%)\n",
            "\n",
            "EPOCH: 4\n"
          ],
          "name": "stdout"
        },
        {
          "output_type": "stream",
          "text": [
            "Loss=0.128861665725708 Batch_id=468 Accuracy=98.39: 100%|██████████| 469/469 [00:53<00:00,  8.82it/s]\n",
            "  0%|          | 0/469 [00:00<?, ?it/s]"
          ],
          "name": "stderr"
        },
        {
          "output_type": "stream",
          "text": [
            "Validation loss has  decreased (0.0424 --> 0.0349).  Saving model ...\n",
            "\n",
            "Test set: Average loss: 0.0349, Accuracy: 9893/10000 (98.93%)\n",
            "\n",
            "EPOCH: 5\n"
          ],
          "name": "stdout"
        },
        {
          "output_type": "stream",
          "text": [
            "Loss=0.03580218553543091 Batch_id=468 Accuracy=98.48: 100%|██████████| 469/469 [00:53<00:00,  8.85it/s]\n",
            "  0%|          | 0/469 [00:00<?, ?it/s]"
          ],
          "name": "stderr"
        },
        {
          "output_type": "stream",
          "text": [
            "Validation loss has  decreased (0.0349 --> 0.0259).  Saving model ...\n",
            "\n",
            "Test set: Average loss: 0.0259, Accuracy: 9920/10000 (99.20%)\n",
            "\n",
            "EPOCH: 6\n"
          ],
          "name": "stdout"
        },
        {
          "output_type": "stream",
          "text": [
            "Loss=0.05995500087738037 Batch_id=468 Accuracy=98.64: 100%|██████████| 469/469 [00:53<00:00,  8.84it/s]\n",
            "  0%|          | 0/469 [00:00<?, ?it/s]"
          ],
          "name": "stderr"
        },
        {
          "output_type": "stream",
          "text": [
            "\n",
            "Test set: Average loss: 0.0278, Accuracy: 9912/10000 (99.12%)\n",
            "\n",
            "EPOCH: 7\n"
          ],
          "name": "stdout"
        },
        {
          "output_type": "stream",
          "text": [
            "Loss=0.022540412843227386 Batch_id=468 Accuracy=98.81: 100%|██████████| 469/469 [00:52<00:00,  8.85it/s]\n",
            "  0%|          | 0/469 [00:00<?, ?it/s]"
          ],
          "name": "stderr"
        },
        {
          "output_type": "stream",
          "text": [
            "Validation loss has  decreased (0.0259 --> 0.0233).  Saving model ...\n",
            "\n",
            "Test set: Average loss: 0.0233, Accuracy: 9927/10000 (99.27%)\n",
            "\n",
            "EPOCH: 8\n"
          ],
          "name": "stdout"
        },
        {
          "output_type": "stream",
          "text": [
            "Loss=0.0178462415933609 Batch_id=468 Accuracy=98.78: 100%|██████████| 469/469 [00:53<00:00,  8.82it/s]\n",
            "  0%|          | 0/469 [00:00<?, ?it/s]"
          ],
          "name": "stderr"
        },
        {
          "output_type": "stream",
          "text": [
            "\n",
            "Test set: Average loss: 0.0282, Accuracy: 9910/10000 (99.10%)\n",
            "\n",
            "EPOCH: 9\n"
          ],
          "name": "stdout"
        },
        {
          "output_type": "stream",
          "text": [
            "Loss=0.045783888548612595 Batch_id=468 Accuracy=98.92: 100%|██████████| 469/469 [00:53<00:00,  8.81it/s]\n",
            "  0%|          | 0/469 [00:00<?, ?it/s]"
          ],
          "name": "stderr"
        },
        {
          "output_type": "stream",
          "text": [
            "Validation loss has  decreased (0.0233 --> 0.0221).  Saving model ...\n",
            "\n",
            "Test set: Average loss: 0.0221, Accuracy: 9928/10000 (99.28%)\n",
            "\n",
            "EPOCH: 10\n"
          ],
          "name": "stdout"
        },
        {
          "output_type": "stream",
          "text": [
            "Loss=0.04365142434835434 Batch_id=468 Accuracy=98.94: 100%|██████████| 469/469 [00:53<00:00,  8.74it/s]\n",
            "  0%|          | 0/469 [00:00<?, ?it/s]"
          ],
          "name": "stderr"
        },
        {
          "output_type": "stream",
          "text": [
            "Validation loss has  decreased (0.0221 --> 0.0211).  Saving model ...\n",
            "\n",
            "Test set: Average loss: 0.0211, Accuracy: 9926/10000 (99.26%)\n",
            "\n",
            "EPOCH: 11\n"
          ],
          "name": "stdout"
        },
        {
          "output_type": "stream",
          "text": [
            "Loss=0.2043832242488861 Batch_id=468 Accuracy=98.98: 100%|██████████| 469/469 [00:53<00:00,  8.82it/s]\n",
            "  0%|          | 0/469 [00:00<?, ?it/s]"
          ],
          "name": "stderr"
        },
        {
          "output_type": "stream",
          "text": [
            "Validation loss has  decreased (0.0211 --> 0.0203).  Saving model ...\n",
            "\n",
            "Test set: Average loss: 0.0203, Accuracy: 9936/10000 (99.36%)\n",
            "\n",
            "EPOCH: 12\n"
          ],
          "name": "stdout"
        },
        {
          "output_type": "stream",
          "text": [
            "Loss=0.041984476149082184 Batch_id=468 Accuracy=99.09: 100%|██████████| 469/469 [00:52<00:00,  8.89it/s]\n",
            "  0%|          | 0/469 [00:00<?, ?it/s]"
          ],
          "name": "stderr"
        },
        {
          "output_type": "stream",
          "text": [
            "Validation loss has  decreased (0.0203 --> 0.0201).  Saving model ...\n",
            "\n",
            "Test set: Average loss: 0.0201, Accuracy: 9928/10000 (99.28%)\n",
            "\n",
            "EPOCH: 13\n"
          ],
          "name": "stdout"
        },
        {
          "output_type": "stream",
          "text": [
            "Loss=0.017880737781524658 Batch_id=468 Accuracy=99.07: 100%|██████████| 469/469 [00:53<00:00,  8.84it/s]\n",
            "  0%|          | 0/469 [00:00<?, ?it/s]"
          ],
          "name": "stderr"
        },
        {
          "output_type": "stream",
          "text": [
            "Validation loss has  decreased (0.0201 --> 0.0185).  Saving model ...\n",
            "\n",
            "Test set: Average loss: 0.0185, Accuracy: 9948/10000 (99.48%)\n",
            "\n",
            "EPOCH: 14\n"
          ],
          "name": "stdout"
        },
        {
          "output_type": "stream",
          "text": [
            "Loss=0.0838894173502922 Batch_id=468 Accuracy=99.19: 100%|██████████| 469/469 [00:53<00:00,  8.84it/s]\n",
            "  0%|          | 0/469 [00:00<?, ?it/s]"
          ],
          "name": "stderr"
        },
        {
          "output_type": "stream",
          "text": [
            "\n",
            "Test set: Average loss: 0.0201, Accuracy: 9933/10000 (99.33%)\n",
            "\n",
            "EPOCH: 15\n"
          ],
          "name": "stdout"
        },
        {
          "output_type": "stream",
          "text": [
            "Loss=0.014299916103482246 Batch_id=468 Accuracy=99.15: 100%|██████████| 469/469 [00:52<00:00,  8.89it/s]\n",
            "  0%|          | 0/469 [00:00<?, ?it/s]"
          ],
          "name": "stderr"
        },
        {
          "output_type": "stream",
          "text": [
            "\n",
            "Test set: Average loss: 0.0196, Accuracy: 9937/10000 (99.37%)\n",
            "\n",
            "EPOCH: 16\n"
          ],
          "name": "stdout"
        },
        {
          "output_type": "stream",
          "text": [
            "Loss=0.06564111262559891 Batch_id=468 Accuracy=99.18: 100%|██████████| 469/469 [00:52<00:00,  8.89it/s]\n",
            "  0%|          | 0/469 [00:00<?, ?it/s]"
          ],
          "name": "stderr"
        },
        {
          "output_type": "stream",
          "text": [
            "\n",
            "Test set: Average loss: 0.0202, Accuracy: 9941/10000 (99.41%)\n",
            "\n",
            "EPOCH: 17\n"
          ],
          "name": "stdout"
        },
        {
          "output_type": "stream",
          "text": [
            "Loss=0.037920571863651276 Batch_id=468 Accuracy=99.25: 100%|██████████| 469/469 [00:52<00:00,  8.93it/s]\n",
            "  0%|          | 0/469 [00:00<?, ?it/s]"
          ],
          "name": "stderr"
        },
        {
          "output_type": "stream",
          "text": [
            "\n",
            "Test set: Average loss: 0.0215, Accuracy: 9928/10000 (99.28%)\n",
            "\n",
            "EPOCH: 18\n"
          ],
          "name": "stdout"
        },
        {
          "output_type": "stream",
          "text": [
            "Loss=0.053474061191082 Batch_id=468 Accuracy=99.30: 100%|██████████| 469/469 [00:52<00:00,  8.92it/s]\n",
            "  0%|          | 0/469 [00:00<?, ?it/s]"
          ],
          "name": "stderr"
        },
        {
          "output_type": "stream",
          "text": [
            "Validation loss has  decreased (0.0185 --> 0.0180).  Saving model ...\n",
            "\n",
            "Test set: Average loss: 0.0180, Accuracy: 9945/10000 (99.45%)\n",
            "\n",
            "EPOCH: 19\n"
          ],
          "name": "stdout"
        },
        {
          "output_type": "stream",
          "text": [
            "Loss=0.01801721379160881 Batch_id=468 Accuracy=99.35: 100%|██████████| 469/469 [00:52<00:00,  8.92it/s]\n",
            "  0%|          | 0/469 [00:00<?, ?it/s]"
          ],
          "name": "stderr"
        },
        {
          "output_type": "stream",
          "text": [
            "Validation loss has  decreased (0.0180 --> 0.0169).  Saving model ...\n",
            "\n",
            "Test set: Average loss: 0.0169, Accuracy: 9942/10000 (99.42%)\n",
            "\n",
            "EPOCH: 20\n"
          ],
          "name": "stdout"
        },
        {
          "output_type": "stream",
          "text": [
            "Loss=0.027560267597436905 Batch_id=468 Accuracy=99.41: 100%|██████████| 469/469 [00:52<00:00,  8.99it/s]\n",
            "  0%|          | 0/469 [00:00<?, ?it/s]"
          ],
          "name": "stderr"
        },
        {
          "output_type": "stream",
          "text": [
            "\n",
            "Test set: Average loss: 0.0172, Accuracy: 9941/10000 (99.41%)\n",
            "\n",
            "EPOCH: 21\n"
          ],
          "name": "stdout"
        },
        {
          "output_type": "stream",
          "text": [
            "Loss=0.01305890642106533 Batch_id=468 Accuracy=99.50: 100%|██████████| 469/469 [00:52<00:00,  8.98it/s]\n",
            "  0%|          | 0/469 [00:00<?, ?it/s]"
          ],
          "name": "stderr"
        },
        {
          "output_type": "stream",
          "text": [
            "\n",
            "Test set: Average loss: 0.0174, Accuracy: 9939/10000 (99.39%)\n",
            "\n",
            "EPOCH: 22\n"
          ],
          "name": "stdout"
        },
        {
          "output_type": "stream",
          "text": [
            "Loss=0.03221691772341728 Batch_id=468 Accuracy=99.49: 100%|██████████| 469/469 [00:52<00:00,  8.96it/s]\n",
            "  0%|          | 0/469 [00:00<?, ?it/s]"
          ],
          "name": "stderr"
        },
        {
          "output_type": "stream",
          "text": [
            "Validation loss has  decreased (0.0169 --> 0.0159).  Saving model ...\n",
            "\n",
            "Test set: Average loss: 0.0159, Accuracy: 9944/10000 (99.44%)\n",
            "\n",
            "EPOCH: 23\n"
          ],
          "name": "stdout"
        },
        {
          "output_type": "stream",
          "text": [
            "Loss=0.013916132971644402 Batch_id=468 Accuracy=99.58: 100%|██████████| 469/469 [00:52<00:00,  9.00it/s]\n",
            "  0%|          | 0/469 [00:00<?, ?it/s]"
          ],
          "name": "stderr"
        },
        {
          "output_type": "stream",
          "text": [
            "Validation loss has  decreased (0.0159 --> 0.0150).  Saving model ...\n",
            "\n",
            "Test set: Average loss: 0.0150, Accuracy: 9951/10000 (99.51%)\n",
            "\n",
            "EPOCH: 24\n"
          ],
          "name": "stdout"
        },
        {
          "output_type": "stream",
          "text": [
            "Loss=0.018255075439810753 Batch_id=468 Accuracy=99.58: 100%|██████████| 469/469 [00:54<00:00,  8.61it/s]\n",
            "  0%|          | 0/469 [00:00<?, ?it/s]"
          ],
          "name": "stderr"
        },
        {
          "output_type": "stream",
          "text": [
            "Validation loss has  decreased (0.0150 --> 0.0148).  Saving model ...\n",
            "\n",
            "Test set: Average loss: 0.0148, Accuracy: 9950/10000 (99.50%)\n",
            "\n",
            "EPOCH: 25\n"
          ],
          "name": "stdout"
        },
        {
          "output_type": "stream",
          "text": [
            "Loss=0.014349337667226791 Batch_id=468 Accuracy=99.59: 100%|██████████| 469/469 [00:52<00:00,  8.88it/s]\n"
          ],
          "name": "stderr"
        },
        {
          "output_type": "stream",
          "text": [
            "\n",
            "Test set: Average loss: 0.0151, Accuracy: 9946/10000 (99.46%)\n",
            "\n"
          ],
          "name": "stdout"
        },
        {
          "output_type": "error",
          "ename": "TypeError",
          "evalue": "ignored",
          "traceback": [
            "\u001b[0;31m---------------------------------------------------------------------------\u001b[0m",
            "\u001b[0;31mTypeError\u001b[0m                                 Traceback (most recent call last)",
            "\u001b[0;32m<ipython-input-16-9019193df147>\u001b[0m in \u001b[0;36m<module>\u001b[0;34m()\u001b[0m\n\u001b[1;32m      1\u001b[0m modelTuple = iter(withoutL1_L2_BN(),\n\u001b[0;32m----> 2\u001b[0;31m   withL1_BN())\n\u001b[0m\u001b[1;32m      3\u001b[0m \u001b[0;34m\u001b[0m\u001b[0m\n\u001b[1;32m      4\u001b[0m \u001b[0mprint\u001b[0m\u001b[0;34m(\u001b[0m\u001b[0mmodelTuple\u001b[0m\u001b[0;34m.\u001b[0m\u001b[0m__next__\u001b[0m\u001b[0;34m(\u001b[0m\u001b[0;34m)\u001b[0m\u001b[0;34m)\u001b[0m\u001b[0;34m\u001b[0m\u001b[0;34m\u001b[0m\u001b[0m\n",
            "\u001b[0;31mTypeError\u001b[0m: iter(v, w): v must be callable"
          ]
        }
      ]
    },
    {
      "cell_type": "code",
      "metadata": {
        "id": "XxCvBWMd82Hm",
        "colab_type": "code",
        "colab": {
          "base_uri": "https://localhost:8080/",
          "height": 1000
        },
        "outputId": "0806c9e9-e224-4cc8-fcf8-8b5abe192781"
      },
      "source": [
        "modelTuple34 = iter(\n",
        "  withL2_BN(), \n",
        "  withL1_L2_BN())\n",
        " \n",
        "print(modelTuple34.__next__())"
      ],
      "execution_count": 17,
      "outputs": [
        {
          "output_type": "stream",
          "text": [
            "\r  0%|          | 0/469 [00:00<?, ?it/s]"
          ],
          "name": "stderr"
        },
        {
          "output_type": "stream",
          "text": [
            "with L2 regularization with BN\n",
            "EPOCH: 1\n"
          ],
          "name": "stdout"
        },
        {
          "output_type": "stream",
          "text": [
            "Loss=0.04426181688904762 Batch_id=468 Accuracy=86.92: 100%|██████████| 469/469 [00:51<00:00,  9.12it/s]\n",
            "  0%|          | 0/469 [00:00<?, ?it/s]"
          ],
          "name": "stderr"
        },
        {
          "output_type": "stream",
          "text": [
            "Validation loss has  decreased (inf --> 0.0632).  Saving model ...\n",
            "\n",
            "Test set: Average loss: 0.0632, Accuracy: 9811/10000 (98.11%)\n",
            "\n",
            "EPOCH: 2\n"
          ],
          "name": "stdout"
        },
        {
          "output_type": "stream",
          "text": [
            "Loss=0.07431154698133469 Batch_id=468 Accuracy=97.33: 100%|██████████| 469/469 [00:52<00:00,  8.97it/s]\n",
            "  0%|          | 0/469 [00:00<?, ?it/s]"
          ],
          "name": "stderr"
        },
        {
          "output_type": "stream",
          "text": [
            "Validation loss has  decreased (0.0632 --> 0.0558).  Saving model ...\n",
            "\n",
            "Test set: Average loss: 0.0558, Accuracy: 9818/10000 (98.18%)\n",
            "\n",
            "EPOCH: 3\n"
          ],
          "name": "stdout"
        },
        {
          "output_type": "stream",
          "text": [
            "Loss=0.14457176625728607 Batch_id=468 Accuracy=97.93: 100%|██████████| 469/469 [00:52<00:00,  8.93it/s]\n",
            "  0%|          | 0/469 [00:00<?, ?it/s]"
          ],
          "name": "stderr"
        },
        {
          "output_type": "stream",
          "text": [
            "\n",
            "Test set: Average loss: 0.0580, Accuracy: 9828/10000 (98.28%)\n",
            "\n",
            "EPOCH: 4\n"
          ],
          "name": "stdout"
        },
        {
          "output_type": "stream",
          "text": [
            "Loss=0.015478987246751785 Batch_id=468 Accuracy=98.23: 100%|██████████| 469/469 [00:52<00:00,  8.87it/s]\n",
            "  0%|          | 0/469 [00:00<?, ?it/s]"
          ],
          "name": "stderr"
        },
        {
          "output_type": "stream",
          "text": [
            "Validation loss has  decreased (0.0558 --> 0.0283).  Saving model ...\n",
            "\n",
            "Test set: Average loss: 0.0283, Accuracy: 9912/10000 (99.12%)\n",
            "\n",
            "EPOCH: 5\n"
          ],
          "name": "stdout"
        },
        {
          "output_type": "stream",
          "text": [
            "Loss=0.026651984080672264 Batch_id=468 Accuracy=98.44: 100%|██████████| 469/469 [00:53<00:00,  8.83it/s]\n",
            "  0%|          | 0/469 [00:00<?, ?it/s]"
          ],
          "name": "stderr"
        },
        {
          "output_type": "stream",
          "text": [
            "\n",
            "Test set: Average loss: 0.0377, Accuracy: 9884/10000 (98.84%)\n",
            "\n",
            "EPOCH: 6\n"
          ],
          "name": "stdout"
        },
        {
          "output_type": "stream",
          "text": [
            "Loss=0.03364824131131172 Batch_id=468 Accuracy=98.59: 100%|██████████| 469/469 [00:53<00:00,  8.80it/s]\n",
            "  0%|          | 0/469 [00:00<?, ?it/s]"
          ],
          "name": "stderr"
        },
        {
          "output_type": "stream",
          "text": [
            "\n",
            "Test set: Average loss: 0.0298, Accuracy: 9917/10000 (99.17%)\n",
            "\n",
            "EPOCH: 7\n"
          ],
          "name": "stdout"
        },
        {
          "output_type": "stream",
          "text": [
            "Loss=0.10339922457933426 Batch_id=468 Accuracy=98.70: 100%|██████████| 469/469 [00:53<00:00,  8.78it/s]\n",
            "  0%|          | 0/469 [00:00<?, ?it/s]"
          ],
          "name": "stderr"
        },
        {
          "output_type": "stream",
          "text": [
            "\n",
            "Test set: Average loss: 0.0310, Accuracy: 9905/10000 (99.05%)\n",
            "\n",
            "EPOCH: 8\n"
          ],
          "name": "stdout"
        },
        {
          "output_type": "stream",
          "text": [
            "Loss=0.09998714923858643 Batch_id=468 Accuracy=98.72: 100%|██████████| 469/469 [00:54<00:00,  8.64it/s]\n",
            "  0%|          | 0/469 [00:00<?, ?it/s]"
          ],
          "name": "stderr"
        },
        {
          "output_type": "stream",
          "text": [
            "\n",
            "Test set: Average loss: 0.0286, Accuracy: 9912/10000 (99.12%)\n",
            "\n",
            "EPOCH: 9\n"
          ],
          "name": "stdout"
        },
        {
          "output_type": "stream",
          "text": [
            "Loss=0.0593680776655674 Batch_id=468 Accuracy=98.89: 100%|██████████| 469/469 [00:57<00:00,  8.16it/s]\n",
            "  0%|          | 0/469 [00:00<?, ?it/s]"
          ],
          "name": "stderr"
        },
        {
          "output_type": "stream",
          "text": [
            "Validation loss has  decreased (0.0283 --> 0.0196).  Saving model ...\n",
            "\n",
            "Test set: Average loss: 0.0196, Accuracy: 9942/10000 (99.42%)\n",
            "\n",
            "EPOCH: 10\n"
          ],
          "name": "stdout"
        },
        {
          "output_type": "stream",
          "text": [
            "Loss=0.00815931148827076 Batch_id=468 Accuracy=99.00: 100%|██████████| 469/469 [00:53<00:00,  8.77it/s]\n",
            "  0%|          | 0/469 [00:00<?, ?it/s]"
          ],
          "name": "stderr"
        },
        {
          "output_type": "stream",
          "text": [
            "\n",
            "Test set: Average loss: 0.0237, Accuracy: 9924/10000 (99.24%)\n",
            "\n",
            "EPOCH: 11\n"
          ],
          "name": "stdout"
        },
        {
          "output_type": "stream",
          "text": [
            "Loss=0.011554107069969177 Batch_id=468 Accuracy=99.03: 100%|██████████| 469/469 [00:53<00:00,  8.79it/s]\n",
            "  0%|          | 0/469 [00:00<?, ?it/s]"
          ],
          "name": "stderr"
        },
        {
          "output_type": "stream",
          "text": [
            "\n",
            "Test set: Average loss: 0.0234, Accuracy: 9928/10000 (99.28%)\n",
            "\n",
            "EPOCH: 12\n"
          ],
          "name": "stdout"
        },
        {
          "output_type": "stream",
          "text": [
            "Loss=0.0037480490282177925 Batch_id=468 Accuracy=99.06: 100%|██████████| 469/469 [00:53<00:00,  8.80it/s]\n",
            "  0%|          | 0/469 [00:00<?, ?it/s]"
          ],
          "name": "stderr"
        },
        {
          "output_type": "stream",
          "text": [
            "\n",
            "Test set: Average loss: 0.0227, Accuracy: 9935/10000 (99.35%)\n",
            "\n",
            "EPOCH: 13\n"
          ],
          "name": "stdout"
        },
        {
          "output_type": "stream",
          "text": [
            "Loss=0.020969511941075325 Batch_id=468 Accuracy=99.04: 100%|██████████| 469/469 [00:53<00:00,  8.75it/s]\n",
            "  0%|          | 0/469 [00:00<?, ?it/s]"
          ],
          "name": "stderr"
        },
        {
          "output_type": "stream",
          "text": [
            "\n",
            "Test set: Average loss: 0.0215, Accuracy: 9935/10000 (99.35%)\n",
            "\n",
            "EPOCH: 14\n"
          ],
          "name": "stdout"
        },
        {
          "output_type": "stream",
          "text": [
            "Loss=0.008693043142557144 Batch_id=468 Accuracy=99.13: 100%|██████████| 469/469 [00:53<00:00,  8.75it/s]\n",
            "  0%|          | 0/469 [00:00<?, ?it/s]"
          ],
          "name": "stderr"
        },
        {
          "output_type": "stream",
          "text": [
            "Validation loss has  decreased (0.0196 --> 0.0191).  Saving model ...\n",
            "\n",
            "Test set: Average loss: 0.0191, Accuracy: 9941/10000 (99.41%)\n",
            "\n",
            "EPOCH: 15\n"
          ],
          "name": "stdout"
        },
        {
          "output_type": "stream",
          "text": [
            "Loss=0.006691120099276304 Batch_id=468 Accuracy=99.16: 100%|██████████| 469/469 [00:53<00:00,  8.76it/s]\n",
            "  0%|          | 0/469 [00:00<?, ?it/s]"
          ],
          "name": "stderr"
        },
        {
          "output_type": "stream",
          "text": [
            "Validation loss has  decreased (0.0191 --> 0.0189).  Saving model ...\n",
            "\n",
            "Test set: Average loss: 0.0189, Accuracy: 9945/10000 (99.45%)\n",
            "\n",
            "EPOCH: 16\n"
          ],
          "name": "stdout"
        },
        {
          "output_type": "stream",
          "text": [
            "Loss=0.052219465374946594 Batch_id=468 Accuracy=99.21: 100%|██████████| 469/469 [00:53<00:00,  8.82it/s]\n",
            "  0%|          | 0/469 [00:00<?, ?it/s]"
          ],
          "name": "stderr"
        },
        {
          "output_type": "stream",
          "text": [
            "Validation loss has  decreased (0.0189 --> 0.0172).  Saving model ...\n",
            "\n",
            "Test set: Average loss: 0.0172, Accuracy: 9950/10000 (99.50%)\n",
            "\n",
            "EPOCH: 17\n"
          ],
          "name": "stdout"
        },
        {
          "output_type": "stream",
          "text": [
            "Loss=0.0008571248617954552 Batch_id=468 Accuracy=99.25: 100%|██████████| 469/469 [00:53<00:00,  8.81it/s]\n",
            "  0%|          | 0/469 [00:00<?, ?it/s]"
          ],
          "name": "stderr"
        },
        {
          "output_type": "stream",
          "text": [
            "\n",
            "Test set: Average loss: 0.0193, Accuracy: 9940/10000 (99.40%)\n",
            "\n",
            "EPOCH: 18\n"
          ],
          "name": "stdout"
        },
        {
          "output_type": "stream",
          "text": [
            "Loss=0.008013940416276455 Batch_id=468 Accuracy=99.26: 100%|██████████| 469/469 [00:53<00:00,  8.83it/s]\n",
            "  0%|          | 0/469 [00:00<?, ?it/s]"
          ],
          "name": "stderr"
        },
        {
          "output_type": "stream",
          "text": [
            "\n",
            "Test set: Average loss: 0.0199, Accuracy: 9944/10000 (99.44%)\n",
            "\n",
            "EPOCH: 19\n"
          ],
          "name": "stdout"
        },
        {
          "output_type": "stream",
          "text": [
            "Loss=0.015085116028785706 Batch_id=468 Accuracy=99.33: 100%|██████████| 469/469 [00:53<00:00,  8.85it/s]\n",
            "  0%|          | 0/469 [00:00<?, ?it/s]"
          ],
          "name": "stderr"
        },
        {
          "output_type": "stream",
          "text": [
            "Validation loss has  decreased (0.0172 --> 0.0162).  Saving model ...\n",
            "\n",
            "Test set: Average loss: 0.0162, Accuracy: 9955/10000 (99.55%)\n",
            "\n",
            "EPOCH: 20\n"
          ],
          "name": "stdout"
        },
        {
          "output_type": "stream",
          "text": [
            "Loss=0.008174712769687176 Batch_id=468 Accuracy=99.41: 100%|██████████| 469/469 [00:57<00:00,  8.17it/s]\n",
            "  0%|          | 0/469 [00:00<?, ?it/s]"
          ],
          "name": "stderr"
        },
        {
          "output_type": "stream",
          "text": [
            "Validation loss has  decreased (0.0162 --> 0.0158).  Saving model ...\n",
            "\n",
            "Test set: Average loss: 0.0158, Accuracy: 9954/10000 (99.54%)\n",
            "\n",
            "EPOCH: 21\n"
          ],
          "name": "stdout"
        },
        {
          "output_type": "stream",
          "text": [
            "Loss=0.0058906301856040955 Batch_id=468 Accuracy=99.44: 100%|██████████| 469/469 [00:52<00:00,  8.89it/s]\n",
            "  0%|          | 0/469 [00:00<?, ?it/s]"
          ],
          "name": "stderr"
        },
        {
          "output_type": "stream",
          "text": [
            "\n",
            "Test set: Average loss: 0.0160, Accuracy: 9957/10000 (99.57%)\n",
            "\n",
            "EPOCH: 22\n"
          ],
          "name": "stdout"
        },
        {
          "output_type": "stream",
          "text": [
            "Loss=0.002381180180236697 Batch_id=468 Accuracy=99.48: 100%|██████████| 469/469 [00:52<00:00,  8.86it/s]\n",
            "  0%|          | 0/469 [00:00<?, ?it/s]"
          ],
          "name": "stderr"
        },
        {
          "output_type": "stream",
          "text": [
            "Validation loss has  decreased (0.0158 --> 0.0152).  Saving model ...\n",
            "\n",
            "Test set: Average loss: 0.0152, Accuracy: 9956/10000 (99.56%)\n",
            "\n",
            "EPOCH: 23\n"
          ],
          "name": "stdout"
        },
        {
          "output_type": "stream",
          "text": [
            "Loss=0.04819801449775696 Batch_id=468 Accuracy=99.51: 100%|██████████| 469/469 [00:52<00:00,  8.86it/s]\n",
            "  0%|          | 0/469 [00:00<?, ?it/s]"
          ],
          "name": "stderr"
        },
        {
          "output_type": "stream",
          "text": [
            "\n",
            "Test set: Average loss: 0.0159, Accuracy: 9956/10000 (99.56%)\n",
            "\n",
            "EPOCH: 24\n"
          ],
          "name": "stdout"
        },
        {
          "output_type": "stream",
          "text": [
            "Loss=0.031178519129753113 Batch_id=468 Accuracy=99.56: 100%|██████████| 469/469 [00:53<00:00,  8.83it/s]\n",
            "  0%|          | 0/469 [00:00<?, ?it/s]"
          ],
          "name": "stderr"
        },
        {
          "output_type": "stream",
          "text": [
            "Validation loss has  decreased (0.0152 --> 0.0151).  Saving model ...\n",
            "\n",
            "Test set: Average loss: 0.0151, Accuracy: 9958/10000 (99.58%)\n",
            "\n",
            "EPOCH: 25\n"
          ],
          "name": "stdout"
        },
        {
          "output_type": "stream",
          "text": [
            "Loss=0.03665750101208687 Batch_id=468 Accuracy=99.54: 100%|██████████| 469/469 [00:53<00:00,  8.84it/s]\n"
          ],
          "name": "stderr"
        },
        {
          "output_type": "stream",
          "text": [
            "\n",
            "Test set: Average loss: 0.0152, Accuracy: 9954/10000 (99.54%)\n",
            "\n"
          ],
          "name": "stdout"
        },
        {
          "output_type": "stream",
          "text": [
            "\r  0%|          | 0/469 [00:00<?, ?it/s]"
          ],
          "name": "stderr"
        },
        {
          "output_type": "stream",
          "text": [
            "with L1 & L2 regularization with BN\n",
            "EPOCH: 1\n"
          ],
          "name": "stdout"
        },
        {
          "output_type": "stream",
          "text": [
            "Loss=0.08165290206670761 Batch_id=468 Accuracy=87.69: 100%|██████████| 469/469 [00:54<00:00,  8.68it/s]\n",
            "  0%|          | 0/469 [00:00<?, ?it/s]"
          ],
          "name": "stderr"
        },
        {
          "output_type": "stream",
          "text": [
            "Validation loss has  decreased (inf --> 0.0777).  Saving model ...\n",
            "\n",
            "Test set: Average loss: 0.0777, Accuracy: 9752/10000 (97.52%)\n",
            "\n",
            "EPOCH: 2\n"
          ],
          "name": "stdout"
        },
        {
          "output_type": "stream",
          "text": [
            "Loss=0.020846568048000336 Batch_id=468 Accuracy=97.33: 100%|██████████| 469/469 [00:54<00:00,  8.62it/s]\n",
            "  0%|          | 0/469 [00:00<?, ?it/s]"
          ],
          "name": "stderr"
        },
        {
          "output_type": "stream",
          "text": [
            "Validation loss has  decreased (0.0777 --> 0.0418).  Saving model ...\n",
            "\n",
            "Test set: Average loss: 0.0418, Accuracy: 9858/10000 (98.58%)\n",
            "\n",
            "EPOCH: 3\n"
          ],
          "name": "stdout"
        },
        {
          "output_type": "stream",
          "text": [
            "Loss=0.2027573436498642 Batch_id=468 Accuracy=98.00: 100%|██████████| 469/469 [00:54<00:00,  8.68it/s]\n",
            "  0%|          | 0/469 [00:00<?, ?it/s]"
          ],
          "name": "stderr"
        },
        {
          "output_type": "stream",
          "text": [
            "Validation loss has  decreased (0.0418 --> 0.0375).  Saving model ...\n",
            "\n",
            "Test set: Average loss: 0.0375, Accuracy: 9881/10000 (98.81%)\n",
            "\n",
            "EPOCH: 4\n"
          ],
          "name": "stdout"
        },
        {
          "output_type": "stream",
          "text": [
            "Loss=0.028497181832790375 Batch_id=468 Accuracy=98.33: 100%|██████████| 469/469 [00:54<00:00,  8.68it/s]\n",
            "  0%|          | 0/469 [00:00<?, ?it/s]"
          ],
          "name": "stderr"
        },
        {
          "output_type": "stream",
          "text": [
            "\n",
            "Test set: Average loss: 0.0418, Accuracy: 9866/10000 (98.66%)\n",
            "\n",
            "EPOCH: 5\n"
          ],
          "name": "stdout"
        },
        {
          "output_type": "stream",
          "text": [
            "Loss=0.035168811678886414 Batch_id=468 Accuracy=98.43: 100%|██████████| 469/469 [00:54<00:00,  8.68it/s]\n",
            "  0%|          | 0/469 [00:00<?, ?it/s]"
          ],
          "name": "stderr"
        },
        {
          "output_type": "stream",
          "text": [
            "Validation loss has  decreased (0.0375 --> 0.0291).  Saving model ...\n",
            "\n",
            "Test set: Average loss: 0.0291, Accuracy: 9905/10000 (99.05%)\n",
            "\n",
            "EPOCH: 6\n"
          ],
          "name": "stdout"
        },
        {
          "output_type": "stream",
          "text": [
            "Loss=0.07115157693624496 Batch_id=468 Accuracy=98.62: 100%|██████████| 469/469 [00:57<00:00,  8.19it/s]\n",
            "  0%|          | 0/469 [00:00<?, ?it/s]"
          ],
          "name": "stderr"
        },
        {
          "output_type": "stream",
          "text": [
            "\n",
            "Test set: Average loss: 0.0299, Accuracy: 9911/10000 (99.11%)\n",
            "\n",
            "EPOCH: 7\n"
          ],
          "name": "stdout"
        },
        {
          "output_type": "stream",
          "text": [
            "Loss=0.03770828619599342 Batch_id=468 Accuracy=98.68: 100%|██████████| 469/469 [00:54<00:00,  8.66it/s]\n",
            "  0%|          | 0/469 [00:00<?, ?it/s]"
          ],
          "name": "stderr"
        },
        {
          "output_type": "stream",
          "text": [
            "\n",
            "Test set: Average loss: 0.0307, Accuracy: 9911/10000 (99.11%)\n",
            "\n",
            "EPOCH: 8\n"
          ],
          "name": "stdout"
        },
        {
          "output_type": "stream",
          "text": [
            "Loss=0.028997907415032387 Batch_id=468 Accuracy=98.70: 100%|██████████| 469/469 [00:54<00:00,  8.61it/s]\n",
            "  0%|          | 0/469 [00:00<?, ?it/s]"
          ],
          "name": "stderr"
        },
        {
          "output_type": "stream",
          "text": [
            "Validation loss has  decreased (0.0291 --> 0.0264).  Saving model ...\n",
            "\n",
            "Test set: Average loss: 0.0264, Accuracy: 9921/10000 (99.21%)\n",
            "\n",
            "EPOCH: 9\n"
          ],
          "name": "stdout"
        },
        {
          "output_type": "stream",
          "text": [
            "Loss=0.09175688773393631 Batch_id=468 Accuracy=98.84: 100%|██████████| 469/469 [00:54<00:00,  8.64it/s]\n",
            "  0%|          | 0/469 [00:00<?, ?it/s]"
          ],
          "name": "stderr"
        },
        {
          "output_type": "stream",
          "text": [
            "Validation loss has  decreased (0.0264 --> 0.0264).  Saving model ...\n",
            "\n",
            "Test set: Average loss: 0.0264, Accuracy: 9917/10000 (99.17%)\n",
            "\n",
            "EPOCH: 10\n"
          ],
          "name": "stdout"
        },
        {
          "output_type": "stream",
          "text": [
            "Loss=0.024484869092702866 Batch_id=468 Accuracy=98.96: 100%|██████████| 469/469 [00:54<00:00,  8.67it/s]\n",
            "  0%|          | 0/469 [00:00<?, ?it/s]"
          ],
          "name": "stderr"
        },
        {
          "output_type": "stream",
          "text": [
            "\n",
            "Test set: Average loss: 0.0271, Accuracy: 9911/10000 (99.11%)\n",
            "\n",
            "EPOCH: 11\n"
          ],
          "name": "stdout"
        },
        {
          "output_type": "stream",
          "text": [
            "Loss=0.02138129062950611 Batch_id=468 Accuracy=98.99: 100%|██████████| 469/469 [00:53<00:00,  8.71it/s]\n",
            "  0%|          | 0/469 [00:00<?, ?it/s]"
          ],
          "name": "stderr"
        },
        {
          "output_type": "stream",
          "text": [
            "Validation loss has  decreased (0.0264 --> 0.0241).  Saving model ...\n",
            "\n",
            "Test set: Average loss: 0.0241, Accuracy: 9927/10000 (99.27%)\n",
            "\n",
            "EPOCH: 12\n"
          ],
          "name": "stdout"
        },
        {
          "output_type": "stream",
          "text": [
            "Loss=0.08125250041484833 Batch_id=468 Accuracy=99.03: 100%|██████████| 469/469 [00:53<00:00,  8.69it/s]\n",
            "  0%|          | 0/469 [00:00<?, ?it/s]"
          ],
          "name": "stderr"
        },
        {
          "output_type": "stream",
          "text": [
            "Validation loss has  decreased (0.0241 --> 0.0237).  Saving model ...\n",
            "\n",
            "Test set: Average loss: 0.0237, Accuracy: 9931/10000 (99.31%)\n",
            "\n",
            "EPOCH: 13\n"
          ],
          "name": "stdout"
        },
        {
          "output_type": "stream",
          "text": [
            "Loss=0.023609306663274765 Batch_id=468 Accuracy=99.13: 100%|██████████| 469/469 [00:53<00:00,  8.71it/s]\n",
            "  0%|          | 0/469 [00:00<?, ?it/s]"
          ],
          "name": "stderr"
        },
        {
          "output_type": "stream",
          "text": [
            "Validation loss has  decreased (0.0237 --> 0.0230).  Saving model ...\n",
            "\n",
            "Test set: Average loss: 0.0230, Accuracy: 9930/10000 (99.30%)\n",
            "\n",
            "EPOCH: 14\n"
          ],
          "name": "stdout"
        },
        {
          "output_type": "stream",
          "text": [
            "Loss=0.041378844529390335 Batch_id=468 Accuracy=99.11: 100%|██████████| 469/469 [00:53<00:00,  8.75it/s]\n",
            "  0%|          | 0/469 [00:00<?, ?it/s]"
          ],
          "name": "stderr"
        },
        {
          "output_type": "stream",
          "text": [
            "Validation loss has  decreased (0.0230 --> 0.0200).  Saving model ...\n",
            "\n",
            "Test set: Average loss: 0.0200, Accuracy: 9930/10000 (99.30%)\n",
            "\n",
            "EPOCH: 15\n"
          ],
          "name": "stdout"
        },
        {
          "output_type": "stream",
          "text": [
            "Loss=0.01391465775668621 Batch_id=468 Accuracy=99.17: 100%|██████████| 469/469 [00:54<00:00,  8.62it/s]\n",
            "  0%|          | 0/469 [00:00<?, ?it/s]"
          ],
          "name": "stderr"
        },
        {
          "output_type": "stream",
          "text": [
            "\n",
            "Test set: Average loss: 0.0223, Accuracy: 9933/10000 (99.33%)\n",
            "\n",
            "EPOCH: 16\n"
          ],
          "name": "stdout"
        },
        {
          "output_type": "stream",
          "text": [
            "Loss=0.06121077015995979 Batch_id=468 Accuracy=99.22: 100%|██████████| 469/469 [00:56<00:00,  8.25it/s]\n",
            "  0%|          | 0/469 [00:00<?, ?it/s]"
          ],
          "name": "stderr"
        },
        {
          "output_type": "stream",
          "text": [
            "\n",
            "Test set: Average loss: 0.0216, Accuracy: 9934/10000 (99.34%)\n",
            "\n",
            "EPOCH: 17\n"
          ],
          "name": "stdout"
        },
        {
          "output_type": "stream",
          "text": [
            "Loss=0.06415257602930069 Batch_id=468 Accuracy=99.26: 100%|██████████| 469/469 [00:53<00:00,  8.73it/s]\n",
            "  0%|          | 0/469 [00:00<?, ?it/s]"
          ],
          "name": "stderr"
        },
        {
          "output_type": "stream",
          "text": [
            "\n",
            "Test set: Average loss: 0.0212, Accuracy: 9941/10000 (99.41%)\n",
            "\n",
            "EPOCH: 18\n"
          ],
          "name": "stdout"
        },
        {
          "output_type": "stream",
          "text": [
            "Loss=0.02575107291340828 Batch_id=468 Accuracy=99.27: 100%|██████████| 469/469 [00:53<00:00,  8.75it/s]\n",
            "  0%|          | 0/469 [00:00<?, ?it/s]"
          ],
          "name": "stderr"
        },
        {
          "output_type": "stream",
          "text": [
            "\n",
            "Test set: Average loss: 0.0223, Accuracy: 9934/10000 (99.34%)\n",
            "\n",
            "EPOCH: 19\n"
          ],
          "name": "stdout"
        },
        {
          "output_type": "stream",
          "text": [
            "Loss=0.05518069490790367 Batch_id=468 Accuracy=99.34: 100%|██████████| 469/469 [00:53<00:00,  8.71it/s]\n",
            "  0%|          | 0/469 [00:00<?, ?it/s]"
          ],
          "name": "stderr"
        },
        {
          "output_type": "stream",
          "text": [
            "\n",
            "Test set: Average loss: 0.0201, Accuracy: 9944/10000 (99.44%)\n",
            "\n",
            "EPOCH: 20\n"
          ],
          "name": "stdout"
        },
        {
          "output_type": "stream",
          "text": [
            "Loss=0.03318838030099869 Batch_id=468 Accuracy=99.40: 100%|██████████| 469/469 [00:53<00:00,  8.75it/s]\n",
            "  0%|          | 0/469 [00:00<?, ?it/s]"
          ],
          "name": "stderr"
        },
        {
          "output_type": "stream",
          "text": [
            "Validation loss has  decreased (0.0200 --> 0.0189).  Saving model ...\n",
            "\n",
            "Test set: Average loss: 0.0189, Accuracy: 9943/10000 (99.43%)\n",
            "\n",
            "EPOCH: 21\n"
          ],
          "name": "stdout"
        },
        {
          "output_type": "stream",
          "text": [
            "Loss=0.026138365268707275 Batch_id=468 Accuracy=99.46: 100%|██████████| 469/469 [00:53<00:00,  8.75it/s]\n",
            "  0%|          | 0/469 [00:00<?, ?it/s]"
          ],
          "name": "stderr"
        },
        {
          "output_type": "stream",
          "text": [
            "Validation loss has  decreased (0.0189 --> 0.0183).  Saving model ...\n",
            "\n",
            "Test set: Average loss: 0.0183, Accuracy: 9946/10000 (99.46%)\n",
            "\n",
            "EPOCH: 22\n"
          ],
          "name": "stdout"
        },
        {
          "output_type": "stream",
          "text": [
            "Loss=0.01289416290819645 Batch_id=468 Accuracy=99.50: 100%|██████████| 469/469 [00:53<00:00,  8.76it/s]\n",
            "  0%|          | 0/469 [00:00<?, ?it/s]"
          ],
          "name": "stderr"
        },
        {
          "output_type": "stream",
          "text": [
            "\n",
            "Test set: Average loss: 0.0187, Accuracy: 9949/10000 (99.49%)\n",
            "\n",
            "EPOCH: 23\n"
          ],
          "name": "stdout"
        },
        {
          "output_type": "stream",
          "text": [
            "Loss=0.015715468674898148 Batch_id=468 Accuracy=99.53: 100%|██████████| 469/469 [00:53<00:00,  8.78it/s]\n",
            "  0%|          | 0/469 [00:00<?, ?it/s]"
          ],
          "name": "stderr"
        },
        {
          "output_type": "stream",
          "text": [
            "Validation loss has  decreased (0.0183 --> 0.0171).  Saving model ...\n",
            "\n",
            "Test set: Average loss: 0.0171, Accuracy: 9951/10000 (99.51%)\n",
            "\n",
            "EPOCH: 24\n"
          ],
          "name": "stdout"
        },
        {
          "output_type": "stream",
          "text": [
            "Loss=0.014429428614675999 Batch_id=468 Accuracy=99.58: 100%|██████████| 469/469 [00:53<00:00,  8.81it/s]\n",
            "  0%|          | 0/469 [00:00<?, ?it/s]"
          ],
          "name": "stderr"
        },
        {
          "output_type": "stream",
          "text": [
            "\n",
            "Test set: Average loss: 0.0173, Accuracy: 9951/10000 (99.51%)\n",
            "\n",
            "EPOCH: 25\n"
          ],
          "name": "stdout"
        },
        {
          "output_type": "stream",
          "text": [
            "Loss=0.01476298738270998 Batch_id=468 Accuracy=99.61: 100%|██████████| 469/469 [00:53<00:00,  8.84it/s]\n"
          ],
          "name": "stderr"
        },
        {
          "output_type": "stream",
          "text": [
            "\n",
            "Test set: Average loss: 0.0173, Accuracy: 9950/10000 (99.50%)\n",
            "\n"
          ],
          "name": "stdout"
        },
        {
          "output_type": "error",
          "ename": "TypeError",
          "evalue": "ignored",
          "traceback": [
            "\u001b[0;31m---------------------------------------------------------------------------\u001b[0m",
            "\u001b[0;31mTypeError\u001b[0m                                 Traceback (most recent call last)",
            "\u001b[0;32m<ipython-input-17-0c87028c4a5d>\u001b[0m in \u001b[0;36m<module>\u001b[0;34m()\u001b[0m\n\u001b[1;32m      1\u001b[0m modelTuple34 = iter(\n\u001b[1;32m      2\u001b[0m   \u001b[0mwithL2_BN\u001b[0m\u001b[0;34m(\u001b[0m\u001b[0;34m)\u001b[0m\u001b[0;34m,\u001b[0m\u001b[0;34m\u001b[0m\u001b[0;34m\u001b[0m\u001b[0m\n\u001b[0;32m----> 3\u001b[0;31m   withL1_L2_BN())\n\u001b[0m\u001b[1;32m      4\u001b[0m \u001b[0;34m\u001b[0m\u001b[0m\n\u001b[1;32m      5\u001b[0m \u001b[0mprint\u001b[0m\u001b[0;34m(\u001b[0m\u001b[0mmodelTuple34\u001b[0m\u001b[0;34m.\u001b[0m\u001b[0m__next__\u001b[0m\u001b[0;34m(\u001b[0m\u001b[0;34m)\u001b[0m\u001b[0;34m)\u001b[0m\u001b[0;34m\u001b[0m\u001b[0;34m\u001b[0m\u001b[0m\n",
            "\u001b[0;31mTypeError\u001b[0m: iter(v, w): v must be callable"
          ]
        }
      ]
    },
    {
      "cell_type": "code",
      "metadata": {
        "id": "fcO1DJJCJw4G",
        "colab_type": "code",
        "colab": {}
      },
      "source": [
        "import matplotlib.pyplot as plt\n"
      ],
      "execution_count": 0,
      "outputs": []
    },
    {
      "cell_type": "code",
      "metadata": {
        "id": "T6M0s2Dgzh3D",
        "colab_type": "code",
        "colab": {
          "base_uri": "https://localhost:8080/",
          "height": 638
        },
        "outputId": "6c9c0e76-071c-4225-8f48-f2a06d6d60ab"
      },
      "source": [
        "# Validation Accuracy \n",
        "\n",
        "class accuracy_plot(Test_Train):\n",
        "\n",
        "  # a = Test_Train()\n",
        "  \n",
        "  def __init__(self):\n",
        "    plt.figure(figsize=(15, 10))\n",
        "    ax = plt.subplot(111)\n",
        "    ax.plot(acc1)\n",
        "    ax.plot(acc2)\n",
        "    ax.plot(acc3)\n",
        "    ax.plot(acc4)\n",
        "    ax.set(title=\"Model Validation Accuracy of 4 Models with Batch-Normalization\", xlabel=\"Epoch\", ylabel=\"Accuracy\")\n",
        "    ax.legend(['without L1 and L2', 'with L1', 'with L2', 'with L1 and L2'], loc='best')\n",
        "    plt.savefig(\"Accuracyof4modelswithBN.png\")\n",
        "    plt.show()\n",
        "\n",
        "\n",
        "b = accuracy_plot()\n",
        "b"
      ],
      "execution_count": 19,
      "outputs": [
        {
          "output_type": "display_data",
          "data": {
            "image/png": "[encoded data removed]",
            "text/plain": [
              "<Figure size 1080x720 with 1 Axes>"
            ]
          },
          "metadata": {
            "tags": [],
            "needs_background": "light"
          }
        },
        {
          "output_type": "execute_result",
          "data": {
            "text/plain": [
              "<__main__.accuracy_plot at 0x7fd7245a4c18>"
            ]
          },
          "metadata": {
            "tags": []
          },
          "execution_count": 19
        }
      ]
    },
    {
      "cell_type": "code",
      "metadata": {
        "id": "QMKKmrj3i7Rp",
        "colab_type": "code",
        "colab": {
          "base_uri": "https://localhost:8080/",
          "height": 638
        },
        "outputId": "0db05d83-138b-4c35-e48e-3e6ba9ce18b5"
      },
      "source": [
        "# Validation Loss\n",
        "\n",
        "class loss_plot(Test_Train):\n",
        "  def __init__(self):\n",
        "    plt.figure(figsize = (15,10))\n",
        "    ax = plt.subplot(111)\n",
        "    ax.plot(loss1)\n",
        "    ax.plot(loss2)\n",
        "    ax.plot(loss3)\n",
        "    ax.plot(loss4)\n",
        "    ax.set(title='Validation Losses of 4 Models with Batch-Normalization', xlabel='Epoch', ylabel = 'Loss')\n",
        "    ax.legend(['without L1 & L2', 'with L1', 'with L2', 'with L1 & L2'], loc = 'best')\n",
        "    plt.savefig('ValidationLossesBN.png')\n",
        "    plt.show()\n",
        "\n",
        "c = loss_plot()\n",
        "c"
      ],
      "execution_count": 20,
      "outputs": [
        {
          "output_type": "display_data",
          "data": {
            "image/png": "[encoded data removed]",
            "text/plain": [
              "<Figure size 1080x720 with 1 Axes>"
            ]
          },
          "metadata": {
            "tags": [],
            "needs_background": "light"
          }
        },
        {
          "output_type": "execute_result",
          "data": {
            "text/plain": [
              "<__main__.loss_plot at 0x7fd72454c518>"
            ]
          },
          "metadata": {
            "tags": []
          },
          "execution_count": 20
        }
      ]
    },
    {
      "cell_type": "code",
      "metadata": {
        "id": "OICF0DG90i_9",
        "colab_type": "code",
        "colab": {}
      },
      "source": [
        "# Misclassified Images\n",
        "\n",
        "from google.colab import files\n",
        "def misclassifiedOnes(model, filename):\n",
        "  model = model.to(device)\n",
        "  dataiter = iter(test_loader) \n",
        "  count = 0\n",
        "  fig = plt.figure(figsize=(13,13))\n",
        "\n",
        "  while count<25:\n",
        "      images, labels = dataiter.next()\n",
        "      images, labels = images.to(device), labels.to(device)\n",
        "    \n",
        "      output = model(images) \n",
        "      _, pred = torch.max(output, 1)   # convert output probabilities to predicted class\n",
        "      images = images.cpu().numpy() # conv images to numpy format\n",
        "\n",
        "      for idx in np.arange(128):\n",
        "        if pred[idx]!=labels[idx]:\n",
        "          ax = fig.add_subplot(5, 5, count+1, xticks=[], yticks=[])\n",
        "          count=count+1\n",
        "          ax.imshow(np.squeeze(images[idx]), cmap='cool')\n",
        "          ax.set_title(\"Pred-{} (Target-{})\".format(str(pred[idx].item()), str(labels[idx].item())), color=\"Black\")\n",
        "          if count==25:\n",
        "            break\n",
        "      plt.savefig(filename)\n",
        "  files.download(filename)\n",
        "\n",
        "   \n"
      ],
      "execution_count": 0,
      "outputs": []
    },
    {
      "cell_type": "code",
      "metadata": {
        "id": "7zP4BLLX9pvj",
        "colab_type": "code",
        "colab": {}
      },
      "source": [
        "print('Misclassifed Images from Model1')\n",
        "print('*'*30)\n",
        "\n",
        "model.load_state_dict(torch.load(\"model1.pt\")) \n",
        "misclassifiedOnes(model,'withoutL1_L2_BN.png')\n",
        "# save_image()"
      ],
      "execution_count": 0,
      "outputs": []
    },
    {
      "cell_type": "code",
      "metadata": {
        "id": "7cKehoUB9oiM",
        "colab_type": "code",
        "colab": {}
      },
      "source": [
        "print('Misclassifed Images from Model2')\n",
        "print('*'*30)\n",
        "\n",
        "model.load_state_dict(torch.load(\"model2.pt\")) \n",
        "misclassifiedOnes(model,'withL1_BN.png')"
      ],
      "execution_count": 0,
      "outputs": []
    },
    {
      "cell_type": "code",
      "metadata": {
        "id": "Lv6-KKco-EX2",
        "colab_type": "code",
        "colab": {}
      },
      "source": [
        "print('Misclassifed Images from Model3')\n",
        "print('*'*30)\n",
        "model.load_state_dict(torch.load(\"model3.pt\")) \n",
        "misclassifiedOnes(model,'withL2_BN.png')"
      ],
      "execution_count": 0,
      "outputs": []
    },
    {
      "cell_type": "code",
      "metadata": {
        "id": "oP7SN2Vo-FYm",
        "colab_type": "code",
        "colab": {}
      },
      "source": [
        "print('Misclassifed Images from Model4')\n",
        "print('*'*30)\n",
        "\n",
        "model.load_state_dict(torch.load(\"model4.pt\")) \n",
        "misclassifiedOnes(model,'withL1_L2_BN.png')"
      ],
      "execution_count": 0,
      "outputs": []
    },
    {
      "cell_type": "code",
      "metadata": {
        "id": "CBT4QhC9ITPe",
        "colab_type": "code",
        "colab": {}
      },
      "source": [
        "# DataLoaders\n",
        "\n",
        "class Dataloader:\n",
        "  def __init__(self, shuffle = True, batch_size = 64):\n",
        "      cuda = torch.cuda.is_available()\n",
        "      if cuda:\n",
        "        torch.cuda.manual_seed(seed)\n",
        "      self.dataloader_args = dict(shuffle=shuffle, batch_size=batch_size, num_workers=4, pin_memory=True) #if cuda else dict(shuffle=True, batch_size=64)\n",
        "\n",
        "  def dataset_loader(self, data):\n",
        "      return torch.utils.data.DataLoader(data, **self.dataloader_args) # **dataloader_args get passed when dataset_loader gets called\n",
        "\n",
        "\n",
        "dl = Dataloader()\n",
        "\n",
        "# train dataloader\n",
        "train_loader = dl.dataset_loader(train)\n",
        "\n",
        "# test dataloader\n",
        "test_loader = dl.dataset_loader(test)"
      ],
      "execution_count": 0,
      "outputs": []
    },
    {
      "cell_type": "code",
      "metadata": {
        "id": "YFeJZGTRFq8Y",
        "colab_type": "code",
        "colab": {}
      },
      "source": [
        "# Main Model with Ghost Batch Normalization\n",
        "# use diff batch size for GBN\n",
        "\n",
        "class Net(nn.Module):\n",
        "    def __init__(self):\n",
        "      super(Net, self).__init__()\n",
        "\n",
        "      # Conv Block1 \n",
        "      self.convblock1 = nn.Sequential(\n",
        "          nn.Conv2d(in_channels = 1, out_channels = 8, kernel_size = (3,3), padding = 0, bias = False), \n",
        "          nn.ReLU(),\n",
        "          GhostBatchNorm(8,2)) # O/P: 26\n",
        "      \n",
        "      # Conv Block2\n",
        "      self.convblock2 = nn.Sequential(\n",
        "          nn.Conv2d(in_channels = 8, out_channels = 10, kernel_size = (3,3), padding = 0, bias = False),\n",
        "          nn.ReLU(),\n",
        "          GhostBatchNorm(10,2)) # O/P: 24\n",
        "\n",
        "      # MaxPool Layer\n",
        "      self.maxpool = nn.Sequential(nn.MaxPool2d((2,2))) # O/P: 12\n",
        "\n",
        "      # ConvBlock 3\n",
        "      self.convblock3 = nn.Sequential(\n",
        "          nn.Conv2d(in_channels = 10, out_channels = 16, kernel_size = (3,3), padding = 0, bias = False),\n",
        "          nn.ReLU(),\n",
        "          GhostBatchNorm(16,2)) # O/P: 10\n",
        "      \n",
        "      \n",
        "      # ConvBlock 4\n",
        "      self.convblock4 = nn.Sequential(\n",
        "          nn.Conv2d(in_channels = 16, out_channels = 16, kernel_size = (3,3), padding = 0, bias = False),\n",
        "          nn.ReLU(),\n",
        "          GhostBatchNorm(16,2)) # O/P: 8\n",
        "      \n",
        "      # ConvBlock 5\n",
        "      self.convblock5 = nn.Sequential(\n",
        "          nn.Conv2d(in_channels = 16, out_channels = 16, kernel_size = (3,3), padding = 0, bias = False),\n",
        "          nn.ReLU(),\n",
        "          GhostBatchNorm(16,2)) # O/P: 6\n",
        "\n",
        "      # ConvBlock 6\n",
        "      self.convblock6 = nn.Sequential(\n",
        "          nn.Conv2d(in_channels = 16, out_channels = 16, kernel_size = (3,3), padding = 0,  bias = False))\n",
        "         \n",
        "\n",
        "    # GAP\n",
        "      self.gap = nn.Sequential(nn.AvgPool2d(4))\n",
        "\n",
        "    \n",
        "    # Last Layer\n",
        "      self.convblock9 = nn.Sequential(\n",
        "          nn.Conv2d(in_channels = 16, out_channels = 10, kernel_size = (1,1), padding = 0, bias = False))\n",
        "\n",
        "\n",
        "    # Dropout Layer\n",
        "      self.drop = nn.Sequential(nn.Dropout(0.08))\n",
        "\n",
        "\n",
        "\n",
        "    def forward(self,x):\n",
        "      x = self.convblock1(x)\n",
        "      x = self.drop(x)\n",
        "      x = self.convblock2(x)\n",
        "      x = self.drop(x)\n",
        "      x = self.maxpool(x)\n",
        "      x = self.convblock3(x)\n",
        "      x = self.drop(x)\n",
        "      x = self.convblock4(x)\n",
        "      x = self.drop(x)\n",
        "      x = self.convblock5(x)\n",
        "      # x = self.drop(x)\n",
        "      x = self.convblock6(x)\n",
        "      x = self.gap(x)\n",
        "      x = self.convblock9(x)\n",
        "     \n",
        "      x = x.view(-1, 10)\n",
        "      return F.log_softmax(x, dim = -1)\n",
        "      \n",
        "\n",
        "\n",
        "# Ghost Batch Normalization\n",
        "\n",
        "class BatchNorm(nn.BatchNorm2d):\n",
        "    def __init__(self, num_features, eps=1e-05, momentum=0.1, weight=True, bias=True):\n",
        "        super().__init__(num_features, eps=eps, momentum=momentum)\n",
        "        self.weight.data.fill_(1.0) # fill_() helps you filling up the tensor with a particular data\n",
        "        self.bias.data.fill_(0.0)\n",
        "        self.weight.requires_grad = weight\n",
        "        self.bias.requires_grad = bias\n",
        "\n",
        "\n",
        "class GhostBatchNorm(BatchNorm):\n",
        "    def __init__(self, num_features, num_splits, **kw):\n",
        "        super().__init__(num_features, **kw)\n",
        "        self.num_splits = num_splits\n",
        "        self.register_buffer('running_mean', torch.zeros(num_features * self.num_splits))\n",
        "        self.register_buffer('running_var', torch.ones(num_features * self.num_splits))\n",
        "    def train(self, mode=True):\n",
        "        if (self.training is True) and (mode is False):  # lazily collate stats when we are going to use them\n",
        "            self.running_mean = torch.mean(self.running_mean.view(self.num_splits, self.num_features), dim=0).repeat(\n",
        "                self.num_splits)\n",
        "            self.running_var = torch.mean(self.running_var.view(self.num_splits, self.num_features), dim=0).repeat(\n",
        "                self.num_splits)\n",
        "        return super().train(mode)\n",
        "    def forward(self, input):\n",
        "        N, C, H, W = input.shape\n",
        "        if self.training or not self.track_running_stats:\n",
        "            return F.batch_norm(\n",
        "                input.view(-1, C * self.num_splits, H, W), self.running_mean, self.running_var,\n",
        "                self.weight.repeat(self.num_splits), self.bias.repeat(self.num_splits),\n",
        "                True, self.momentum, self.eps).view(N, C, H, W)\n",
        "        else:\n",
        "            return F.batch_norm(\n",
        "                input, self.running_mean[:self.num_features], self.running_var[:self.num_features],\n",
        "                self.weight, self.bias, False, self.momentum, self.eps)\n",
        "\n",
        "\n"
      ],
      "execution_count": 0,
      "outputs": []
    },
    {
      "cell_type": "code",
      "metadata": {
        "id": "0qfJkTHtF0Kk",
        "colab_type": "code",
        "colab": {}
      },
      "source": [
        "# GBN Model Summary \n",
        "!pip install torchsummary\n",
        "from torchsummary import summary\n",
        "use_cuda = torch.cuda.is_available()\n",
        "device = torch.device(\"cuda\" if use_cuda else \"cpu\")\n",
        "modelGBN = Net().to(device)\n",
        "summary(modelGBN, input_size=(1, 28, 28))"
      ],
      "execution_count": 0,
      "outputs": []
    },
    {
      "cell_type": "code",
      "metadata": {
        "id": "sWFXRrRbLYHj",
        "colab_type": "code",
        "colab": {}
      },
      "source": [
        "from tqdm import tqdm\n",
        "import numpy as np\n",
        "\n",
        "class Test_Train():\n",
        "  def __init__(self):\n",
        "\n",
        "# # This is to hold all the values and plot some graphs to extract few good insights.\n",
        "    self.train_losses = []\n",
        "    self.test_losses = []\n",
        "    self.train_acc = []\n",
        "    self.test_acc = []\n",
        "    self.train_epoch_end = []\n",
        "    self.test_loss_min = np.inf # setting it to infinity(max value)\n",
        "    # when the test loss becomes min I will save the particular model\n",
        "\n",
        "\n",
        "  def train(self, model, device, train_loader, optimizer, epoch,scheduler, L1lambda=None):\n",
        "    model.train()    # prepare model for training\n",
        "    pbar = tqdm(train_loader)\n",
        "    correct = 0\n",
        "    processed = 0\n",
        "    for batch_idx, (data, target) in enumerate(pbar): # passing on data & target values to device\n",
        "      data, target = data.to(device), target.to(device)\n",
        "      optimizer.zero_grad()    # clear the gradients of all optimized variables\n",
        "      \n",
        "      # Predict\n",
        "      y_pred = model(data)   # forward pass\n",
        "\n",
        "      # Calculate loss\n",
        "      loss = F.nll_loss(y_pred, target)\n",
        "\n",
        "      #Implementing L1 Regularization\n",
        "      if L1lambda:\n",
        "        with torch.enable_grad():\n",
        "          l1_loss = 0.\n",
        "          for param in model.parameters():\n",
        "            l1_loss += torch.sum(param.abs())\n",
        "          loss += L1lambda * l1_loss\n",
        "\n",
        "      self.train_losses.append(loss)\n",
        "\n",
        "      # Backpropagation\n",
        "      loss.backward()   # backward pass: compute gradient of the loss with respect to model parameters\n",
        "      optimizer.step()   # perform a single optimization step (parameter update)\n",
        "\n",
        "      # Update pbar-tqdm\n",
        "    \n",
        "      pred = y_pred.argmax(dim=1, keepdim=True)  # get the index of the max log-probability\n",
        "      correct += pred.eq(target.view_as(pred)).sum().item()\n",
        "      processed += len(data)\n",
        "\n",
        "      pbar.set_description(desc= f'Loss={loss.item()} Batch_id={batch_idx} Accuracy={100*correct/processed:0.2f}')\n",
        "      self.train_acc.append(100*correct/processed)\n",
        "      scheduler.step()\n",
        "      self.train_epoch_end.append(self.train_acc[-1])\n",
        "\n",
        "\n",
        "  def test(self, model, device, test_loader,filename):\n",
        "      model.eval()  # prep model for evaluation\n",
        "      test_loss = 0\n",
        "      correct = 0\n",
        "      with torch.no_grad():\n",
        "          for data, target in test_loader:\n",
        "            data, target = data.to(device), target.to(device)\n",
        "            output = model(data)  # forward pass: compute predicted outputs by passing inputs to the model\n",
        "            test_loss += F.nll_loss(output, target, reduction='sum').item()  # sum up batch loss\n",
        "            pred = output.argmax(dim=1, keepdim=True)  # get the index of the max log-probability\n",
        "            correct += pred.eq(target.view_as(pred)).sum().item()\n",
        "\n",
        "      test_loss /= len(test_loader.dataset)\n",
        "      self.test_losses.append(test_loss)\n",
        "\n",
        "      # save model if validation loss has decreased\n",
        "      if test_loss <= self.test_loss_min:\n",
        "          print('Validation loss has  decreased ({:.4f} --> {:.4f}).  Saving model ...'.format(self.test_loss_min, test_loss))\n",
        "          torch.save(model.state_dict(), filename)\n",
        "          self.test_loss_min = test_loss\n",
        "\n",
        "\n",
        "      print('\\nTest set: Average loss: {:.4f}, Accuracy: {}/{} ({:.2f}%)\\n'.format(\n",
        "          test_loss, correct, len(test_loader.dataset),\n",
        "          100. * correct / len(test_loader.dataset)))\n",
        "    \n",
        "      self.test_acc.append(100. * correct / len(test_loader.dataset))"
      ],
      "execution_count": 0,
      "outputs": []
    },
    {
      "cell_type": "code",
      "metadata": {
        "id": "Lg-dCyNNtuYP",
        "colab_type": "code",
        "colab": {}
      },
      "source": [
        "# Model 5\n",
        "\n",
        "def withoutL1_L2_GBN():\n",
        "  model =  Net().to(device)\n",
        "  optimizer = optim.SGD(model.parameters(), lr=0.01, momentum=0.9)\n",
        "  scheduler = torch.optim.lr_scheduler.OneCycleLR(optimizer, max_lr=0.1, steps_per_epoch=len(train_loader), epochs=25)\n",
        "\n",
        "#first model\n",
        "  print('without L1 and L2 regularization with GBN')\n",
        "#without L1 and L2 regularization with GBN\n",
        "\n",
        "  model5= Test_Train()\n",
        "  global loss5\n",
        "  global acc5\n",
        "  loss5 = model5.test_losses\n",
        "  acc5 = model5.test_acc\n",
        "\n",
        "  EPOCHS = 25  \n",
        "  for epoch in range(1,EPOCHS+1):\n",
        "      print(\"EPOCH:\", epoch)\n",
        "      model5.train(model, device, train_loader, optimizer, epoch, scheduler)\n",
        "      model5.test(model, device, test_loader,\"model5.pt\")\n",
        "\n"
      ],
      "execution_count": 0,
      "outputs": []
    },
    {
      "cell_type": "code",
      "metadata": {
        "id": "tS3vjGdpt0Az",
        "colab_type": "code",
        "colab": {}
      },
      "source": [
        "# Model 6\n",
        "\n",
        "def withL1_GBN():\n",
        "  model =  Net().to(device)\n",
        "  optimizer = optim.SGD(model.parameters(), lr=0.01, momentum=0.9)\n",
        "  scheduler = torch.optim.lr_scheduler.OneCycleLR(optimizer, max_lr=0.1, steps_per_epoch=len(train_loader), epochs=25)\n",
        "\n",
        "#sixth model\n",
        "  print('with L1 regularization with GBN')\n",
        "#with L1 regularization with BN\n",
        "  model6 = Test_Train()\n",
        "  global loss6\n",
        "  global acc6\n",
        "  loss6 = model6.test_losses\n",
        "  acc6 = model6.test_acc\n",
        "\n",
        "  EPOCHS = 25\n",
        "  for epoch in range(1,EPOCHS+1):\n",
        "      print(\"EPOCH:\", epoch)\n",
        "      model6.train(model, device, train_loader, optimizer, epoch, scheduler, L1lambda = 1e-5)\n",
        "      model6.test(model, device, test_loader,\"model6.pt\")"
      ],
      "execution_count": 0,
      "outputs": []
    },
    {
      "cell_type": "code",
      "metadata": {
        "id": "KdXJFlOqt5KS",
        "colab_type": "code",
        "colab": {}
      },
      "source": [
        "\n",
        "def withL2_GBN():\n",
        "  model =  Net().to(device)\n",
        "  optimizer = optim.SGD(model.parameters(), lr=0.01, momentum=0.9,weight_decay=1e-5)\n",
        "  scheduler = torch.optim.lr_scheduler.OneCycleLR(optimizer, max_lr=0.1, steps_per_epoch=len(train_loader), epochs=25)\n",
        "\n",
        "#seventh model\n",
        "  print('with L2 regularization with GBN')\n",
        "#with L2 regularization \n",
        "  model7 = Test_Train()\n",
        "  global loss7\n",
        "  global acc7\n",
        "  loss7 = model7.test_losses\n",
        "  acc7 = model7.test_acc\n",
        "\n",
        "  EPOCHS = 25\n",
        "  for epoch in range(1,EPOCHS+1):\n",
        "      print(\"EPOCH:\", epoch)\n",
        "      model7.train(model, device, train_loader, optimizer, epoch, scheduler)\n",
        "      model7.test(model, device, test_loader,\"model7.pt\")"
      ],
      "execution_count": 0,
      "outputs": []
    },
    {
      "cell_type": "code",
      "metadata": {
        "id": "8-n0QJk7usul",
        "colab_type": "code",
        "colab": {}
      },
      "source": [
        "\n",
        "\n",
        "def withL1_L2_GBN():\n",
        "  model =  Net().to(device)\n",
        "  optimizer = optim.SGD(model.parameters(), lr=0.01, momentum=0.9,weight_decay=1e-4)\n",
        "  scheduler = torch.optim.lr_scheduler.OneCycleLR(optimizer, max_lr=0.1, steps_per_epoch=len(train_loader), epochs=25)\n",
        "\n",
        "#eighth  model\n",
        "  print('with L1 & L2 regularization with GBN')\n",
        "#with both L1 & L2 regularization with BN\n",
        "  model8 = Test_Train()\n",
        "  global loss8\n",
        "  global acc8\n",
        "  loss8 = model8.test_losses\n",
        "  acc8 = model8.test_acc\n",
        "\n",
        "  EPOCHS = 25\n",
        "  for epoch in range(1,EPOCHS+1):\n",
        "      print(\"EPOCH:\", epoch)\n",
        "      model8.train(model, device, train_loader, optimizer, epoch, scheduler, L1lambda = 1e-5)\n",
        "      model8.test(model, device, test_loader,\"model8.pt\")"
      ],
      "execution_count": 0,
      "outputs": []
    },
    {
      "cell_type": "markdown",
      "metadata": {
        "id": "WXYtko1vnIUa",
        "colab_type": "text"
      },
      "source": [
        "**Run all 4 models using an iterator**"
      ]
    },
    {
      "cell_type": "code",
      "metadata": {
        "id": "zUmZqAMNnHbw",
        "colab_type": "code",
        "colab": {}
      },
      "source": [
        "GBNmodelTuple5_6 = iter(withoutL1_L2_GBN(),\n",
        "  withL1_GBN())\n",
        "\n",
        "# But one problem we've split the this into two model5 & model6, model7 & model8\n",
        "\n",
        "print(GBNmodelTuple.__next__())"
      ],
      "execution_count": 0,
      "outputs": []
    },
    {
      "cell_type": "code",
      "metadata": {
        "id": "rVvWCUUzocy5",
        "colab_type": "code",
        "colab": {}
      },
      "source": [
        "GBNmodel7_8  = iter(withL2_GBN(),\n",
        "  withL1_L2_GBN())\n",
        "\n",
        "print(GBNmodel7_8.__next__())\n"
      ],
      "execution_count": 0,
      "outputs": []
    },
    {
      "cell_type": "code",
      "metadata": {
        "id": "0lSsqDF2ijXH",
        "colab_type": "code",
        "colab": {}
      },
      "source": [
        "# Validation Accuracy \n",
        "\n",
        "class accuracy_plot(Test_Train):\n",
        "\n",
        "  # a = Test_Train()\n",
        "  \n",
        "  def __init__(self):\n",
        "    plt.figure(figsize=(15, 10))\n",
        "    ax = plt.subplot(111)\n",
        "    ax.plot(acc5)\n",
        "    ax.plot(acc6)\n",
        "    ax.plot(acc7)\n",
        "    ax.plot(acc8)\n",
        "    ax.set(title=\"Model Validation Accuracy of 4 Models with Ghost-Batch Normalization\", xlabel=\"Epoch\", ylabel=\"Accuracy\")\n",
        "    ax.legend(['without L1 and L2', 'with L1', 'with L2', 'with L1 and L2'], loc='best')\n",
        "    plt.savefig(\"Accuracyof4modelswithGBN.png\")\n",
        "    plt.show()\n",
        "\n",
        "d = accuracy_plot()\n",
        "d\n",
        "\n"
      ],
      "execution_count": 0,
      "outputs": []
    },
    {
      "cell_type": "code",
      "metadata": {
        "id": "fyroIP2uijae",
        "colab_type": "code",
        "colab": {}
      },
      "source": [
        "# Validation Loss\n",
        "\n",
        "class loss_plot(Test_Train):\n",
        "  def __init__(self):\n",
        "    plt.figure(figsize = (15,10))\n",
        "    ax = plt.subplot(111)\n",
        "    ax.plot(loss5)\n",
        "    ax.plot(loss6)\n",
        "    ax.plot(loss7)\n",
        "    ax.plot(loss8)\n",
        "    ax.set(title='Validation Losses of 4 Models with Ghost-Batch-Normalization', xlabel='Epoch', ylabel = 'Loss')\n",
        "    ax.legend(['without L1 & L2', 'with L1', 'with L2', 'with L1 & L2'], loc = 'best')\n",
        "    plt.savefig('ValidationLossesGBN.png')\n",
        "    plt.show()\n",
        "\n",
        "e = loss_plot()\n",
        "e\n"
      ],
      "execution_count": 0,
      "outputs": []
    },
    {
      "cell_type": "code",
      "metadata": {
        "id": "lC7VFe3zvEBY",
        "colab_type": "code",
        "colab": {}
      },
      "source": [
        ""
      ],
      "execution_count": 0,
      "outputs": []
    },
    {
      "cell_type": "code",
      "metadata": {
        "id": "udQlgjEhvs4z",
        "colab_type": "code",
        "colab": {}
      },
      "source": [
        "print('Misclassifed Images from Model4')\n",
        "print('*'*30)\n",
        "\n",
        "model.load_state_dict(torch.load(\"model4.pt\")) \n",
        "misclassifiedOnes(model,'withoutL1_L2_GBN.png')"
      ],
      "execution_count": 0,
      "outputs": []
    },
    {
      "cell_type": "code",
      "metadata": {
        "id": "YP2S4Cp7vvdg",
        "colab_type": "code",
        "colab": {}
      },
      "source": [
        "print('Misclassifed Images from Model5')\n",
        "print('*'*30)\n",
        "\n",
        "model.load_state_dict(torch.load(\"model5.pt\")) \n",
        "misclassifiedOnes(model,'withL1_GBN.png')"
      ],
      "execution_count": 0,
      "outputs": []
    },
    {
      "cell_type": "code",
      "metadata": {
        "id": "T6W6t1uavwIF",
        "colab_type": "code",
        "colab": {}
      },
      "source": [
        "print('Misclassifed Images from Model7')\n",
        "print('*'*30)\n",
        "\n",
        "model.load_state_dict(torch.load(\"model7.pt\")) \n",
        "misclassifiedOnes(model,'withL2_GBN.png')"
      ],
      "execution_count": 0,
      "outputs": []
    },
    {
      "cell_type": "code",
      "metadata": {
        "id": "rEXr4Jyfvwdd",
        "colab_type": "code",
        "colab": {}
      },
      "source": [
        "print('Misclassifed Images from Model8')\n",
        "print('*'*30)\n",
        "\n",
        "model.load_state_dict(torch.load(\"model8.pt\")) \n",
        "misclassifiedOnes(model,'withL1_L2_GBN.png')"
      ],
      "execution_count": 0,
      "outputs": []
    },
    {
      "cell_type": "markdown",
      "metadata": {
        "id": "Km74sajUoqWn",
        "colab_type": "text"
      },
      "source": [
        "**Validation Accuracy Plot for BN & GBN Models**\n",
        "\n"
      ]
    },
    {
      "cell_type": "code",
      "metadata": {
        "id": "Ip8lwwAWopJC",
        "colab_type": "code",
        "colab": {}
      },
      "source": [
        "# Validation Accuracy \n",
        "\n",
        "class accuracy_plot(Test_Train):\n",
        "\n",
        "  # a = Test_Train()\n",
        "  \n",
        "  def __init__(self):\n",
        "    plt.figure(figsize=(15, 10))\n",
        "    ax = plt.subplot(111)\n",
        "    ax.plot(acc1)\n",
        "    ax.plot(acc2)\n",
        "    ax.plot(acc3)\n",
        "    ax.plot(acc4)\n",
        "    ax.plot(acc5)\n",
        "    ax.plot(acc6)\n",
        "    ax.plot(acc7)\n",
        "    ax.plot(acc8)\n",
        "    ax.set(title=\"Validation Accuracy for BN & GBN Models\", xlabel=\"Epoch\", ylabel=\"Accuracy\")\n",
        "    ax.legend(['without L1 and L2-BN', 'with L1-BN', 'with L2-BN', 'with L1 and L2-BN','without L1 and L2-GBN', 'with L1-GBN', 'with L2-GBN', 'with L1 and L2-GBN''], loc='best')\n",
        "    plt.savefig(\"Accuracyof4modelswithBN-GBN.png\")\n",
        "    plt.show()\n",
        "\n",
        "f = accuracy_plot()\n",
        "f\n"
      ],
      "execution_count": 0,
      "outputs": []
    },
    {
      "cell_type": "markdown",
      "metadata": {
        "id": "arh6_7QnpI3T",
        "colab_type": "text"
      },
      "source": [
        "**Validation Loss Plot for BN & GBN Models**\n"
      ]
    },
    {
      "cell_type": "code",
      "metadata": {
        "id": "HgDzEK3ApHr1",
        "colab_type": "code",
        "colab": {}
      },
      "source": [
        "# Validation Accuracy \n",
        "\n",
        "class accuracy_plot(Test_Train):\n",
        "\n",
        "  # a = Test_Train()\n",
        "  \n",
        "  def __init__(self):\n",
        "    plt.figure(figsize=(15, 10))\n",
        "    ax = plt.subplot(111)\n",
        "    ax.plot(acc1)\n",
        "    ax.plot(acc2)\n",
        "    ax.plot(acc3)\n",
        "    ax.plot(acc4)\n",
        "    ax.plot(acc5)\n",
        "    ax.plot(acc6)\n",
        "    ax.plot(acc7)\n",
        "    ax.plot(acc8)\n",
        "    ax.set(title=\"Validation Loss for BN & GBN Models\", xlabel=\"Epoch\", ylabel=\"Loss\")\n",
        "    ax.legend(['without L1 and L2-BN', 'with L1-BN', 'with L2-BN', 'with L1 and L2-BN','without L1 and L2-GBN', 'with L1-GBN', 'with L2-GBN', 'with L1 and L2-GBN''], loc='best')\n",
        "    plt.savefig(\"Accuracyof4modelswithBN-GBN.png\")\n",
        "    plt.show()\n",
        "\n",
        "g = accuracy_plot()\n",
        "g\n"
      ],
      "execution_count": 0,
      "outputs": []
    }
  ]
}