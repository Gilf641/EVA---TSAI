{
  "nbformat": 4,
  "nbformat_minor": 0,
  "metadata": {
    "colab": {
      "name": "OverKill_S5.ipynb",
      "provenance": [],
      "authorship_tag": "ABX9TyOkib9y7KboBucfjQ9hDYGr",
      "include_colab_link": true
    },
    "kernelspec": {
      "name": "python3",
      "display_name": "Python 3"
    }
  },
  "cells": [
    {
      "cell_type": "markdown",
      "metadata": {
        "id": "view-in-github",
        "colab_type": "text"
      },
      "source": [
        "<a href=\"https://colab.research.google.com/github/Gilf641/EVA4/blob/master/OverKill_S5.ipynb\" target=\"_parent\"><img src=\"https://colab.research.google.com/assets/colab-badge.svg\" alt=\"Open In Colab\"/></a>"
      ]
    },
    {
      "cell_type": "code",
      "metadata": {
        "id": "mbuWY7Vy68bi",
        "colab_type": "code",
        "colab": {}
      },
      "source": [
        "from __future__ import print_function\n",
        "import torch\n",
        "import torch.nn as nn\n",
        "import torch.nn.functional as F\n",
        "import torch.optim as optim\n",
        "from torchvision import datasets, transforms\n",
        "import matplotlib.pyplot as plt"
      ],
      "execution_count": 0,
      "outputs": []
    },
    {
      "cell_type": "code",
      "metadata": {
        "id": "JBLGRFW-7lq_",
        "colab_type": "code",
        "colab": {}
      },
      "source": [
        "# Train Phase transformations\n",
        "train_transforms = transforms.Compose([\n",
        "                                       transforms.RandomRotation((-7.0, 7.0), fill=(1,)),\n",
        "                                       transforms.ToTensor(),\n",
        "                                       transforms.Normalize((0.1307,), (0.3081,))\n",
        "                                       ])\n",
        "\n",
        "# Test Phase transformations\n",
        "test_transforms = transforms.Compose([\n",
        "                                       transforms.ToTensor(),\n",
        "                                       transforms.Normalize((0.1307,), (0.3081,))\n",
        "                                       ])\n",
        "\n"
      ],
      "execution_count": 0,
      "outputs": []
    },
    {
      "cell_type": "code",
      "metadata": {
        "id": "cy_yS6qQ9JzY",
        "colab_type": "code",
        "colab": {}
      },
      "source": [
        "train = datasets.MNIST('./data', train=True, download=True, transform=train_transforms)\n",
        "test = datasets.MNIST('./data', train=False, download=True, transform=test_transforms)\n"
      ],
      "execution_count": 0,
      "outputs": []
    },
    {
      "cell_type": "code",
      "metadata": {
        "id": "F0I9zAME9K1-",
        "colab_type": "code",
        "outputId": "642a72c8-aee9-402e-d891-be44e2902339",
        "colab": {
          "base_uri": "https://localhost:8080/",
          "height": 34
        }
      },
      "source": [
        "SEED = 1\n",
        "\n",
        "# CUDA?\n",
        "cuda = torch.cuda.is_available()\n",
        "print(\"CUDA Available?\", cuda)\n",
        "\n",
        "# For reproducibility\n",
        "torch.manual_seed(SEED)\n",
        "\n",
        "if cuda:\n",
        "    torch.cuda.manual_seed(SEED)\n",
        "\n",
        "# dataloader arguments - something you'll fetch these from cmdprmt\n",
        "dataloader_args = dict(shuffle=True, batch_size=128, num_workers=4, pin_memory=True) if cuda else dict(shuffle=True, batch_size=128)\n",
        "\n",
        "# train dataloader\n",
        "train_loader = torch.utils.data.DataLoader(train, **dataloader_args)\n",
        "\n",
        "# test dataloader\n",
        "test_loader = torch.utils.data.DataLoader(test, **dataloader_args)\n",
        "\n",
        "\n"
      ],
      "execution_count": 4,
      "outputs": [
        {
          "output_type": "stream",
          "text": [
            "CUDA Available? False\n"
          ],
          "name": "stdout"
        }
      ]
    },
    {
      "cell_type": "code",
      "metadata": {
        "id": "EvFPaYLVVqr-",
        "colab_type": "code",
        "colab": {}
      },
      "source": [
        "# Scratch Model\n",
        "class Net(nn.Module):\n",
        "    def __init__(self):\n",
        "      super(Net, self).__init__()\n",
        "\n",
        "      # Conv Block1 \n",
        "      self.convblock1 = nn.Sequential(\n",
        "          nn.Conv2d(in_channels = 1, out_channels = 10, kernel_size = (3,3), padding = 0, bias = False), \n",
        "          nn.ReLU(),\n",
        "          nn.BatchNorm2d(10)) # O/P: 26\n",
        "      \n",
        "      # Conv Block2\n",
        "      self.convblock2 = nn.Sequential(\n",
        "          nn.Conv2d(in_channels = 10, out_channels = 10, kernel_size = (3,3), padding = 0, bias = False),\n",
        "          nn.ReLU(),\n",
        "          nn.BatchNorm2d(10)) # O/P: 24\n",
        "      \n",
        "\n",
        "      # MaxPool Layer\n",
        "      self.maxpool = nn.Sequential(nn.MaxPool2d((2,2))) # O/P: 12\n",
        "\n",
        "      # ConvBlock 3\n",
        "      self.convblock3 = nn.Sequential(\n",
        "          nn.Conv2d(in_channels = 10, out_channels = 16, kernel_size = (1,1), padding = 0, bias = False),\n",
        "          nn.ReLU(),\n",
        "          nn.BatchNorm2d(16)) # O/P: 12\n",
        "      \n",
        "      \n",
        "      # ConvBlock 4\n",
        "      self.convblock4 = nn.Sequential(\n",
        "          nn.Conv2d(in_channels = 16, out_channels = 16, kernel_size = (3,3), padding = 0, bias = False),\n",
        "          nn.ReLU(),\n",
        "          nn.BatchNorm2d(16)) # O/P: 10\n",
        "      \n",
        "      # ConvBlock 5\n",
        "      self.convblock5 = nn.Sequential(\n",
        "          nn.Conv2d(in_channels = 16, out_channels = 16, kernel_size = (3,3), padding = 0, bias = False),\n",
        "          nn.ReLU(),\n",
        "          nn.BatchNorm2d(16)) # O/P: 8\n",
        "\n",
        "      # ConvBlock 6\n",
        "      self.convblock6 = nn.Sequential(\n",
        "          nn.Conv2d(in_channels = 16, out_channels = 10, kernel_size = (1,1), padding = 0,  bias = False),\n",
        "          nn.ReLU(),\n",
        "          nn.BatchNorm2d(10)) # O/P: 8\n",
        "\n",
        "\n",
        "    # ConvBlock 7\n",
        "      self.convblock7 = nn.Sequential(\n",
        "          nn.Conv2d(in_channels = 10, out_channels = 10, kernel_size = (3,3), padding = 0, bias = False),\n",
        "          nn.ReLU(),\n",
        "          nn.BatchNorm2d(10)) # O/P: 6\n",
        "\n",
        "\n",
        "    # # ConvBlock 8\n",
        "    #   self.convblock8 = nn.Sequential(\n",
        "    #       nn.Conv2d(in_channels = 16, out_channels = 16, kernel_size = (3,3), padding = 0, bias = False),\n",
        "    #       nn.ReLU(),\n",
        "    #       nn.BatchNorm2d(16)) # O/P: 6\n",
        "    \n",
        "\n",
        "    # GAP\n",
        "      self.gap = nn.Sequential(nn.AvgPool2d(6))\n",
        "\n",
        "    \n",
        "    # Last Layer\n",
        "      self.convblock8 = nn.Sequential(\n",
        "          nn.Conv2d(in_channels = 10, out_channels = 10, kernel_size = (1,1), padding = 0, bias = False))\n",
        "\n",
        "\n",
        "    # Dropout Layer\n",
        "      self.drop = nn.Sequential(nn.Dropout(0.1))\n",
        "\n",
        "\n",
        "\n",
        "    def forward(self,x):\n",
        "      x = self.convblock1(x)\n",
        "      x = self.drop(x)\n",
        "      x = self.convblock2(x)\n",
        "      x = self.drop(x)\n",
        "      x = self.maxpool(x)\n",
        "      x = self.convblock3(x)\n",
        "      x = self.drop(x)\n",
        "      x = self.convblock4(x)\n",
        "      x = self.drop(x)\n",
        "      x = self.convblock5(x)\n",
        "      x = self.drop(x)\n",
        "      x = self.convblock6(x)\n",
        "      # x = self.drop(x)\n",
        "      x = self.convblock7(x)\n",
        "      x = self.gap(x)\n",
        "      x = self.convblock8(x)\n",
        "     \n",
        "      x = x.view(-1, 10)\n",
        "      return F.log_softmax(x, dim = -1)"
      ],
      "execution_count": 0,
      "outputs": []
    },
    {
      "cell_type": "code",
      "metadata": {
        "id": "10XT3esq-p_j",
        "colab_type": "code",
        "outputId": "cb17df8e-a2cc-49e1-debf-55ce926be561",
        "colab": {
          "base_uri": "https://localhost:8080/",
          "height": 781
        }
      },
      "source": [
        "!pip install torchsummary\n",
        "from torchsummary import summary\n",
        "use_cuda = torch.cuda.is_available()\n",
        "device = torch.device(\"cuda\" if use_cuda else \"cpu\")\n",
        "print(device)\n",
        "model = Net().to(device)\n",
        "summary(model, input_size=(1, 28, 28))"
      ],
      "execution_count": 6,
      "outputs": [
        {
          "output_type": "stream",
          "text": [
            "Requirement already satisfied: torchsummary in /usr/local/lib/python3.6/dist-packages (1.5.1)\n",
            "cpu\n",
            "----------------------------------------------------------------\n",
            "        Layer (type)               Output Shape         Param #\n",
            "================================================================\n",
            "            Conv2d-1           [-1, 10, 26, 26]              90\n",
            "              ReLU-2           [-1, 10, 26, 26]               0\n",
            "       BatchNorm2d-3           [-1, 10, 26, 26]              20\n",
            "           Dropout-4           [-1, 10, 26, 26]               0\n",
            "            Conv2d-5           [-1, 10, 24, 24]             900\n",
            "              ReLU-6           [-1, 10, 24, 24]               0\n",
            "       BatchNorm2d-7           [-1, 10, 24, 24]              20\n",
            "           Dropout-8           [-1, 10, 24, 24]               0\n",
            "         MaxPool2d-9           [-1, 10, 12, 12]               0\n",
            "           Conv2d-10           [-1, 16, 12, 12]             160\n",
            "             ReLU-11           [-1, 16, 12, 12]               0\n",
            "      BatchNorm2d-12           [-1, 16, 12, 12]              32\n",
            "          Dropout-13           [-1, 16, 12, 12]               0\n",
            "           Conv2d-14           [-1, 16, 10, 10]           2,304\n",
            "             ReLU-15           [-1, 16, 10, 10]               0\n",
            "      BatchNorm2d-16           [-1, 16, 10, 10]              32\n",
            "          Dropout-17           [-1, 16, 10, 10]               0\n",
            "           Conv2d-18             [-1, 16, 8, 8]           2,304\n",
            "             ReLU-19             [-1, 16, 8, 8]               0\n",
            "      BatchNorm2d-20             [-1, 16, 8, 8]              32\n",
            "          Dropout-21             [-1, 16, 8, 8]               0\n",
            "           Conv2d-22             [-1, 10, 8, 8]             160\n",
            "             ReLU-23             [-1, 10, 8, 8]               0\n",
            "      BatchNorm2d-24             [-1, 10, 8, 8]              20\n",
            "           Conv2d-25             [-1, 10, 6, 6]             900\n",
            "             ReLU-26             [-1, 10, 6, 6]               0\n",
            "      BatchNorm2d-27             [-1, 10, 6, 6]              20\n",
            "        AvgPool2d-28             [-1, 10, 1, 1]               0\n",
            "           Conv2d-29             [-1, 10, 1, 1]             100\n",
            "================================================================\n",
            "Total params: 7,094\n",
            "Trainable params: 7,094\n",
            "Non-trainable params: 0\n",
            "----------------------------------------------------------------\n",
            "Input size (MB): 0.00\n",
            "Forward/backward pass size (MB): 0.57\n",
            "Params size (MB): 0.03\n",
            "Estimated Total Size (MB): 0.60\n",
            "----------------------------------------------------------------\n"
          ],
          "name": "stdout"
        }
      ]
    },
    {
      "cell_type": "code",
      "metadata": {
        "id": "3PvhNV8GAy3e",
        "colab_type": "code",
        "colab": {}
      },
      "source": [
        "from tqdm import tqdm\n",
        "\n",
        "train_losses = []\n",
        "test_losses = []\n",
        "train_acc = []\n",
        "test_acc = []\n",
        "train_acc_epoch = []\n",
        "\n",
        "def train(model, device, train_loader, optimizer, epoch):\n",
        "  model.train()\n",
        "  pbar = tqdm(train_loader)\n",
        "  correct = 0\n",
        "  processed = 0\n",
        "  for batch_idx, (data, target) in enumerate(pbar):\n",
        "    # get samples\n",
        "    data, target = data.to(device), target.to(device)\n",
        "\n",
        "    # Init\n",
        "    optimizer.zero_grad()\n",
        "    # In PyTorch, we need to set the gradients to zero before starting to do backpropragation because PyTorch accumulates the gradients on subsequent backward passes. \n",
        "    # Because of this, when you start your training loop, ideally you should zero out the gradients so that you do the parameter update correctly.\n",
        "\n",
        "    # Predict\n",
        "    y_pred = model(data)\n",
        "\n",
        "    # Calculate loss\n",
        "    loss = F.nll_loss(y_pred, target)\n",
        "    train_losses.append(loss)\n",
        "\n",
        "    # Backpropagation\n",
        "    loss.backward()\n",
        "    optimizer.step()\n",
        "\n",
        "    # Update pbar-tqdm\n",
        "    # in view() method the shape of the desired output tensor is to be passed in as the parameter,\n",
        "    # whereas in view_as() a tensor whose shape is to be mimicked it passed.\n",
        "    # tensor.view_as(other) is equivalent to tensor.view(other.size())\n",
        "    \n",
        "    pred = y_pred.argmax(dim=1, keepdim=True)  # get the index of the max log-probability\n",
        "    correct += pred.eq(target.view_as(pred)).sum().item()\n",
        "    processed += len(data)\n",
        "\n",
        "    pbar.set_description(desc= f'Loss={loss.item()} Batch_id={batch_idx} Train Accuracy={100*correct/processed:0.2f}')\n",
        "    train_acc.append(100*correct/processed)\n",
        "    if batch_idx == 468:\n",
        "      train_acc_epoch.append(100*correct/processed)\n",
        "\n",
        "def test(model, device, test_loader):\n",
        "    model.eval()\n",
        "    test_loss = 0\n",
        "    correct = 0\n",
        "    with torch.no_grad():\n",
        "        for data, target in test_loader:\n",
        "            data, target = data.to(device), target.to(device)\n",
        "            output = model(data)\n",
        "            test_loss += F.nll_loss(output, target, reduction='sum').item()  # sum up batch loss\n",
        "            pred = output.argmax(dim=1, keepdim=True)  # get the index of the max log-probability\n",
        "            correct += pred.eq(target.view_as(pred)).sum().item()\n",
        "\n",
        "    test_loss /= len(test_loader.dataset)\n",
        "    test_losses.append(test_loss)\n",
        "\n",
        "    print('\\nTest set: Average loss: {:.4f}, Test Accuracy: {}/{} ({:.2f}%)\\n'.format(\n",
        "        test_loss, correct, len(test_loader.dataset),\n",
        "        100. * correct / len(test_loader.dataset)))\n",
        "    \n",
        "    test_acc.append(100. * correct / len(test_loader.dataset))\n"
      ],
      "execution_count": 0,
      "outputs": []
    },
    {
      "cell_type": "code",
      "metadata": {
        "id": "NJh4v2mRA38o",
        "colab_type": "code",
        "outputId": "492db964-55e0-4769-ec76-99e15f0f1559",
        "colab": {
          "base_uri": "https://localhost:8080/",
          "height": 799
        }
      },
      "source": [
        "# Optimization and Testing\n",
        "from torch.optim.lr_scheduler import CyclicLR\n",
        "\n",
        "\n",
        "model = Net().to(device)\n",
        "optimizer = optim.SGD(model.parameters(), lr=0.01, momentum=0.9)\n",
        "# scheduler = ReduceLROnPlateau(optimizer, 'min')\n",
        "# scheduler = CyclicLR(optimizer, base_lr=0.01, max_lr=0.1)\n",
        "scheduler = StepLR(optimizer, step_size=4, gamma=0.5) # Consistent with 99.3% Accuracy\n",
        "\n",
        "\n",
        "for epoch in range(1, 10):\n",
        "    print('EPOCH: ',epoch)\n",
        "    train(model, device, train_loader, optimizer, epoch)\n",
        "    scheduler.step()\n",
        "    test(model, device, test_loader)\n",
        "\n"
      ],
      "execution_count": 9,
      "outputs": [
        {
          "output_type": "stream",
          "text": [
            "\r  0%|          | 0/469 [00:00<?, ?it/s]"
          ],
          "name": "stderr"
        },
        {
          "output_type": "stream",
          "text": [
            "EPOCH:  1\n"
          ],
          "name": "stdout"
        },
        {
          "output_type": "stream",
          "text": [
            "Loss=0.23531551659107208 Batch_id=468 Train Accuracy=81.30: 100%|██████████| 469/469 [01:15<00:00,  6.20it/s]\n",
            "Loss=0.15554283559322357 Batch_id=0 Train Accuracy=96.09:   0%|          | 1/469 [00:00<01:13,  6.34it/s]"
          ],
          "name": "stderr"
        },
        {
          "output_type": "stream",
          "text": [
            "\n",
            "Test set: Average loss: 0.1632, Test Accuracy: 9563/10000 (95.63%)\n",
            "\n",
            "EPOCH:  2\n"
          ],
          "name": "stdout"
        },
        {
          "output_type": "stream",
          "text": [
            "Loss=0.1123400554060936 Batch_id=468 Train Accuracy=96.31: 100%|██████████| 469/469 [01:14<00:00,  6.27it/s]\n",
            "Loss=0.059142451733350754 Batch_id=0 Train Accuracy=97.66:   0%|          | 1/469 [00:00<01:18,  5.93it/s]"
          ],
          "name": "stderr"
        },
        {
          "output_type": "stream",
          "text": [
            "\n",
            "Test set: Average loss: 0.0629, Test Accuracy: 9823/10000 (98.23%)\n",
            "\n",
            "EPOCH:  3\n"
          ],
          "name": "stdout"
        },
        {
          "output_type": "stream",
          "text": [
            "Loss=0.029324034228920937 Batch_id=468 Train Accuracy=97.06: 100%|██████████| 469/469 [01:14<00:00,  6.26it/s]\n",
            "Loss=0.08371467888355255 Batch_id=0 Train Accuracy=97.66:   0%|          | 1/469 [00:00<01:19,  5.87it/s]"
          ],
          "name": "stderr"
        },
        {
          "output_type": "stream",
          "text": [
            "\n",
            "Test set: Average loss: 0.0476, Test Accuracy: 9856/10000 (98.56%)\n",
            "\n",
            "EPOCH:  4\n"
          ],
          "name": "stdout"
        },
        {
          "output_type": "stream",
          "text": [
            "Loss=0.09934893995523453 Batch_id=468 Train Accuracy=97.50: 100%|██████████| 469/469 [01:15<00:00,  6.24it/s]\n",
            "Loss=0.10319016128778458 Batch_id=0 Train Accuracy=96.88:   0%|          | 1/469 [00:00<01:20,  5.81it/s]"
          ],
          "name": "stderr"
        },
        {
          "output_type": "stream",
          "text": [
            "\n",
            "Test set: Average loss: 0.0437, Test Accuracy: 9867/10000 (98.67%)\n",
            "\n",
            "EPOCH:  5\n"
          ],
          "name": "stdout"
        },
        {
          "output_type": "stream",
          "text": [
            "Loss=0.044732045382261276 Batch_id=468 Train Accuracy=97.82: 100%|██████████| 469/469 [01:15<00:00,  6.19it/s]\n",
            "Loss=0.07623560726642609 Batch_id=0 Train Accuracy=97.66:   0%|          | 1/469 [00:00<01:17,  6.07it/s]"
          ],
          "name": "stderr"
        },
        {
          "output_type": "stream",
          "text": [
            "\n",
            "Test set: Average loss: 0.0526, Test Accuracy: 9838/10000 (98.38%)\n",
            "\n",
            "EPOCH:  6\n"
          ],
          "name": "stdout"
        },
        {
          "output_type": "stream",
          "text": [
            "Loss=0.032031863927841187 Batch_id=468 Train Accuracy=97.96: 100%|██████████| 469/469 [01:21<00:00,  5.78it/s]\n",
            "Loss=0.08569233864545822 Batch_id=0 Train Accuracy=97.66:   0%|          | 1/469 [00:00<01:20,  5.78it/s]"
          ],
          "name": "stderr"
        },
        {
          "output_type": "stream",
          "text": [
            "\n",
            "Test set: Average loss: 0.0374, Test Accuracy: 9881/10000 (98.81%)\n",
            "\n",
            "EPOCH:  7\n"
          ],
          "name": "stdout"
        },
        {
          "output_type": "stream",
          "text": [
            "Loss=0.10824111849069595 Batch_id=468 Train Accuracy=98.11: 100%|██████████| 469/469 [01:18<00:00,  5.99it/s]\n",
            "Loss=0.09767599403858185 Batch_id=0 Train Accuracy=97.66:   0%|          | 1/469 [00:00<01:25,  5.49it/s]"
          ],
          "name": "stderr"
        },
        {
          "output_type": "stream",
          "text": [
            "\n",
            "Test set: Average loss: 0.0319, Test Accuracy: 9914/10000 (99.14%)\n",
            "\n",
            "EPOCH:  8\n"
          ],
          "name": "stdout"
        },
        {
          "output_type": "stream",
          "text": [
            "Loss=0.10039296746253967 Batch_id=468 Train Accuracy=98.20: 100%|██████████| 469/469 [01:17<00:00,  6.05it/s]\n",
            "Loss=0.040913231670856476 Batch_id=0 Train Accuracy=99.22:   0%|          | 1/469 [00:00<01:19,  5.92it/s]"
          ],
          "name": "stderr"
        },
        {
          "output_type": "stream",
          "text": [
            "\n",
            "Test set: Average loss: 0.0341, Test Accuracy: 9888/10000 (98.88%)\n",
            "\n",
            "EPOCH:  9\n"
          ],
          "name": "stdout"
        },
        {
          "output_type": "stream",
          "text": [
            "Loss=0.027677765116095543 Batch_id=468 Train Accuracy=98.33: 100%|██████████| 469/469 [01:17<00:00,  6.08it/s]\n"
          ],
          "name": "stderr"
        },
        {
          "output_type": "stream",
          "text": [
            "\n",
            "Test set: Average loss: 0.0312, Test Accuracy: 9894/10000 (98.94%)\n",
            "\n"
          ],
          "name": "stdout"
        }
      ]
    },
    {
      "cell_type": "code",
      "metadata": {
        "id": "g7LrYnfOGv6m",
        "colab_type": "code",
        "colab": {
          "base_uri": "https://localhost:8080/",
          "height": 624
        },
        "outputId": "532a77a9-7da5-4b34-d5c3-f7f92aa78301"
      },
      "source": [
        "fig, axs = plt.subplots(2,2,figsize=(15,10))\n",
        "axs[0, 0].plot(train_losses)\n",
        "axs[0, 0].set_title(\"Training Loss\")\n",
        "axs[1, 0].plot(train_acc[4000:])\n",
        "axs[1, 0].set_title(\"Training Accuracy\")\n",
        "axs[0, 1].plot(test_losses)\n",
        "axs[0, 1].set_title(\"Test Loss\")\n",
        "axs[1, 1].plot(test_acc)\n",
        "axs[1, 1].set_title(\"Test Accuracy\")"
      ],
      "execution_count": 10,
      "outputs": [
        {
          "output_type": "execute_result",
          "data": {
            "text/plain": [
              "Text(0.5, 1.0, 'Test Accuracy')"
            ]
          },
          "metadata": {
            "tags": []
          },
          "execution_count": 10
        },
        {
          "output_type": "display_data",
          "data": {
            "image/png": "[encoded data removed]",
            "text/plain": [
              "<Figure size 1080x720 with 4 Axes>"
            ]
          },
          "metadata": {
            "tags": [],
            "needs_background": "light"
          }
        }
      ]
    }
  ]
}