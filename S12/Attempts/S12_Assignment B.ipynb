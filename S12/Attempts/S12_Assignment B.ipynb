{
  "nbformat": 4,
  "nbformat_minor": 0,
  "metadata": {
    "colab": {
      "name": "KMeans.ipynb",
      "provenance": [],
      "collapsed_sections": []
    },
    "kernelspec": {
      "name": "python3",
      "display_name": "Python 3"
    }
  },
  "cells": [
    {
      "cell_type": "code",
      "execution_count": 1,
      "metadata": {
        "colab": {
          "base_uri": "https://localhost:8080/",
          "height": 129
        },
        "colab_type": "code",
        "id": "vLh6hoSvHbnX",
        "outputId": "a80c288d-4faa-4150-9c85-ae50076b303e"
      },
      "outputs": [
        {
          "name": "stdout",
          "output_type": "stream",
          "text": [
            "Mounted at /content/drive\n",
            "AlbTestTransforms.py   cyclicLR.py     K-MeansClusteringCalculation.xlsx\n",
            "AlbTrainTransforms.py  DataLoaders.py  LR_Finder.py\n",
            "albumentations.py      displayData.py  __pycache__\n",
            "all.py\t\t       execute.py      resNet.py\n",
            "customNet.py\t       Gradcam.py      rohan_library.py\n"
          ]
        }
      ],
      "source": [
        "from __future__ import print_function\n",
        "%matplotlib inline\n",
        "\n",
        "from google.colab import drive\n",
        "drive.mount('/content/drive', force_remount=True)\n",
        "import sys\n",
        "sys.path.append('/content/drive/My Drive/EVA4/updLib2/evaLibrary')\n",
        "!ls '/content/drive/My Drive/EVA4/updLib2/evaLibrary'"
      ]
    },
    {
      "cell_type": "code",
      "execution_count": 26,
      "metadata": {
        "colab": {},
        "colab_type": "code",
        "id": "4-CQ09gpH2s9"
      },
      "outputs": [],
      "source": [
        "import pandas as pd\n",
        "df = pd.read_excel(r\"/content/drive/My Drive/EVA4/updLib2/evaLibrary/K-MeansClusteringCalculation.xlsx\")\n",
        "df.columns\n",
        "clusterData = pd.DataFrame(df, columns=[\"N  Width\", \"N Height\"])"
      ]
    },
    {
      "cell_type": "code",
      "execution_count": 6,
      "metadata": {
        "colab": {
          "base_uri": "https://localhost:8080/",
          "height": 284
        },
        "colab_type": "code",
        "id": "LPveeNnFJevP",
        "outputId": "ca82edc9-84b6-4f34-ab95-f2e61252189a"
      },
      "outputs": [
        {
          "data": {
            "text/plain": [
              "[<matplotlib.lines.Line2D at 0x7f134c2b09e8>]"
            ]
          },
          "execution_count": 6,
          "metadata": {
            "tags": []
          },
          "output_type": "execute_result"
        },
        {
          "data": {
            "image/png": "[encoded data removed]",
            "text/plain": [
              "<Figure size 432x288 with 1 Axes>"
            ]
          },
          "metadata": {
            "needs_background": "light",
            "tags": []
          },
          "output_type": "display_data"
        }
      ],
      "source": [
        "import matplotlib.pyplot as plt\n",
        "plt.plot(clusterData[\"N  Width\"],clusterData[\"N Height\"],'.')"
      ]
    },
    {
      "cell_type": "code",
      "execution_count": 27,
      "metadata": {
        "colab": {
          "base_uri": "https://localhost:8080/",
          "height": 295
        },
        "colab_type": "code",
        "id": "MFCzzav7Ju2C",
        "outputId": "e2712b04-942c-4828-b95d-2154556946fa"
      },
      "outputs": [
        {
          "data": {
            "image/png": "[encoded data removed]",
            "text/plain": [
              "<Figure size 432x288 with 1 Axes>"
            ]
          },
          "metadata": {
            "needs_background": "light",
            "tags": []
          },
          "output_type": "display_data"
        }
      ],
      "source": [
        "from sklearn.cluster import KMeans\n",
        "from sklearn import metrics\n",
        "from scipy.spatial.distance import cdist\n",
        "import numpy as np\n",
        "import matplotlib.pyplot as plt\n",
        "\n",
        "\n",
        "# k means determine k\n",
        "distortions = []\n",
        "K = range(1,12)\n",
        "\n",
        "for k in K:\n",
        "    kmeanModel = KMeans(n_clusters=k).fit(clusterData)\n",
        "    kmeanModel.fit(clusterData)\n",
        "    distortions.append(sum(np.min(cdist(clusterData, kmeanModel.cluster_centers_, 'euclidean'), axis=1)) /clusterData.shape[0])\n",
        "\n",
        "\n",
        "# Plot the elbow to find optimal k\n",
        "plt.plot(K, distortions, '.-')\n",
        "plt.xlabel('k')\n",
        "plt.ylabel('Distortions')\n",
        "plt.title('The Elbow Method ')\n",
        "plt.show()"
      ]
    },
    {
      "cell_type": "code",
      "execution_count": 52,
      "metadata": {
        "colab": {},
        "colab_type": "code",
        "id": "L6a5tGaaKNWJ"
      },
      "outputs": [],
      "source": [
        "# (clusterData[\"N  Width\"], clusterData[\"N Height\"]\n",
        "height = list(clusterData[\"N  Width\"])\n",
        "width = list(clusterData[\"N Height\"])\n",
        "ks = range(1,10)\n",
        "meanIOU = []\n",
        "\n",
        "for k in ks:\n",
        "    cluster = KMeans(n_clusters=k)\n",
        "    cluster.fit(clusterData)\n",
        "    cx, cy, iou = [], [], []\n",
        "\n",
        "    for i in range(50):\n",
        "        l = cluster.labels_[i]\n",
        "        cx.append(cluster.cluster_centers_[l][0])\n",
        "        cy.append(cluster.cluster_centers_[l][1])\n",
        "        hei, wid = height[i], width[i]\n",
        "        iou.append(min(wid ,cx[i])* min(hei , cy[i])/(hei*wid+ cx[i]*cy[i]- min(wid , cx[i])* min(hei ,cy[i])))\n",
        "\n",
        "    meanIOU.append(sum(iou)/50)"
      ]
    },
    {
      "cell_type": "code",
      "execution_count": 53,
      "metadata": {
        "colab": {
          "base_uri": "https://localhost:8080/",
          "height": 295
        },
        "colab_type": "code",
        "id": "W1Oh-WcnKd-A",
        "outputId": "529ce3c3-ab55-4457-a40a-307873db8098"
      },
      "outputs": [
        {
          "data": {
            "image/png": "[encoded data removed]",
            "text/plain": [
              "<Figure size 432x288 with 1 Axes>"
            ]
          },
          "metadata": {
            "needs_background": "light",
            "tags": []
          },
          "output_type": "display_data"
        }
      ],
      "source": [
        "plt.plot(range(1,10), meanIOU,'.-',label = \"iou\")\n",
        "plt.plot([2,2],[0.5,0.95],label = \"k = 2\")\n",
        "plt.plot([6,6],[0.5,0.95],label = \"k = 6\")\n",
        "plt.xlabel('No of Centroids')\n",
        "plt.ylabel('Mean IOU')\n",
        "plt.title('IOU for each K')\n",
        "plt.legend()\n",
        "plt.show()"
      ]
    }
  ]
}