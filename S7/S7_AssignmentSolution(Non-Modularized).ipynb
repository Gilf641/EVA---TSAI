{
  "nbformat": 4,
  "nbformat_minor": 0,
  "metadata": {
    "colab": {
      "name": " S7_AssignmentSolution(NM).ipynb",
      "provenance": [],
      "collapsed_sections": [],
      "authorship_tag": "ABX9TyOKfGPaiizsKHBNvjuHv6ag",
      "include_colab_link": true
    },
    "kernelspec": {
      "name": "python3",
      "display_name": "Python 3"
    },
    "accelerator": "GPU",
    "widgets": {
      "application/vnd.jupyter.widget-state+json": {
        "7e1edcd3b0954797b228533b84157548": {
          "model_module": "@jupyter-widgets/controls",
          "model_name": "HBoxModel",
          "state": {
            "_view_name": "HBoxView",
            "_dom_classes": [],
            "_model_name": "HBoxModel",
            "_view_module": "@jupyter-widgets/controls",
            "_model_module_version": "1.5.0",
            "_view_count": null,
            "_view_module_version": "1.5.0",
            "box_style": "",
            "layout": "IPY_MODEL_7400416c41ea4c979aef09994a79c085",
            "_model_module": "@jupyter-widgets/controls",
            "children": [
              "IPY_MODEL_958e6eba39a7444783820d2f23d43128",
              "IPY_MODEL_6b65d192dec44194aae6c83843e7f12c"
            ]
          }
        },
        "7400416c41ea4c979aef09994a79c085": {
          "model_module": "@jupyter-widgets/base",
          "model_name": "LayoutModel",
          "state": {
            "_view_name": "LayoutView",
            "grid_template_rows": null,
            "right": null,
            "justify_content": null,
            "_view_module": "@jupyter-widgets/base",
            "overflow": null,
            "_model_module_version": "1.2.0",
            "_view_count": null,
            "flex_flow": null,
            "width": null,
            "min_width": null,
            "border": null,
            "align_items": null,
            "bottom": null,
            "_model_module": "@jupyter-widgets/base",
            "top": null,
            "grid_column": null,
            "overflow_y": null,
            "overflow_x": null,
            "grid_auto_flow": null,
            "grid_area": null,
            "grid_template_columns": null,
            "flex": null,
            "_model_name": "LayoutModel",
            "justify_items": null,
            "grid_row": null,
            "max_height": null,
            "align_content": null,
            "visibility": null,
            "align_self": null,
            "height": null,
            "min_height": null,
            "padding": null,
            "grid_auto_rows": null,
            "grid_gap": null,
            "max_width": null,
            "order": null,
            "_view_module_version": "1.2.0",
            "grid_template_areas": null,
            "object_position": null,
            "object_fit": null,
            "grid_auto_columns": null,
            "margin": null,
            "display": null,
            "left": null
          }
        },
        "958e6eba39a7444783820d2f23d43128": {
          "model_module": "@jupyter-widgets/controls",
          "model_name": "FloatProgressModel",
          "state": {
            "_view_name": "ProgressView",
            "style": "IPY_MODEL_68bf1139af094630a005e7698cfc1264",
            "_dom_classes": [],
            "description": "",
            "_model_name": "FloatProgressModel",
            "bar_style": "info",
            "max": 1,
            "_view_module": "@jupyter-widgets/controls",
            "_model_module_version": "1.5.0",
            "value": 1,
            "_view_count": null,
            "_view_module_version": "1.5.0",
            "orientation": "horizontal",
            "min": 0,
            "description_tooltip": null,
            "_model_module": "@jupyter-widgets/controls",
            "layout": "IPY_MODEL_39e460e3ea854b32a4b5d6fdcde937f1"
          }
        },
        "6b65d192dec44194aae6c83843e7f12c": {
          "model_module": "@jupyter-widgets/controls",
          "model_name": "HTMLModel",
          "state": {
            "_view_name": "HTMLView",
            "style": "IPY_MODEL_7849bcbecf2b447c8cf570d0c8065363",
            "_dom_classes": [],
            "description": "",
            "_model_name": "HTMLModel",
            "placeholder": "​",
            "_view_module": "@jupyter-widgets/controls",
            "_model_module_version": "1.5.0",
            "value": " 170500096/? [00:30&lt;00:00, 14237348.65it/s]",
            "_view_count": null,
            "_view_module_version": "1.5.0",
            "description_tooltip": null,
            "_model_module": "@jupyter-widgets/controls",
            "layout": "IPY_MODEL_228ff673ab734f298f3d6ea1d8ca488a"
          }
        },
        "68bf1139af094630a005e7698cfc1264": {
          "model_module": "@jupyter-widgets/controls",
          "model_name": "ProgressStyleModel",
          "state": {
            "_view_name": "StyleView",
            "_model_name": "ProgressStyleModel",
            "description_width": "initial",
            "_view_module": "@jupyter-widgets/base",
            "_model_module_version": "1.5.0",
            "_view_count": null,
            "_view_module_version": "1.2.0",
            "bar_color": null,
            "_model_module": "@jupyter-widgets/controls"
          }
        },
        "39e460e3ea854b32a4b5d6fdcde937f1": {
          "model_module": "@jupyter-widgets/base",
          "model_name": "LayoutModel",
          "state": {
            "_view_name": "LayoutView",
            "grid_template_rows": null,
            "right": null,
            "justify_content": null,
            "_view_module": "@jupyter-widgets/base",
            "overflow": null,
            "_model_module_version": "1.2.0",
            "_view_count": null,
            "flex_flow": null,
            "width": null,
            "min_width": null,
            "border": null,
            "align_items": null,
            "bottom": null,
            "_model_module": "@jupyter-widgets/base",
            "top": null,
            "grid_column": null,
            "overflow_y": null,
            "overflow_x": null,
            "grid_auto_flow": null,
            "grid_area": null,
            "grid_template_columns": null,
            "flex": null,
            "_model_name": "LayoutModel",
            "justify_items": null,
            "grid_row": null,
            "max_height": null,
            "align_content": null,
            "visibility": null,
            "align_self": null,
            "height": null,
            "min_height": null,
            "padding": null,
            "grid_auto_rows": null,
            "grid_gap": null,
            "max_width": null,
            "order": null,
            "_view_module_version": "1.2.0",
            "grid_template_areas": null,
            "object_position": null,
            "object_fit": null,
            "grid_auto_columns": null,
            "margin": null,
            "display": null,
            "left": null
          }
        },
        "7849bcbecf2b447c8cf570d0c8065363": {
          "model_module": "@jupyter-widgets/controls",
          "model_name": "DescriptionStyleModel",
          "state": {
            "_view_name": "StyleView",
            "_model_name": "DescriptionStyleModel",
            "description_width": "",
            "_view_module": "@jupyter-widgets/base",
            "_model_module_version": "1.5.0",
            "_view_count": null,
            "_view_module_version": "1.2.0",
            "_model_module": "@jupyter-widgets/controls"
          }
        },
        "228ff673ab734f298f3d6ea1d8ca488a": {
          "model_module": "@jupyter-widgets/base",
          "model_name": "LayoutModel",
          "state": {
            "_view_name": "LayoutView",
            "grid_template_rows": null,
            "right": null,
            "justify_content": null,
            "_view_module": "@jupyter-widgets/base",
            "overflow": null,
            "_model_module_version": "1.2.0",
            "_view_count": null,
            "flex_flow": null,
            "width": null,
            "min_width": null,
            "border": null,
            "align_items": null,
            "bottom": null,
            "_model_module": "@jupyter-widgets/base",
            "top": null,
            "grid_column": null,
            "overflow_y": null,
            "overflow_x": null,
            "grid_auto_flow": null,
            "grid_area": null,
            "grid_template_columns": null,
            "flex": null,
            "_model_name": "LayoutModel",
            "justify_items": null,
            "grid_row": null,
            "max_height": null,
            "align_content": null,
            "visibility": null,
            "align_self": null,
            "height": null,
            "min_height": null,
            "padding": null,
            "grid_auto_rows": null,
            "grid_gap": null,
            "max_width": null,
            "order": null,
            "_view_module_version": "1.2.0",
            "grid_template_areas": null,
            "object_position": null,
            "object_fit": null,
            "grid_auto_columns": null,
            "margin": null,
            "display": null,
            "left": null
          }
        }
      }
    }
  },
  "cells": [
    {
      "cell_type": "markdown",
      "metadata": {
        "id": "view-in-github",
        "colab_type": "text"
      },
      "source": [
        "<a href=\"https://colab.research.google.com/github/Gilf641/EVA4/blob/master/S7/S7_AssignmentSolution(NM).ipynb\" target=\"_parent\"><img src=\"https://colab.research.google.com/assets/colab-badge.svg\" alt=\"Open In Colab\"/></a>"
      ]
    },
    {
      "cell_type": "markdown",
      "metadata": {
        "id": "ZnCWay-LyNze",
        "colab_type": "text"
      },
      "source": [
        "**Load required libraries**"
      ]
    },
    {
      "cell_type": "code",
      "metadata": {
        "id": "KkWSFI2_ySMA",
        "colab_type": "code",
        "colab": {}
      },
      "source": [
        "from __future__ import print_function\n",
        "import torch\n",
        "import torch.nn as nn\n",
        "import torch.nn.functional as F\n",
        "import torch.optim as optim\n",
        "from torchvision import datasets, transforms\n",
        "%matplotlib inline\n",
        "import matplotlib.pyplot as plt\n",
        "from torch.optim.lr_scheduler import OneCycleLR\n",
        "import torchvision"
      ],
      "execution_count": 0,
      "outputs": []
    },
    {
      "cell_type": "code",
      "metadata": {
        "id": "jnXXhAFryqRU",
        "colab_type": "code",
        "outputId": "7a5afd71-214f-49d6-e5f3-fc3d77593a7b",
        "colab": {
          "base_uri": "https://localhost:8080/",
          "height": 101,
          "referenced_widgets": [
            "7e1edcd3b0954797b228533b84157548",
            "7400416c41ea4c979aef09994a79c085",
            "958e6eba39a7444783820d2f23d43128",
            "6b65d192dec44194aae6c83843e7f12c",
            "68bf1139af094630a005e7698cfc1264",
            "39e460e3ea854b32a4b5d6fdcde937f1",
            "7849bcbecf2b447c8cf570d0c8065363",
            "228ff673ab734f298f3d6ea1d8ca488a"
          ]
        }
      },
      "source": [
        "transform = transforms.Compose([transforms.ToTensor(), \n",
        "                               transforms.Normalize(0.5, 0.5, 0.5)])\n",
        "\n",
        "# Load Train & Test Dataset\n",
        "\n",
        "train = torchvision.datasets.CIFAR10(root = './data', train = True, download = True, transform = transform)\n",
        "trainloader = torch.utils.data.DataLoader(train, batch_size=128, shuffle=True, num_workers=4)\n",
        "\n",
        "test = torchvision.datasets.CIFAR10(root = './data', train = False, download = True, transform = transform)\n",
        "testloader = torch.utils.data.DataLoader(test, batch_size=128, shuffle=False, num_workers=4)\n",
        "\n",
        "\n",
        "classes = ('plane', 'car', 'bird', 'cat',\n",
        "           'deer', 'dog', 'frog', 'horse', 'ship', 'truck')\n",
        "\n",
        "\n"
      ],
      "execution_count": 0,
      "outputs": [
        {
          "output_type": "stream",
          "text": [
            "Downloading https://www.cs.toronto.edu/~kriz/cifar-10-python.tar.gz to ./data/cifar-10-python.tar.gz\n"
          ],
          "name": "stdout"
        },
        {
          "output_type": "display_data",
          "data": {
            "application/vnd.jupyter.widget-view+json": {
              "model_id": "7e1edcd3b0954797b228533b84157548",
              "version_minor": 0,
              "version_major": 2
            },
            "text/plain": [
              "HBox(children=(FloatProgress(value=1.0, bar_style='info', max=1.0), HTML(value='')))"
            ]
          },
          "metadata": {
            "tags": []
          }
        },
        {
          "output_type": "stream",
          "text": [
            "Extracting ./data/cifar-10-python.tar.gz to ./data\n",
            "Files already downloaded and verified\n"
          ],
          "name": "stdout"
        }
      ]
    },
    {
      "cell_type": "markdown",
      "metadata": {
        "id": "TQMOXlNezi5D",
        "colab_type": "text"
      },
      "source": [
        "**Show some Images**"
      ]
    },
    {
      "cell_type": "code",
      "metadata": {
        "id": "eSctnFTWziAU",
        "colab_type": "code",
        "outputId": "87cacbf2-cc3a-4918-e451-3c214d530312",
        "colab": {
          "base_uri": "https://localhost:8080/",
          "height": 286
        }
      },
      "source": [
        "\n",
        "import matplotlib.pyplot as plt\n",
        "import numpy as np\n",
        "\n",
        "# functions to show an image\n",
        "\n",
        "\n",
        "def imshow(img):\n",
        "    img = img / 2 + 0.5  # unnormalize this is make sure the image is visible, if this step is skipped then the resulting images have a dark portion\n",
        "    npimg = img.numpy()   # converting image to numpy array format\n",
        "    plt.imshow(np.transpose(npimg, (1, 2, 0)))    # transposing npimg array\n",
        "\n",
        "\n",
        "# get some random training images\n",
        "dataiter = iter(trainloader)\n",
        "images, labels = dataiter.next()\n",
        "\n",
        "# show images\n",
        "imshow(torchvision.utils.make_grid(images))\n",
        "# print labels\n",
        "print(' '.join('%5s' % classes[labels[j]] for j in range(4)))"
      ],
      "execution_count": 0,
      "outputs": [
        {
          "output_type": "stream",
          "text": [
            "  car   car  deer   cat\n"
          ],
          "name": "stdout"
        },
        {
          "output_type": "display_data",
          "data": {
            "image/png": "[encoded data removed]",
            "text/plain": [
              "<Figure size 432x288 with 1 Axes>"
            ]
          },
          "metadata": {
            "tags": [],
            "needs_background": "light"
          }
        }
      ]
    },
    {
      "cell_type": "code",
      "metadata": {
        "id": "awHetyl8Xz4V",
        "colab_type": "code",
        "colab": {}
      },
      "source": [
        "from torchsummary import summary\n",
        "import torch\n",
        "import torch.nn as nn\n",
        "import torch.nn.functional as F\n",
        "\n",
        "\n",
        "class DepthwiseSeparableConv2d(nn.Module):\n",
        "    def __init__(self, input, output, padding=0, bias=False):\n",
        "        super(DepthwiseSeparableConv2d, self).__init__()\n",
        "        self.depthwise = nn.Conv2d(input, input, kernel_size=3, padding=padding, groups=input, bias=bias)\n",
        "        self.pointwise = nn.Conv2d(input, output, kernel_size=1)\n",
        "\n",
        "    def forward(self, x):\n",
        "        out = self.depthwise(x)\n",
        "        out = self.pointwise(out)\n",
        "        return out\n",
        "\n",
        "class seaFarNet(nn.Module): # concise model\n",
        "    def __init__(self, name=\"Model\"):\n",
        "        super(seaFarNet, self).__init__()\n",
        "        self.name = name\n",
        "\n",
        "\n",
        "# Conv Block1 \n",
        "        self.conv1 = nn.Sequential(\n",
        "            nn.Conv2d(in_channels = 3, out_channels = 16, kernel_size = (3,3), padding = 2, bias = False), \n",
        "            nn.ReLU(),\n",
        "            nn.BatchNorm2d(16)) # O/P: 34  RF: 3\n",
        "        \n",
        "        self.conv2 = nn.Sequential(\n",
        "            nn.Conv2d(in_channels = 16, out_channels = 32, kernel_size = (3,3), padding = 1, bias = False),\n",
        "            nn.ReLU(),\n",
        "            nn.BatchNorm2d(32)) # O/P: 34  RF: 5\n",
        "\n",
        "      # Dilated Convolution 1\n",
        "        self.dilatedconv1 = nn.Sequential(\n",
        "            nn.Conv2d(in_channels = 32, out_channels = 64, kernel_size = (3,3), padding = 1, dilation = 2, bias = False),\n",
        "            nn.ReLU(),\n",
        "            nn.BatchNorm2d(64)) # O/P: 32  RF: 9\n",
        "\n",
        "        self.conv3 = nn.Sequential(\n",
        "            nn.Conv2d(in_channels = 64, out_channels = 64, kernel_size = (3,3), padding = 1 ,  bias = False),\n",
        "            nn.ReLU(),\n",
        "            nn.BatchNorm2d(64)) # O/P: 32  RF: 11\n",
        "\n",
        "\n",
        "# Transition Block 1\n",
        "        self.pool1 = nn.Sequential(nn.MaxPool2d((2,2))) # O/P: 16  RF: 12\n",
        "        self.conv4 = nn.Sequential(\n",
        "            nn.Conv2d(in_channels = 64, out_channels = 32, kernel_size = (1,1), padding = 1, bias = False),\n",
        "            nn.ReLU(),\n",
        "            nn.BatchNorm2d(32)) # O/P: 18  RF: 12      \n",
        "        \n",
        "\n",
        "# ConvBlock 2\n",
        "        self.conv5 = nn.Sequential(\n",
        "            nn.Conv2d(in_channels = 32, out_channels = 64, kernel_size = (3,3), padding = 1, bias = False),\n",
        "            nn.ReLU(),\n",
        "            nn.BatchNorm2d(64)) # O/P: 18  RF: 16\n",
        "\n",
        "        self.conv6 = nn.Sequential(\n",
        "            nn.Conv2d(in_channels = 64, out_channels = 128, kernel_size = (3,3), padding = 1, dilation = 2,  bias = False),\n",
        "            nn.ReLU(),\n",
        "            nn.BatchNorm2d(128)) # O/P: 16  RF: 24\n",
        "\n",
        "\n",
        "# Transition Block 2  \n",
        "        self.pool2 = nn.Sequential(nn.MaxPool2d((2,2))) # O/P: 8  RF: 26\n",
        "\n",
        "        self.conv7 = nn.Sequential(\n",
        "            nn.Conv2d(in_channels = 128, out_channels = 32, kernel_size = (1,1), padding = 1, bias = False),\n",
        "            nn.ReLU(),\n",
        "            nn.BatchNorm2d(32)) # O/P: 10  RF: 26\n",
        "\n",
        "\n",
        "# ConvBlock 3\n",
        "        self.dwconv1 = nn.Sequential(\n",
        "            DepthwiseSeparableConv2d(32, 64, padding = 1, bias = False),\n",
        "            nn.ReLU(),\n",
        "            nn.BatchNorm2d(64)) # O/P: 10  RF: 34\n",
        "\n",
        "        self.conv8 = nn.Sequential(\n",
        "            nn.Conv2d(in_channels = 64, out_channels = 64, kernel_size = (3,3), padding = 1, bias = False),\n",
        "            nn.ReLU(),\n",
        "            nn.BatchNorm2d(64)) # O/P: 10  RF: 42\n",
        "\n",
        "\n",
        "# Transition Block 3 \n",
        "        self.pool3 = nn.Sequential(nn.MaxPool2d((2,2))) # O/P: 5  RF: 46\n",
        "\n",
        "        self.conv9 = nn.Sequential(\n",
        "            nn.Conv2d(in_channels = 64, out_channels = 128, kernel_size = (1,1), padding = 0, bias = False),\n",
        "            nn.ReLU(),\n",
        "            nn.BatchNorm2d(128)) # O/P: 5  RF: 46\n",
        "\n",
        "\n",
        "# ConvBlock 4\n",
        "        self.conv10 = nn.Sequential(\n",
        "            nn.Conv2d(in_channels = 128, out_channels = 128, kernel_size = (3,3), padding = 0, bias = False),\n",
        "            nn.ReLU(),\n",
        "            nn.BatchNorm2d(128)) # O/P: 3  RF: 62\n",
        "\n",
        "        self.conv11 = nn.Sequential(\n",
        "            nn.Conv2d(in_channels = 128, out_channels = 128, kernel_size = (1,1), padding = 0, bias = False))\n",
        "          # nn.ReLU(),\n",
        "          # nn.BatchNorm2d(512)) # O/P: 3  RF: 62\n",
        "       \n",
        "\n",
        "    # GAP + FC\n",
        "        self.gap = nn.Sequential(nn.AvgPool2d(3))\n",
        "    # Last Layer\n",
        "        self.conv12 = nn.Sequential(\n",
        "            nn.Conv2d(in_channels = 128, out_channels=10, kernel_size=(1,1), padding=0, bias=False)) # O/P:3  RF: 62\n",
        "\n",
        "\n",
        "    # Dropout Layer\n",
        "        self.drop = nn.Sequential(nn.Dropout(0.10))\n",
        "\n",
        "\n",
        "\n",
        "\n",
        "    def forward(self, x):\n",
        "        x = self.conv1(x)\n",
        "        x = self.drop(x)\n",
        "        x = self.conv2(x)\n",
        "        x = self.drop(x)\n",
        "        x = self.dilatedconv1(x)\n",
        "        x = self.drop(x)\n",
        "        x = self.conv3(x)\n",
        "        x = self.drop(x)\n",
        "\n",
        "        x = self.pool1(x)\n",
        "        x = self.conv4(x)\n",
        "        x = self.drop(x)\n",
        "        x = self.conv5(x)\n",
        "        x = self.drop(x)\n",
        "        x = self.conv6(x)\n",
        "        x = self.drop(x)\n",
        "\n",
        "        x = self.pool2(x)\n",
        "        x = self.conv7(x)\n",
        "        x = self.drop(x)\n",
        "        x = self.dwconv1(x)\n",
        "        x = self.conv8(x)\n",
        "        x = self.drop(x)\n",
        "\n",
        "        x = self.pool3(x)\n",
        "        x = self.conv9(x)\n",
        "        x = self.drop(x)\n",
        "        x = self.conv10(x)\n",
        "        x = self.drop(x)\n",
        "        x = self.conv11(x) \n",
        "        \n",
        "        x = self.gap(x)\n",
        "        x = self.conv12(x)\n",
        "\n",
        "\n",
        "        x = x.view(-1, 10)\n",
        "        return F.log_softmax(x, dim=-1)\n",
        "\n",
        "\n",
        "model = seaFarNet()\n"
      ],
      "execution_count": 0,
      "outputs": []
    },
    {
      "cell_type": "code",
      "metadata": {
        "id": "_-rpVlCwr7y4",
        "colab_type": "code",
        "colab": {}
      },
      "source": [
        "from torchsummary import summary\n",
        "import torch\n",
        "import torch.nn as nn\n",
        "import torch.nn.functional as F\n",
        "\n",
        "\n",
        "class DepthwiseSeparableConv2d(nn.Module):\n",
        "    def __init__(self, input, output, padding=0, bias=False):\n",
        "        super(DepthwiseSeparableConv2d, self).__init__()\n",
        "        self.depthwise = nn.Conv2d(input, input, kernel_size=3, padding=padding, groups=input, bias=bias)\n",
        "        self.pointwise = nn.Conv2d(input, output, kernel_size=1)\n",
        "\n",
        "    def forward(self, x):\n",
        "        out = self.depthwise(x)\n",
        "        out = self.pointwise(out)\n",
        "        return out\n",
        "\n",
        "class cfarResNet(nn.Module): # concise model\n",
        "    def __init__(self, name=\"Model\"):\n",
        "        super(cfarResNet, self).__init__()\n",
        "        self.name = name\n",
        "\n",
        "\n",
        "# Conv Block1 \n",
        "        self.conv1 = nn.Sequential(\n",
        "            nn.Conv2d(in_channels = 3, out_channels = 16, kernel_size = (3,3), padding = 2, bias = False), \n",
        "            nn.ReLU(),\n",
        "            nn.BatchNorm2d(16)) # O/P: 34  RF: 3\n",
        "        \n",
        "        self.conv2 = nn.Sequential(\n",
        "            nn.Conv2d(in_channels = 16, out_channels = 32, kernel_size = (3,3), padding = 1, bias = False),\n",
        "            nn.ReLU(),\n",
        "            nn.BatchNorm2d(32)) # O/P: 34  RF: 5\n",
        "\n",
        "      # Dilated Convolution 1\n",
        "        self.dilatedconv1 = nn.Sequential(\n",
        "            nn.Conv2d(in_channels = 32, out_channels = 32, kernel_size = (3,3), padding = 1, dilation = 2, bias = False),\n",
        "            nn.ReLU(),\n",
        "            nn.BatchNorm2d(32)) # O/P: 32  RF: 9\n",
        "\n",
        "        self.conv3 = nn.Sequential(\n",
        "            nn.Conv2d(in_channels = 32, out_channels = 32, kernel_size = (3,3), padding = 1 ,  bias = False),\n",
        "            nn.ReLU(),\n",
        "            nn.BatchNorm2d(32)) # O/P: 32  RF: 11\n",
        "\n",
        "\n",
        "# Transition Block 1\n",
        "        self.pool1 = nn.Sequential(nn.MaxPool2d((2,2))) # O/P: 16  RF: 12\n",
        "        self.conv4 = nn.Sequential(\n",
        "            nn.Conv2d(in_channels = 32, out_channels = 64, kernel_size = (1,1), padding = 1, bias = False),\n",
        "            nn.ReLU(),\n",
        "            nn.BatchNorm2d(64)) # O/P: 18  RF: 12      \n",
        "        \n",
        "\n",
        "# ConvBlock 2\n",
        "        self.conv5 = nn.Sequential(\n",
        "            nn.Conv2d(in_channels = 64, out_channels = 64, kernel_size = (3,3), padding = 1, bias = False),\n",
        "            nn.ReLU(),\n",
        "            nn.BatchNorm2d(64)) # O/P: 18  RF: 16\n",
        "\n",
        "        self.conv6 = nn.Sequential(\n",
        "            nn.Conv2d(in_channels = 64, out_channels = 64, kernel_size = (3,3), padding = 1, dilation = 2,  bias = False),\n",
        "            nn.ReLU(),\n",
        "            nn.BatchNorm2d(64)) # O/P: 16  RF: 24\n",
        "\n",
        "\n",
        "# Transition Block 2  \n",
        "        self.pool2 = nn.Sequential(nn.MaxPool2d((2,2))) # O/P: 8  RF: 26\n",
        "\n",
        "        self.conv7 = nn.Sequential(\n",
        "            nn.Conv2d(in_channels = 64, out_channels = 32, kernel_size = (1,1), padding = 1, bias = False),\n",
        "            nn.ReLU(),\n",
        "            nn.BatchNorm2d(32)) # O/P: 10  RF: 26\n",
        "\n",
        "\n",
        "# ConvBlock 3\n",
        "        self.dwconv1 = nn.Sequential(\n",
        "            DepthwiseSeparableConv2d(32, 64, padding = 1, bias = False),\n",
        "            nn.ReLU(),\n",
        "            nn.BatchNorm2d(64)) # O/P: 10  RF: 34\n",
        "\n",
        "        self.conv8 = nn.Sequential(\n",
        "            nn.Conv2d(in_channels = 64, out_channels = 64, kernel_size = (3,3), padding = 1, bias = False),\n",
        "            nn.ReLU(),\n",
        "            nn.BatchNorm2d(64)) # O/P: 10  RF: 42\n",
        "\n",
        "\n",
        "# Transition Block 3 \n",
        "        self.pool3 = nn.Sequential(nn.MaxPool2d((2,2))) # O/P: 5  RF: 46\n",
        "\n",
        "        self.conv9 = nn.Sequential(\n",
        "            nn.Conv2d(in_channels = 64, out_channels = 128, kernel_size = (1,1), padding = 0, bias = False),\n",
        "            nn.ReLU(),\n",
        "            nn.BatchNorm2d(128)) # O/P: 5  RF: 46\n",
        "\n",
        "\n",
        "# ConvBlock 4\n",
        "        self.conv10 = nn.Sequential(\n",
        "            nn.Conv2d(in_channels = 128, out_channels = 128, kernel_size = (3,3), padding = 0, bias = False),\n",
        "            nn.ReLU(),\n",
        "            nn.BatchNorm2d(128)) # O/P: 3  RF: 62\n",
        "\n",
        "        self.conv11 = nn.Sequential(\n",
        "            nn.Conv2d(in_channels = 128, out_channels = 128, kernel_size = (1,1), padding = 0, bias = False))\n",
        "          # nn.ReLU(),\n",
        "          # nn.BatchNorm2d(512)) # O/P: 3  RF: 62\n",
        "       \n",
        "\n",
        "    # GAP + FC\n",
        "        self.gap = nn.Sequential(nn.AvgPool2d(3))\n",
        "    # Last Layer\n",
        "        self.conv12 = nn.Sequential(\n",
        "            nn.Conv2d(in_channels = 128, out_channels=10, kernel_size=(1,1), padding=0, bias=False)) # O/P:3  RF: 62\n",
        "\n",
        "\n",
        "    # Dropout Layer\n",
        "        self.drop = nn.Sequential(nn.Dropout(0.10))\n",
        "\n",
        "\n",
        "\n",
        "\n",
        "    def forward(self, x):\n",
        "        x = self.conv1(x)\n",
        "        x = self.drop(x)\n",
        "        x = self.conv2(x)\n",
        "        x = self.drop(x)\n",
        "        x = self.dilatedconv1(x)\n",
        "        x = self.drop(x)\n",
        "        x = self.conv3(x)\n",
        "        x = self.drop(x)\n",
        "\n",
        "        x = self.pool1(x)\n",
        "        x = self.conv4(x)\n",
        "        x = self.drop(x)\n",
        "        x = self.conv5(x)\n",
        "        x = self.drop(x)\n",
        "        x = self.conv6(x)\n",
        "        x = self.drop(x)\n",
        "\n",
        "        x = self.pool2(x)\n",
        "        x = self.conv7(x)\n",
        "        x = self.drop(x)\n",
        "        x = self.dwconv1(x)\n",
        "        x = self.conv8(x)\n",
        "        x = self.drop(x)\n",
        "\n",
        "        x = self.pool3(x)\n",
        "        x = self.conv9(x)\n",
        "        x = self.drop(x)\n",
        "        x = self.conv10(x)\n",
        "        x = self.drop(x)\n",
        "        x = self.conv11(x) \n",
        "        \n",
        "        x = self.gap(x)\n",
        "        x = self.conv12(x)\n",
        "\n",
        "\n",
        "        x = x.view(-1, 10)\n",
        "        return F.log_softmax(x, dim=-1)\n",
        "\n",
        "\n",
        "model = cfarResNet()\n"
      ],
      "execution_count": 0,
      "outputs": []
    },
    {
      "cell_type": "code",
      "metadata": {
        "id": "-TjI_kpU3WyA",
        "colab_type": "code",
        "outputId": "e05b64b4-f34b-4e49-8888-1a3ca9186d69",
        "colab": {
          "base_uri": "https://localhost:8080/",
          "height": 1000
        }
      },
      "source": [
        "\n",
        "# Model Summary\n",
        "!pip install torchsummary\n",
        "from torchsummary import summary\n",
        "use_cuda = torch.cuda.is_available()\n",
        "device = torch.device(\"cuda\" if use_cuda else \"cpu\")\n",
        "print(device)\n",
        "model = cfarResNet(False).to(device)\n",
        "summary(model, input_size=(3, 32, 32))\n"
      ],
      "execution_count": 0,
      "outputs": [
        {
          "output_type": "stream",
          "text": [
            "Requirement already satisfied: torchsummary in /usr/local/lib/python3.6/dist-packages (1.5.1)\n",
            "cuda\n",
            "----------------------------------------------------------------\n",
            "        Layer (type)               Output Shape         Param #\n",
            "================================================================\n",
            "            Conv2d-1           [-1, 16, 34, 34]             432\n",
            "              ReLU-2           [-1, 16, 34, 34]               0\n",
            "       BatchNorm2d-3           [-1, 16, 34, 34]              32\n",
            "           Dropout-4           [-1, 16, 34, 34]               0\n",
            "            Conv2d-5           [-1, 32, 34, 34]           4,608\n",
            "              ReLU-6           [-1, 32, 34, 34]               0\n",
            "       BatchNorm2d-7           [-1, 32, 34, 34]              64\n",
            "           Dropout-8           [-1, 32, 34, 34]               0\n",
            "            Conv2d-9           [-1, 32, 32, 32]           9,216\n",
            "             ReLU-10           [-1, 32, 32, 32]               0\n",
            "      BatchNorm2d-11           [-1, 32, 32, 32]              64\n",
            "          Dropout-12           [-1, 32, 32, 32]               0\n",
            "           Conv2d-13           [-1, 32, 32, 32]           9,216\n",
            "             ReLU-14           [-1, 32, 32, 32]               0\n",
            "      BatchNorm2d-15           [-1, 32, 32, 32]              64\n",
            "          Dropout-16           [-1, 32, 32, 32]               0\n",
            "        MaxPool2d-17           [-1, 32, 16, 16]               0\n",
            "           Conv2d-18           [-1, 64, 18, 18]           2,048\n",
            "             ReLU-19           [-1, 64, 18, 18]               0\n",
            "      BatchNorm2d-20           [-1, 64, 18, 18]             128\n",
            "          Dropout-21           [-1, 64, 18, 18]               0\n",
            "           Conv2d-22           [-1, 64, 18, 18]          36,864\n",
            "             ReLU-23           [-1, 64, 18, 18]               0\n",
            "      BatchNorm2d-24           [-1, 64, 18, 18]             128\n",
            "          Dropout-25           [-1, 64, 18, 18]               0\n",
            "           Conv2d-26           [-1, 64, 16, 16]          36,864\n",
            "             ReLU-27           [-1, 64, 16, 16]               0\n",
            "      BatchNorm2d-28           [-1, 64, 16, 16]             128\n",
            "          Dropout-29           [-1, 64, 16, 16]               0\n",
            "        MaxPool2d-30             [-1, 64, 8, 8]               0\n",
            "           Conv2d-31           [-1, 32, 10, 10]           2,048\n",
            "             ReLU-32           [-1, 32, 10, 10]               0\n",
            "      BatchNorm2d-33           [-1, 32, 10, 10]              64\n",
            "          Dropout-34           [-1, 32, 10, 10]               0\n",
            "           Conv2d-35           [-1, 32, 10, 10]             288\n",
            "           Conv2d-36           [-1, 64, 10, 10]           2,112\n",
            "DepthwiseSeparableConv2d-37           [-1, 64, 10, 10]               0\n",
            "             ReLU-38           [-1, 64, 10, 10]               0\n",
            "      BatchNorm2d-39           [-1, 64, 10, 10]             128\n",
            "           Conv2d-40           [-1, 64, 10, 10]          36,864\n",
            "             ReLU-41           [-1, 64, 10, 10]               0\n",
            "      BatchNorm2d-42           [-1, 64, 10, 10]             128\n",
            "          Dropout-43           [-1, 64, 10, 10]               0\n",
            "        MaxPool2d-44             [-1, 64, 5, 5]               0\n",
            "           Conv2d-45            [-1, 128, 5, 5]           8,192\n",
            "             ReLU-46            [-1, 128, 5, 5]               0\n",
            "      BatchNorm2d-47            [-1, 128, 5, 5]             256\n",
            "          Dropout-48            [-1, 128, 5, 5]               0\n",
            "           Conv2d-49            [-1, 128, 3, 3]         147,456\n",
            "             ReLU-50            [-1, 128, 3, 3]               0\n",
            "      BatchNorm2d-51            [-1, 128, 3, 3]             256\n",
            "          Dropout-52            [-1, 128, 3, 3]               0\n",
            "           Conv2d-53            [-1, 128, 3, 3]          16,384\n",
            "        AvgPool2d-54            [-1, 128, 1, 1]               0\n",
            "           Conv2d-55             [-1, 10, 1, 1]           1,280\n",
            "================================================================\n",
            "Total params: 315,312\n",
            "Trainable params: 315,312\n",
            "Non-trainable params: 0\n",
            "----------------------------------------------------------------\n",
            "Input size (MB): 0.01\n",
            "Forward/backward pass size (MB): 6.22\n",
            "Params size (MB): 1.20\n",
            "Estimated Total Size (MB): 7.43\n",
            "----------------------------------------------------------------\n"
          ],
          "name": "stdout"
        }
      ]
    },
    {
      "cell_type": "code",
      "metadata": {
        "id": "J2AuiutnsnXV",
        "colab_type": "code",
        "colab": {}
      },
      "source": [
        "from tqdm import tqdm\n",
        "import numpy as np\n",
        "\n",
        "class Test_Train():\n",
        "  def __init__(self):\n",
        "\n",
        "# # This is to hold all the values and plot some graphs to extract few good insights.\n",
        "    self.train_losses = []\n",
        "    self.test_losses = []\n",
        "    self.train_acc = []\n",
        "    self.test_acc = []\n",
        "    self.train_epoch_end = []\n",
        "    self.test_loss_min = np.inf # setting it to infinity(max value)\n",
        "    # when the test loss becomes min I will save the particular model\n",
        "\n",
        "\n",
        "  def train(self, model, device, trainloader, optimizer, epoch,scheduler, L1lambda=None):\n",
        "    model.train()    # prepare model for training\n",
        "    pbar = tqdm(trainloader)\n",
        "    correct = 0\n",
        "    processed = 0\n",
        "    for batch_idx, (data, target) in enumerate(pbar): # passing on data & target values to device\n",
        "      data, target = data.to(device), target.to(device)\n",
        "      optimizer.zero_grad()    # clear the gradients of all optimized variables\n",
        "      \n",
        "      # Predict\n",
        "      y_pred = model(data)   # forward pass\n",
        "\n",
        "      # Calculate loss\n",
        "      loss = F.nll_loss(y_pred, target)\n",
        "\n",
        "      #Implementing L1 Regularization\n",
        "      if L1lambda:\n",
        "        with torch.enable_grad():\n",
        "          l1_loss = 0.\n",
        "          for param in model.parameters():\n",
        "            l1_loss += torch.sum(param.abs())\n",
        "          loss += L1lambda * l1_loss\n",
        "\n",
        "      self.train_losses.append(loss)\n",
        "\n",
        "      # Backpropagation\n",
        "      loss.backward()   # backward pass: compute gradient of the loss with respect to model parameters\n",
        "      optimizer.step()   # perform a single optimization step (parameter update)\n",
        "\n",
        "      # Update pbar-tqdm\n",
        "    \n",
        "      pred = y_pred.argmax(dim=1, keepdim=True)  # get the index of the max log-probability\n",
        "      correct += pred.eq(target.view_as(pred)).sum().item()\n",
        "      processed += len(data)\n",
        "\n",
        "      pbar.set_description(desc= f'Loss={loss.item()} Batch_id={batch_idx} Accuracy={100*correct/processed:0.2f}')\n",
        "      self.train_acc.append(100*correct/processed)\n",
        "      scheduler.step()\n",
        "      self.train_epoch_end.append(self.train_acc[-1])\n",
        "\n",
        "\n",
        "  def test(self, model, device, test_loader,filename):\n",
        "      model.eval()  # prep model for evaluation\n",
        "      test_loss = 0\n",
        "      correct = 0\n",
        "      with torch.no_grad():\n",
        "          for data, target in test_loader:\n",
        "            data, target = data.to(device), target.to(device)\n",
        "            output = model(data)  # forward pass: compute predicted outputs by passing inputs to the model\n",
        "            test_loss += F.nll_loss(output, target, reduction='sum').item()  # sum up batch loss\n",
        "            pred = output.argmax(dim=1, keepdim=True)  # get the index of the max log-probability\n",
        "            correct += pred.eq(target.view_as(pred)).sum().item()  \n",
        "      test_loss /= len(testloader.dataset)\n",
        "      self.test_losses.append(test_loss)\n",
        "\n",
        "      # save model if validation loss has decreased\n",
        "      if test_loss <= self.test_loss_min:\n",
        "          print('Validation loss has  decreased ({:.4f} --> {:.4f}).  Saving model ...'.format(self.test_loss_min, test_loss))\n",
        "          torch.save(model.state_dict(), filename)\n",
        "          self.test_loss_min = test_loss\n",
        "\n",
        "\n",
        "      print('\\nTest set: Average loss: {:.4f}, Accuracy: {}/{} ({:.2f}%)\\n'.format(\n",
        "          test_loss, correct, len(testloader.dataset),\n",
        "          100. * correct / len(testloader.dataset)))\n",
        "    \n",
        "      self.test_acc.append(100. * correct / len(testloader.dataset))\n",
        "\n"
      ],
      "execution_count": 0,
      "outputs": []
    },
    {
      "cell_type": "code",
      "metadata": {
        "id": "YEt2S_7DtjRl",
        "colab_type": "code",
        "outputId": "68c2e264-fd48-4adc-9628-ce9ab9d25997",
        "colab": {
          "base_uri": "https://localhost:8080/",
          "height": 1000
        }
      },
      "source": [
        "# model = seaFarNet().to(device)\n",
        "model = cfarResNet().to(device)\n",
        "\n",
        " # this object, model of Net() class is passed onto Test_Train() object model's method train & test\n",
        "optimizer = optim.SGD(model.parameters(), lr=0.01, momentum=0.9, weight_decay=1e-5)\n",
        "scheduler = torch.optim.lr_scheduler.OneCycleLR(optimizer, max_lr=0.1, steps_per_epoch=len(trainloader), epochs=10)\n",
        "\n",
        "model1 = Test_Train()\n",
        "EPOCHS = 10\n",
        "for epoch in range(1,EPOCHS+1):\n",
        "  print(\"EPOCH:\", epoch)\n",
        "  model1.train(model, device, trainloader, optimizer, epoch, scheduler, L1lambda=1e-5)\n",
        "  model1.test(model, device, testloader,\"model.pt\")"
      ],
      "execution_count": 0,
      "outputs": [
        {
          "output_type": "stream",
          "text": [
            "\r  0%|          | 0/391 [00:00<?, ?it/s]"
          ],
          "name": "stderr"
        },
        {
          "output_type": "stream",
          "text": [
            "EPOCH: 1\n"
          ],
          "name": "stdout"
        },
        {
          "output_type": "stream",
          "text": [
            "Loss=1.1592292785644531 Batch_id=390 Accuracy=41.52: 100%|██████████| 391/391 [00:16<00:00, 23.80it/s]\n",
            "  0%|          | 0/391 [00:00<?, ?it/s]"
          ],
          "name": "stderr"
        },
        {
          "output_type": "stream",
          "text": [
            "Validation loss has  decreased (inf --> 1.2049).  Saving model ...\n",
            "\n",
            "Test set: Average loss: 1.2049, Accuracy: 5715/10000 (57.15%)\n",
            "\n",
            "EPOCH: 2\n"
          ],
          "name": "stdout"
        },
        {
          "output_type": "stream",
          "text": [
            "Loss=0.8470920920372009 Batch_id=390 Accuracy=61.59: 100%|██████████| 391/391 [00:16<00:00, 23.91it/s]\n",
            "  0%|          | 0/391 [00:00<?, ?it/s]"
          ],
          "name": "stderr"
        },
        {
          "output_type": "stream",
          "text": [
            "Validation loss has  decreased (1.2049 --> 0.9791).  Saving model ...\n",
            "\n",
            "Test set: Average loss: 0.9791, Accuracy: 6559/10000 (65.59%)\n",
            "\n",
            "EPOCH: 3\n"
          ],
          "name": "stdout"
        },
        {
          "output_type": "stream",
          "text": [
            "Loss=1.0060752630233765 Batch_id=390 Accuracy=70.07: 100%|██████████| 391/391 [00:16<00:00, 23.97it/s]\n",
            "  0%|          | 0/391 [00:00<?, ?it/s]"
          ],
          "name": "stderr"
        },
        {
          "output_type": "stream",
          "text": [
            "Validation loss has  decreased (0.9791 --> 0.8797).  Saving model ...\n",
            "\n",
            "Test set: Average loss: 0.8797, Accuracy: 6921/10000 (69.21%)\n",
            "\n",
            "EPOCH: 4\n"
          ],
          "name": "stdout"
        },
        {
          "output_type": "stream",
          "text": [
            "Loss=0.6830778121948242 Batch_id=390 Accuracy=74.32: 100%|██████████| 391/391 [00:16<00:00, 23.95it/s]\n",
            "  0%|          | 0/391 [00:00<?, ?it/s]"
          ],
          "name": "stderr"
        },
        {
          "output_type": "stream",
          "text": [
            "Validation loss has  decreased (0.8797 --> 0.7467).  Saving model ...\n",
            "\n",
            "Test set: Average loss: 0.7467, Accuracy: 7421/10000 (74.21%)\n",
            "\n",
            "EPOCH: 5\n"
          ],
          "name": "stdout"
        },
        {
          "output_type": "stream",
          "text": [
            "Loss=0.9111471772193909 Batch_id=390 Accuracy=77.34: 100%|██████████| 391/391 [00:16<00:00, 23.73it/s]\n",
            "  0%|          | 0/391 [00:00<?, ?it/s]"
          ],
          "name": "stderr"
        },
        {
          "output_type": "stream",
          "text": [
            "Validation loss has  decreased (0.7467 --> 0.7179).  Saving model ...\n",
            "\n",
            "Test set: Average loss: 0.7179, Accuracy: 7548/10000 (75.48%)\n",
            "\n",
            "EPOCH: 6\n"
          ],
          "name": "stdout"
        },
        {
          "output_type": "stream",
          "text": [
            "Loss=0.7912999391555786 Batch_id=390 Accuracy=79.43: 100%|██████████| 391/391 [00:16<00:00, 23.97it/s]\n",
            "  0%|          | 0/391 [00:00<?, ?it/s]"
          ],
          "name": "stderr"
        },
        {
          "output_type": "stream",
          "text": [
            "Validation loss has  decreased (0.7179 --> 0.6288).  Saving model ...\n",
            "\n",
            "Test set: Average loss: 0.6288, Accuracy: 7827/10000 (78.27%)\n",
            "\n",
            "EPOCH: 7\n"
          ],
          "name": "stdout"
        },
        {
          "output_type": "stream",
          "text": [
            "Loss=0.5730074048042297 Batch_id=390 Accuracy=81.47: 100%|██████████| 391/391 [00:16<00:00, 23.90it/s]\n",
            "  0%|          | 0/391 [00:00<?, ?it/s]"
          ],
          "name": "stderr"
        },
        {
          "output_type": "stream",
          "text": [
            "Validation loss has  decreased (0.6288 --> 0.6062).  Saving model ...\n",
            "\n",
            "Test set: Average loss: 0.6062, Accuracy: 7890/10000 (78.90%)\n",
            "\n",
            "EPOCH: 8\n"
          ],
          "name": "stdout"
        },
        {
          "output_type": "stream",
          "text": [
            "Loss=0.7008193731307983 Batch_id=390 Accuracy=83.61: 100%|██████████| 391/391 [00:16<00:00, 24.03it/s]\n",
            "  0%|          | 0/391 [00:00<?, ?it/s]"
          ],
          "name": "stderr"
        },
        {
          "output_type": "stream",
          "text": [
            "Validation loss has  decreased (0.6062 --> 0.5399).  Saving model ...\n",
            "\n",
            "Test set: Average loss: 0.5399, Accuracy: 8172/10000 (81.72%)\n",
            "\n",
            "EPOCH: 9\n"
          ],
          "name": "stdout"
        },
        {
          "output_type": "stream",
          "text": [
            "Loss=0.5770255327224731 Batch_id=390 Accuracy=86.20: 100%|██████████| 391/391 [00:16<00:00, 23.72it/s]\n",
            "  0%|          | 0/391 [00:00<?, ?it/s]"
          ],
          "name": "stderr"
        },
        {
          "output_type": "stream",
          "text": [
            "Validation loss has  decreased (0.5399 --> 0.5083).  Saving model ...\n",
            "\n",
            "Test set: Average loss: 0.5083, Accuracy: 8302/10000 (83.02%)\n",
            "\n",
            "EPOCH: 10\n"
          ],
          "name": "stdout"
        },
        {
          "output_type": "stream",
          "text": [
            "Loss=0.40661755204200745 Batch_id=390 Accuracy=88.22: 100%|██████████| 391/391 [00:16<00:00, 23.72it/s]\n"
          ],
          "name": "stderr"
        },
        {
          "output_type": "stream",
          "text": [
            "Validation loss has  decreased (0.5083 --> 0.4987).  Saving model ...\n",
            "\n",
            "Test set: Average loss: 0.4987, Accuracy: 8345/10000 (83.45%)\n",
            "\n"
          ],
          "name": "stdout"
        }
      ]
    },
    {
      "cell_type": "code",
      "metadata": {
        "id": "T0hBIMq6xCVL",
        "colab_type": "code",
        "outputId": "f85c3ca8-50bb-4512-c1f3-12fd9049793e",
        "colab": {
          "base_uri": "https://localhost:8080/",
          "height": 624
        }
      },
      "source": [
        "fig, axs = plt.subplots(2,2,figsize=(15,10))\n",
        "axs[0, 0].plot(model1.train_losses)\n",
        "axs[0, 0].set_title(\"Training Loss\")\n",
        "axs[1, 0].plot(model1.train_acc)\n",
        "axs[1, 0].set_title(\"Training Accuracy\")\n",
        "axs[0, 1].plot(model1.test_losses)\n",
        "axs[0, 1].set_title(\"Test Loss\")\n",
        "axs[1, 1].plot(model1.test_acc)\n",
        "axs[1, 1].set_title(\"Test Accuracy\")"
      ],
      "execution_count": 0,
      "outputs": [
        {
          "output_type": "execute_result",
          "data": {
            "text/plain": [
              "Text(0.5, 1.0, 'Test Accuracy')"
            ]
          },
          "metadata": {
            "tags": []
          },
          "execution_count": 14
        },
        {
          "output_type": "display_data",
          "data": {
            "image/png": "[encoded data removed]",
            "text/plain": [
              "<Figure size 1080x720 with 4 Axes>"
            ]
          },
          "metadata": {
            "tags": [],
            "needs_background": "light"
          }
        }
      ]
    }
  ]
}
