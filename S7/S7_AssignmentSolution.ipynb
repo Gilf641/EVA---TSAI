{
  "nbformat": 4,
  "nbformat_minor": 0,
  "metadata": {
    "colab": {
      "name": "S7_AssignmentSolution.ipynb",
      "provenance": [],
      "collapsed_sections": [],
      "include_colab_link": true
    },
    "kernelspec": {
      "name": "python3",
      "display_name": "Python 3"
    },
    "accelerator": "GPU",
    "widgets": {
      "application/vnd.jupyter.widget-state+json": {
        "eea5dc6870734b38b155d5f4e9e669a4": {
          "model_module": "@jupyter-widgets/controls",
          "model_name": "HBoxModel",
          "state": {
            "_view_name": "HBoxView",
            "_dom_classes": [],
            "_model_name": "HBoxModel",
            "_view_module": "@jupyter-widgets/controls",
            "_model_module_version": "1.5.0",
            "_view_count": null,
            "_view_module_version": "1.5.0",
            "box_style": "",
            "layout": "IPY_MODEL_9996eb9aceeb4fefa47536e8115f05e9",
            "_model_module": "@jupyter-widgets/controls",
            "children": [
              "IPY_MODEL_b58dbd366d304368bbc3c0834311db71",
              "IPY_MODEL_ce16f229e1c84d66a19bf4c9574ed5ce"
            ]
          }
        },
        "9996eb9aceeb4fefa47536e8115f05e9": {
          "model_module": "@jupyter-widgets/base",
          "model_name": "LayoutModel",
          "state": {
            "_view_name": "LayoutView",
            "grid_template_rows": null,
            "right": null,
            "justify_content": null,
            "_view_module": "@jupyter-widgets/base",
            "overflow": null,
            "_model_module_version": "1.2.0",
            "_view_count": null,
            "flex_flow": null,
            "width": null,
            "min_width": null,
            "border": null,
            "align_items": null,
            "bottom": null,
            "_model_module": "@jupyter-widgets/base",
            "top": null,
            "grid_column": null,
            "overflow_y": null,
            "overflow_x": null,
            "grid_auto_flow": null,
            "grid_area": null,
            "grid_template_columns": null,
            "flex": null,
            "_model_name": "LayoutModel",
            "justify_items": null,
            "grid_row": null,
            "max_height": null,
            "align_content": null,
            "visibility": null,
            "align_self": null,
            "height": null,
            "min_height": null,
            "padding": null,
            "grid_auto_rows": null,
            "grid_gap": null,
            "max_width": null,
            "order": null,
            "_view_module_version": "1.2.0",
            "grid_template_areas": null,
            "object_position": null,
            "object_fit": null,
            "grid_auto_columns": null,
            "margin": null,
            "display": null,
            "left": null
          }
        },
        "b58dbd366d304368bbc3c0834311db71": {
          "model_module": "@jupyter-widgets/controls",
          "model_name": "FloatProgressModel",
          "state": {
            "_view_name": "ProgressView",
            "style": "IPY_MODEL_b4d39b0f9c7a45c09794600cfec563c4",
            "_dom_classes": [],
            "description": "",
            "_model_name": "FloatProgressModel",
            "bar_style": "success",
            "max": 1,
            "_view_module": "@jupyter-widgets/controls",
            "_model_module_version": "1.5.0",
            "value": 1,
            "_view_count": null,
            "_view_module_version": "1.5.0",
            "orientation": "horizontal",
            "min": 0,
            "description_tooltip": null,
            "_model_module": "@jupyter-widgets/controls",
            "layout": "IPY_MODEL_b52c98c772ae47ff81c971d9fff6e3af"
          }
        },
        "ce16f229e1c84d66a19bf4c9574ed5ce": {
          "model_module": "@jupyter-widgets/controls",
          "model_name": "HTMLModel",
          "state": {
            "_view_name": "HTMLView",
            "style": "IPY_MODEL_bb2a2fd1d9644cd3b1e09678443f7e98",
            "_dom_classes": [],
            "description": "",
            "_model_name": "HTMLModel",
            "placeholder": "​",
            "_view_module": "@jupyter-widgets/controls",
            "_model_module_version": "1.5.0",
            "value": " 170500096/? [00:07&lt;00:00, 22249784.54it/s]",
            "_view_count": null,
            "_view_module_version": "1.5.0",
            "description_tooltip": null,
            "_model_module": "@jupyter-widgets/controls",
            "layout": "IPY_MODEL_a656dcb420f74f6abc9059d4fc55e152"
          }
        },
        "b4d39b0f9c7a45c09794600cfec563c4": {
          "model_module": "@jupyter-widgets/controls",
          "model_name": "ProgressStyleModel",
          "state": {
            "_view_name": "StyleView",
            "_model_name": "ProgressStyleModel",
            "description_width": "initial",
            "_view_module": "@jupyter-widgets/base",
            "_model_module_version": "1.5.0",
            "_view_count": null,
            "_view_module_version": "1.2.0",
            "bar_color": null,
            "_model_module": "@jupyter-widgets/controls"
          }
        },
        "b52c98c772ae47ff81c971d9fff6e3af": {
          "model_module": "@jupyter-widgets/base",
          "model_name": "LayoutModel",
          "state": {
            "_view_name": "LayoutView",
            "grid_template_rows": null,
            "right": null,
            "justify_content": null,
            "_view_module": "@jupyter-widgets/base",
            "overflow": null,
            "_model_module_version": "1.2.0",
            "_view_count": null,
            "flex_flow": null,
            "width": null,
            "min_width": null,
            "border": null,
            "align_items": null,
            "bottom": null,
            "_model_module": "@jupyter-widgets/base",
            "top": null,
            "grid_column": null,
            "overflow_y": null,
            "overflow_x": null,
            "grid_auto_flow": null,
            "grid_area": null,
            "grid_template_columns": null,
            "flex": null,
            "_model_name": "LayoutModel",
            "justify_items": null,
            "grid_row": null,
            "max_height": null,
            "align_content": null,
            "visibility": null,
            "align_self": null,
            "height": null,
            "min_height": null,
            "padding": null,
            "grid_auto_rows": null,
            "grid_gap": null,
            "max_width": null,
            "order": null,
            "_view_module_version": "1.2.0",
            "grid_template_areas": null,
            "object_position": null,
            "object_fit": null,
            "grid_auto_columns": null,
            "margin": null,
            "display": null,
            "left": null
          }
        },
        "bb2a2fd1d9644cd3b1e09678443f7e98": {
          "model_module": "@jupyter-widgets/controls",
          "model_name": "DescriptionStyleModel",
          "state": {
            "_view_name": "StyleView",
            "_model_name": "DescriptionStyleModel",
            "description_width": "",
            "_view_module": "@jupyter-widgets/base",
            "_model_module_version": "1.5.0",
            "_view_count": null,
            "_view_module_version": "1.2.0",
            "_model_module": "@jupyter-widgets/controls"
          }
        },
        "a656dcb420f74f6abc9059d4fc55e152": {
          "model_module": "@jupyter-widgets/base",
          "model_name": "LayoutModel",
          "state": {
            "_view_name": "LayoutView",
            "grid_template_rows": null,
            "right": null,
            "justify_content": null,
            "_view_module": "@jupyter-widgets/base",
            "overflow": null,
            "_model_module_version": "1.2.0",
            "_view_count": null,
            "flex_flow": null,
            "width": null,
            "min_width": null,
            "border": null,
            "align_items": null,
            "bottom": null,
            "_model_module": "@jupyter-widgets/base",
            "top": null,
            "grid_column": null,
            "overflow_y": null,
            "overflow_x": null,
            "grid_auto_flow": null,
            "grid_area": null,
            "grid_template_columns": null,
            "flex": null,
            "_model_name": "LayoutModel",
            "justify_items": null,
            "grid_row": null,
            "max_height": null,
            "align_content": null,
            "visibility": null,
            "align_self": null,
            "height": null,
            "min_height": null,
            "padding": null,
            "grid_auto_rows": null,
            "grid_gap": null,
            "max_width": null,
            "order": null,
            "_view_module_version": "1.2.0",
            "grid_template_areas": null,
            "object_position": null,
            "object_fit": null,
            "grid_auto_columns": null,
            "margin": null,
            "display": null,
            "left": null
          }
        }
      }
    }
  },
  "cells": [
    {
      "cell_type": "markdown",
      "metadata": {
        "id": "view-in-github",
        "colab_type": "text"
      },
      "source": [
        "<a href=\"https://colab.research.google.com/github/Gilf641/EVA4/blob/master/S7/S7_AssignmentSolution.ipynb\" target=\"_parent\"><img src=\"https://colab.research.google.com/assets/colab-badge.svg\" alt=\"Open In Colab\"/></a>"
      ]
    },
    {
      "cell_type": "markdown",
      "metadata": {
        "id": "ZnCWay-LyNze",
        "colab_type": "text"
      },
      "source": [
        "**Load required libraries**"
      ]
    },
    {
      "cell_type": "code",
      "metadata": {
        "id": "KkWSFI2_ySMA",
        "colab_type": "code",
        "colab": {}
      },
      "source": [
        "from __future__ import print_function\n",
        "import torch\n",
        "import torch.nn as nn\n",
        "import torch.nn.functional as F\n",
        "import torch.optim as optim\n",
        "from torchvision import datasets, transforms\n",
        "%matplotlib inline\n",
        "import matplotlib.pyplot as plt\n",
        "from torch.optim.lr_scheduler import OneCycleLR\n",
        "import torchvision"
      ],
      "execution_count": 0,
      "outputs": []
    },
    {
      "cell_type": "code",
      "metadata": {
        "id": "KlRKP46gZeKb",
        "colab_type": "code",
        "outputId": "f76aaccd-3c87-48ae-f1df-8e46697742e7",
        "colab": {
          "base_uri": "https://localhost:8080/",
          "height": 124
        }
      },
      "source": [
        "# mount the drive \n",
        "from google.colab import drive\n",
        "drive.mount('/content/drive')"
      ],
      "execution_count": 4,
      "outputs": [
        {
          "output_type": "stream",
          "text": [
            "Go to this URL in a browser: https://accounts.google.com/o/oauth2/auth?client_id=947318989803-6bn6qk8qdgf4n4g3pfee6491hc0brc4i.apps.googleusercontent.com&redirect_uri=urn%3aietf%3awg%3aoauth%3a2.0%3aoob&response_type=code&scope=email%20https%3a%2f%2fwww.googleapis.com%2fauth%2fdocs.test%20https%3a%2f%2fwww.googleapis.com%2fauth%2fdrive%20https%3a%2f%2fwww.googleapis.com%2fauth%2fdrive.photos.readonly%20https%3a%2f%2fwww.googleapis.com%2fauth%2fpeopleapi.readonly\n",
            "\n",
            "Enter your authorization code:\n",
            "··········\n",
            "Mounted at /content/drive\n"
          ],
          "name": "stdout"
        }
      ]
    },
    {
      "cell_type": "code",
      "metadata": {
        "id": "txbLotrzZeNo",
        "colab_type": "code",
        "colab": {}
      },
      "source": [
        "# add path to our library in default search path\n",
        "import sys\n",
        "sys.path.append('/content/drive/My Drive/EVA4B2-TSAI/vision_library')"
      ],
      "execution_count": 0,
      "outputs": []
    },
    {
      "cell_type": "code",
      "metadata": {
        "id": "10T5wo3_Qw3L",
        "colab_type": "code",
        "colab": {}
      },
      "source": [
        "# Apply Image Transforms\n",
        "\n",
        "import image_transformations\n",
        "import numpy as np\n",
        "from torchvision import transforms\n",
        "\n",
        "channel_means = (0.5, 0.5, 0.5)\n",
        "channel_stdevs = (0.5, 0.5, 0.5)\n",
        "trans = image_transformations.Transforms(normalize=True, mean=channel_means, stdev=channel_stdevs)\n",
        "\n",
        "train_transform = trans.train_transforms()\n",
        "test_transform = trans.test_transforms()\n",
        "                                       "
      ],
      "execution_count": 0,
      "outputs": []
    },
    {
      "cell_type": "code",
      "metadata": {
        "id": "6XLSZfy1Qlrl",
        "colab_type": "code",
        "outputId": "31d8e051-51cf-4935-8723-d5b6802913eb",
        "colab": {
          "base_uri": "https://localhost:8080/",
          "height": 101,
          "referenced_widgets": [
            "eea5dc6870734b38b155d5f4e9e669a4",
            "9996eb9aceeb4fefa47536e8115f05e9",
            "b58dbd366d304368bbc3c0834311db71",
            "ce16f229e1c84d66a19bf4c9574ed5ce",
            "b4d39b0f9c7a45c09794600cfec563c4",
            "b52c98c772ae47ff81c971d9fff6e3af",
            "bb2a2fd1d9644cd3b1e09678443f7e98",
            "a656dcb420f74f6abc9059d4fc55e152"
          ]
        }
      },
      "source": [
        "# Load Train & Test Dataset\n",
        "\n",
        "train = torchvision.datasets.CIFAR10(root = './data', train = True, download = True, transform = train_transform)\n",
        "trainloader = torch.utils.data.DataLoader(train, batch_size=128, shuffle=True, num_workers=4)\n",
        "\n",
        "test = torchvision.datasets.CIFAR10(root = './data', train = False, download = True, transform = test_transform)\n",
        "testloader = torch.utils.data.DataLoader(test, batch_size=128, shuffle=False, num_workers=4)\n",
        "\n",
        "\n",
        "classes = ('plane', 'car', 'bird', 'cat',\n",
        "           'deer', 'dog', 'frog', 'horse', 'ship', 'truck')\n"
      ],
      "execution_count": 7,
      "outputs": [
        {
          "output_type": "stream",
          "text": [
            "Downloading https://www.cs.toronto.edu/~kriz/cifar-10-python.tar.gz to ./data/cifar-10-python.tar.gz\n"
          ],
          "name": "stdout"
        },
        {
          "output_type": "display_data",
          "data": {
            "application/vnd.jupyter.widget-view+json": {
              "model_id": "eea5dc6870734b38b155d5f4e9e669a4",
              "version_minor": 0,
              "version_major": 2
            },
            "text/plain": [
              "HBox(children=(FloatProgress(value=1.0, bar_style='info', max=1.0), HTML(value='')))"
            ]
          },
          "metadata": {
            "tags": []
          }
        },
        {
          "output_type": "stream",
          "text": [
            "Extracting ./data/cifar-10-python.tar.gz to ./data\n",
            "Files already downloaded and verified\n"
          ],
          "name": "stdout"
        }
      ]
    },
    {
      "cell_type": "markdown",
      "metadata": {
        "id": "TQMOXlNezi5D",
        "colab_type": "text"
      },
      "source": [
        "**Show some Images**"
      ]
    },
    {
      "cell_type": "code",
      "metadata": {
        "id": "eSctnFTWziAU",
        "colab_type": "code",
        "outputId": "9fffd49b-8841-44e5-e795-b2d9bc3ace82",
        "colab": {
          "base_uri": "https://localhost:8080/",
          "height": 304
        }
      },
      "source": [
        "\n",
        "import matplotlib.pyplot as plt\n",
        "import numpy as np\n",
        "\n",
        "# functions to show an image\n",
        "\n",
        "\n",
        "def imshow(img):\n",
        "    img = img / 2 + 0.5  # unnormalize this is make sure the image is visible, if this step is skipped then the resulting images have a dark portion\n",
        "    npimg = img.numpy()   # converting image to numpy array format\n",
        "    plt.imshow(np.transpose(npimg, (1, 2, 0)))    # transposing npimg array\n",
        "\n",
        "\n",
        "# get some random training images\n",
        "dataiter = iter(trainloader)\n",
        "images, labels = dataiter.next()\n",
        "\n",
        "# show images\n",
        "imshow(torchvision.utils.make_grid(images))\n",
        "# print labels\n",
        "print(' '.join('%5s' % classes[labels[j]] for j in range(4)))"
      ],
      "execution_count": 8,
      "outputs": [
        {
          "output_type": "stream",
          "text": [
            "  car  bird  bird  frog\n"
          ],
          "name": "stdout"
        },
        {
          "output_type": "display_data",
          "data": {
            "image/png": "[encoded data removed]",
            "text/plain": [
              "<Figure size 432x288 with 1 Axes>"
            ]
          },
          "metadata": {
            "tags": [],
            "needs_background": "light"
          }
        },
        {
          "output_type": "stream",
          "text": [
            "\n"
          ],
          "name": "stdout"
        }
      ]
    },
    {
      "cell_type": "code",
      "metadata": {
        "id": "-TjI_kpU3WyA",
        "colab_type": "code",
        "outputId": "23b199af-7cf5-4f0d-8c7e-1397c093966f",
        "colab": {
          "base_uri": "https://localhost:8080/",
          "height": 1000
        }
      },
      "source": [
        "# Model Summary\n",
        "\n",
        "import cifar10_models as models\n",
        "!pip install torchsummary\n",
        "from torchsummary import summary\n",
        "\n",
        "\n",
        "use_cuda = torch.cuda.is_available()\n",
        "device = torch.device(\"cuda\" if use_cuda else \"cpu\")\n",
        "print(device)\n",
        "model = models.cfarResNet(False).to(device)\n",
        "summary(model, input_size=(3, 32, 32))\n"
      ],
      "execution_count": 9,
      "outputs": [
        {
          "output_type": "stream",
          "text": [
            "Requirement already satisfied: torchsummary in /usr/local/lib/python3.6/dist-packages (1.5.1)\n",
            "cuda\n",
            "----------------------------------------------------------------\n",
            "        Layer (type)               Output Shape         Param #\n",
            "================================================================\n",
            "            Conv2d-1           [-1, 16, 34, 34]             432\n",
            "              ReLU-2           [-1, 16, 34, 34]               0\n",
            "       BatchNorm2d-3           [-1, 16, 34, 34]              32\n",
            "           Dropout-4           [-1, 16, 34, 34]               0\n",
            "            Conv2d-5           [-1, 32, 34, 34]           4,608\n",
            "              ReLU-6           [-1, 32, 34, 34]               0\n",
            "       BatchNorm2d-7           [-1, 32, 34, 34]              64\n",
            "           Dropout-8           [-1, 32, 34, 34]               0\n",
            "            Conv2d-9           [-1, 32, 32, 32]           9,216\n",
            "             ReLU-10           [-1, 32, 32, 32]               0\n",
            "      BatchNorm2d-11           [-1, 32, 32, 32]              64\n",
            "          Dropout-12           [-1, 32, 32, 32]               0\n",
            "           Conv2d-13           [-1, 32, 32, 32]           9,216\n",
            "             ReLU-14           [-1, 32, 32, 32]               0\n",
            "      BatchNorm2d-15           [-1, 32, 32, 32]              64\n",
            "          Dropout-16           [-1, 32, 32, 32]               0\n",
            "        MaxPool2d-17           [-1, 32, 16, 16]               0\n",
            "           Conv2d-18           [-1, 64, 18, 18]           2,048\n",
            "             ReLU-19           [-1, 64, 18, 18]               0\n",
            "      BatchNorm2d-20           [-1, 64, 18, 18]             128\n",
            "          Dropout-21           [-1, 64, 18, 18]               0\n",
            "           Conv2d-22           [-1, 64, 18, 18]          36,864\n",
            "             ReLU-23           [-1, 64, 18, 18]               0\n",
            "      BatchNorm2d-24           [-1, 64, 18, 18]             128\n",
            "          Dropout-25           [-1, 64, 18, 18]               0\n",
            "           Conv2d-26           [-1, 64, 16, 16]          36,864\n",
            "             ReLU-27           [-1, 64, 16, 16]               0\n",
            "      BatchNorm2d-28           [-1, 64, 16, 16]             128\n",
            "          Dropout-29           [-1, 64, 16, 16]               0\n",
            "        MaxPool2d-30             [-1, 64, 8, 8]               0\n",
            "           Conv2d-31           [-1, 32, 10, 10]           2,048\n",
            "             ReLU-32           [-1, 32, 10, 10]               0\n",
            "      BatchNorm2d-33           [-1, 32, 10, 10]              64\n",
            "          Dropout-34           [-1, 32, 10, 10]               0\n",
            "           Conv2d-35           [-1, 32, 10, 10]             288\n",
            "           Conv2d-36           [-1, 64, 10, 10]           2,112\n",
            "DepthwiseSeparableConv2d-37           [-1, 64, 10, 10]               0\n",
            "             ReLU-38           [-1, 64, 10, 10]               0\n",
            "      BatchNorm2d-39           [-1, 64, 10, 10]             128\n",
            "           Conv2d-40           [-1, 64, 10, 10]          36,864\n",
            "             ReLU-41           [-1, 64, 10, 10]               0\n",
            "      BatchNorm2d-42           [-1, 64, 10, 10]             128\n",
            "          Dropout-43           [-1, 64, 10, 10]               0\n",
            "        MaxPool2d-44             [-1, 64, 5, 5]               0\n",
            "           Conv2d-45            [-1, 128, 5, 5]           8,192\n",
            "             ReLU-46            [-1, 128, 5, 5]               0\n",
            "      BatchNorm2d-47            [-1, 128, 5, 5]             256\n",
            "          Dropout-48            [-1, 128, 5, 5]               0\n",
            "           Conv2d-49            [-1, 128, 3, 3]         147,456\n",
            "             ReLU-50            [-1, 128, 3, 3]               0\n",
            "      BatchNorm2d-51            [-1, 128, 3, 3]             256\n",
            "          Dropout-52            [-1, 128, 3, 3]               0\n",
            "           Conv2d-53            [-1, 128, 3, 3]          16,384\n",
            "        AvgPool2d-54            [-1, 128, 1, 1]               0\n",
            "           Conv2d-55             [-1, 10, 1, 1]           1,280\n",
            "================================================================\n",
            "Total params: 315,312\n",
            "Trainable params: 315,312\n",
            "Non-trainable params: 0\n",
            "----------------------------------------------------------------\n",
            "Input size (MB): 0.01\n",
            "Forward/backward pass size (MB): 6.22\n",
            "Params size (MB): 1.20\n",
            "Estimated Total Size (MB): 7.43\n",
            "----------------------------------------------------------------\n"
          ],
          "name": "stdout"
        }
      ]
    },
    {
      "cell_type": "code",
      "metadata": {
        "id": "YEt2S_7DtjRl",
        "colab_type": "code",
        "outputId": "fdbff76f-183e-480f-db5f-3232e4e7ae1b",
        "colab": {
          "base_uri": "https://localhost:8080/",
          "height": 1000
        }
      },
      "source": [
        "import execute # this is to train & test the model\n",
        "\n",
        "model = models.cfarResNet().to(device)\n",
        "\n",
        "optimizer = optim.SGD(model.parameters(), lr=0.01, momentum=0.9, weight_decay=1e-4)\n",
        "scheduler = torch.optim.lr_scheduler.OneCycleLR(optimizer, max_lr=0.1, steps_per_epoch=len(trainloader), epochs=15)\n",
        "\n",
        "model1 = execute.Test_Train()\n",
        "EPOCHS = 15\n",
        "for epoch in range(1,EPOCHS+1):\n",
        "  print(\"EPOCH:\", epoch)\n",
        "  model1.train(model, device, trainloader, optimizer, epoch, scheduler, L1lambda=1e-5)\n",
        "  model1.test(model, device, testloader,\"model.pt\")"
      ],
      "execution_count": 11,
      "outputs": [
        {
          "output_type": "stream",
          "text": [
            "\r  0%|          | 0/391 [00:00<?, ?it/s]"
          ],
          "name": "stderr"
        },
        {
          "output_type": "stream",
          "text": [
            "EPOCH: 1\n"
          ],
          "name": "stdout"
        },
        {
          "output_type": "stream",
          "text": [
            "Loss=1.3030799627304077 Batch_id=390 Accuracy=42.23: 100%|██████████| 391/391 [00:20<00:00, 18.72it/s]\n",
            "  0%|          | 0/391 [00:00<?, ?it/s]"
          ],
          "name": "stderr"
        },
        {
          "output_type": "stream",
          "text": [
            "Validation loss has  decreased (inf --> 1.3046).  Saving model ...\n",
            "\n",
            "Test set: Average loss: 1.3046, Accuracy: 5325/10000 (53.25%)\n",
            "\n",
            "EPOCH: 2\n"
          ],
          "name": "stdout"
        },
        {
          "output_type": "stream",
          "text": [
            "Loss=1.018509030342102 Batch_id=390 Accuracy=61.10: 100%|██████████| 391/391 [00:20<00:00, 19.12it/s]\n",
            "  0%|          | 0/391 [00:00<?, ?it/s]"
          ],
          "name": "stderr"
        },
        {
          "output_type": "stream",
          "text": [
            "Validation loss has  decreased (1.3046 --> 1.0111).  Saving model ...\n",
            "\n",
            "Test set: Average loss: 1.0111, Accuracy: 6444/10000 (64.44%)\n",
            "\n",
            "EPOCH: 3\n"
          ],
          "name": "stdout"
        },
        {
          "output_type": "stream",
          "text": [
            "Loss=0.926241934299469 Batch_id=390 Accuracy=69.16: 100%|██████████| 391/391 [00:20<00:00, 19.21it/s]\n",
            "  0%|          | 0/391 [00:00<?, ?it/s]"
          ],
          "name": "stderr"
        },
        {
          "output_type": "stream",
          "text": [
            "Validation loss has  decreased (1.0111 --> 0.8918).  Saving model ...\n",
            "\n",
            "Test set: Average loss: 0.8918, Accuracy: 6885/10000 (68.85%)\n",
            "\n",
            "EPOCH: 4\n"
          ],
          "name": "stdout"
        },
        {
          "output_type": "stream",
          "text": [
            "Loss=0.7256032824516296 Batch_id=390 Accuracy=73.12: 100%|██████████| 391/391 [00:20<00:00, 19.11it/s]\n",
            "  0%|          | 0/391 [00:00<?, ?it/s]"
          ],
          "name": "stderr"
        },
        {
          "output_type": "stream",
          "text": [
            "Validation loss has  decreased (0.8918 --> 0.7580).  Saving model ...\n",
            "\n",
            "Test set: Average loss: 0.7580, Accuracy: 7356/10000 (73.56%)\n",
            "\n",
            "EPOCH: 5\n"
          ],
          "name": "stdout"
        },
        {
          "output_type": "stream",
          "text": [
            "Loss=0.7293208837509155 Batch_id=390 Accuracy=76.08: 100%|██████████| 391/391 [00:20<00:00, 19.25it/s]\n",
            "  0%|          | 0/391 [00:00<?, ?it/s]"
          ],
          "name": "stderr"
        },
        {
          "output_type": "stream",
          "text": [
            "Validation loss has  decreased (0.7580 --> 0.6738).  Saving model ...\n",
            "\n",
            "Test set: Average loss: 0.6738, Accuracy: 7619/10000 (76.19%)\n",
            "\n",
            "EPOCH: 6\n"
          ],
          "name": "stdout"
        },
        {
          "output_type": "stream",
          "text": [
            "Loss=0.9399746060371399 Batch_id=390 Accuracy=78.04: 100%|██████████| 391/391 [00:20<00:00, 19.23it/s]\n",
            "  0%|          | 0/391 [00:00<?, ?it/s]"
          ],
          "name": "stderr"
        },
        {
          "output_type": "stream",
          "text": [
            "\n",
            "Test set: Average loss: 0.7393, Accuracy: 7506/10000 (75.06%)\n",
            "\n",
            "EPOCH: 7\n"
          ],
          "name": "stdout"
        },
        {
          "output_type": "stream",
          "text": [
            "Loss=0.8702645301818848 Batch_id=390 Accuracy=79.56: 100%|██████████| 391/391 [00:20<00:00, 19.08it/s]\n",
            "  0%|          | 0/391 [00:00<?, ?it/s]"
          ],
          "name": "stderr"
        },
        {
          "output_type": "stream",
          "text": [
            "\n",
            "Test set: Average loss: 0.6886, Accuracy: 7700/10000 (77.00%)\n",
            "\n",
            "EPOCH: 8\n"
          ],
          "name": "stdout"
        },
        {
          "output_type": "stream",
          "text": [
            "Loss=0.6980662941932678 Batch_id=390 Accuracy=80.75: 100%|██████████| 391/391 [00:20<00:00, 19.23it/s]\n",
            "  0%|          | 0/391 [00:00<?, ?it/s]"
          ],
          "name": "stderr"
        },
        {
          "output_type": "stream",
          "text": [
            "Validation loss has  decreased (0.6738 --> 0.6144).  Saving model ...\n",
            "\n",
            "Test set: Average loss: 0.6144, Accuracy: 7819/10000 (78.19%)\n",
            "\n",
            "EPOCH: 9\n"
          ],
          "name": "stdout"
        },
        {
          "output_type": "stream",
          "text": [
            "Loss=0.5247633457183838 Batch_id=390 Accuracy=82.22: 100%|██████████| 391/391 [00:20<00:00, 19.21it/s]\n",
            "  0%|          | 0/391 [00:00<?, ?it/s]"
          ],
          "name": "stderr"
        },
        {
          "output_type": "stream",
          "text": [
            "Validation loss has  decreased (0.6144 --> 0.5490).  Saving model ...\n",
            "\n",
            "Test set: Average loss: 0.5490, Accuracy: 8153/10000 (81.53%)\n",
            "\n",
            "EPOCH: 10\n"
          ],
          "name": "stdout"
        },
        {
          "output_type": "stream",
          "text": [
            "Loss=0.6453862190246582 Batch_id=390 Accuracy=83.25: 100%|██████████| 391/391 [00:20<00:00, 19.13it/s]\n",
            "  0%|          | 0/391 [00:00<?, ?it/s]"
          ],
          "name": "stderr"
        },
        {
          "output_type": "stream",
          "text": [
            "Validation loss has  decreased (0.5490 --> 0.5238).  Saving model ...\n",
            "\n",
            "Test set: Average loss: 0.5238, Accuracy: 8231/10000 (82.31%)\n",
            "\n",
            "EPOCH: 11\n"
          ],
          "name": "stdout"
        },
        {
          "output_type": "stream",
          "text": [
            "Loss=0.5926075577735901 Batch_id=390 Accuracy=84.77: 100%|██████████| 391/391 [00:20<00:00, 19.28it/s]\n",
            "  0%|          | 0/391 [00:00<?, ?it/s]"
          ],
          "name": "stderr"
        },
        {
          "output_type": "stream",
          "text": [
            "Validation loss has  decreased (0.5238 --> 0.5174).  Saving model ...\n",
            "\n",
            "Test set: Average loss: 0.5174, Accuracy: 8239/10000 (82.39%)\n",
            "\n",
            "EPOCH: 12\n"
          ],
          "name": "stdout"
        },
        {
          "output_type": "stream",
          "text": [
            "Loss=0.5607554912567139 Batch_id=390 Accuracy=86.44: 100%|██████████| 391/391 [00:20<00:00, 19.35it/s]\n",
            "  0%|          | 0/391 [00:00<?, ?it/s]"
          ],
          "name": "stderr"
        },
        {
          "output_type": "stream",
          "text": [
            "Validation loss has  decreased (0.5174 --> 0.5055).  Saving model ...\n",
            "\n",
            "Test set: Average loss: 0.5055, Accuracy: 8275/10000 (82.75%)\n",
            "\n",
            "EPOCH: 13\n"
          ],
          "name": "stdout"
        },
        {
          "output_type": "stream",
          "text": [
            "Loss=0.4096766710281372 Batch_id=390 Accuracy=88.23: 100%|██████████| 391/391 [00:20<00:00, 19.27it/s]\n",
            "  0%|          | 0/391 [00:00<?, ?it/s]"
          ],
          "name": "stderr"
        },
        {
          "output_type": "stream",
          "text": [
            "Validation loss has  decreased (0.5055 --> 0.4702).  Saving model ...\n",
            "\n",
            "Test set: Average loss: 0.4702, Accuracy: 8456/10000 (84.56%)\n",
            "\n",
            "EPOCH: 14\n"
          ],
          "name": "stdout"
        },
        {
          "output_type": "stream",
          "text": [
            "Loss=0.4005778431892395 Batch_id=390 Accuracy=90.01: 100%|██████████| 391/391 [00:20<00:00, 19.37it/s]\n",
            "  0%|          | 0/391 [00:00<?, ?it/s]"
          ],
          "name": "stderr"
        },
        {
          "output_type": "stream",
          "text": [
            "Validation loss has  decreased (0.4702 --> 0.4580).  Saving model ...\n",
            "\n",
            "Test set: Average loss: 0.4580, Accuracy: 8502/10000 (85.02%)\n",
            "\n",
            "EPOCH: 15\n"
          ],
          "name": "stdout"
        },
        {
          "output_type": "stream",
          "text": [
            "Loss=0.2916576862335205 Batch_id=390 Accuracy=91.18: 100%|██████████| 391/391 [00:20<00:00, 19.17it/s]\n"
          ],
          "name": "stderr"
        },
        {
          "output_type": "stream",
          "text": [
            "Validation loss has  decreased (0.4580 --> 0.4481).  Saving model ...\n",
            "\n",
            "Test set: Average loss: 0.4481, Accuracy: 8538/10000 (85.38%)\n",
            "\n"
          ],
          "name": "stdout"
        }
      ]
    },
    {
      "cell_type": "code",
      "metadata": {
        "id": "T0hBIMq6xCVL",
        "colab_type": "code",
        "colab": {}
      },
      "source": [
        "fig, axs = plt.subplots(2,2,figsize=(15,10))\n",
        "axs[0, 0].plot(model1.train_losses)\n",
        "axs[0, 0].set_title(\"Training Loss\")\n",
        "axs[1, 0].plot(model1.train_acc)\n",
        "axs[1, 0].set_title(\"Training Accuracy\")\n",
        "axs[0, 1].plot(model1.test_losses)\n",
        "axs[0, 1].set_title(\"Test Loss\")\n",
        "axs[1, 1].plot(model1.test_acc)\n",
        "axs[1, 1].set_title(\"Test Accuracy\")"
      ],
      "execution_count": 0,
      "outputs": []
    }
  ]
}