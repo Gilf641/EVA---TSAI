{
  "nbformat": 4,
  "nbformat_minor": 0,
  "metadata": {
    "colab": {
      "name": "EVA4 - Session 2.ipynb",
      "provenance": [],
      "include_colab_link": true
    },
    "kernelspec": {
      "name": "python3",
      "display_name": "Python 3"
    },
    "accelerator": "GPU"
  },
  "cells": [
    {
      "cell_type": "markdown",
      "metadata": {
        "id": "view-in-github",
        "colab_type": "text"
      },
      "source": [
        "<a href=\"https://colab.research.google.com/github/Gilf641/EVA4-/blob/master/EVA4_Session4_AssignmentSoln_Model7.ipynb\" target=\"_parent\"><img src=\"https://colab.research.google.com/assets/colab-badge.svg\" alt=\"Open In Colab\"/></a>"
      ]
    },
    {
      "cell_type": "code",
      "metadata": {
        "id": "0m2JWFliFfKT",
        "colab_type": "code",
        "colab": {}
      },
      "source": [
        "# Load the required libraries\n",
        "\n",
        "from __future__ import print_function\n",
        "import torch # PyTorch Main Library\n",
        "import torch.nn as nn # Neural Net Lib\n",
        "import torch.nn.functional as F\n",
        "import torch.optim as optim\n",
        "from torchvision import datasets, transforms "
      ],
      "execution_count": 0,
      "outputs": []
    },
    {
      "cell_type": "code",
      "metadata": {
        "id": "zrYeXUm_1Xuh",
        "colab_type": "code",
        "colab": {}
      },
      "source": [
        ""
      ],
      "execution_count": 0,
      "outputs": []
    },
    {
      "cell_type": "markdown",
      "metadata": {
        "id": "Q3Xq-KL0WThY",
        "colab_type": "text"
      },
      "source": [
        "I have modified the original code and created few models with some tweaks i.e by adding Dropout, 1x1 Kernel etc. \n",
        " For now my main model is **Model5**"
      ]
    },
    {
      "cell_type": "code",
      "metadata": {
        "id": "h_Cx9q2QFgM7",
        "colab_type": "code",
        "colab": {}
      },
      "source": [
        "# # Main Model\n",
        "\n",
        "# class Net(nn.Module):\n",
        "#     def __init__(self):\n",
        "#         super(Net, self).__init__()\n",
        "#         self.conv1 = nn.Conv2d(1, 32, 3, padding=1) #input -? OUtput? RF\n",
        "#         self.conv2 = nn.Conv2d(32, 64, 3, padding=1)\n",
        "#         self.pool1 = nn.MaxPool2d(2, 2)\n",
        "#         self.conv3 = nn.Conv2d(64, 128, 3, padding=1)\n",
        "#         self.conv4 = nn.Conv2d(128, 256, 3, padding=1)\n",
        "#         self.pool2 = nn.MaxPool2d(2, 2)\n",
        "#         self.conv5 = nn.Conv2d(256, 512, 3)\n",
        "#         self.conv6 = nn.Conv2d(512, 1024, 3)\n",
        "#         self.conv7 = nn.Conv2d(1024, 10, 3)\n",
        "\n",
        "#     def forward(self, x):\n",
        "#         x = self.pool1(F.relu(self.conv2(F.relu(self.conv1(x)))))\n",
        "#         x = self.pool2(F.relu(self.conv4(F.relu(self.conv3(x)))))\n",
        "#         x = F.relu(self.conv6(F.relu(self.conv5(x))))\n",
        "#         x = F.relu(self.conv7(x))\n",
        "#         x = x.view(-1, 10)\n",
        "#         return F.log_softmax(x) # using\n",
        "\n",
        "# !pip install torchsummary\n",
        "# from torchsummary import summary\n",
        "# use_cuda = torch.cuda.is_available()\n",
        "# device = torch.device(\"cuda\" if use_cuda else \"cpu\")\n",
        "# model = Net().to(device)\n",
        "# summary(model, input_size=(1, 28, 28))\n",
        "\n",
        "\n",
        "\n",
        "# # MODEL DETAILS\n",
        "\n",
        "# Total params: 6,379,786\n",
        "# Trainable params: 6,379,786\n",
        "# Non-trainable params: 0\n",
        "# ----------------------------------------------------------------\n",
        "# Input size (MB): 0.00\n",
        "# Forward/backward pass size (MB): 1.51\n",
        "# Params size (MB): 24.34\n",
        "# Estimated Total Size (MB): 25.85"
      ],
      "execution_count": 0,
      "outputs": []
    },
    {
      "cell_type": "code",
      "metadata": {
        "id": "iwh0k06QUB-f",
        "colab_type": "code",
        "colab": {}
      },
      "source": [
        "# # Model 1\n",
        "# class Net(nn.Module):\n",
        "#     def __init__(self):\n",
        "#         super(Net, self).__init__()\n",
        "#         self.conv1 = nn.Conv2d(1, 32, 3, padding=1) #input -? OUtput? RF\n",
        "#         self.conv2 = nn.Conv2d(32, 64, 3, padding=1)\n",
        "#         self.pool1 = nn.MaxPool2d(2, 2)\n",
        "#         self.drop1 = nn.Dropout(0.1)\n",
        "#         self.conv3 = nn.Conv2d(64, 128, 3)\n",
        "#         self.conv4 = nn.Conv2d(128, 256, 3)\n",
        "#         self.pool2 = nn.MaxPool2d(2, 2)\n",
        "#         # self.drop2 = nn.Dropout(0.1)\n",
        "#         self.conv5 = nn.Conv2d(256, 512, 3)\n",
        "#         self.conv6 = nn.Conv2d(512, 10, 3)\n",
        "\n",
        "#     def __str__(self):\n",
        "#       return 'Model 1'\n",
        "\n",
        " \n",
        "#     def forward(self, x):\n",
        "#         x = self.drop1(self.pool1(F.relu(self.conv2(F.relu(self.conv1(x))))))\n",
        "#         x = self.pool2(F.relu(self.conv4(F.relu(self.conv3(x)))))\n",
        "#         x = F.relu(self.conv5(x))\n",
        "#         x = F.relu(self.conv6(x))\n",
        "#         x = x.view(-1, 10)\n",
        "#         return F.log_softmax(x) # using log_softmax\n",
        "\n",
        "\n",
        "# !pip install torchsummary\n",
        "# from torchsummary import summary\n",
        "# use_cuda = torch.cuda.is_available()\n",
        "# device = torch.device(\"cuda\" if use_cuda else \"cpu\")\n",
        "# model1 = Net().to(device)\n",
        "# summary(model1, input_size=(1, 28, 28))\n",
        "\n",
        "\n",
        "# MODEL SUMMARY\n",
        "\n",
        "# Total params: 1,614,090\n",
        "# Trainable params: 1,614,090\n",
        "# Non-trainable params: 0\n",
        "# ----------------------------------------------------------------\n",
        "# Input size (MB): 0.00\n",
        "# Forward/backward pass size (MB): 1.19\n",
        "# Params size (MB): 6.16\n",
        "# Estimated Total Size (MB): 7.35"
      ],
      "execution_count": 0,
      "outputs": []
    },
    {
      "cell_type": "code",
      "metadata": {
        "id": "QYQrrZZxbUaa",
        "colab_type": "code",
        "colab": {}
      },
      "source": [
        "# # Model 2\n",
        "# class Net(nn.Module):\n",
        "#     def __init__(self):\n",
        "#         super(Net, self).__init__()\n",
        "#         self.conv1 = nn.Conv2d(1, 32, 3, padding = 1)\n",
        "#         self.conv2 = nn.Conv2d(32, 64, 3, padding = 1)\n",
        "#         self.pool1 = nn.MaxPool2d(2,2)\n",
        "#         self.drop1 = nn.Dropout(0.1)\n",
        "\n",
        "#         self.conv3 = nn.Conv2d(64, 128, 1)\n",
        "#         self.conv4 = nn.Conv2d(128, 256, 3)\n",
        "#         self.conv5 = nn.Conv2d(256, 512, 3)\n",
        "#         self.pool2 = nn.MaxPool2d(2,2)\n",
        "        \n",
        "#         self.conv6 = nn.Conv2d(512, 128, 3) # IDK whether it's correct\n",
        "#         self.conv7 = nn.Conv2d(128, 10, 3)\n",
        "\n",
        "        \n",
        "#     def __str__(self):\n",
        "#       return 'Model 2'\n",
        "\n",
        "#     def forward(self, x):\n",
        "#       x = self.drop1(self.pool1(F.relu(self.conv2(F.relu(self.conv1(x))))))\n",
        "#       x = self.pool2(F.relu(self.conv5(F.relu(self.conv4(F.relu(self.conv3(x)))))))\n",
        "      \n",
        "#       x = self.conv6(x)\n",
        "#       x = self.conv7(x)\n",
        "#       x = x.view(-1, 10)\n",
        "#       return F.log_softmax(x)\n",
        "\n",
        "# !pip install torchsummary\n",
        "# from torchsummary import summary\n",
        "# use_cuda = torch.cuda.is_available()\n",
        "# device = torch.device(\"cuda\" if use_cuda else \"cpu\")\n",
        "# model2 = Net().to(device)\n",
        "# summary(model2, input_size=(1, 28, 28))\n",
        "\n",
        "\n",
        "# # MODEL SUMMARY\n",
        "\n",
        "# Total params: 1,549,464\n",
        "# Trainable params: 1,549,464\n",
        "# Non-trainable params: 0\n",
        "# ----------------------------------------------------------------\n",
        "# Input size (MB): 0.00\n",
        "# Forward/backward pass size (MB): 1.73\n",
        "# Params size (MB): 5.91\n",
        "# Estimated Total Size (MB): 7.64"
      ],
      "execution_count": 0,
      "outputs": []
    },
    {
      "cell_type": "code",
      "metadata": {
        "id": "51Pf1qwL3CZA",
        "colab_type": "code",
        "colab": {}
      },
      "source": [
        "# # Model 3\n",
        "# class Net(nn.Module):\n",
        "#     def __init__(self):\n",
        "#         super(Net, self).__init__()\n",
        "#         self.conv1 = nn.Conv2d(1, 32, 3, padding = 1)\n",
        "#         self.conv2 = nn.Conv2d(32, 64, 3, padding = 1)\n",
        "#         self.pool1 = nn.MaxPool2d(2,2)\n",
        "#         self.drop1 = nn.Dropout(0.1)\n",
        "\n",
        "#         self.conv3 = nn.Conv2d(64, 128, 1)\n",
        "#         self.conv4 = nn.Conv2d(128, 256, 3)\n",
        "#         self.conv5 = nn.Conv2d(256, 512, 3)\n",
        "#         self.pool2 = nn.MaxPool2d(2,2)\n",
        "        \n",
        "#         self.conv6 = nn.Conv2d(512, 64, 3) # IDK whether it's correct\n",
        "#         self.conv7 = nn.Conv2d(64, 10, 3)\n",
        "\n",
        "        \n",
        "#     def __str__(self):\n",
        "#       return 'Model 2'\n",
        "\n",
        "#     def forward(self, x):\n",
        "#       x = self.drop1(self.pool1(F.relu(self.conv2(F.relu(self.conv1(x))))))\n",
        "#       x = self.pool2(F.relu(self.conv5(F.relu(self.conv4(F.relu(self.conv3(x)))))))\n",
        "      \n",
        "#       x = self.conv6(x)\n",
        "#       x = self.conv7(x)\n",
        "#       x = x.view(-1, 10)\n",
        "#       return F.log_softmax(x)\n",
        "\n",
        "# !pip install torchsummary\n",
        "# from torchsummary import summary\n",
        "# use_cuda = torch.cuda.is_available()\n",
        "# device = torch.device(\"cuda\" if use_cuda else \"cpu\")\n",
        "# model2 = Net().to(device)\n",
        "# summary(model2, input_size=(1, 28, 28))\n",
        "\n",
        "# # MODEL SUMMARY\n",
        "# Total params: 1,803,210\n",
        "# Trainable params: 1,803,210\n",
        "# Non-trainable params: 0\n",
        "# ----------------------------------------------------------------\n",
        "# Input size (MB): 0.00\n",
        "# Forward/backward pass size (MB): 1.73\n",
        "# Params size (MB): 6.88\n",
        "# Estimated Total Size (MB): 8.61"
      ],
      "execution_count": 0,
      "outputs": []
    },
    {
      "cell_type": "code",
      "metadata": {
        "id": "2zqk6m7vF8pv",
        "colab_type": "code",
        "colab": {}
      },
      "source": [
        "# # Model 4\n",
        "# class Net(nn.Module):\n",
        "#     def __init__(self):\n",
        "#         super(Net, self).__init__()\n",
        "#         self.conv1 = nn.Conv2d(1, 10, 3, padding = 1)\n",
        "#         self.conv2 = nn.Conv2d(10, 32, 3, padding = 1)\n",
        "#         self.pool1 = nn.MaxPool2d(2,2)\n",
        "#         self.drop1 = nn.Dropout(0.1)\n",
        "\n",
        "#         self.conv3 = nn.Conv2d(32, 64, 1)\n",
        "#         self.conv4 = nn.Conv2d(64, 64, 3)\n",
        "#         self.conv5 = nn.Conv2d(64, 32, 3)\n",
        "#         self.pool2 = nn.MaxPool2d(2,2)\n",
        "        \n",
        "#         self.conv6 = nn.Conv2d(32, 32, 3) # IDK whether it's correct\n",
        "#         self.conv7 = nn.Conv2d(32, 10, 3)\n",
        "      \n",
        "        \n",
        "\n",
        "#     def forward(self, x):\n",
        "#       x = self.drop1(self.pool1(F.relu(self.conv2(F.relu(self.conv1(x))))))\n",
        "#       x = self.pool2(F.relu(self.conv5(F.relu(self.conv4(F.relu(self.conv3(x)))))))\n",
        "      \n",
        "#       x = self.conv6(x)\n",
        "#       x = self.conv7(x)\n",
        "#       x = x.view(-1, 10)\n",
        "#       return F.log_softmax(x)\n",
        "\n",
        "# !pip install torchsummary\n",
        "# from torchsummary import summary\n",
        "# use_cuda = torch.cuda.is_available()\n",
        "# device = torch.device(\"cuda\" if use_cuda else \"cpu\")\n",
        "# model2 = Net().to(device)\n",
        "# summary(model2, input_size=(1, 28, 28))\n",
        "\n",
        "\n",
        "# # Model Summary\n",
        "\n",
        "# Total params: 72,654\n",
        "# Trainable params: 72,654\n",
        "# Non-trainable params: 0\n",
        "# ----------------------------------------------------------------\n",
        "# Input size (MB): 0.00\n",
        "# Forward/backward pass size (MB): 0.55\n",
        "# Params size (MB): 0.28\n",
        "# Estimated Total Size (MB): 0.83\n"
      ],
      "execution_count": 0,
      "outputs": []
    },
    {
      "cell_type": "code",
      "metadata": {
        "id": "wtr094LhPTnU",
        "colab_type": "code",
        "colab": {}
      },
      "source": [
        "# # Model 5\n",
        "# class Net(nn.Module):\n",
        "#     def __init__(self):\n",
        "#         super(Net, self).__init__()\n",
        "#         self.conv1 = nn.Conv2d(1, 10, 3, padding = 1)\n",
        "#         self.conv2 = nn.Conv2d(10, 10, 3, padding = 1)\n",
        "#         self.pool1 = nn.MaxPool2d(2,2)\n",
        "#         self.drop1 = nn.Dropout(0.1)\n",
        "\n",
        "#         self.conv3 = nn.Conv2d(10, 32, 1)\n",
        "#         self.conv4 = nn.Conv2d(32, 32, 3)\n",
        "#         self.conv5 = nn.Conv2d(32, 10, 3)\n",
        "#         self.pool2 = nn.MaxPool2d(2,2)\n",
        "        \n",
        "#         self.conv6 = nn.Conv2d(10, 10, 3) # IDK whether it's correct\n",
        "#         self.conv7 = nn.Conv2d(10, 10, 3)\n",
        "    \n",
        "#     def forward(self, x):\n",
        "#       x = self.drop1(self.pool1(F.relu(self.conv2(F.relu(self.conv1(x))))))\n",
        "#       x = self.pool2(F.relu(self.conv5(F.relu(self.conv4(F.relu(self.conv3(x)))))))\n",
        "#       x = self.conv6(x)\n",
        "#       x = self.conv7(x)\n",
        "#       x = x.view(-1, 10)\n",
        "#       return F.log_softmax(x)\n",
        "\n",
        "# !pip install torchsummary\n",
        "# from torchsummary import summary\n",
        "# use_cuda = torch.cuda.is_available()\n",
        "# device = torch.device(\"cuda\" if use_cuda else \"cpu\")\n",
        "# model2 = Net().to(device)\n",
        "# summary(model2, input_size=(1, 28, 28))\n"
      ],
      "execution_count": 0,
      "outputs": []
    },
    {
      "cell_type": "code",
      "metadata": {
        "id": "-u4gCuPozYP9",
        "colab_type": "code",
        "colab": {}
      },
      "source": [
        "# # Model 6\n",
        "\n",
        "# class Net(nn.Module):\n",
        "#     def __init__(self):\n",
        "#       super(Net, self).__init__()\n",
        "#       self.conv1 = nn.Conv2d(1, 8, 3, padding = 1)\n",
        "#       self.conv2 = nn.Conv2d(8, 32, 3, padding = 1)\n",
        "#       self.pool1 = nn.MaxPool2d(2,2)\n",
        "#       self.drop1 = nn.Dropout(0.05)\n",
        "      \n",
        "      \n",
        "#       self.conv3 = nn.Conv2d(32, 64, 1)\n",
        "#       self.conv4 = nn.Conv2d(64, 16, 3)\n",
        "#       self.conv5 = nn.Conv2d(16, 16, 3)\n",
        "#       self.pool2 = nn.MaxPool2d(2,2)\n",
        "\n",
        "#       self.conv6 = nn.Conv2d(16, 10, 3)\n",
        "#       self.conv7 = nn.Conv2d(10, 10, 3)\n",
        "\n",
        "\n",
        "\n",
        "#     def forward(self, x):\n",
        "#       x = self.drop1(self.pool1(F.relu(self.conv2(F.relu(self.conv1(x))))))\n",
        "#       x = self.pool2(F.relu(self.conv5(F.relu(self.conv4(F.relu(self.conv3(x)))))))\n",
        "#       x = self.conv6(x)\n",
        "#       x = self.conv7(x)\n",
        "#       x = x.view(-1, 10)\n",
        "#       return F.log_softmax(x)\n",
        "\n",
        "# !pip install torchsummary\n",
        "# from torchsummary import summary\n",
        "# use_cuda = torch.cuda.is_available()\n",
        "# device = torch.device(\"cuda\" if use_cuda else \"cpu\")\n",
        "# model2 = Net().to(device)\n",
        "# summary(model2, input_size=(1, 28, 28))\n",
        "\n",
        "\n",
        "# Total params: 18,440\n",
        "# Trainable params: 18,440\n",
        "# Non-trainable params: 0\n",
        "# ----------------------------------------------------------------\n",
        "# Input size (MB): 0.00\n",
        "# Forward/backward pass size (MB): 0.46\n",
        "# Params size (MB): 0.07\n",
        "# Estimated Total Size (MB): 0.54"
      ],
      "execution_count": 0,
      "outputs": []
    },
    {
      "cell_type": "code",
      "metadata": {
        "id": "xls7MXWe8unf",
        "colab_type": "code",
        "colab": {
          "base_uri": "https://localhost:8080/",
          "height": 575
        },
        "outputId": "74674c7e-ec88-43f1-eae1-24f7004d1c20"
      },
      "source": [
        "# Model 7 ( Dropout on two occasions & BN after every conv\n",
        "\n",
        "class Net(nn.Module):\n",
        "    def __init__(self):\n",
        "      super(Net, self).__init__()\n",
        "      self.conv1 = nn.Conv2d(1, 8, 3, padding = 1)\n",
        "      self.bn1 = nn.BatchNorm2d(8)\n",
        "\n",
        "      self.conv2 = nn.Conv2d(8, 32, 3, padding = 1)\n",
        "      self.bn2 = nn.BatchNorm2d(32)\n",
        "      self.pool1 = nn.MaxPool2d(2,2)\n",
        "      self.drop1 = nn.Dropout(0.05)\n",
        "\n",
        "      \n",
        "      self.conv3 = nn.Conv2d(32, 64, 1)\n",
        "      self.bn3 = nn.BatchNorm2d(64)\n",
        "\n",
        "      self.conv4 = nn.Conv2d(64, 16, 3)\n",
        "      self.bn4 = nn.BatchNorm2d(16)\n",
        "\n",
        "      self.conv5 = nn.Conv2d(16, 16, 3)\n",
        "      self.bn5 = nn.BatchNorm2d(16)\n",
        "\n",
        "      self.pool2 = nn.MaxPool2d(2,2)\n",
        "      self.drop2 = nn.Dropout(0.05)\n",
        "\n",
        "      self.conv6 = nn.Conv2d(16, 10, 3)\n",
        "      self.conv7 = nn.Conv2d(10, 10, 3)\n",
        "\n",
        "\n",
        "\n",
        "    def forward(self, x):\n",
        "      x = self.drop1(self.pool1(F.relu(self.bn2(self.conv2(F.relu(self.bn1(self.conv1(x))))))))\n",
        "      x = self.drop2(self.pool2(F.relu(self.bn5(self.conv5(F.relu(self.bn4(self.conv4(F.relu(self.bn3(self.conv3(x)))))))))))\n",
        "      x = self.conv6(x)\n",
        "      x = self.conv7(x)\n",
        "      x = x.view(-1, 10)\n",
        "      return F.log_softmax(x)\n",
        "\n",
        "!pip install torchsummary\n",
        "from torchsummary import summary\n",
        "use_cuda = torch.cuda.is_available()\n",
        "device = torch.device(\"cuda\" if use_cuda else \"cpu\")\n",
        "model2 = Net().to(device)\n",
        "summary(model2, input_size=(1, 28, 28))\n"
      ],
      "execution_count": 24,
      "outputs": [
        {
          "output_type": "stream",
          "text": [
            "Requirement already satisfied: torchsummary in /usr/local/lib/python3.6/dist-packages (1.5.1)\n",
            "----------------------------------------------------------------\n",
            "        Layer (type)               Output Shape         Param #\n",
            "================================================================\n",
            "            Conv2d-1            [-1, 8, 28, 28]              80\n",
            "       BatchNorm2d-2            [-1, 8, 28, 28]              16\n",
            "            Conv2d-3           [-1, 32, 28, 28]           2,336\n",
            "       BatchNorm2d-4           [-1, 32, 28, 28]              64\n",
            "         MaxPool2d-5           [-1, 32, 14, 14]               0\n",
            "           Dropout-6           [-1, 32, 14, 14]               0\n",
            "            Conv2d-7           [-1, 64, 14, 14]           2,112\n",
            "       BatchNorm2d-8           [-1, 64, 14, 14]             128\n",
            "            Conv2d-9           [-1, 16, 12, 12]           9,232\n",
            "      BatchNorm2d-10           [-1, 16, 12, 12]              32\n",
            "           Conv2d-11           [-1, 16, 10, 10]           2,320\n",
            "      BatchNorm2d-12           [-1, 16, 10, 10]              32\n",
            "        MaxPool2d-13             [-1, 16, 5, 5]               0\n",
            "          Dropout-14             [-1, 16, 5, 5]               0\n",
            "           Conv2d-15             [-1, 10, 3, 3]           1,450\n",
            "           Conv2d-16             [-1, 10, 1, 1]             910\n",
            "================================================================\n",
            "Total params: 18,712\n",
            "Trainable params: 18,712\n",
            "Non-trainable params: 0\n",
            "----------------------------------------------------------------\n",
            "Input size (MB): 0.00\n",
            "Forward/backward pass size (MB): 0.83\n",
            "Params size (MB): 0.07\n",
            "Estimated Total Size (MB): 0.91\n",
            "----------------------------------------------------------------\n"
          ],
          "name": "stdout"
        },
        {
          "output_type": "stream",
          "text": [
            "/usr/local/lib/python3.6/dist-packages/ipykernel_launcher.py:37: UserWarning: Implicit dimension choice for log_softmax has been deprecated. Change the call to include dim=X as an argument.\n"
          ],
          "name": "stderr"
        }
      ]
    },
    {
      "cell_type": "code",
      "metadata": {
        "id": "DqTWLaM5GHgH",
        "colab_type": "code",
        "colab": {}
      },
      "source": [
        "# Data Loading and Pre-Processing\n",
        "\n",
        "torch.manual_seed(1)\n",
        "batch_size = 128\n",
        "\n",
        "kwargs = {'num_workers': 1, 'pin_memory': True} if use_cuda else {}\n",
        "train_loader = torch.utils.data.DataLoader(\n",
        "    datasets.MNIST('../data', train=True, download=True,\n",
        "                    transform=transforms.Compose([\n",
        "                        transforms.ToTensor(),\n",
        "                        transforms.Normalize((0.1307,), (0.3081,))\n",
        "                    ])),\n",
        "    batch_size=batch_size, shuffle=True, **kwargs)\n",
        "test_loader = torch.utils.data.DataLoader(\n",
        "    datasets.MNIST('../data', train=False, transform=transforms.Compose([\n",
        "                        transforms.ToTensor(),\n",
        "                        transforms.Normalize((0.1307,), (0.3081,))\n",
        "                    ])),\n",
        "    batch_size=batch_size, shuffle=True, **kwargs)\n"
      ],
      "execution_count": 0,
      "outputs": []
    },
    {
      "cell_type": "code",
      "metadata": {
        "id": "8fDefDhaFlwH",
        "colab_type": "code",
        "colab": {}
      },
      "source": [
        "# Pre-Train & Pre-Test Code_\n",
        "\n",
        "from tqdm import tqdm\n",
        "def train(model, device, train_loader, optimizer, epoch):\n",
        "    model.train()\n",
        "    pbar = tqdm(train_loader)\n",
        "    for batch_idx, (data, target) in enumerate(pbar):\n",
        "        data, target = data.to(device), target.to(device)\n",
        "        optimizer.zero_grad()\n",
        "        output = model(data)\n",
        "        loss = F.nll_loss(output, target)\n",
        "        loss.backward()\n",
        "        optimizer.step()\n",
        "        pbar.set_description(desc= f'loss={loss.item()} batch_id={batch_idx}')\n",
        "\n",
        "\n",
        "def test(model, device, test_loader):\n",
        "    model.eval()\n",
        "    test_loss = 0\n",
        "    correct = 0\n",
        "    with torch.no_grad():\n",
        "        for data, target in test_loader:\n",
        "            data, target = data.to(device), target.to(device)\n",
        "            output = model(data)\n",
        "            test_loss += F.nll_loss(output, target, reduction='sum').item()  # sum up batch loss\n",
        "            pred = output.argmax(dim=1, keepdim=True)  # get the index of the max log-probability\n",
        "            correct += pred.eq(target.view_as(pred)).sum().item()\n",
        "\n",
        "    test_loss /= len(test_loader.dataset)\n",
        "\n",
        "    print('Epoch {} \\nTest set: Average loss: {:.4f}, Accuracy: {}/{} ({:.2f}%)\\n'.format(epoch,\n",
        "        test_loss, correct, len(test_loader.dataset),\n",
        "        100. * correct / len(test_loader.dataset)))"
      ],
      "execution_count": 0,
      "outputs": []
    },
    {
      "cell_type": "code",
      "metadata": {
        "id": "MMWbLWO6FuHb",
        "colab_type": "code",
        "colab": {
          "base_uri": "https://localhost:8080/",
          "height": 1000
        },
        "outputId": "861b061b-51aa-4c47-d1cf-b08a8c14f88d"
      },
      "source": [
        "# Optimization and Testing\n",
        "model = Net().to(device)\n",
        "optimizer = optim.SGD(model.parameters(), lr=0.01, momentum=0.9)\n",
        "\n",
        "for epoch in range(1, 20):\n",
        "    train(model, device, train_loader, optimizer, epoch)\n",
        "    test(model, device, test_loader)"
      ],
      "execution_count": 27,
      "outputs": [
        {
          "output_type": "stream",
          "text": [
            "  0%|          | 0/469 [00:00<?, ?it/s]/usr/local/lib/python3.6/dist-packages/ipykernel_launcher.py:37: UserWarning: Implicit dimension choice for log_softmax has been deprecated. Change the call to include dim=X as an argument.\n",
            "loss=0.025102192535996437 batch_id=468: 100%|██████████| 469/469 [00:11<00:00, 40.48it/s]\n",
            "  0%|          | 0/469 [00:00<?, ?it/s]"
          ],
          "name": "stderr"
        },
        {
          "output_type": "stream",
          "text": [
            "Epoch 1 \n",
            "Test set: Average loss: 0.0742, Accuracy: 9757/10000 (97.57%)\n",
            "\n"
          ],
          "name": "stdout"
        },
        {
          "output_type": "stream",
          "text": [
            "loss=0.0459497831761837 batch_id=468: 100%|██████████| 469/469 [00:11<00:00, 40.27it/s]\n",
            "  0%|          | 0/469 [00:00<?, ?it/s]"
          ],
          "name": "stderr"
        },
        {
          "output_type": "stream",
          "text": [
            "Epoch 2 \n",
            "Test set: Average loss: 0.0510, Accuracy: 9831/10000 (98.31%)\n",
            "\n"
          ],
          "name": "stdout"
        },
        {
          "output_type": "stream",
          "text": [
            "loss=0.0813506692647934 batch_id=468: 100%|██████████| 469/469 [00:11<00:00, 40.11it/s]\n",
            "  0%|          | 0/469 [00:00<?, ?it/s]"
          ],
          "name": "stderr"
        },
        {
          "output_type": "stream",
          "text": [
            "Epoch 3 \n",
            "Test set: Average loss: 0.0308, Accuracy: 9900/10000 (99.00%)\n",
            "\n"
          ],
          "name": "stdout"
        },
        {
          "output_type": "stream",
          "text": [
            "loss=0.01948479749262333 batch_id=468: 100%|██████████| 469/469 [00:11<00:00, 39.46it/s]\n",
            "  0%|          | 0/469 [00:00<?, ?it/s]"
          ],
          "name": "stderr"
        },
        {
          "output_type": "stream",
          "text": [
            "Epoch 4 \n",
            "Test set: Average loss: 0.0302, Accuracy: 9894/10000 (98.94%)\n",
            "\n"
          ],
          "name": "stdout"
        },
        {
          "output_type": "stream",
          "text": [
            "loss=0.12222834676504135 batch_id=468: 100%|██████████| 469/469 [00:11<00:00, 41.11it/s]\n",
            "  0%|          | 0/469 [00:00<?, ?it/s]"
          ],
          "name": "stderr"
        },
        {
          "output_type": "stream",
          "text": [
            "Epoch 5 \n",
            "Test set: Average loss: 0.0334, Accuracy: 9885/10000 (98.85%)\n",
            "\n"
          ],
          "name": "stdout"
        },
        {
          "output_type": "stream",
          "text": [
            "loss=0.0026423681993037462 batch_id=468: 100%|██████████| 469/469 [00:11<00:00, 41.54it/s]\n",
            "  0%|          | 0/469 [00:00<?, ?it/s]"
          ],
          "name": "stderr"
        },
        {
          "output_type": "stream",
          "text": [
            "Epoch 6 \n",
            "Test set: Average loss: 0.0297, Accuracy: 9897/10000 (98.97%)\n",
            "\n"
          ],
          "name": "stdout"
        },
        {
          "output_type": "stream",
          "text": [
            "loss=0.026288390159606934 batch_id=468: 100%|██████████| 469/469 [00:11<00:00, 40.54it/s]\n",
            "  0%|          | 0/469 [00:00<?, ?it/s]"
          ],
          "name": "stderr"
        },
        {
          "output_type": "stream",
          "text": [
            "Epoch 7 \n",
            "Test set: Average loss: 0.0216, Accuracy: 9931/10000 (99.31%)\n",
            "\n"
          ],
          "name": "stdout"
        },
        {
          "output_type": "stream",
          "text": [
            "loss=0.0027490854263305664 batch_id=468: 100%|██████████| 469/469 [00:11<00:00, 41.58it/s]\n",
            "  0%|          | 0/469 [00:00<?, ?it/s]"
          ],
          "name": "stderr"
        },
        {
          "output_type": "stream",
          "text": [
            "Epoch 8 \n",
            "Test set: Average loss: 0.0241, Accuracy: 9920/10000 (99.20%)\n",
            "\n"
          ],
          "name": "stdout"
        },
        {
          "output_type": "stream",
          "text": [
            "loss=0.053305212408304214 batch_id=468: 100%|██████████| 469/469 [00:11<00:00, 39.57it/s]\n",
            "  0%|          | 0/469 [00:00<?, ?it/s]"
          ],
          "name": "stderr"
        },
        {
          "output_type": "stream",
          "text": [
            "Epoch 9 \n",
            "Test set: Average loss: 0.0271, Accuracy: 9911/10000 (99.11%)\n",
            "\n"
          ],
          "name": "stdout"
        },
        {
          "output_type": "stream",
          "text": [
            "loss=0.007981459610164165 batch_id=468: 100%|██████████| 469/469 [00:11<00:00, 41.45it/s]\n",
            "  0%|          | 0/469 [00:00<?, ?it/s]"
          ],
          "name": "stderr"
        },
        {
          "output_type": "stream",
          "text": [
            "Epoch 10 \n",
            "Test set: Average loss: 0.0230, Accuracy: 9925/10000 (99.25%)\n",
            "\n"
          ],
          "name": "stdout"
        },
        {
          "output_type": "stream",
          "text": [
            "loss=0.0037976503372192383 batch_id=468: 100%|██████████| 469/469 [00:11<00:00, 41.55it/s]\n",
            "  0%|          | 0/469 [00:00<?, ?it/s]"
          ],
          "name": "stderr"
        },
        {
          "output_type": "stream",
          "text": [
            "Epoch 11 \n",
            "Test set: Average loss: 0.0232, Accuracy: 9927/10000 (99.27%)\n",
            "\n"
          ],
          "name": "stdout"
        },
        {
          "output_type": "stream",
          "text": [
            "loss=0.04346887394785881 batch_id=468: 100%|██████████| 469/469 [00:11<00:00, 42.19it/s]\n",
            "  0%|          | 0/469 [00:00<?, ?it/s]"
          ],
          "name": "stderr"
        },
        {
          "output_type": "stream",
          "text": [
            "Epoch 12 \n",
            "Test set: Average loss: 0.0235, Accuracy: 9929/10000 (99.29%)\n",
            "\n"
          ],
          "name": "stdout"
        },
        {
          "output_type": "stream",
          "text": [
            "loss=0.00524766743183136 batch_id=468: 100%|██████████| 469/469 [00:11<00:00, 41.99it/s]\n",
            "  0%|          | 0/469 [00:00<?, ?it/s]"
          ],
          "name": "stderr"
        },
        {
          "output_type": "stream",
          "text": [
            "Epoch 13 \n",
            "Test set: Average loss: 0.0240, Accuracy: 9921/10000 (99.21%)\n",
            "\n"
          ],
          "name": "stdout"
        },
        {
          "output_type": "stream",
          "text": [
            "loss=0.010547826997935772 batch_id=468: 100%|██████████| 469/469 [00:11<00:00, 40.74it/s]\n",
            "  0%|          | 0/469 [00:00<?, ?it/s]"
          ],
          "name": "stderr"
        },
        {
          "output_type": "stream",
          "text": [
            "Epoch 14 \n",
            "Test set: Average loss: 0.0262, Accuracy: 9917/10000 (99.17%)\n",
            "\n"
          ],
          "name": "stdout"
        },
        {
          "output_type": "stream",
          "text": [
            "loss=0.011470059864223003 batch_id=468: 100%|██████████| 469/469 [00:11<00:00, 41.55it/s]\n",
            "  0%|          | 0/469 [00:00<?, ?it/s]"
          ],
          "name": "stderr"
        },
        {
          "output_type": "stream",
          "text": [
            "Epoch 15 \n",
            "Test set: Average loss: 0.0241, Accuracy: 9921/10000 (99.21%)\n",
            "\n"
          ],
          "name": "stdout"
        },
        {
          "output_type": "stream",
          "text": [
            "loss=0.01789509318768978 batch_id=468: 100%|██████████| 469/469 [00:11<00:00, 41.17it/s]\n",
            "  0%|          | 0/469 [00:00<?, ?it/s]"
          ],
          "name": "stderr"
        },
        {
          "output_type": "stream",
          "text": [
            "Epoch 16 \n",
            "Test set: Average loss: 0.0267, Accuracy: 9918/10000 (99.18%)\n",
            "\n"
          ],
          "name": "stdout"
        },
        {
          "output_type": "stream",
          "text": [
            "loss=0.010676726698875427 batch_id=468: 100%|██████████| 469/469 [00:11<00:00, 40.77it/s]\n",
            "  0%|          | 0/469 [00:00<?, ?it/s]"
          ],
          "name": "stderr"
        },
        {
          "output_type": "stream",
          "text": [
            "Epoch 17 \n",
            "Test set: Average loss: 0.0268, Accuracy: 9913/10000 (99.13%)\n",
            "\n"
          ],
          "name": "stdout"
        },
        {
          "output_type": "stream",
          "text": [
            "loss=0.011211007833480835 batch_id=468: 100%|██████████| 469/469 [00:11<00:00, 41.04it/s]\n",
            "  0%|          | 0/469 [00:00<?, ?it/s]"
          ],
          "name": "stderr"
        },
        {
          "output_type": "stream",
          "text": [
            "Epoch 18 \n",
            "Test set: Average loss: 0.0213, Accuracy: 9932/10000 (99.32%)\n",
            "\n"
          ],
          "name": "stdout"
        },
        {
          "output_type": "stream",
          "text": [
            "loss=0.005391170736402273 batch_id=468: 100%|██████████| 469/469 [00:11<00:00, 40.40it/s]\n"
          ],
          "name": "stderr"
        },
        {
          "output_type": "stream",
          "text": [
            "Epoch 19 \n",
            "Test set: Average loss: 0.0221, Accuracy: 9932/10000 (99.32%)\n",
            "\n"
          ],
          "name": "stdout"
        }
      ]
    },
    {
      "cell_type": "code",
      "metadata": {
        "id": "So5uk4EkHW6R",
        "colab_type": "code",
        "colab": {}
      },
      "source": [
        ""
      ],
      "execution_count": 0,
      "outputs": []
    }
  ]
}