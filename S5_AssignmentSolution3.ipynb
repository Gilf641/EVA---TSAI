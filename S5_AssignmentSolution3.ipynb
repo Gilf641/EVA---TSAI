{
  "nbformat": 4,
  "nbformat_minor": 0,
  "metadata": {
    "colab": {
      "name": "S5_AssignmentSolution3.ipynb",
      "provenance": [],
      "collapsed_sections": [],
      "authorship_tag": "ABX9TyN3+0UyE7gfyphvnL+9R4iP",
      "include_colab_link": true
    },
    "kernelspec": {
      "name": "python3",
      "display_name": "Python 3"
    }
  },
  "cells": [
    {
      "cell_type": "markdown",
      "metadata": {
        "id": "view-in-github",
        "colab_type": "text"
      },
      "source": [
        "<a href=\"https://colab.research.google.com/github/Gilf641/EVA4/blob/master/S5_AssignmentSolution3.ipynb\" target=\"_parent\"><img src=\"https://colab.research.google.com/assets/colab-badge.svg\" alt=\"Open In Colab\"/></a>"
      ]
    },
    {
      "cell_type": "code",
      "metadata": {
        "id": "SRJrH8WlEbIb",
        "colab_type": "code",
        "colab": {}
      },
      "source": [
        "# Load the required libraries\n",
        "\n",
        "from __future__ import print_function\n",
        "import torch # PyTorch Main Library\n",
        "import torch.nn as nn # Neural Net Lib\n",
        "import torch.nn.functional as F\n",
        "import torch.optim as optim\n",
        "from torchvision import datasets, transforms \n",
        "import matplotlib.pyplot as plt\n"
      ],
      "execution_count": 0,
      "outputs": []
    },
    {
      "cell_type": "code",
      "metadata": {
        "id": "jqMsqMp74Bym",
        "colab_type": "code",
        "colab": {
          "base_uri": "https://localhost:8080/",
          "height": 34
        },
        "outputId": "d4bd5bf7-c155-4b12-9199-ef32067e83d0"
      },
      "source": [
        "# Data Loading and Pre-Processing\n",
        "\n",
        "\n",
        "  \n",
        "!pip install torchsummary\n",
        "from torchsummary import summary\n",
        "use_cuda = torch.cuda.is_available()\n",
        "device = torch.device(\"cuda\" if use_cuda else \"cpu\")\n",
        "\n",
        "\n",
        "\n",
        "\n",
        "torch.manual_seed(1)\n",
        "batch_size = 128\n",
        "\n",
        "kwargs = {'num_workers': 1, 'pin_memory': True} if use_cuda else {}\n",
        "train_loader = torch.utils.data.DataLoader(\n",
        "    datasets.MNIST('../data', train=True, download=True,\n",
        "                    transform=transforms.Compose([\n",
        "                        transforms.RandomRotation((-7.0, 7.0), fill=(1,)),                          \n",
        "                        transforms.ToTensor(),\n",
        "                        transforms.Normalize((0.1307,), (0.3081,))\n",
        "                    ])),\n",
        "    batch_size=batch_size, shuffle=True, **kwargs)\n",
        "\n",
        "\n",
        "test_loader = torch.utils.data.DataLoader(\n",
        "\n",
        "    datasets.MNIST('../data', train=False, transform=transforms.Compose([\n",
        "                        transforms.ToTensor(),\n",
        "                        transforms.Normalize((0.1307,), (0.3081,))\n",
        "                    ])),\n",
        "    batch_size=batch_size, shuffle=True, **kwargs)\n",
        "\n",
        "\n",
        "\n"
      ],
      "execution_count": 2,
      "outputs": [
        {
          "output_type": "stream",
          "text": [
            "Requirement already satisfied: torchsummary in /usr/local/lib/python3.6/dist-packages (1.5.1)\n"
          ],
          "name": "stdout"
        }
      ]
    },
    {
      "cell_type": "code",
      "metadata": {
        "id": "Z7U-klBoEkJf",
        "colab_type": "code",
        "colab": {
          "base_uri": "https://localhost:8080/",
          "height": 677
        },
        "outputId": "9d0800bb-a3d9-4523-adaf-3cd1e6086fd1"
      },
      "source": [
        "# Model 6 - Complete different architecture bcoz I'm stuck between 99-99.2%. Maybe my net's not that deep, I'm trying something new in this architecture\n",
        "# set the dropout value\n",
        "\n",
        "class Net(nn.Module):\n",
        "    def __init__(self):\n",
        "      super(Net, self).__init__()\n",
        "\n",
        "\n",
        "     # Conv Block1\n",
        "      self.convblock1 = nn.Sequential(\n",
        "            nn.Conv2d(in_channels=1, out_channels=8, kernel_size=(3, 3), padding=0, bias=False),\n",
        "            nn.ReLU(),\n",
        "            nn.BatchNorm2d(8)) # output_size = 26\n",
        "            \n",
        "\n",
        "    # Conv Block2 \n",
        "      self.convblock2 = nn.Sequential(\n",
        "        nn.Conv2d(in_channels = 8, out_channels = 12, kernel_size = (3,3), padding=0, bias=False),\n",
        "        nn.ReLU(),\n",
        "        nn.BatchNorm2d(12)) # output_size = 24  \n",
        "\n",
        "\n",
        "\n",
        "    # Conv Block3\n",
        "      self.convblock3 = nn.Sequential(\n",
        "          nn.Conv2d(in_channels = 12, out_channels = 12, kernel_size=(3,3), padding=0, bias=False),\n",
        "          nn.ReLU(),\n",
        "          nn.BatchNorm2d(12)) # output_size = 22\n",
        "\n",
        "\n",
        "    # TRANSITION BLOCK 1\n",
        "      self.pool1 = nn.Sequential(nn.MaxPool2d(2, 2))# output_size = 11\n",
        "\n",
        "\n",
        "    # Conv Block4\n",
        "      self.convblock4 = nn.Sequential(\n",
        "        nn.Conv2d(in_channels = 12, out_channels = 16, kernel_size = (1,1), padding=0, bias=False),\n",
        "        nn.ReLU(),\n",
        "        nn.BatchNorm2d(16)) # output_size = 11\n",
        "\n",
        "\n",
        "    # Conv Block5\n",
        "      self.convblock5 = nn.Sequential(\n",
        "        nn.Conv2d(in_channels = 16, out_channels = 16, kernel_size = (3,3), padding=0, bias=False),\n",
        "        nn.ReLU(),\n",
        "        nn.BatchNorm2d(16)) #output_size = 9\n",
        "\n",
        "\n",
        "    # Conv Block6\n",
        "      self.convblock6 = nn.Sequential(\n",
        "          nn.Conv2d(in_channels = 16, out_channels = 16, kernel_size=(3,3), padding = 0, bias=False),\n",
        "          nn.ReLU(),\n",
        "          nn.BatchNorm2d(16)) # output_size = 7\n",
        "\n",
        " \n",
        "    # Conv Block7\n",
        "      self.convblock7 = nn.Sequential(\n",
        "          nn.Conv2d(in_channels=16, out_channels=16, kernel_size=(3,3), padding = 0, bias = False),\n",
        "          nn.ReLU(),\n",
        "          nn.BatchNorm2d(16)) # output_size = 5\n",
        "\n",
        "\n",
        "    # Conv Block8\n",
        "      self.convblock8 = nn.Sequential(\n",
        "        nn.Conv2d(in_channels = 16, out_channels=10, kernel_size =(1,1), padding =0, bias=False)) # output_size = 1\n",
        "      \n",
        "\n",
        "    # Output Block\n",
        "      self.gap = nn.Sequential(nn.AvgPool2d(5)) # Global Average Pooling\n",
        "\n",
        "\n",
        "    # DropOut Layer\n",
        "      self.drop1 = nn.Sequential(nn.Dropout(0.05))\n",
        "\n",
        "\n",
        "    def forward(self, x):\n",
        "      x = self.convblock1(x)\n",
        "      x = self.convblock2(x)\n",
        "      x = self.convblock3(x)\n",
        "      x = self.pool1(x)\n",
        "      x = self.convblock4(x)\n",
        "      x = self.convblock5(x)\n",
        "      x = self.convblock6(x)\n",
        "      x = self.drop1(x)\n",
        "      x = self.convblock7(x)\n",
        "      x = self.gap(x)\n",
        "      x = self.convblock8(x)\n",
        "\n",
        "    \n",
        "      \n",
        "      x = x.view(-1, 10)\n",
        "      return F.log_softmax(x, dim=-1)\n",
        "\n",
        "\n",
        "model = Net().to(device)\n",
        "summary(model, input_size=(1, 28, 28))\n"
      ],
      "execution_count": 3,
      "outputs": [
        {
          "output_type": "stream",
          "text": [
            "----------------------------------------------------------------\n",
            "        Layer (type)               Output Shape         Param #\n",
            "================================================================\n",
            "            Conv2d-1            [-1, 8, 26, 26]              72\n",
            "              ReLU-2            [-1, 8, 26, 26]               0\n",
            "       BatchNorm2d-3            [-1, 8, 26, 26]              16\n",
            "            Conv2d-4           [-1, 12, 24, 24]             864\n",
            "              ReLU-5           [-1, 12, 24, 24]               0\n",
            "       BatchNorm2d-6           [-1, 12, 24, 24]              24\n",
            "            Conv2d-7           [-1, 12, 22, 22]           1,296\n",
            "              ReLU-8           [-1, 12, 22, 22]               0\n",
            "       BatchNorm2d-9           [-1, 12, 22, 22]              24\n",
            "        MaxPool2d-10           [-1, 12, 11, 11]               0\n",
            "           Conv2d-11           [-1, 16, 11, 11]             192\n",
            "             ReLU-12           [-1, 16, 11, 11]               0\n",
            "      BatchNorm2d-13           [-1, 16, 11, 11]              32\n",
            "           Conv2d-14             [-1, 16, 9, 9]           2,304\n",
            "             ReLU-15             [-1, 16, 9, 9]               0\n",
            "      BatchNorm2d-16             [-1, 16, 9, 9]              32\n",
            "           Conv2d-17             [-1, 16, 7, 7]           2,304\n",
            "             ReLU-18             [-1, 16, 7, 7]               0\n",
            "      BatchNorm2d-19             [-1, 16, 7, 7]              32\n",
            "          Dropout-20             [-1, 16, 7, 7]               0\n",
            "           Conv2d-21             [-1, 16, 5, 5]           2,304\n",
            "             ReLU-22             [-1, 16, 5, 5]               0\n",
            "      BatchNorm2d-23             [-1, 16, 5, 5]              32\n",
            "        AvgPool2d-24             [-1, 16, 1, 1]               0\n",
            "           Conv2d-25             [-1, 10, 1, 1]             160\n",
            "================================================================\n",
            "Total params: 9,688\n",
            "Trainable params: 9,688\n",
            "Non-trainable params: 0\n",
            "----------------------------------------------------------------\n",
            "Input size (MB): 0.00\n",
            "Forward/backward pass size (MB): 0.53\n",
            "Params size (MB): 0.04\n",
            "Estimated Total Size (MB): 0.57\n",
            "----------------------------------------------------------------\n"
          ],
          "name": "stdout"
        }
      ]
    },
    {
      "cell_type": "code",
      "metadata": {
        "id": "7CXH03m6Etty",
        "colab_type": "code",
        "colab": {}
      },
      "source": [
        "from tqdm import tqdm\n",
        "\n",
        "train_losses = []\n",
        "test_losses = []\n",
        "train_acc = []\n",
        "test_acc = []\n",
        "\n",
        "def train(model, device, train_loader, optimizer, epoch):\n",
        "  model.train()\n",
        "  pbar = tqdm(train_loader)\n",
        "  correct = 0\n",
        "  processed = 0\n",
        "  for batch_idx, (data, target) in enumerate(pbar):\n",
        "    # get samples\n",
        "    data, target = data.to(device), target.to(device)\n",
        "\n",
        "    # Init\n",
        "    optimizer.zero_grad()\n",
        "    # In PyTorch, we need to set the gradients to zero before starting to do backpropragation because PyTorch accumulates the gradients on subsequent backward passes. \n",
        "    # Because of this, when you start your training loop, ideally you should zero out the gradients so that you do the parameter update correctly.\n",
        "\n",
        "    # Predict\n",
        "    y_pred = model(data)\n",
        "\n",
        "    # Calculate loss\n",
        "    loss = F.nll_loss(y_pred, target)\n",
        "    train_losses.append(loss)\n",
        "\n",
        "    # Backpropagation\n",
        "    loss.backward()\n",
        "    optimizer.step()\n",
        "\n",
        "    # Update pbar-tqdm\n",
        "    \n",
        "    pred = y_pred.argmax(dim=1, keepdim=True)  # get the index of the max log-probability\n",
        "    correct += pred.eq(target.view_as(pred)).sum().item()\n",
        "    processed += len(data)\n",
        "\n",
        "    pbar.set_description(desc= f'Loss={loss.item()} Batch_id={batch_idx} Accuracy={100*correct/processed:0.2f}')\n",
        "    train_acc.append(100*correct/processed)\n",
        "\n",
        "def test(model, device, test_loader):\n",
        "    model.eval()\n",
        "    test_loss = 0\n",
        "    correct = 0\n",
        "    with torch.no_grad():\n",
        "        for data, target in test_loader:\n",
        "            data, target = data.to(device), target.to(device)\n",
        "            output = model(data)\n",
        "            test_loss += F.nll_loss(output, target, reduction='sum').item()  # sum up batch loss\n",
        "            pred = output.argmax(dim=1, keepdim=True)  # get the index of the max log-probability\n",
        "            correct += pred.eq(target.view_as(pred)).sum().item()\n",
        "\n",
        "    test_loss /= len(test_loader.dataset)\n",
        "    test_losses.append(test_loss)\n",
        "\n",
        "    print('\\nEPOCH:{} \\nTest set: Average loss: {:.4f}, Accuracy: {}/{} ({:.2f}%)\\n'.format(epoch,\n",
        "        test_loss, correct, len(test_loader.dataset),\n",
        "        100. * correct / len(test_loader.dataset)))\n",
        "    \n",
        "    test_acc.append(100. * correct / len(test_loader.dataset))"
      ],
      "execution_count": 0,
      "outputs": []
    },
    {
      "cell_type": "code",
      "metadata": {
        "id": "_iC6Fs0HExH4",
        "colab_type": "code",
        "colab": {
          "base_uri": "https://localhost:8080/",
          "height": 1000
        },
        "outputId": "4603deb9-047e-493d-db3f-6c2383441ad1"
      },
      "source": [
        "model =  Net().to(device)\n",
        "optimizer = optim.SGD(model.parameters(), lr=0.01, momentum=0.9)\n",
        "EPOCHS = 16\n",
        "for epoch in range(1, 16):\n",
        "    train(model, device, train_loader, optimizer, epoch)\n",
        "    test(model, device, test_loader)"
      ],
      "execution_count": 5,
      "outputs": [
        {
          "output_type": "stream",
          "text": [
            "Loss=0.165153369307518 Batch_id=468 Accuracy=90.87: 100%|██████████| 469/469 [01:12<00:00,  6.49it/s]\n",
            "Loss=0.07207398861646652 Batch_id=0 Accuracy=97.66:   0%|          | 1/469 [00:00<01:21,  5.72it/s]"
          ],
          "name": "stderr"
        },
        {
          "output_type": "stream",
          "text": [
            "\n",
            "EPOCH:1 \n",
            "Test set: Average loss: 0.1201, Accuracy: 9654/10000 (96.54%)\n",
            "\n"
          ],
          "name": "stdout"
        },
        {
          "output_type": "stream",
          "text": [
            "Loss=0.042833179235458374 Batch_id=468 Accuracy=98.04: 100%|██████████| 469/469 [01:13<00:00,  6.38it/s]\n",
            "Loss=0.06611917912960052 Batch_id=0 Accuracy=99.22:   0%|          | 1/469 [00:00<01:14,  6.31it/s]"
          ],
          "name": "stderr"
        },
        {
          "output_type": "stream",
          "text": [
            "\n",
            "EPOCH:2 \n",
            "Test set: Average loss: 0.0435, Accuracy: 9875/10000 (98.75%)\n",
            "\n"
          ],
          "name": "stdout"
        },
        {
          "output_type": "stream",
          "text": [
            "Loss=0.08959776908159256 Batch_id=468 Accuracy=98.45: 100%|██████████| 469/469 [01:13<00:00,  6.38it/s]\n",
            "Loss=0.03741735592484474 Batch_id=0 Accuracy=99.22:   0%|          | 1/469 [00:00<01:15,  6.22it/s]"
          ],
          "name": "stderr"
        },
        {
          "output_type": "stream",
          "text": [
            "\n",
            "EPOCH:3 \n",
            "Test set: Average loss: 0.0376, Accuracy: 9895/10000 (98.95%)\n",
            "\n"
          ],
          "name": "stdout"
        },
        {
          "output_type": "stream",
          "text": [
            "Loss=0.05947065353393555 Batch_id=468 Accuracy=98.71: 100%|██████████| 469/469 [01:13<00:00,  6.37it/s]\n",
            "Loss=0.04482785984873772 Batch_id=0 Accuracy=97.66:   0%|          | 1/469 [00:00<01:13,  6.37it/s]"
          ],
          "name": "stderr"
        },
        {
          "output_type": "stream",
          "text": [
            "\n",
            "EPOCH:4 \n",
            "Test set: Average loss: 0.0378, Accuracy: 9896/10000 (98.96%)\n",
            "\n"
          ],
          "name": "stdout"
        },
        {
          "output_type": "stream",
          "text": [
            "Loss=0.030635587871074677 Batch_id=468 Accuracy=98.86: 100%|██████████| 469/469 [01:13<00:00,  6.41it/s]\n",
            "Loss=0.0343405045568943 Batch_id=0 Accuracy=99.22:   0%|          | 1/469 [00:00<01:14,  6.25it/s]"
          ],
          "name": "stderr"
        },
        {
          "output_type": "stream",
          "text": [
            "\n",
            "EPOCH:5 \n",
            "Test set: Average loss: 0.0312, Accuracy: 9907/10000 (99.07%)\n",
            "\n"
          ],
          "name": "stdout"
        },
        {
          "output_type": "stream",
          "text": [
            "Loss=0.03420877084136009 Batch_id=468 Accuracy=98.92: 100%|██████████| 469/469 [01:13<00:00,  6.40it/s]\n",
            "Loss=0.008667722344398499 Batch_id=0 Accuracy=100.00:   0%|          | 1/469 [00:00<01:11,  6.56it/s]"
          ],
          "name": "stderr"
        },
        {
          "output_type": "stream",
          "text": [
            "\n",
            "EPOCH:6 \n",
            "Test set: Average loss: 0.0265, Accuracy: 9910/10000 (99.10%)\n",
            "\n"
          ],
          "name": "stdout"
        },
        {
          "output_type": "stream",
          "text": [
            "Loss=0.009955496527254581 Batch_id=468 Accuracy=98.95: 100%|██████████| 469/469 [01:13<00:00,  6.41it/s]\n",
            "Loss=0.021917151287198067 Batch_id=0 Accuracy=100.00:   0%|          | 1/469 [00:00<01:13,  6.34it/s]"
          ],
          "name": "stderr"
        },
        {
          "output_type": "stream",
          "text": [
            "\n",
            "EPOCH:7 \n",
            "Test set: Average loss: 0.0248, Accuracy: 9923/10000 (99.23%)\n",
            "\n"
          ],
          "name": "stdout"
        },
        {
          "output_type": "stream",
          "text": [
            "Loss=0.006933515891432762 Batch_id=468 Accuracy=99.01: 100%|██████████| 469/469 [01:13<00:00,  6.39it/s]\n",
            "Loss=0.018948305398225784 Batch_id=0 Accuracy=99.22:   0%|          | 1/469 [00:00<01:13,  6.39it/s]"
          ],
          "name": "stderr"
        },
        {
          "output_type": "stream",
          "text": [
            "\n",
            "EPOCH:8 \n",
            "Test set: Average loss: 0.0284, Accuracy: 9907/10000 (99.07%)\n",
            "\n"
          ],
          "name": "stdout"
        },
        {
          "output_type": "stream",
          "text": [
            "Loss=0.008467341773211956 Batch_id=468 Accuracy=99.07: 100%|██████████| 469/469 [01:12<00:00,  6.46it/s]\n",
            "Loss=0.07393936067819595 Batch_id=0 Accuracy=98.44:   0%|          | 1/469 [00:00<01:13,  6.36it/s]"
          ],
          "name": "stderr"
        },
        {
          "output_type": "stream",
          "text": [
            "\n",
            "EPOCH:9 \n",
            "Test set: Average loss: 0.0247, Accuracy: 9915/10000 (99.15%)\n",
            "\n"
          ],
          "name": "stdout"
        },
        {
          "output_type": "stream",
          "text": [
            "Loss=0.01669410616159439 Batch_id=468 Accuracy=99.17: 100%|██████████| 469/469 [01:12<00:00,  6.47it/s]\n",
            "Loss=0.026974204927682877 Batch_id=0 Accuracy=99.22:   0%|          | 1/469 [00:00<01:12,  6.45it/s]"
          ],
          "name": "stderr"
        },
        {
          "output_type": "stream",
          "text": [
            "\n",
            "EPOCH:10 \n",
            "Test set: Average loss: 0.0232, Accuracy: 9930/10000 (99.30%)\n",
            "\n"
          ],
          "name": "stdout"
        },
        {
          "output_type": "stream",
          "text": [
            "Loss=0.023846246302127838 Batch_id=468 Accuracy=99.19: 100%|██████████| 469/469 [01:13<00:00,  6.42it/s]\n",
            "Loss=0.07984253019094467 Batch_id=0 Accuracy=99.22:   0%|          | 1/469 [00:00<01:14,  6.28it/s]"
          ],
          "name": "stderr"
        },
        {
          "output_type": "stream",
          "text": [
            "\n",
            "EPOCH:11 \n",
            "Test set: Average loss: 0.0256, Accuracy: 9920/10000 (99.20%)\n",
            "\n"
          ],
          "name": "stdout"
        },
        {
          "output_type": "stream",
          "text": [
            "Loss=0.022222140803933144 Batch_id=468 Accuracy=99.23: 100%|██████████| 469/469 [01:12<00:00,  6.46it/s]\n",
            "Loss=0.03970358893275261 Batch_id=0 Accuracy=97.66:   0%|          | 1/469 [00:00<01:12,  6.47it/s]"
          ],
          "name": "stderr"
        },
        {
          "output_type": "stream",
          "text": [
            "\n",
            "EPOCH:12 \n",
            "Test set: Average loss: 0.0239, Accuracy: 9929/10000 (99.29%)\n",
            "\n"
          ],
          "name": "stdout"
        },
        {
          "output_type": "stream",
          "text": [
            "Loss=0.04114706441760063 Batch_id=468 Accuracy=99.25: 100%|██████████| 469/469 [01:12<00:00,  6.48it/s]\n",
            "Loss=0.028329046443104744 Batch_id=0 Accuracy=99.22:   0%|          | 1/469 [00:00<01:11,  6.50it/s]"
          ],
          "name": "stderr"
        },
        {
          "output_type": "stream",
          "text": [
            "\n",
            "EPOCH:13 \n",
            "Test set: Average loss: 0.0214, Accuracy: 9936/10000 (99.36%)\n",
            "\n"
          ],
          "name": "stdout"
        },
        {
          "output_type": "stream",
          "text": [
            "Loss=0.08255953341722488 Batch_id=468 Accuracy=99.25: 100%|██████████| 469/469 [01:12<00:00,  6.49it/s]\n",
            "Loss=0.04812057316303253 Batch_id=0 Accuracy=98.44:   0%|          | 1/469 [00:00<01:09,  6.71it/s]"
          ],
          "name": "stderr"
        },
        {
          "output_type": "stream",
          "text": [
            "\n",
            "EPOCH:14 \n",
            "Test set: Average loss: 0.0195, Accuracy: 9937/10000 (99.37%)\n",
            "\n"
          ],
          "name": "stdout"
        },
        {
          "output_type": "stream",
          "text": [
            "Loss=0.03281335160136223 Batch_id=468 Accuracy=99.31: 100%|██████████| 469/469 [01:11<00:00,  6.53it/s]\n"
          ],
          "name": "stderr"
        },
        {
          "output_type": "stream",
          "text": [
            "\n",
            "EPOCH:15 \n",
            "Test set: Average loss: 0.0197, Accuracy: 9940/10000 (99.40%)\n",
            "\n"
          ],
          "name": "stdout"
        }
      ]
    }
  ]
}