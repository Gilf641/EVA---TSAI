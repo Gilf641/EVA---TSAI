{
  "nbformat": 4,
  "nbformat_minor": 0,
  "metadata": {
    "colab": {
      "name": "Office Dataset-MODEST",
      "provenance": [],
      "collapsed_sections": [],
      "include_colab_link": true
    },
    "kernelspec": {
      "name": "python3",
      "display_name": "Python 3"
    },
    "accelerator": "GPU"
  },
  "cells": [
    {
      "cell_type": "markdown",
      "metadata": {
        "id": "view-in-github",
        "colab_type": "text"
      },
      "source": [
        "<a href=\"https://colab.research.google.com/github/Gilf641/EVA4/blob/master/S15/Office_Dataset_MODEST.ipynb\" target=\"_parent\"><img src=\"https://colab.research.google.com/assets/colab-badge.svg\" alt=\"Open In Colab\"/></a>"
      ]
    },
    {
      "cell_type": "markdown",
      "metadata": {
        "id": "ca5WSDWKUHIH",
        "colab_type": "text"
      },
      "source": [
        "**Mount the Drive**"
      ]
    },
    {
      "cell_type": "code",
      "metadata": {
        "id": "YJNBfkQf6zGn",
        "colab_type": "code",
        "colab": {
          "base_uri": "https://localhost:8080/",
          "height": 130
        },
        "outputId": "a786baed-7186-4ac1-ec04-c3059a8afa52"
      },
      "source": [
        "from google.colab import drive\n",
        "drive.mount('/content/drive')"
      ],
      "execution_count": null,
      "outputs": [
        {
          "output_type": "stream",
          "text": [
            "Go to this URL in a browser: https://accounts.google.com/o/oauth2/auth?client_id=947318989803-6bn6qk8qdgf4n4g3pfee6491hc0brc4i.apps.googleusercontent.com&redirect_uri=urn%3aietf%3awg%3aoauth%3a2.0%3aoob&response_type=code&scope=email%20https%3a%2f%2fwww.googleapis.com%2fauth%2fdocs.test%20https%3a%2f%2fwww.googleapis.com%2fauth%2fdrive%20https%3a%2f%2fwww.googleapis.com%2fauth%2fdrive.photos.readonly%20https%3a%2f%2fwww.googleapis.com%2fauth%2fpeopleapi.readonly\n",
            "\n",
            "Enter your authorization code:\n",
            "··········\n",
            "Mounted at /content/drive\n"
          ],
          "name": "stdout"
        }
      ]
    },
    {
      "cell_type": "code",
      "metadata": {
        "id": "7nqFxZkvXf7u",
        "colab_type": "code",
        "colab": {}
      },
      "source": [
        "import sys\n",
        "sys.path.append('/content/drive/My Drive/torchkit')"
      ],
      "execution_count": null,
      "outputs": []
    },
    {
      "cell_type": "markdown",
      "metadata": {
        "id": "s9dwicunkKJD",
        "colab_type": "text"
      },
      "source": [
        "**Import all Libraries**"
      ]
    },
    {
      "cell_type": "code",
      "metadata": {
        "id": "9H1IFrDKkJeE",
        "colab_type": "code",
        "colab": {}
      },
      "source": [
        "from dataloaders import Data_To_Dataloader\n",
        "from albtransforms import SingleChannel_ImageTransforms, AlbumentationTransforms\n",
        "from loss_funcs import *\n",
        "import lr_finder\n",
        "from utils import zip_data\n",
        "from s15_customdataset import DepthMapDataset\n",
        "from UNet import UNet\n",
        "from setup import hardware_specs\n",
        "from trainer import Trainer"
      ],
      "execution_count": null,
      "outputs": []
    },
    {
      "cell_type": "markdown",
      "metadata": {
        "id": "iBkQKIUgrtwz",
        "colab_type": "text"
      },
      "source": [
        "**Hardware Properties**"
      ]
    },
    {
      "cell_type": "code",
      "metadata": {
        "id": "PF3pdSaVrtQf",
        "colab_type": "code",
        "colab": {
          "base_uri": "https://localhost:8080/",
          "height": 36
        },
        "outputId": "2811de70-01f9-4820-8d87-bfaac3c1a3e1"
      },
      "source": [
        "hardware_specs()"
      ],
      "execution_count": null,
      "outputs": [
        {
          "output_type": "execute_result",
          "data": {
            "application/vnd.google.colaboratory.intrinsic+json": {
              "type": "string"
            },
            "text/plain": [
              "\"PyTorch 1.6.0+cu101 _CudaDeviceProperties(name='Tesla K80', major=3, minor=7, total_memory=11441MB, multi_processor_count=13)\""
            ]
          },
          "metadata": {
            "tags": []
          },
          "execution_count": 5
        }
      ]
    },
    {
      "cell_type": "markdown",
      "metadata": {
        "id": "BeIDz8JY2iTs",
        "colab_type": "text"
      },
      "source": [
        "**Unzip the File**"
      ]
    },
    {
      "cell_type": "code",
      "metadata": {
        "id": "swrJpuN_czo_",
        "colab_type": "code",
        "colab": {
          "base_uri": "https://localhost:8080/",
          "height": 73
        },
        "outputId": "388986fb-2b4a-4ff5-d390-e61159555d01"
      },
      "source": [
        "path = '/content/drive/My Drive/ZipFiles/data_TenK101.zip'\n",
        "save = '/content/drive/My Drive/Videos'\n",
        "zip_data(zipfile,path, save)"
      ],
      "execution_count": null,
      "outputs": [
        {
          "output_type": "stream",
          "text": [
            "Outside loop\n",
            "Extracting ZIP\n",
            "Zipfile extracted to /content/drive/My Drive/Videos\n"
          ],
          "name": "stdout"
        }
      ]
    },
    {
      "cell_type": "markdown",
      "metadata": {
        "id": "kzmodr-dUnfG",
        "colab_type": "text"
      },
      "source": [
        "**Set the path for all 4 type of Images**"
      ]
    },
    {
      "cell_type": "code",
      "metadata": {
        "id": "GRy_ZMdL76DY",
        "colab_type": "code",
        "colab": {}
      },
      "source": [
        "import os\n",
        "zip_path = \"/content/drive/My Drive/ZipExtract/data_TenK101\"\n",
        "subd = os.listdir(zip_path) #Returns sub-directories\n",
        "\n",
        "bg_path = '/content/drive/My Drive/ZipExtract/data_TenK101/BG'\n",
        "\n",
        "bgfg_path = '/content/drive/My Drive/ZipExtract/data_TenK101/BG_FG' \n",
        "\n",
        "bgfg_mask_path = '/content/drive/My Drive/ZipExtract/data_TenK101/BG_FG Masks'\n",
        "\n",
        "depthmap_path = '/content/drive/My Drive/ZipExtract/data_TenK101/DepthMaps'\n"
      ],
      "execution_count": null,
      "outputs": []
    },
    {
      "cell_type": "markdown",
      "metadata": {
        "id": "H8moDUGEnCBn",
        "colab_type": "text"
      },
      "source": [
        "**Some basic checks**"
      ]
    },
    {
      "cell_type": "code",
      "metadata": {
        "id": "JJ0hOGQe49pB",
        "colab_type": "code",
        "colab": {}
      },
      "source": [
        "sorted(os.listdir(bgfg_mask_path))[:-10]"
      ],
      "execution_count": null,
      "outputs": []
    },
    {
      "cell_type": "code",
      "metadata": {
        "id": "y6-YJ64DndBa",
        "colab_type": "code",
        "colab": {
          "base_uri": "https://localhost:8080/",
          "height": 36
        },
        "outputId": "01e6bec1-2848-4c35-b864-fd8f0f43524e"
      },
      "source": [
        "from PIL import Image\n",
        "import cv2\n",
        "img = cv2.imread('/content/drive/My Drive/ZipExtract/data_TenK101/BG_FG Masks/bg_001_fg_001_001.jpeg')\n",
        "img.shape"
      ],
      "execution_count": null,
      "outputs": [
        {
          "output_type": "execute_result",
          "data": {
            "text/plain": [
              "(224, 224, 3)"
            ]
          },
          "metadata": {
            "tags": []
          },
          "execution_count": 12
        }
      ]
    },
    {
      "cell_type": "code",
      "metadata": {
        "id": "YKm_bz2AV8I2",
        "colab_type": "code",
        "colab": {}
      },
      "source": [
        "foldersize=[len(os.listdir(path)) for path in [bg_path, bgfg_path, bgfg_mask_path, depthmap_path]]\n",
        "foldersize"
      ],
      "execution_count": null,
      "outputs": []
    },
    {
      "cell_type": "code",
      "metadata": {
        "id": "eG26BUjBWwmf",
        "colab_type": "code",
        "colab": {}
      },
      "source": [
        "mask = sorted([ file for file in os.listdir(bgfg_mask_path)])\n",
        "mask[:4]\n"
      ],
      "execution_count": null,
      "outputs": []
    },
    {
      "cell_type": "markdown",
      "metadata": {
        "id": "jDhtdJ0jVCr3",
        "colab_type": "text"
      },
      "source": [
        "\n",
        "**Dataset Creation**"
      ]
    },
    {
      "cell_type": "code",
      "metadata": {
        "id": "wrqVnVKwXo2d",
        "colab_type": "code",
        "colab": {}
      },
      "source": [
        "# NOTE: Have done a lot of commenting below, because it's tricky.\n",
        "\n",
        "# Now the first task is to clip input and output\n",
        "# This is done since BG has only 100 images while BG_FG has around 400K, but for this I'm using 10K\n",
        "# Now to do this I've used this snippet below, which will clip in the inputs with it's corresponding ground truth\n",
        "\n",
        "masks = [mask for mask in os.listdir(bgfg_mask_path)] # Mask Files\n",
        "\n",
        "bg_idx = [int(m.split('_')[1]) for m in masks] # Background file index\n",
        "\n",
        "\n",
        "bgfiles = [os.path.join(bg_path, bg) for bg in os.listdir(bg_path)] # all 100 BG Files\n",
        "bg_files = sorted([os.path.join(bgfg_mask_path, bgfiles[idx-1]) for idx in bg_idx ]) # BG Files of Proper index\n"
      ],
      "execution_count": null,
      "outputs": []
    },
    {
      "cell_type": "markdown",
      "metadata": {
        "id": "JVdX6_Wb2BcQ",
        "colab_type": "text"
      },
      "source": [
        "**Zipping Data Elements**"
      ]
    },
    {
      "cell_type": "code",
      "metadata": {
        "colab_type": "code",
        "id": "3_wcNcSsVBBt",
        "colab": {}
      },
      "source": [
        "# I have zipped both bg and bg_fg as image segmentation input.\n",
        "bg_files = sorted([os.path.join(bgfg_mask_path, bgfiles[idx-1]) for idx in bg_idx ]) # BG Files\n",
        "bgfg_mask_files = sorted([os.path.join(bgfg_mask_path, mask) for mask in os.listdir(bgfg_mask_path)]) #BGFG MASK Files\n",
        "bgfg_files = sorted([os.path.join(bgfg_path, bgfg) for bgfg in os.listdir(bgfg_path)]) # BGFG files\n",
        "dpmap_files = sorted([os.path.join(depthmap_path, map) for map in os.listdir(depthmap_path)]) #DEPTH MAP\n",
        "\n",
        "s15_data = list(zip(bg_files, bgfg_files, bgfg_mask_files, dpmap_files)) # for bg add rev_bg_files directly and for depth estimation you can add depth maps\n"
      ],
      "execution_count": null,
      "outputs": []
    },
    {
      "cell_type": "markdown",
      "metadata": {
        "id": "ScWc4QH2mhXt",
        "colab_type": "text"
      },
      "source": [
        "**Image Transformations**"
      ]
    },
    {
      "cell_type": "code",
      "metadata": {
        "colab_type": "code",
        "id": "EEtTUGubmf3W",
        "colab": {
          "base_uri": "https://localhost:8080/",
          "height": 111
        },
        "outputId": "2b9ef49b-4441-45fa-bbd8-4910a29b8552"
      },
      "source": [
        "import albumentations as A\n",
        "import albumentations.pytorch as AP\n",
        "\n",
        "# BG Images\n",
        "bg_mean = (0.5411, 0.54, 0.54)\n",
        "bg_stdev = (0.2320, 0.23, 0.23)\n",
        "\n",
        "# FG_BG Images\n",
        "fgbg_mean = (0.513, 0.536, 0.5546)\n",
        "fgbg_stdev = (0.2355, 0.2317, 0.2326)\n",
        "\n",
        "# FG Mask Images   # SINGLE CHANNEL\n",
        "mask_mean = (0.051)\n",
        "mask_stdev = (0.226)#, 0.4025, 0.4025)\n",
        "\n",
        "# Depth Maps\n",
        "dpmap_mean = (0.3045)\n",
        "dpmap_stdev = (0.1130)\n",
        "\n",
        "# Used same type of transformations for both Train & Test Data\n",
        "\n",
        "bg_transform = AlbumentationTransforms([A.Resize(192,192,p=1),\n",
        "                                                A.Normalize(mean=bg_mean,\n",
        "                                                std=bg_stdev)])\n",
        "\n",
        "bgfg_transform = AlbumentationTransforms([A.Resize(192,192,p=1),\n",
        "                                                # A.HueSaturationValue(p=1),\n",
        "                                                A.Normalize(mean=fgbg_mean,\n",
        "                                              std=fgbg_stdev)])\n",
        "\n",
        "bgfg_mask_transform = SingleChannel_ImageTransforms([A.Resize(192,192,p=1),\n",
        "                                                    A.Normalize(mean=mask_mean,\n",
        "                                                    std=mask_stdev)])\n",
        "\n",
        "dpmap_transform = SingleChannel_ImageTransforms([A.Resize(192,192,p=1),\n",
        "                                                 A.Normalize(mean=dpmap_mean,\n",
        "                                                std=dpmap_stdev)])"
      ],
      "execution_count": null,
      "outputs": [
        {
          "output_type": "stream",
          "text": [
            "transforms list [<albumentations.augmentations.transforms.Resize object at 0x7f4bd8c9b828>, <albumentations.augmentations.transforms.Normalize object at 0x7f4bd8c9b8d0>, <albumentations.pytorch.transforms.ToTensor object at 0x7f4bd8c9bd68>]\n",
            "transforms list [<albumentations.augmentations.transforms.Resize object at 0x7f4bd8c9b898>, <albumentations.augmentations.transforms.Normalize object at 0x7f4bd8c9b438>, <albumentations.pytorch.transforms.ToTensor object at 0x7f4bd8c9bac8>]\n",
            "transforms list [<albumentations.augmentations.transforms.Resize object at 0x7f4bd8c9b160>, <albumentations.augmentations.transforms.Normalize object at 0x7f4bd8c9b208>, <albumentations.pytorch.transforms.ToTensor object at 0x7f4bd8c9bc18>]\n",
            "transforms list [<albumentations.augmentations.transforms.Resize object at 0x7f4bd8c9b470>, <albumentations.augmentations.transforms.Normalize object at 0x7f4bd8c9b710>, <albumentations.pytorch.transforms.ToTensor object at 0x7f4bd8c9ba20>]\n"
          ],
          "name": "stdout"
        }
      ]
    },
    {
      "cell_type": "code",
      "metadata": {
        "id": "zu_2uEZiUrXv",
        "colab_type": "code",
        "colab": {}
      },
      "source": [
        "_s15 = s15_data[:5001] # using a subset of only 5000 images out of s15_data"
      ],
      "execution_count": null,
      "outputs": []
    },
    {
      "cell_type": "code",
      "metadata": {
        "id": "CJJ4sRT39fs3",
        "colab_type": "code",
        "colab": {}
      },
      "source": [
        "train = DepthMapDataset(_s15[:3500], bg_transform,  bgfg_transform, bgfg_mask_transform, dpmap_transform) #bg_transform,, dpmap_transform)\n",
        "test = DepthMapDataset(_s15[3501:], bg_transform, bgfg_transform, bgfg_mask_transform, dpmap_transform)"
      ],
      "execution_count": null,
      "outputs": []
    },
    {
      "cell_type": "markdown",
      "metadata": {
        "id": "HVRpiXDmD-sb",
        "colab_type": "text"
      },
      "source": [
        "**TRAINLOADER & TESTLOADER**"
      ]
    },
    {
      "cell_type": "code",
      "metadata": {
        "id": "sYULLgTxq3qc",
        "colab_type": "code",
        "colab": {}
      },
      "source": [
        "trainLoader, testLoader = Data_To_Dataloader(train,test,batch_size=64)"
      ],
      "execution_count": null,
      "outputs": []
    },
    {
      "cell_type": "code",
      "metadata": {
        "id": "WaiPkA2OSc_Y",
        "colab_type": "code",
        "colab": {
          "base_uri": "https://localhost:8080/",
          "height": 1000
        },
        "outputId": "f0a4b819-4c71-4246-e9c5-5c851e1e30cf"
      },
      "source": [
        "from torchsummary import summary\n",
        "import torch\n",
        "cuda = torch.cuda.is_available()\n",
        "device = torch.device(\"cuda\" if cuda else \"cpu\")\n",
        "unet_model = UNet(6,1).to(device)\n",
        "\n",
        "summary(unet_model, input_size=(6, 192, 192))"
      ],
      "execution_count": null,
      "outputs": [
        {
          "output_type": "stream",
          "text": [
            "----------------------------------------------------------------\n",
            "        Layer (type)               Output Shape         Param #\n",
            "================================================================\n",
            "            Conv2d-1         [-1, 16, 192, 192]             880\n",
            "       BatchNorm2d-2         [-1, 16, 192, 192]              32\n",
            "           Dropout-3         [-1, 16, 192, 192]               0\n",
            "              ReLU-4         [-1, 16, 192, 192]               0\n",
            "            Conv2d-5         [-1, 16, 192, 192]           2,320\n",
            "       BatchNorm2d-6         [-1, 16, 192, 192]              32\n",
            "           Dropout-7         [-1, 16, 192, 192]               0\n",
            "              ReLU-8         [-1, 16, 192, 192]               0\n",
            "        DoubleConv-9         [-1, 16, 192, 192]               0\n",
            "        MaxPool2d-10           [-1, 16, 96, 96]               0\n",
            "           Conv2d-11           [-1, 32, 96, 96]           4,640\n",
            "      BatchNorm2d-12           [-1, 32, 96, 96]              64\n",
            "          Dropout-13           [-1, 32, 96, 96]               0\n",
            "             ReLU-14           [-1, 32, 96, 96]               0\n",
            "           Conv2d-15           [-1, 32, 96, 96]           9,248\n",
            "      BatchNorm2d-16           [-1, 32, 96, 96]              64\n",
            "          Dropout-17           [-1, 32, 96, 96]               0\n",
            "             ReLU-18           [-1, 32, 96, 96]               0\n",
            "       DoubleConv-19           [-1, 32, 96, 96]               0\n",
            "       DownSample-20           [-1, 32, 96, 96]               0\n",
            "        MaxPool2d-21           [-1, 32, 48, 48]               0\n",
            "           Conv2d-22           [-1, 64, 48, 48]          18,496\n",
            "      BatchNorm2d-23           [-1, 64, 48, 48]             128\n",
            "          Dropout-24           [-1, 64, 48, 48]               0\n",
            "             ReLU-25           [-1, 64, 48, 48]               0\n",
            "           Conv2d-26           [-1, 64, 48, 48]          36,928\n",
            "      BatchNorm2d-27           [-1, 64, 48, 48]             128\n",
            "          Dropout-28           [-1, 64, 48, 48]               0\n",
            "             ReLU-29           [-1, 64, 48, 48]               0\n",
            "       DoubleConv-30           [-1, 64, 48, 48]               0\n",
            "       DownSample-31           [-1, 64, 48, 48]               0\n",
            "        MaxPool2d-32           [-1, 64, 24, 24]               0\n",
            "           Conv2d-33          [-1, 128, 24, 24]          73,856\n",
            "      BatchNorm2d-34          [-1, 128, 24, 24]             256\n",
            "          Dropout-35          [-1, 128, 24, 24]               0\n",
            "             ReLU-36          [-1, 128, 24, 24]               0\n",
            "           Conv2d-37          [-1, 128, 24, 24]         147,584\n",
            "      BatchNorm2d-38          [-1, 128, 24, 24]             256\n",
            "          Dropout-39          [-1, 128, 24, 24]               0\n",
            "             ReLU-40          [-1, 128, 24, 24]               0\n",
            "       DoubleConv-41          [-1, 128, 24, 24]               0\n",
            "       DownSample-42          [-1, 128, 24, 24]               0\n",
            "        MaxPool2d-43          [-1, 128, 12, 12]               0\n",
            "           Conv2d-44          [-1, 128, 12, 12]         147,584\n",
            "      BatchNorm2d-45          [-1, 128, 12, 12]             256\n",
            "          Dropout-46          [-1, 128, 12, 12]               0\n",
            "             ReLU-47          [-1, 128, 12, 12]               0\n",
            "           Conv2d-48          [-1, 128, 12, 12]         147,584\n",
            "      BatchNorm2d-49          [-1, 128, 12, 12]             256\n",
            "          Dropout-50          [-1, 128, 12, 12]               0\n",
            "             ReLU-51          [-1, 128, 12, 12]               0\n",
            "       DoubleConv-52          [-1, 128, 12, 12]               0\n",
            "       DownSample-53          [-1, 128, 12, 12]               0\n",
            "         Upsample-54          [-1, 128, 24, 24]               0\n",
            "           Conv2d-55          [-1, 128, 24, 24]         295,040\n",
            "      BatchNorm2d-56          [-1, 128, 24, 24]             256\n",
            "          Dropout-57          [-1, 128, 24, 24]               0\n",
            "             ReLU-58          [-1, 128, 24, 24]               0\n",
            "           Conv2d-59           [-1, 64, 24, 24]          73,792\n",
            "      BatchNorm2d-60           [-1, 64, 24, 24]             128\n",
            "          Dropout-61           [-1, 64, 24, 24]               0\n",
            "             ReLU-62           [-1, 64, 24, 24]               0\n",
            "       DoubleConv-63           [-1, 64, 24, 24]               0\n",
            "         UpSample-64           [-1, 64, 24, 24]               0\n",
            "         Upsample-65           [-1, 64, 48, 48]               0\n",
            "           Conv2d-66           [-1, 64, 48, 48]          73,792\n",
            "      BatchNorm2d-67           [-1, 64, 48, 48]             128\n",
            "          Dropout-68           [-1, 64, 48, 48]               0\n",
            "             ReLU-69           [-1, 64, 48, 48]               0\n",
            "           Conv2d-70           [-1, 32, 48, 48]          18,464\n",
            "      BatchNorm2d-71           [-1, 32, 48, 48]              64\n",
            "          Dropout-72           [-1, 32, 48, 48]               0\n",
            "             ReLU-73           [-1, 32, 48, 48]               0\n",
            "       DoubleConv-74           [-1, 32, 48, 48]               0\n",
            "         UpSample-75           [-1, 32, 48, 48]               0\n",
            "         Upsample-76           [-1, 32, 96, 96]               0\n",
            "           Conv2d-77           [-1, 32, 96, 96]          18,464\n",
            "      BatchNorm2d-78           [-1, 32, 96, 96]              64\n",
            "          Dropout-79           [-1, 32, 96, 96]               0\n",
            "             ReLU-80           [-1, 32, 96, 96]               0\n",
            "           Conv2d-81           [-1, 16, 96, 96]           4,624\n",
            "      BatchNorm2d-82           [-1, 16, 96, 96]              32\n",
            "          Dropout-83           [-1, 16, 96, 96]               0\n",
            "             ReLU-84           [-1, 16, 96, 96]               0\n",
            "       DoubleConv-85           [-1, 16, 96, 96]               0\n",
            "         UpSample-86           [-1, 16, 96, 96]               0\n",
            "         Upsample-87         [-1, 16, 192, 192]               0\n",
            "           Conv2d-88         [-1, 16, 192, 192]           4,624\n",
            "      BatchNorm2d-89         [-1, 16, 192, 192]              32\n",
            "          Dropout-90         [-1, 16, 192, 192]               0\n",
            "             ReLU-91         [-1, 16, 192, 192]               0\n",
            "           Conv2d-92         [-1, 16, 192, 192]           2,320\n",
            "      BatchNorm2d-93         [-1, 16, 192, 192]              32\n",
            "          Dropout-94         [-1, 16, 192, 192]               0\n",
            "             ReLU-95         [-1, 16, 192, 192]               0\n",
            "       DoubleConv-96         [-1, 16, 192, 192]               0\n",
            "         UpSample-97         [-1, 16, 192, 192]               0\n",
            "           Conv2d-98          [-1, 1, 192, 192]              17\n",
            "          OutConv-99          [-1, 1, 192, 192]               0\n",
            "       MaxPool2d-100           [-1, 16, 96, 96]               0\n",
            "          Conv2d-101           [-1, 32, 96, 96]           4,640\n",
            "     BatchNorm2d-102           [-1, 32, 96, 96]              64\n",
            "         Dropout-103           [-1, 32, 96, 96]               0\n",
            "            ReLU-104           [-1, 32, 96, 96]               0\n",
            "          Conv2d-105           [-1, 32, 96, 96]           9,248\n",
            "     BatchNorm2d-106           [-1, 32, 96, 96]              64\n",
            "         Dropout-107           [-1, 32, 96, 96]               0\n",
            "            ReLU-108           [-1, 32, 96, 96]               0\n",
            "      DoubleConv-109           [-1, 32, 96, 96]               0\n",
            "      DownSample-110           [-1, 32, 96, 96]               0\n",
            "       MaxPool2d-111           [-1, 32, 48, 48]               0\n",
            "          Conv2d-112           [-1, 64, 48, 48]          18,496\n",
            "     BatchNorm2d-113           [-1, 64, 48, 48]             128\n",
            "         Dropout-114           [-1, 64, 48, 48]               0\n",
            "            ReLU-115           [-1, 64, 48, 48]               0\n",
            "          Conv2d-116           [-1, 64, 48, 48]          36,928\n",
            "     BatchNorm2d-117           [-1, 64, 48, 48]             128\n",
            "         Dropout-118           [-1, 64, 48, 48]               0\n",
            "            ReLU-119           [-1, 64, 48, 48]               0\n",
            "      DoubleConv-120           [-1, 64, 48, 48]               0\n",
            "      DownSample-121           [-1, 64, 48, 48]               0\n",
            "       MaxPool2d-122           [-1, 64, 24, 24]               0\n",
            "          Conv2d-123          [-1, 128, 24, 24]          73,856\n",
            "     BatchNorm2d-124          [-1, 128, 24, 24]             256\n",
            "         Dropout-125          [-1, 128, 24, 24]               0\n",
            "            ReLU-126          [-1, 128, 24, 24]               0\n",
            "          Conv2d-127          [-1, 128, 24, 24]         147,584\n",
            "     BatchNorm2d-128          [-1, 128, 24, 24]             256\n",
            "         Dropout-129          [-1, 128, 24, 24]               0\n",
            "            ReLU-130          [-1, 128, 24, 24]               0\n",
            "      DoubleConv-131          [-1, 128, 24, 24]               0\n",
            "      DownSample-132          [-1, 128, 24, 24]               0\n",
            "       MaxPool2d-133          [-1, 128, 12, 12]               0\n",
            "          Conv2d-134          [-1, 128, 12, 12]         147,584\n",
            "     BatchNorm2d-135          [-1, 128, 12, 12]             256\n",
            "         Dropout-136          [-1, 128, 12, 12]               0\n",
            "            ReLU-137          [-1, 128, 12, 12]               0\n",
            "          Conv2d-138          [-1, 128, 12, 12]         147,584\n",
            "     BatchNorm2d-139          [-1, 128, 12, 12]             256\n",
            "         Dropout-140          [-1, 128, 12, 12]               0\n",
            "            ReLU-141          [-1, 128, 12, 12]               0\n",
            "      DoubleConv-142          [-1, 128, 12, 12]               0\n",
            "      DownSample-143          [-1, 128, 12, 12]               0\n",
            "        Upsample-144          [-1, 128, 24, 24]               0\n",
            "          Conv2d-145          [-1, 128, 24, 24]         295,040\n",
            "     BatchNorm2d-146          [-1, 128, 24, 24]             256\n",
            "         Dropout-147          [-1, 128, 24, 24]               0\n",
            "            ReLU-148          [-1, 128, 24, 24]               0\n",
            "          Conv2d-149           [-1, 64, 24, 24]          73,792\n",
            "     BatchNorm2d-150           [-1, 64, 24, 24]             128\n",
            "         Dropout-151           [-1, 64, 24, 24]               0\n",
            "            ReLU-152           [-1, 64, 24, 24]               0\n",
            "      DoubleConv-153           [-1, 64, 24, 24]               0\n",
            "        UpSample-154           [-1, 64, 24, 24]               0\n",
            "        Upsample-155           [-1, 64, 48, 48]               0\n",
            "          Conv2d-156           [-1, 64, 48, 48]          73,792\n",
            "     BatchNorm2d-157           [-1, 64, 48, 48]             128\n",
            "         Dropout-158           [-1, 64, 48, 48]               0\n",
            "            ReLU-159           [-1, 64, 48, 48]               0\n",
            "          Conv2d-160           [-1, 32, 48, 48]          18,464\n",
            "     BatchNorm2d-161           [-1, 32, 48, 48]              64\n",
            "         Dropout-162           [-1, 32, 48, 48]               0\n",
            "            ReLU-163           [-1, 32, 48, 48]               0\n",
            "      DoubleConv-164           [-1, 32, 48, 48]               0\n",
            "        UpSample-165           [-1, 32, 48, 48]               0\n",
            "        Upsample-166           [-1, 32, 96, 96]               0\n",
            "          Conv2d-167           [-1, 32, 96, 96]          18,464\n",
            "     BatchNorm2d-168           [-1, 32, 96, 96]              64\n",
            "         Dropout-169           [-1, 32, 96, 96]               0\n",
            "            ReLU-170           [-1, 32, 96, 96]               0\n",
            "          Conv2d-171           [-1, 16, 96, 96]           4,624\n",
            "     BatchNorm2d-172           [-1, 16, 96, 96]              32\n",
            "         Dropout-173           [-1, 16, 96, 96]               0\n",
            "            ReLU-174           [-1, 16, 96, 96]               0\n",
            "      DoubleConv-175           [-1, 16, 96, 96]               0\n",
            "        UpSample-176           [-1, 16, 96, 96]               0\n",
            "        Upsample-177         [-1, 16, 192, 192]               0\n",
            "          Conv2d-178         [-1, 16, 192, 192]           4,624\n",
            "     BatchNorm2d-179         [-1, 16, 192, 192]              32\n",
            "         Dropout-180         [-1, 16, 192, 192]               0\n",
            "            ReLU-181         [-1, 16, 192, 192]               0\n",
            "          Conv2d-182         [-1, 16, 192, 192]           2,320\n",
            "     BatchNorm2d-183         [-1, 16, 192, 192]              32\n",
            "         Dropout-184         [-1, 16, 192, 192]               0\n",
            "            ReLU-185         [-1, 16, 192, 192]               0\n",
            "      DoubleConv-186         [-1, 16, 192, 192]               0\n",
            "        UpSample-187         [-1, 16, 192, 192]               0\n",
            "          Conv2d-188          [-1, 1, 192, 192]              17\n",
            "         OutConv-189          [-1, 1, 192, 192]               0\n",
            "================================================================\n",
            "Total params: 2,161,666\n",
            "Trainable params: 2,161,666\n",
            "Non-trainable params: 0\n",
            "----------------------------------------------------------------\n",
            "Input size (MB): 0.84\n",
            "Forward/backward pass size (MB): 289.41\n",
            "Params size (MB): 8.25\n",
            "Estimated Total Size (MB): 298.50\n",
            "----------------------------------------------------------------\n"
          ],
          "name": "stdout"
        }
      ]
    },
    {
      "cell_type": "markdown",
      "metadata": {
        "id": "oA8KB3qfOmEu",
        "colab_type": "text"
      },
      "source": [
        "**MODEL TRAINING & EVALUATION**"
      ]
    },
    {
      "cell_type": "code",
      "metadata": {
        "id": "Kk0Kfk2swlqX",
        "colab_type": "code",
        "colab": {}
      },
      "source": [
        "from torch.optim import Adam, SGD\n",
        "from torch.optim.lr_scheduler import ReduceLROnPlateau\n",
        "\n",
        "unet_model = UNet(6,1).to(device)  # MODEL\n",
        "\n",
        "# CRITERION PART\n",
        "depth_c = IoULoss() \n",
        "mask_c = nn.BCEWithLogitsLoss()\n",
        "\n",
        "optimizer = torch.optim.SGD(unet_model.parameters(), lr = 0.01)\n",
        "current_lr = [param_group['lr'] for param_group in optimizer.param_groups][0]\n",
        "scheduler = torch.optim.lr_scheduler.ReduceLROnPlateau(optimizer, factor=0.5, patience=2, threshold=0.001)\n",
        "\n",
        "\n",
        "# Model Config Class\n",
        "class ModelConfig:\n",
        "  def __init__(self, **kwargs):\n",
        "    for k, v in kwargs.items():\n",
        "      setattr(self, k, v)\n",
        "\n",
        "\n",
        "# Model Configs\n",
        "model_config = ModelConfig(\n",
        "    cuda = True if torch.cuda.is_available() else False,\n",
        "    device = torch.device(\"cuda\" if torch.cuda.is_available() else \"cpu\"),\n",
        "    seed = 9091,\n",
        "    model = unet_model, \n",
        "    trainloader = trainLoader,\n",
        "    testloader = testLoader, \n",
        "    lr = 0.01,\n",
        "    mask_criterion = mask_c,\n",
        "    depth_criterion = depth_c,\n",
        "    optimizer = torch.optim.Adam(unet_model.parameters(),lr=0.01),\n",
        "    scheduler = ReduceLROnPlateau(optimizer, mode='min', patience=2, verbose=True),\n",
        "    epochs = 10,\n",
        "    save_model = False,)\n"
      ],
      "execution_count": null,
      "outputs": []
    },
    {
      "cell_type": "code",
      "metadata": {
        "id": "pycBNS3wOxPA",
        "colab_type": "code",
        "colab": {}
      },
      "source": [
        "\n",
        "t1 = Trainer(model_config) # Trainer Object\n",
        "for epoch in range(t1.epochs+1):\n",
        "  print('EPOCH:', epoch)\n",
        "  t1.train()\n",
        "  t1.test()\n",
        "  if t1.scheduler and isinstance(t1.scheduler, torch.optim.lr_scheduler.ReduceLROnPlateau):\n",
        "    t1.scheduler.step(t1.test_losses[-1])"
      ],
      "execution_count": null,
      "outputs": []
    },
    {
      "cell_type": "code",
      "metadata": {
        "id": "UCmlBx_V2w_L",
        "colab_type": "code",
        "colab": {
          "base_uri": "https://localhost:8080/",
          "height": 283
        },
        "outputId": "531196cc-7271-406d-836f-08e54c8dc82c"
      },
      "source": [
        "import matplotlib.pyplot as plt # lr 0.0001\n",
        "plt.plot(iou_coeffs, label='IoU score')\n",
        "# plt.plot(valid_losses, label='ssim index')\n",
        "plt.legend()"
      ],
      "execution_count": null,
      "outputs": [
        {
          "output_type": "execute_result",
          "data": {
            "text/plain": [
              "<matplotlib.legend.Legend at 0x7f23ed640f28>"
            ]
          },
          "metadata": {
            "tags": []
          },
          "execution_count": 144
        },
        {
          "output_type": "display_data",
          "data": {
            "image/png": "[encoded data removed]",
            "text/plain": [
              "<Figure size 432x288 with 1 Axes>"
            ]
          },
          "metadata": {
            "tags": [],
            "needs_background": "light"
          }
        }
      ]
    }
  ]
}