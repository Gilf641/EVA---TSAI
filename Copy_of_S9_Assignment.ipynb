{
  "nbformat": 4,
  "nbformat_minor": 0,
  "metadata": {
    "colab": {
      "name": "Copy of S9_Assignment.ipynb",
      "provenance": [],
      "collapsed_sections": [],
      "mount_file_id": "1I1nR5ymSHLJYh-c5I41tuXyXv_FTE_1X",
      "authorship_tag": "ABX9TyPSyyhdcc1/QeCEMFzqhCjz",
      "include_colab_link": true
    },
    "kernelspec": {
      "name": "python3",
      "display_name": "Python 3"
    },
    "accelerator": "GPU",
    "widgets": {
      "application/vnd.jupyter.widget-state+json": {
        "50b83e9533ea4b43b6a5749a18d7e477": {
          "model_module": "@jupyter-widgets/controls",
          "model_name": "HBoxModel",
          "state": {
            "_view_name": "HBoxView",
            "_dom_classes": [],
            "_model_name": "HBoxModel",
            "_view_module": "@jupyter-widgets/controls",
            "_model_module_version": "1.5.0",
            "_view_count": null,
            "_view_module_version": "1.5.0",
            "box_style": "",
            "layout": "IPY_MODEL_08acb358a105413d9fd98312f67cc4ff",
            "_model_module": "@jupyter-widgets/controls",
            "children": [
              "IPY_MODEL_e72e5cb368954ebdb1d19ee382a3328c",
              "IPY_MODEL_efbacbdeca20421c80d7ed61b04d9d09"
            ]
          }
        },
        "08acb358a105413d9fd98312f67cc4ff": {
          "model_module": "@jupyter-widgets/base",
          "model_name": "LayoutModel",
          "state": {
            "_view_name": "LayoutView",
            "grid_template_rows": null,
            "right": null,
            "justify_content": null,
            "_view_module": "@jupyter-widgets/base",
            "overflow": null,
            "_model_module_version": "1.2.0",
            "_view_count": null,
            "flex_flow": null,
            "width": null,
            "min_width": null,
            "border": null,
            "align_items": null,
            "bottom": null,
            "_model_module": "@jupyter-widgets/base",
            "top": null,
            "grid_column": null,
            "overflow_y": null,
            "overflow_x": null,
            "grid_auto_flow": null,
            "grid_area": null,
            "grid_template_columns": null,
            "flex": null,
            "_model_name": "LayoutModel",
            "justify_items": null,
            "grid_row": null,
            "max_height": null,
            "align_content": null,
            "visibility": null,
            "align_self": null,
            "height": null,
            "min_height": null,
            "padding": null,
            "grid_auto_rows": null,
            "grid_gap": null,
            "max_width": null,
            "order": null,
            "_view_module_version": "1.2.0",
            "grid_template_areas": null,
            "object_position": null,
            "object_fit": null,
            "grid_auto_columns": null,
            "margin": null,
            "display": null,
            "left": null
          }
        },
        "e72e5cb368954ebdb1d19ee382a3328c": {
          "model_module": "@jupyter-widgets/controls",
          "model_name": "FloatProgressModel",
          "state": {
            "_view_name": "ProgressView",
            "style": "IPY_MODEL_4740df2be309423e85986c078e9f748d",
            "_dom_classes": [],
            "description": "",
            "_model_name": "FloatProgressModel",
            "bar_style": "info",
            "max": 1,
            "_view_module": "@jupyter-widgets/controls",
            "_model_module_version": "1.5.0",
            "value": 1,
            "_view_count": null,
            "_view_module_version": "1.5.0",
            "orientation": "horizontal",
            "min": 0,
            "description_tooltip": null,
            "_model_module": "@jupyter-widgets/controls",
            "layout": "IPY_MODEL_739657e8a7f64e48b5f1c55d3f3851da"
          }
        },
        "efbacbdeca20421c80d7ed61b04d9d09": {
          "model_module": "@jupyter-widgets/controls",
          "model_name": "HTMLModel",
          "state": {
            "_view_name": "HTMLView",
            "style": "IPY_MODEL_189c780f7842408f9b9986658c08e13f",
            "_dom_classes": [],
            "description": "",
            "_model_name": "HTMLModel",
            "placeholder": "​",
            "_view_module": "@jupyter-widgets/controls",
            "_model_module_version": "1.5.0",
            "value": " 170500096/? [00:19&lt;00:00, 32576514.92it/s]",
            "_view_count": null,
            "_view_module_version": "1.5.0",
            "description_tooltip": null,
            "_model_module": "@jupyter-widgets/controls",
            "layout": "IPY_MODEL_c2d1d847597f42cd9695683cb67f49d1"
          }
        },
        "4740df2be309423e85986c078e9f748d": {
          "model_module": "@jupyter-widgets/controls",
          "model_name": "ProgressStyleModel",
          "state": {
            "_view_name": "StyleView",
            "_model_name": "ProgressStyleModel",
            "description_width": "initial",
            "_view_module": "@jupyter-widgets/base",
            "_model_module_version": "1.5.0",
            "_view_count": null,
            "_view_module_version": "1.2.0",
            "bar_color": null,
            "_model_module": "@jupyter-widgets/controls"
          }
        },
        "739657e8a7f64e48b5f1c55d3f3851da": {
          "model_module": "@jupyter-widgets/base",
          "model_name": "LayoutModel",
          "state": {
            "_view_name": "LayoutView",
            "grid_template_rows": null,
            "right": null,
            "justify_content": null,
            "_view_module": "@jupyter-widgets/base",
            "overflow": null,
            "_model_module_version": "1.2.0",
            "_view_count": null,
            "flex_flow": null,
            "width": null,
            "min_width": null,
            "border": null,
            "align_items": null,
            "bottom": null,
            "_model_module": "@jupyter-widgets/base",
            "top": null,
            "grid_column": null,
            "overflow_y": null,
            "overflow_x": null,
            "grid_auto_flow": null,
            "grid_area": null,
            "grid_template_columns": null,
            "flex": null,
            "_model_name": "LayoutModel",
            "justify_items": null,
            "grid_row": null,
            "max_height": null,
            "align_content": null,
            "visibility": null,
            "align_self": null,
            "height": null,
            "min_height": null,
            "padding": null,
            "grid_auto_rows": null,
            "grid_gap": null,
            "max_width": null,
            "order": null,
            "_view_module_version": "1.2.0",
            "grid_template_areas": null,
            "object_position": null,
            "object_fit": null,
            "grid_auto_columns": null,
            "margin": null,
            "display": null,
            "left": null
          }
        },
        "189c780f7842408f9b9986658c08e13f": {
          "model_module": "@jupyter-widgets/controls",
          "model_name": "DescriptionStyleModel",
          "state": {
            "_view_name": "StyleView",
            "_model_name": "DescriptionStyleModel",
            "description_width": "",
            "_view_module": "@jupyter-widgets/base",
            "_model_module_version": "1.5.0",
            "_view_count": null,
            "_view_module_version": "1.2.0",
            "_model_module": "@jupyter-widgets/controls"
          }
        },
        "c2d1d847597f42cd9695683cb67f49d1": {
          "model_module": "@jupyter-widgets/base",
          "model_name": "LayoutModel",
          "state": {
            "_view_name": "LayoutView",
            "grid_template_rows": null,
            "right": null,
            "justify_content": null,
            "_view_module": "@jupyter-widgets/base",
            "overflow": null,
            "_model_module_version": "1.2.0",
            "_view_count": null,
            "flex_flow": null,
            "width": null,
            "min_width": null,
            "border": null,
            "align_items": null,
            "bottom": null,
            "_model_module": "@jupyter-widgets/base",
            "top": null,
            "grid_column": null,
            "overflow_y": null,
            "overflow_x": null,
            "grid_auto_flow": null,
            "grid_area": null,
            "grid_template_columns": null,
            "flex": null,
            "_model_name": "LayoutModel",
            "justify_items": null,
            "grid_row": null,
            "max_height": null,
            "align_content": null,
            "visibility": null,
            "align_self": null,
            "height": null,
            "min_height": null,
            "padding": null,
            "grid_auto_rows": null,
            "grid_gap": null,
            "max_width": null,
            "order": null,
            "_view_module_version": "1.2.0",
            "grid_template_areas": null,
            "object_position": null,
            "object_fit": null,
            "grid_auto_columns": null,
            "margin": null,
            "display": null,
            "left": null
          }
        }
      }
    }
  },
  "cells": [
    {
      "cell_type": "markdown",
      "metadata": {
        "id": "view-in-github",
        "colab_type": "text"
      },
      "source": [
        "<a href=\"https://colab.research.google.com/github/Gilf641/EVA4/blob/master/Copy_of_S9_Assignment.ipynb\" target=\"_parent\"><img src=\"https://colab.research.google.com/assets/colab-badge.svg\" alt=\"Open In Colab\"/></a>"
      ]
    },
    {
      "cell_type": "markdown",
      "metadata": {
        "id": "7sL4gh2sPixw",
        "colab_type": "text"
      },
      "source": [
        "**Pip install Albumentation Library**"
      ]
    },
    {
      "cell_type": "code",
      "metadata": {
        "id": "5cOU37NIRCOl",
        "colab_type": "code",
        "outputId": "48ddb57a-ef8d-4805-960b-1af14ab8bd49",
        "colab": {
          "base_uri": "https://localhost:8080/",
          "height": 124
        }
      },
      "source": [
        "from __future__ import print_function\n",
        "%matplotlib inline\n",
        "\n",
        "# mount your gdrive\n",
        "from google.colab import drive\n",
        "drive.mount('/content/drive')\n"
      ],
      "execution_count": 1,
      "outputs": [
        {
          "output_type": "stream",
          "text": [
            "Go to this URL in a browser: https://accounts.google.com/o/oauth2/auth?client_id=947318989803-6bn6qk8qdgf4n4g3pfee6491hc0brc4i.apps.googleusercontent.com&redirect_uri=urn%3aietf%3awg%3aoauth%3a2.0%3aoob&response_type=code&scope=email%20https%3a%2f%2fwww.googleapis.com%2fauth%2fdocs.test%20https%3a%2f%2fwww.googleapis.com%2fauth%2fdrive%20https%3a%2f%2fwww.googleapis.com%2fauth%2fdrive.photos.readonly%20https%3a%2f%2fwww.googleapis.com%2fauth%2fpeopleapi.readonly\n",
            "\n",
            "Enter your authorization code:\n",
            "··········\n",
            "Mounted at /content/drive\n"
          ],
          "name": "stdout"
        }
      ]
    },
    {
      "cell_type": "code",
      "metadata": {
        "id": "__2xxxTvRCRE",
        "colab_type": "code",
        "outputId": "97be5df5-e24d-4ff9-b94c-47fcfd9f4422",
        "colab": {
          "base_uri": "https://localhost:8080/",
          "height": 69
        }
      },
      "source": [
        "# add library path in your default search path\n",
        "import sys\n",
        "sys.path.append('/content/drive/My Drive/EVA4B2-TSAI/EVA4_Library')\n",
        "!ls \"/content/drive/My Drive/EVA4B2-TSAI/EVA4_Library\"\n"
      ],
      "execution_count": 2,
      "outputs": [
        {
          "output_type": "stream",
          "text": [
            "BN_GBN.py\t   execute.py\t\t     resNet.py\t       visualizeData.py\n",
            "cifar10_models.py  image_transformations.py  rohan_library.py\n",
            "DataLoaders.py\t   __pycache__\t\t     utils.py\n"
          ],
          "name": "stdout"
        }
      ]
    },
    {
      "cell_type": "code",
      "metadata": {
        "id": "aXoQNp75X3Bf",
        "colab_type": "code",
        "colab": {}
      },
      "source": [
        "!cp '/content/drive/My Drive/EVA4B2-TSAI/EVA4_Library/rohan_library.py' 'rohan_library.py'\n",
        "!cp '/content/drive/My Drive/EVA4B2-TSAI/EVA4_Library/execute.py' 'execute.py'\n",
        "!cp '/content/drive/My Drive/EVA4B2-TSAI/EVA4_Library/resNet.py' 'resNet.py'\n",
        "# !cp '/content/drive/My Drive/EVA4B2-TSAI/EVA4_Library/DataLoaders.py' 'DataLoaders.py'\n",
        "!cp '/content/drive/My Drive/EVA4B2-TSAI/EVA4_Library/utils.py' 'utils.py'\n",
        "!cp '/content/drive/My Drive/EVA4B2-TSAI/EVA4_Library/image_transformations.py' 'image_transformations.py'\n",
        "\n",
        "# I had no option other than copying the required files to a diff external directory and them import from there\n",
        "# also there's easycolab which i will implement later"
      ],
      "execution_count": 0,
      "outputs": []
    },
    {
      "cell_type": "markdown",
      "metadata": {
        "id": "be-hv0wzRvhV",
        "colab_type": "text"
      },
      "source": [
        "**Import Packages from Drive**"
      ]
    },
    {
      "cell_type": "code",
      "metadata": {
        "id": "Pi7CJJVCRCVh",
        "colab_type": "code",
        "colab": {}
      },
      "source": [
        "from rohan_library import *\n",
        "import execute\n",
        "\n",
        "from resNet import ResNet18\n",
        "import utils\n",
        "import image_transformations "
      ],
      "execution_count": 0,
      "outputs": []
    },
    {
      "cell_type": "code",
      "metadata": {
        "id": "NQlTbfFGK0Ys",
        "colab_type": "code",
        "colab": {}
      },
      "source": [
        "import torch\n",
        "\n",
        "class DataLoaders:\n",
        "  def __init__(self, batch_size=128, shuffle=True, num_workers=4, pin_memory=True, seed=1):\n",
        "    use_cuda = torch.cuda.is_available()\n",
        "    device = torch.device('cuda' if use_cuda else 'cpu')  # set device to cuda\n",
        "\n",
        "    if use_cuda:\n",
        "      torch.manual_seed(seed)\n",
        "    \n",
        "    self.dataLoader_args = dict(batch_size=batch_size, shuffle=True, num_workers=4, pin_memory=True ) if use_cuda else dict(batch_size=1, shuffle=True, num_workers = 1, pin_memory = True)\n",
        "\n",
        "  def dataLoader(self, data):\n",
        "    return torch.utils.data.DataLoader(data,**self.dataLoader_args )\n"
      ],
      "execution_count": 0,
      "outputs": []
    },
    {
      "cell_type": "markdown",
      "metadata": {
        "id": "Z9wHb-CIP4M0",
        "colab_type": "text"
      },
      "source": [
        "**Albumentation Transforms Main Code**"
      ]
    },
    {
      "cell_type": "code",
      "metadata": {
        "id": "arsywvWXPsBP",
        "colab_type": "code",
        "colab": {}
      },
      "source": [
        "from torchvision import transforms\n",
        "import numpy as np\n",
        "import random\n",
        "from albumentations import HorizontalFlip, Compose, RandomCrop, Normalize, Rotate, pytorch\n",
        "from albumentations.pytorch import ToTensor\n",
        "\n",
        "# create a albumentation class to define test & train transformations \n",
        "class albumentationTransform(object): \n",
        "  def __init__(self, train = True):\n",
        "    \"\"\"Create a Data Transformation Pipeline \"\"\"\n",
        "    transformsList = []\n",
        "    channel_means = (0.5, 0.5, 0.5)\n",
        "    channel_stdevs = (0.5, 0.5, 0.5)\n",
        "  \n",
        "    if train:\n",
        "      transformsList += [Rotate(-10.0, 10,0)]\n",
        "      transformsList += [HorizontalFlip(0.5)]\n",
        "      # transformsList += [RandomCrop(height = 2, width = 2, p=0.5)]\n",
        "    \n",
        "    transformsList += [Normalize(mean = channel_means, std = channel_stdevs, always_apply=True),\n",
        "                       ToTensor()]\n",
        "  \n",
        "    self.transform = Compose(transformsList)\n",
        "\n",
        "  # def trainTransforms(self, mean, std):\n",
        "  #   albTrainTrans = Compose([\n",
        "  #                           #  Rotate(-10.0, 10.0),\n",
        "  #                           #  HorizontalFlip(0.5),\n",
        "  #                            Normalize(mean = mean, std = std, always_apply=True),\n",
        "  #                            pytorch.ToTensorV2(always_apply=True),\n",
        "  #   ])\n",
        "  #   return albTrainTrans;\n",
        "\n",
        "  \n",
        "  # def testTransforms(self, mean, std):\n",
        "  #   albTestTrans = Compose([\n",
        "  #                           Normalize(mean = mean, std = std, always_apply = True),\n",
        "  #                           pytorch.ToTensorV2(always_apply=True),\n",
        "  #   ])\n",
        "\n",
        "  #   return albTestTrans;\n",
        "\n",
        "\n",
        "# class normalTrans:\n",
        "#   def __init__(self, transforms):\n",
        "#     self.transforms = transforms  \n",
        "\n",
        "  def __call__(self, image):\n",
        "    \"\"\"Process the image through data transformation pipeline \"\"\"\n",
        "\n",
        "    img = np.array(image)\n",
        "    img = self.transform(image = img)['image']\n",
        "    return img\n"
      ],
      "execution_count": 0,
      "outputs": []
    },
    {
      "cell_type": "markdown",
      "metadata": {
        "id": "6a23sBfiSJQk",
        "colab_type": "text"
      },
      "source": [
        "**Albumentation Transformations**"
      ]
    },
    {
      "cell_type": "code",
      "metadata": {
        "id": "rxesJJq_SFjE",
        "colab_type": "code",
        "colab": {}
      },
      "source": [
        "import albumentations as alb\n",
        "\n",
        "# create an instance albumentationTransform\n",
        "channel_means = (0.5, 0.5, 0.5)\n",
        "channel_stdevs = (0.5, 0.5, 0.5)\n",
        "\n",
        "# albT = albumentationTransform()\n",
        "\n",
        "\n",
        "trainAlbTrans = albumentationTransform(train=True)\n",
        "testAlbTrans = albumentationTransform()\n",
        "\n"
      ],
      "execution_count": 0,
      "outputs": []
    },
    {
      "cell_type": "code",
      "metadata": {
        "id": "WHxk5R7MhFtz",
        "colab_type": "code",
        "colab": {}
      },
      "source": [
        "# #-------------------------NORMAL IMAGE TRANSFORMS-----------------\n",
        "\n",
        "\n",
        "# channel_means = (0.5, 0.5, 0.5)\n",
        "# channel_stdevs = (0.5, 0.5, 0.5)\n",
        "\n",
        "# fillMeans = (np.array(channel_means)*255).astype(np.uint8)\n",
        "# trans = image_transformations.Transforms(normalize=True, mean=channel_means, stdev=channel_stdevs)\n",
        "\n",
        "# trainTrans = trans.train_transforms([\n",
        "#                                      transforms.RandomRotation((-15.0, 15.0), fill=tuple(fillMeans)),\n",
        "#                                      transforms.RandomHorizontalFlip(p=0.5),\n",
        "#                                      transforms.RandomVerticalFlip(p=0.5)\n",
        "# ])\n",
        "# testTrans = trans.test_transforms()"
      ],
      "execution_count": 0,
      "outputs": []
    },
    {
      "cell_type": "markdown",
      "metadata": {
        "id": "mgXKh0f2Um7t",
        "colab_type": "text"
      },
      "source": [
        "**Load Train & Test Dataset**"
      ]
    },
    {
      "cell_type": "code",
      "metadata": {
        "id": "qE29nFXxUmQj",
        "colab_type": "code",
        "outputId": "5351579a-af71-46b4-abd4-5006ed74d760",
        "colab": {
          "base_uri": "https://localhost:8080/",
          "height": 101,
          "referenced_widgets": [
            "50b83e9533ea4b43b6a5749a18d7e477",
            "08acb358a105413d9fd98312f67cc4ff",
            "e72e5cb368954ebdb1d19ee382a3328c",
            "efbacbdeca20421c80d7ed61b04d9d09",
            "4740df2be309423e85986c078e9f748d",
            "739657e8a7f64e48b5f1c55d3f3851da",
            "189c780f7842408f9b9986658c08e13f",
            "c2d1d847597f42cd9695683cb67f49d1"
          ]
        }
      },
      "source": [
        "train = torchvision.datasets.CIFAR10(root = './data', train = True, download = True, transform = trainAlbTrans)\n",
        "test = torchvision.datasets.CIFAR10(root = './data', train = False, download = True, transform = testAlbTrans)\n",
        "\n",
        "classes = ('plane', 'car', 'bird', 'cat', 'deer', 'dog', 'frog', 'horse', 'ship', 'truck')"
      ],
      "execution_count": 8,
      "outputs": [
        {
          "output_type": "stream",
          "text": [
            "Downloading https://www.cs.toronto.edu/~kriz/cifar-10-python.tar.gz to ./data/cifar-10-python.tar.gz\n"
          ],
          "name": "stdout"
        },
        {
          "output_type": "display_data",
          "data": {
            "application/vnd.jupyter.widget-view+json": {
              "model_id": "50b83e9533ea4b43b6a5749a18d7e477",
              "version_minor": 0,
              "version_major": 2
            },
            "text/plain": [
              "HBox(children=(FloatProgress(value=1.0, bar_style='info', max=1.0), HTML(value='')))"
            ]
          },
          "metadata": {
            "tags": []
          }
        },
        {
          "output_type": "stream",
          "text": [
            "Extracting ./data/cifar-10-python.tar.gz to ./data\n",
            "Files already downloaded and verified\n"
          ],
          "name": "stdout"
        }
      ]
    },
    {
      "cell_type": "code",
      "metadata": {
        "id": "-XClK6lSJWd0",
        "colab_type": "code",
        "outputId": "70c27c40-42b2-4349-9dcc-37bf3f25b65d",
        "colab": {
          "base_uri": "https://localhost:8080/",
          "height": 121
        }
      },
      "source": [
        "train"
      ],
      "execution_count": 0,
      "outputs": [
        {
          "output_type": "execute_result",
          "data": {
            "text/plain": [
              "Dataset CIFAR10\n",
              "    Number of datapoints: 50000\n",
              "    Root location: ./data\n",
              "    Split: Train\n",
              "    StandardTransform\n",
              "Transform: <__main__.albumentationTransform object at 0x7faffdc57358>"
            ]
          },
          "metadata": {
            "tags": []
          },
          "execution_count": 11
        }
      ]
    },
    {
      "cell_type": "markdown",
      "metadata": {
        "id": "8zkdvKWeWGdI",
        "colab_type": "text"
      },
      "source": [
        "**DataLoaders for Train & Test Dataset**"
      ]
    },
    {
      "cell_type": "code",
      "metadata": {
        "id": "Cn88HQwDWG3p",
        "colab_type": "code",
        "colab": {}
      },
      "source": [
        "dl = DataLoaders()\n",
        "trainLoader = dl.dataLoader(train)\n",
        "testLoader = dl.dataLoader(test)\n"
      ],
      "execution_count": 0,
      "outputs": []
    },
    {
      "cell_type": "code",
      "metadata": {
        "id": "bYEKi1a8JfNc",
        "colab_type": "code",
        "colab": {}
      },
      "source": [
        "iter(trainLoader).next()"
      ],
      "execution_count": 0,
      "outputs": []
    },
    {
      "cell_type": "markdown",
      "metadata": {
        "id": "Od9l0nT5ZaCP",
        "colab_type": "text"
      },
      "source": [
        "**Display Training Images**"
      ]
    },
    {
      "cell_type": "code",
      "metadata": {
        "id": "r4_TEgkRZaNp",
        "colab_type": "code",
        "outputId": "37749f4e-de4a-4c6b-b4ef-002c9f707753",
        "colab": {
          "base_uri": "https://localhost:8080/",
          "height": 52
        }
      },
      "source": [
        "dataiter = iter(trainLoader)\n",
        "\n",
        "images, labels = dataiter.next()\n",
        "print(images.shape)\n",
        "print(labels.shape)"
      ],
      "execution_count": 11,
      "outputs": [
        {
          "output_type": "stream",
          "text": [
            "torch.Size([128, 3, 32, 32])\n",
            "torch.Size([128])\n"
          ],
          "name": "stdout"
        }
      ]
    },
    {
      "cell_type": "code",
      "metadata": {
        "id": "k0MvdNmrG30T",
        "colab_type": "code",
        "colab": {
          "base_uri": "https://localhost:8080/",
          "height": 149
        },
        "outputId": "dec74de1-7db3-4b18-de5a-37539c28f38e"
      },
      "source": [
        " def imshow(img):\n",
        "        img = img / 2 + 0.5  # unnormalize\n",
        "        plt.imshow(np.transpose(img, (1, 2, 0)))  # convert from Tensor image\n",
        "\n",
        "def showImagesfromdataset(dataiterator, classes):\n",
        "        images, labels = dataiterator.next()\n",
        "        images = images.numpy()  # convert images to numpy for display\n",
        "\n",
        "        # plot the images in the batch, along with the corresponding labels\n",
        "        fig = plt.figure(figsize=(25, 4))\n",
        "        # display 20 images\n",
        "        for i in range(len(classes)):\n",
        "          # for idx in np.arange(5):\n",
        "\n",
        "\n",
        "          \n",
        "            ax = fig.add_subplot(2, 20 / 2, i + 1, xticks=[], yticks=[])\n",
        "            imshow(images[i])\n",
        "            ax.set_title(classes[labels[i]])\n",
        "\n",
        "showImagesfromdataset(dataiter,classes)"
      ],
      "execution_count": 12,
      "outputs": [
        {
          "output_type": "display_data",
          "data": {
            "image/png": "[encoded data removed]",
            "text/plain": [
              "<Figure size 1800x288 with 10 Axes>"
            ]
          },
          "metadata": {
            "tags": []
          }
        }
      ]
    },
    {
      "cell_type": "code",
      "metadata": {
        "id": "wYGDiTH-bcYY",
        "colab_type": "code",
        "colab": {
          "base_uri": "https://localhost:8080/",
          "height": 792
        },
        "outputId": "905257cf-e424-4b5b-ba7b-e915f4b24809"
      },
      "source": [
        "def unnormalize(img):\n",
        "  img = img.numpy().astype(dtype=np.float32)\n",
        "  \n",
        "  for i in range(img.shape[0]):\n",
        "    img[i] = (img[i]*channel_stdevs[i])+channel_means[i] # if not unnormalized then the resulting images will be dark and not visible\n",
        "  return np.transpose(img, (1,2,0))\n",
        "\n",
        "\n",
        "num_classes = 10\n",
        "# display 10 images from each category. \n",
        "class_names = ('airplane','automobile','bird','cat','deer',\n",
        "               'dog','frog','horse','ship','truck')\n",
        "\n",
        "r, c = 10, 10\n",
        "n = 5\n",
        "fig = plt.figure(figsize=(14,14))\n",
        "fig.subplots_adjust(hspace=0.01, wspace=0.01)\n",
        "for i in range(num_classes):\n",
        "    idx = np.random.choice(np.where(labels[:]==i)[0], n)\n",
        "    ax = plt.subplot(r, c, i*c+1) # (10, 10, i*10+1)\n",
        "    ax.text(-1.5, 0.5, class_names[i], fontsize=14)\n",
        "    plt.axis('off')\n",
        "    for j in range(1, n+1):\n",
        "      plt.subplot(r, c, i*c+j+1) # (10, 10, i*10+j+1)\n",
        "      plt.imshow(unnormalize(images[idx[j-1]]), interpolation='none')\n",
        "      plt.axis('off')\n",
        "plt.show()"
      ],
      "execution_count": 13,
      "outputs": [
        {
          "output_type": "display_data",
          "data": {
            "image/png": "[encoded data removed]",
            "text/plain": [
              "<Figure size 1008x1008 with 60 Axes>"
            ]
          },
          "metadata": {
            "tags": [],
            "needs_background": "light"
          }
        }
      ]
    },
    {
      "cell_type": "code",
      "metadata": {
        "id": "Dd5O-pRAaiRe",
        "colab_type": "code",
        "outputId": "6916ce4e-f69e-4ba6-b382-6e20f5f70a7b",
        "colab": {
          "base_uri": "https://localhost:8080/",
          "height": 1000
        }
      },
      "source": [
        "#Model Summary\n",
        "from torchsummary import summary\n",
        "\n",
        "use_cuda = torch.cuda.is_available()\n",
        "device = torch.device('cuda' if use_cuda else 'cpu')\n",
        "print('Device set to ', device)\n",
        "\n",
        "model = ResNet18().to(device)\n",
        "summary(model, input_size=(3,32,32))"
      ],
      "execution_count": 14,
      "outputs": [
        {
          "output_type": "stream",
          "text": [
            "Device set to  cuda\n",
            "----------------------------------------------------------------\n",
            "        Layer (type)               Output Shape         Param #\n",
            "================================================================\n",
            "            Conv2d-1           [-1, 64, 32, 32]           1,728\n",
            "       BatchNorm2d-2           [-1, 64, 32, 32]             128\n",
            "            Conv2d-3           [-1, 64, 32, 32]          36,864\n",
            "       BatchNorm2d-4           [-1, 64, 32, 32]             128\n",
            "            Conv2d-5           [-1, 64, 32, 32]          36,864\n",
            "       BatchNorm2d-6           [-1, 64, 32, 32]             128\n",
            "        BasicBlock-7           [-1, 64, 32, 32]               0\n",
            "            Conv2d-8           [-1, 64, 32, 32]          36,864\n",
            "       BatchNorm2d-9           [-1, 64, 32, 32]             128\n",
            "           Conv2d-10           [-1, 64, 32, 32]          36,864\n",
            "      BatchNorm2d-11           [-1, 64, 32, 32]             128\n",
            "       BasicBlock-12           [-1, 64, 32, 32]               0\n",
            "           Conv2d-13          [-1, 128, 16, 16]          73,728\n",
            "      BatchNorm2d-14          [-1, 128, 16, 16]             256\n",
            "           Conv2d-15          [-1, 128, 16, 16]         147,456\n",
            "      BatchNorm2d-16          [-1, 128, 16, 16]             256\n",
            "           Conv2d-17          [-1, 128, 16, 16]           8,192\n",
            "      BatchNorm2d-18          [-1, 128, 16, 16]             256\n",
            "       BasicBlock-19          [-1, 128, 16, 16]               0\n",
            "           Conv2d-20          [-1, 128, 16, 16]         147,456\n",
            "      BatchNorm2d-21          [-1, 128, 16, 16]             256\n",
            "           Conv2d-22          [-1, 128, 16, 16]         147,456\n",
            "      BatchNorm2d-23          [-1, 128, 16, 16]             256\n",
            "       BasicBlock-24          [-1, 128, 16, 16]               0\n",
            "           Conv2d-25            [-1, 256, 8, 8]         294,912\n",
            "      BatchNorm2d-26            [-1, 256, 8, 8]             512\n",
            "           Conv2d-27            [-1, 256, 8, 8]         589,824\n",
            "      BatchNorm2d-28            [-1, 256, 8, 8]             512\n",
            "           Conv2d-29            [-1, 256, 8, 8]          32,768\n",
            "      BatchNorm2d-30            [-1, 256, 8, 8]             512\n",
            "       BasicBlock-31            [-1, 256, 8, 8]               0\n",
            "           Conv2d-32            [-1, 256, 8, 8]         589,824\n",
            "      BatchNorm2d-33            [-1, 256, 8, 8]             512\n",
            "           Conv2d-34            [-1, 256, 8, 8]         589,824\n",
            "      BatchNorm2d-35            [-1, 256, 8, 8]             512\n",
            "       BasicBlock-36            [-1, 256, 8, 8]               0\n",
            "           Conv2d-37            [-1, 512, 4, 4]       1,179,648\n",
            "      BatchNorm2d-38            [-1, 512, 4, 4]           1,024\n",
            "           Conv2d-39            [-1, 512, 4, 4]       2,359,296\n",
            "      BatchNorm2d-40            [-1, 512, 4, 4]           1,024\n",
            "           Conv2d-41            [-1, 512, 4, 4]         131,072\n",
            "      BatchNorm2d-42            [-1, 512, 4, 4]           1,024\n",
            "       BasicBlock-43            [-1, 512, 4, 4]               0\n",
            "           Conv2d-44            [-1, 512, 4, 4]       2,359,296\n",
            "      BatchNorm2d-45            [-1, 512, 4, 4]           1,024\n",
            "           Conv2d-46            [-1, 512, 4, 4]       2,359,296\n",
            "      BatchNorm2d-47            [-1, 512, 4, 4]           1,024\n",
            "       BasicBlock-48            [-1, 512, 4, 4]               0\n",
            "           Linear-49                   [-1, 10]           5,130\n",
            "================================================================\n",
            "Total params: 11,173,962\n",
            "Trainable params: 11,173,962\n",
            "Non-trainable params: 0\n",
            "----------------------------------------------------------------\n",
            "Input size (MB): 0.01\n",
            "Forward/backward pass size (MB): 11.25\n",
            "Params size (MB): 42.63\n",
            "Estimated Total Size (MB): 53.89\n",
            "----------------------------------------------------------------\n"
          ],
          "name": "stdout"
        }
      ]
    },
    {
      "cell_type": "code",
      "metadata": {
        "id": "ECuEMLLRe-6i",
        "colab_type": "code",
        "outputId": "b76abac1-ecf7-4598-9ec6-3644913e8fd8",
        "colab": {
          "base_uri": "https://localhost:8080/",
          "height": 1000
        }
      },
      "source": [
        "incorrectSamples = []\n",
        "model = ResNet18().to(device)\n",
        "\n",
        "\n",
        "criterion = utils.cross_entropy_loss()\n",
        "optimizer = optim.SGD(model.parameters(), lr = 0.01, momentum=0.9, weight_decay=1e-4)\n",
        "scheduler = torch.optim.lr_scheduler.OneCycleLR(optimizer, max_lr=0.1, steps_per_epoch=len(trainLoader), epochs = 25)\n",
        "\n",
        "model1 = execute.Test_Train()\n",
        "EPOCHS = 25\n",
        "\n",
        "for epoch in range(1, EPOCHS+1):\n",
        "  print('EPOCH: ',epoch)\n",
        "  model1.train(model, device, trainLoader, optimizer, epoch, scheduler, criterion, L1lambda = 1e-5 )\n",
        "\n",
        "  model1.test(model, device, testLoader, 'model1.pt', criterion, incorrectSamples )"
      ],
      "execution_count": 15,
      "outputs": [
        {
          "output_type": "stream",
          "text": [
            "\r  0%|          | 0/391 [00:00<?, ?it/s]"
          ],
          "name": "stderr"
        },
        {
          "output_type": "stream",
          "text": [
            "EPOCH:  1\n"
          ],
          "name": "stdout"
        },
        {
          "output_type": "stream",
          "text": [
            "Loss=2.2744545936584473 Batch_id=390 Accuracy=48.54: 100%|██████████| 391/391 [00:55<00:00,  7.10it/s]\n",
            "  0%|          | 0/391 [00:00<?, ?it/s]"
          ],
          "name": "stderr"
        },
        {
          "output_type": "stream",
          "text": [
            "Validation loss has  decreased (inf --> 0.9704).  Saving model ...\n",
            "\n",
            "Test set: Average loss: 0.9704, Accuracy: 5323/10000 (53.23%)\n",
            "\n",
            "EPOCH:  2\n"
          ],
          "name": "stdout"
        },
        {
          "output_type": "stream",
          "text": [
            "Loss=1.954674482345581 Batch_id=390 Accuracy=67.59: 100%|██████████| 391/391 [00:55<00:00,  7.04it/s]\n",
            "  0%|          | 0/391 [00:00<?, ?it/s]"
          ],
          "name": "stderr"
        },
        {
          "output_type": "stream",
          "text": [
            "Validation loss has  decreased (0.9704 --> 0.9338).  Saving model ...\n",
            "\n",
            "Test set: Average loss: 0.9338, Accuracy: 6773/10000 (67.73%)\n",
            "\n",
            "EPOCH:  3\n"
          ],
          "name": "stdout"
        },
        {
          "output_type": "stream",
          "text": [
            "Loss=1.803689956665039 Batch_id=390 Accuracy=74.21: 100%|██████████| 391/391 [00:56<00:00,  6.87it/s]\n",
            "  0%|          | 0/391 [00:00<?, ?it/s]"
          ],
          "name": "stderr"
        },
        {
          "output_type": "stream",
          "text": [
            "Validation loss has  decreased (0.9338 --> 0.4290).  Saving model ...\n",
            "\n",
            "Test set: Average loss: 0.4290, Accuracy: 6741/10000 (67.41%)\n",
            "\n",
            "EPOCH:  4\n"
          ],
          "name": "stdout"
        },
        {
          "output_type": "stream",
          "text": [
            "Loss=1.379546880722046 Batch_id=390 Accuracy=78.74: 100%|██████████| 391/391 [00:57<00:00,  6.78it/s]\n",
            "  0%|          | 0/391 [00:00<?, ?it/s]"
          ],
          "name": "stderr"
        },
        {
          "output_type": "stream",
          "text": [
            "\n",
            "Test set: Average loss: 0.7339, Accuracy: 7379/10000 (73.79%)\n",
            "\n",
            "EPOCH:  5\n"
          ],
          "name": "stdout"
        },
        {
          "output_type": "stream",
          "text": [
            "Loss=1.426170825958252 Batch_id=390 Accuracy=81.58: 100%|██████████| 391/391 [00:57<00:00,  6.84it/s]\n",
            "  0%|          | 0/391 [00:00<?, ?it/s]"
          ],
          "name": "stderr"
        },
        {
          "output_type": "stream",
          "text": [
            "\n",
            "Test set: Average loss: 1.3282, Accuracy: 7033/10000 (70.33%)\n",
            "\n",
            "EPOCH:  6\n"
          ],
          "name": "stdout"
        },
        {
          "output_type": "stream",
          "text": [
            "Loss=1.0428180694580078 Batch_id=390 Accuracy=83.98: 100%|██████████| 391/391 [00:57<00:00,  6.83it/s]\n",
            "  0%|          | 0/391 [00:00<?, ?it/s]"
          ],
          "name": "stderr"
        },
        {
          "output_type": "stream",
          "text": [
            "\n",
            "Test set: Average loss: 0.6807, Accuracy: 7713/10000 (77.13%)\n",
            "\n",
            "EPOCH:  7\n"
          ],
          "name": "stdout"
        },
        {
          "output_type": "stream",
          "text": [
            "Loss=1.0253970623016357 Batch_id=390 Accuracy=85.54: 100%|██████████| 391/391 [00:57<00:00,  6.82it/s]\n",
            "  0%|          | 0/391 [00:00<?, ?it/s]"
          ],
          "name": "stderr"
        },
        {
          "output_type": "stream",
          "text": [
            "\n",
            "Test set: Average loss: 1.2669, Accuracy: 7564/10000 (75.64%)\n",
            "\n",
            "EPOCH:  8\n"
          ],
          "name": "stdout"
        },
        {
          "output_type": "stream",
          "text": [
            "Loss=0.9595420956611633 Batch_id=390 Accuracy=86.73: 100%|██████████| 391/391 [00:57<00:00,  6.79it/s]\n",
            "  0%|          | 0/391 [00:00<?, ?it/s]"
          ],
          "name": "stderr"
        },
        {
          "output_type": "stream",
          "text": [
            "Validation loss has  decreased (0.4290 --> 0.0736).  Saving model ...\n",
            "\n",
            "Test set: Average loss: 0.0736, Accuracy: 8296/10000 (82.96%)\n",
            "\n",
            "EPOCH:  9\n"
          ],
          "name": "stdout"
        },
        {
          "output_type": "stream",
          "text": [
            "Loss=1.3414721488952637 Batch_id=390 Accuracy=88.19: 100%|██████████| 391/391 [00:57<00:00,  6.79it/s]\n",
            "  0%|          | 0/391 [00:00<?, ?it/s]"
          ],
          "name": "stderr"
        },
        {
          "output_type": "stream",
          "text": [
            "\n",
            "Test set: Average loss: 0.4036, Accuracy: 8035/10000 (80.35%)\n",
            "\n",
            "EPOCH:  10\n"
          ],
          "name": "stdout"
        },
        {
          "output_type": "stream",
          "text": [
            "Loss=0.8247487545013428 Batch_id=390 Accuracy=89.43: 100%|██████████| 391/391 [00:57<00:00,  6.79it/s]\n",
            "  0%|          | 0/391 [00:00<?, ?it/s]"
          ],
          "name": "stderr"
        },
        {
          "output_type": "stream",
          "text": [
            "\n",
            "Test set: Average loss: 0.1771, Accuracy: 8033/10000 (80.33%)\n",
            "\n",
            "EPOCH:  11\n"
          ],
          "name": "stdout"
        },
        {
          "output_type": "stream",
          "text": [
            "Loss=0.9436745643615723 Batch_id=390 Accuracy=90.30: 100%|██████████| 391/391 [00:57<00:00,  6.81it/s]\n",
            "  0%|          | 0/391 [00:00<?, ?it/s]"
          ],
          "name": "stderr"
        },
        {
          "output_type": "stream",
          "text": [
            "\n",
            "Test set: Average loss: 0.2955, Accuracy: 8102/10000 (81.02%)\n",
            "\n",
            "EPOCH:  12\n"
          ],
          "name": "stdout"
        },
        {
          "output_type": "stream",
          "text": [
            "Loss=0.9534422159194946 Batch_id=390 Accuracy=91.27: 100%|██████████| 391/391 [00:57<00:00,  6.80it/s]\n",
            "  0%|          | 0/391 [00:00<?, ?it/s]"
          ],
          "name": "stderr"
        },
        {
          "output_type": "stream",
          "text": [
            "\n",
            "Test set: Average loss: 0.4572, Accuracy: 8046/10000 (80.46%)\n",
            "\n",
            "EPOCH:  13\n"
          ],
          "name": "stdout"
        },
        {
          "output_type": "stream",
          "text": [
            "Loss=0.7955870628356934 Batch_id=390 Accuracy=91.88: 100%|██████████| 391/391 [00:57<00:00,  6.85it/s]\n",
            "  0%|          | 0/391 [00:00<?, ?it/s]"
          ],
          "name": "stderr"
        },
        {
          "output_type": "stream",
          "text": [
            "\n",
            "Test set: Average loss: 0.4257, Accuracy: 7867/10000 (78.67%)\n",
            "\n",
            "EPOCH:  14\n"
          ],
          "name": "stdout"
        },
        {
          "output_type": "stream",
          "text": [
            "Loss=0.8857162594795227 Batch_id=390 Accuracy=92.91: 100%|██████████| 391/391 [00:57<00:00,  6.83it/s]\n",
            "  0%|          | 0/391 [00:00<?, ?it/s]"
          ],
          "name": "stderr"
        },
        {
          "output_type": "stream",
          "text": [
            "\n",
            "Test set: Average loss: 0.6477, Accuracy: 8484/10000 (84.84%)\n",
            "\n",
            "EPOCH:  15\n"
          ],
          "name": "stdout"
        },
        {
          "output_type": "stream",
          "text": [
            "Loss=0.9190254211425781 Batch_id=390 Accuracy=93.54: 100%|██████████| 391/391 [00:57<00:00,  6.83it/s]\n",
            "  0%|          | 0/391 [00:00<?, ?it/s]"
          ],
          "name": "stderr"
        },
        {
          "output_type": "stream",
          "text": [
            "\n",
            "Test set: Average loss: 0.5879, Accuracy: 8147/10000 (81.47%)\n",
            "\n",
            "EPOCH:  16\n"
          ],
          "name": "stdout"
        },
        {
          "output_type": "stream",
          "text": [
            "Loss=0.732447624206543 Batch_id=390 Accuracy=94.36: 100%|██████████| 391/391 [00:57<00:00,  6.80it/s]\n",
            "  0%|          | 0/391 [00:00<?, ?it/s]"
          ],
          "name": "stderr"
        },
        {
          "output_type": "stream",
          "text": [
            "\n",
            "Test set: Average loss: 0.2296, Accuracy: 8392/10000 (83.92%)\n",
            "\n",
            "EPOCH:  17\n"
          ],
          "name": "stdout"
        },
        {
          "output_type": "stream",
          "text": [
            "Loss=0.8704017400741577 Batch_id=390 Accuracy=95.06: 100%|██████████| 391/391 [00:57<00:00,  6.82it/s]\n",
            "  0%|          | 0/391 [00:00<?, ?it/s]"
          ],
          "name": "stderr"
        },
        {
          "output_type": "stream",
          "text": [
            "\n",
            "Test set: Average loss: 0.3794, Accuracy: 8544/10000 (85.44%)\n",
            "\n",
            "EPOCH:  18\n"
          ],
          "name": "stdout"
        },
        {
          "output_type": "stream",
          "text": [
            "Loss=0.6354263424873352 Batch_id=390 Accuracy=95.94: 100%|██████████| 391/391 [00:57<00:00,  6.80it/s]\n",
            "  0%|          | 0/391 [00:00<?, ?it/s]"
          ],
          "name": "stderr"
        },
        {
          "output_type": "stream",
          "text": [
            "\n",
            "Test set: Average loss: 0.2642, Accuracy: 8659/10000 (86.59%)\n",
            "\n",
            "EPOCH:  19\n"
          ],
          "name": "stdout"
        },
        {
          "output_type": "stream",
          "text": [
            "Loss=0.5977149605751038 Batch_id=390 Accuracy=97.06: 100%|██████████| 391/391 [00:57<00:00,  6.81it/s]\n",
            "  0%|          | 0/391 [00:00<?, ?it/s]"
          ],
          "name": "stderr"
        },
        {
          "output_type": "stream",
          "text": [
            "\n",
            "Test set: Average loss: 1.0844, Accuracy: 8617/10000 (86.17%)\n",
            "\n",
            "EPOCH:  20\n"
          ],
          "name": "stdout"
        },
        {
          "output_type": "stream",
          "text": [
            "Loss=0.5660703182220459 Batch_id=390 Accuracy=97.82: 100%|██████████| 391/391 [00:57<00:00,  6.81it/s]\n",
            "  0%|          | 0/391 [00:00<?, ?it/s]"
          ],
          "name": "stderr"
        },
        {
          "output_type": "stream",
          "text": [
            "\n",
            "Test set: Average loss: 1.0597, Accuracy: 8733/10000 (87.33%)\n",
            "\n",
            "EPOCH:  21\n"
          ],
          "name": "stdout"
        },
        {
          "output_type": "stream",
          "text": [
            "Loss=0.48384055495262146 Batch_id=390 Accuracy=98.64: 100%|██████████| 391/391 [00:57<00:00,  6.82it/s]\n",
            "  0%|          | 0/391 [00:00<?, ?it/s]"
          ],
          "name": "stderr"
        },
        {
          "output_type": "stream",
          "text": [
            "Validation loss has  decreased (0.0736 --> 0.0483).  Saving model ...\n",
            "\n",
            "Test set: Average loss: 0.0483, Accuracy: 8801/10000 (88.01%)\n",
            "\n",
            "EPOCH:  22\n"
          ],
          "name": "stdout"
        },
        {
          "output_type": "stream",
          "text": [
            "Loss=0.446976900100708 Batch_id=390 Accuracy=99.45: 100%|██████████| 391/391 [00:57<00:00,  6.80it/s]\n",
            "  0%|          | 0/391 [00:00<?, ?it/s]"
          ],
          "name": "stderr"
        },
        {
          "output_type": "stream",
          "text": [
            "Validation loss has  decreased (0.0483 --> 0.0244).  Saving model ...\n",
            "\n",
            "Test set: Average loss: 0.0244, Accuracy: 8906/10000 (89.06%)\n",
            "\n",
            "EPOCH:  23\n"
          ],
          "name": "stdout"
        },
        {
          "output_type": "stream",
          "text": [
            "Loss=0.4258502721786499 Batch_id=390 Accuracy=99.66: 100%|██████████| 391/391 [00:57<00:00,  6.81it/s]\n",
            "  0%|          | 0/391 [00:00<?, ?it/s]"
          ],
          "name": "stderr"
        },
        {
          "output_type": "stream",
          "text": [
            "\n",
            "Test set: Average loss: 0.0856, Accuracy: 8931/10000 (89.31%)\n",
            "\n",
            "EPOCH:  24\n"
          ],
          "name": "stdout"
        },
        {
          "output_type": "stream",
          "text": [
            "Loss=0.41586601734161377 Batch_id=390 Accuracy=99.78: 100%|██████████| 391/391 [00:57<00:00,  6.82it/s]\n",
            "  0%|          | 0/391 [00:00<?, ?it/s]"
          ],
          "name": "stderr"
        },
        {
          "output_type": "stream",
          "text": [
            "\n",
            "Test set: Average loss: 0.8674, Accuracy: 8971/10000 (89.71%)\n",
            "\n",
            "EPOCH:  25\n"
          ],
          "name": "stdout"
        },
        {
          "output_type": "stream",
          "text": [
            "Loss=0.41513368487358093 Batch_id=390 Accuracy=99.83: 100%|██████████| 391/391 [00:57<00:00,  6.80it/s]\n"
          ],
          "name": "stderr"
        },
        {
          "output_type": "stream",
          "text": [
            "\n",
            "Test set: Average loss: 0.7790, Accuracy: 8948/10000 (89.48%)\n",
            "\n"
          ],
          "name": "stdout"
        }
      ]
    },
    {
      "cell_type": "code",
      "metadata": {
        "id": "bv7eh8CHgIXv",
        "colab_type": "code",
        "colab": {
          "base_uri": "https://localhost:8080/",
          "height": 225
        },
        "outputId": "88c18020-6f28-46d3-b216-85bf81aab8ea"
      },
      "source": [
        "\n",
        "!pip install pytorch-gradcam\n",
        "\n",
        "\n",
        "import os\n",
        "import PIL\n",
        "import torch\n",
        "import numpy as np\n",
        "from torchvision import transforms\n",
        "from torchvision.utils import make_grid, save_image\n",
        "\n",
        "from gradcam.utils import visualize_cam\n",
        "from gradcam import GradCAM, GradCAMpp\n",
        "device = 'cuda' if torch.cuda.is_available() else 'cpu'\n",
        "\n",
        "def grad_cam(img, model, layer):\n",
        "\tconfigs = [dict(model_type='resnet', arch=model, layer_name=layer)]\n",
        "\t\n",
        "\tfor config in configs:\n",
        "\t\tconfig['arch'].to(device).eval()\n",
        "\t\n",
        "\ttorch_img = transforms.Compose([transforms.ToTensor()])(img).to(device)\n",
        "\tnormed_torch_img = transforms.Normalize([0.485, 0.456, 0.406], [0.229, 0.224, 0.225])(torch_img)[None]\n",
        "\t\n",
        "\tcams = [[cls.from_config(**config) for cls in (GradCAM, GradCAMpp)] for config in configs]\t\n",
        "\n",
        "\timages = []\n",
        "\tfor gradcam, gradcam_pp in cams:\n",
        "\t\tmask, _ = gradcam(normed_torch_img)\n",
        "\t\theatmap, result = visualize_cam(mask, torch_img)\n",
        "\n",
        "\t\tmask_pp, _ = gradcam_pp(normed_torch_img)\n",
        "\t\theatmap_pp, result_pp = visualize_cam(mask_pp, torch_img)\n",
        "\n",
        "\t\timages.extend([torch_img.cpu(), heatmap, heatmap_pp, result, result_pp])\n",
        "\n",
        "\treturn images\n"
      ],
      "execution_count": 44,
      "outputs": [
        {
          "output_type": "stream",
          "text": [
            "Collecting pytorch-gradcam\n",
            "\u001b[?25l  Downloading https://files.pythonhosted.org/packages/e6/0a/55251f7cbea464581c6fb831813d38a41fdeb78f3dd8193522248cb98744/pytorch-gradcam-0.2.1.tar.gz (6.0MB)\n",
            "\u001b[K     |████████████████████████████████| 6.0MB 13.1MB/s \n",
            "\u001b[?25hRequirement already satisfied: opencv-python in /usr/local/lib/python3.6/dist-packages (from pytorch-gradcam) (4.1.2.30)\n",
            "Requirement already satisfied: numpy in /usr/local/lib/python3.6/dist-packages (from pytorch-gradcam) (1.18.4)\n",
            "Building wheels for collected packages: pytorch-gradcam\n",
            "  Building wheel for pytorch-gradcam (setup.py) ... \u001b[?25l\u001b[?25hdone\n",
            "  Created wheel for pytorch-gradcam: filename=pytorch_gradcam-0.2.1-cp36-none-any.whl size=5269 sha256=13d79a205322b5414792e3ca4d88e8c496f346f97e0f500ba5e682ddecea6b29\n",
            "  Stored in directory: /root/.cache/pip/wheels/e8/1e/35/d24150a078a90ce0ad093586814d4665e945466baa89907300\n",
            "Successfully built pytorch-gradcam\n",
            "Installing collected packages: pytorch-gradcam\n",
            "Successfully installed pytorch-gradcam-0.2.1\n"
          ],
          "name": "stdout"
        }
      ]
    },
    {
      "cell_type": "code",
      "metadata": {
        "id": "YRJGF_rMLDH3",
        "colab_type": "code",
        "colab": {}
      },
      "source": [
        ""
      ],
      "execution_count": 0,
      "outputs": []
    },
    {
      "cell_type": "code",
      "metadata": {
        "id": "u79c1_ZJk4dr",
        "colab_type": "code",
        "colab": {
          "base_uri": "https://localhost:8080/",
          "height": 1000
        },
        "outputId": "56cbe6a0-9710-48f2-de17-1ca2a92b4f02"
      },
      "source": [
        "dataiter = iter(trainLoader)\n",
        "images, labels = dataiter.next()\n",
        "images"
      ],
      "execution_count": 47,
      "outputs": [
        {
          "output_type": "execute_result",
          "data": {
            "text/plain": [
              "tensor([[[[ 0.4588,  0.4667,  0.4667,  ..., -0.7882, -0.7961, -0.8118],\n",
              "          [ 0.4824,  0.4824,  0.4824,  ..., -0.6314, -0.6235, -0.6314],\n",
              "          [ 0.4588,  0.4667,  0.4667,  ..., -0.7255, -0.8039, -0.7961],\n",
              "          ...,\n",
              "          [-0.5608, -0.5608, -0.5451,  ..., -0.0196, -0.0196, -0.0588],\n",
              "          [-0.4118, -0.4275, -0.4196,  ..., -0.0196, -0.0980, -0.2549],\n",
              "          [-0.3961, -0.4431, -0.4039,  ..., -0.0275, -0.0275, -0.0667]],\n",
              "\n",
              "         [[ 0.4902,  0.4980,  0.4980,  ..., -0.8196, -0.8275, -0.8431],\n",
              "          [ 0.5137,  0.5137,  0.5137,  ..., -0.6627, -0.6549, -0.6627],\n",
              "          [ 0.4902,  0.4980,  0.4980,  ..., -0.7569, -0.8353, -0.8275],\n",
              "          ...,\n",
              "          [-0.7647, -0.7569, -0.7647,  ..., -0.0824, -0.0824, -0.1216],\n",
              "          [-0.6941, -0.6863, -0.7098,  ..., -0.0824, -0.1608, -0.3176],\n",
              "          [-0.6863, -0.7020, -0.7020,  ..., -0.0902, -0.0902, -0.1294]],\n",
              "\n",
              "         [[ 0.5137,  0.5216,  0.5216,  ..., -0.8431, -0.8510, -0.8667],\n",
              "          [ 0.5373,  0.5373,  0.5373,  ..., -0.6863, -0.6784, -0.6784],\n",
              "          [ 0.5137,  0.5216,  0.5216,  ..., -0.7804, -0.8588, -0.8510],\n",
              "          ...,\n",
              "          [-0.8510, -0.8510, -0.8667,  ..., -0.1059, -0.1059, -0.1451],\n",
              "          [-0.8510, -0.8353, -0.8667,  ..., -0.0980, -0.1843, -0.3412],\n",
              "          [-0.8588, -0.8745, -0.8667,  ..., -0.1137, -0.1137, -0.1529]]],\n",
              "\n",
              "\n",
              "        [[[ 0.6471,  0.4196,  0.4510,  ...,  0.9765,  0.9686,  0.9843],\n",
              "          [ 0.7255,  0.4353,  0.4196,  ...,  0.9686,  0.9608,  0.9765],\n",
              "          [ 0.7176,  0.4980,  0.4275,  ...,  0.9765,  0.9686,  1.0000],\n",
              "          ...,\n",
              "          [ 0.9373,  0.9686,  0.9686,  ..., -0.6000, -0.0118,  0.5843],\n",
              "          [ 0.9451,  0.9686,  0.9686,  ..., -0.5765, -0.0118,  0.6314],\n",
              "          [ 0.9608,  0.9529,  0.9529,  ..., -0.0824,  0.3098,  0.6627]],\n",
              "\n",
              "         [[ 0.6157,  0.3882,  0.4353,  ...,  0.9686,  0.9608,  0.9765],\n",
              "          [ 0.6941,  0.4118,  0.3961,  ...,  0.9608,  0.9529,  0.9686],\n",
              "          [ 0.6863,  0.4667,  0.4039,  ...,  0.9686,  0.9608,  0.9922],\n",
              "          ...,\n",
              "          [ 0.9294,  0.9608,  0.9608,  ..., -0.6000, -0.0118,  0.5765],\n",
              "          [ 0.9373,  0.9608,  0.9608,  ..., -0.5765, -0.0118,  0.6235],\n",
              "          [ 0.9529,  0.9451,  0.9451,  ..., -0.0824,  0.3020,  0.6549]],\n",
              "\n",
              "         [[ 0.6157,  0.3569,  0.3804,  ...,  1.0000,  1.0000,  1.0000],\n",
              "          [ 0.6941,  0.3804,  0.3490,  ...,  0.9922,  0.9843,  1.0000],\n",
              "          [ 0.6784,  0.4353,  0.3569,  ...,  1.0000,  0.9922,  1.0000],\n",
              "          ...,\n",
              "          [ 0.9686,  0.9922,  0.9922,  ..., -0.6000,  0.0039,  0.6314],\n",
              "          [ 0.9765,  1.0000,  1.0000,  ..., -0.5843,  0.0039,  0.6784],\n",
              "          [ 0.9922,  0.9843,  0.9843,  ..., -0.0902,  0.3255,  0.7098]]],\n",
              "\n",
              "\n",
              "        [[[-0.2863, -0.2863, -0.2863,  ..., -0.3882, -0.3882, -0.3804],\n",
              "          [-0.2549, -0.2549, -0.2549,  ..., -0.3647, -0.3647, -0.3647],\n",
              "          [-0.2157, -0.2157, -0.2157,  ..., -0.3333, -0.3333, -0.3333],\n",
              "          ...,\n",
              "          [ 0.0431,  0.0118, -0.2157,  ..., -0.1843, -0.2235, -0.2235],\n",
              "          [ 0.1137,  0.1294,  0.1529,  ..., -0.1765, -0.2000, -0.2000],\n",
              "          [ 0.1373,  0.1529,  0.1765,  ..., -0.0431, -0.0902, -0.0902]],\n",
              "\n",
              "         [[-0.1216, -0.1216, -0.1216,  ..., -0.2549, -0.2549, -0.2471],\n",
              "          [-0.0902, -0.0902, -0.0902,  ..., -0.2314, -0.2314, -0.2235],\n",
              "          [-0.0510, -0.0510, -0.0510,  ..., -0.2000, -0.2000, -0.2000],\n",
              "          ...,\n",
              "          [-0.0588, -0.0824, -0.2941,  ..., -0.2157, -0.2392, -0.2392],\n",
              "          [ 0.0118,  0.0196,  0.0431,  ..., -0.2157, -0.2392, -0.2471],\n",
              "          [ 0.0431,  0.0431,  0.0353,  ..., -0.1059, -0.1529, -0.1529]],\n",
              "\n",
              "         [[ 0.2314,  0.2314,  0.2314,  ...,  0.1059,  0.1059,  0.1137],\n",
              "          [ 0.2549,  0.2549,  0.2549,  ...,  0.1294,  0.1216,  0.1373],\n",
              "          [ 0.3020,  0.3020,  0.3020,  ...,  0.1608,  0.1608,  0.1608],\n",
              "          ...,\n",
              "          [-0.1216, -0.1294, -0.3098,  ..., -0.3020, -0.3333, -0.3333],\n",
              "          [-0.0588, -0.0588, -0.0431,  ..., -0.3098, -0.3333, -0.3412],\n",
              "          [-0.0510, -0.0510, -0.0588,  ..., -0.2157, -0.2549, -0.2627]]],\n",
              "\n",
              "\n",
              "        ...,\n",
              "\n",
              "\n",
              "        [[[ 0.2941,  0.3020,  0.2784,  ...,  0.4824,  0.3725,  0.3961],\n",
              "          [ 0.3647,  0.3647,  0.3490,  ...,  0.4745,  0.3804,  0.4196],\n",
              "          [ 0.4118,  0.4196,  0.4039,  ...,  0.4118,  0.3176,  0.3490],\n",
              "          ...,\n",
              "          [-0.6549, -0.5686, -0.5294,  ..., -0.4196, -0.4431, -0.4039],\n",
              "          [-0.5373, -0.5451, -0.5922,  ..., -0.5843, -0.6157, -0.5843],\n",
              "          [-0.5922, -0.5373, -0.5686,  ..., -0.6863, -0.7647, -0.7255]],\n",
              "\n",
              "         [[ 0.6471,  0.6549,  0.6392,  ...,  0.6157,  0.5373,  0.5608],\n",
              "          [ 0.6784,  0.6784,  0.6627,  ...,  0.6078,  0.5373,  0.5608],\n",
              "          [ 0.6863,  0.6941,  0.6784,  ...,  0.6000,  0.5137,  0.5373],\n",
              "          ...,\n",
              "          [-0.4353, -0.3569, -0.3098,  ..., -0.1922, -0.1843, -0.1608],\n",
              "          [-0.3176, -0.3176, -0.3725,  ..., -0.3255, -0.3176, -0.3020],\n",
              "          [-0.3647, -0.3176, -0.3490,  ..., -0.3961, -0.4196, -0.4118]],\n",
              "\n",
              "         [[ 0.9451,  0.9608,  0.9451,  ...,  0.8039,  0.7255,  0.7412],\n",
              "          [ 0.8980,  0.9059,  0.8902,  ...,  0.8039,  0.7412,  0.7490],\n",
              "          [ 0.8510,  0.8588,  0.8431,  ...,  0.7961,  0.7098,  0.7176],\n",
              "          ...,\n",
              "          [-0.2706, -0.1843, -0.1373,  ...,  0.0275,  0.0353,  0.0588],\n",
              "          [-0.1451, -0.1608, -0.2078,  ..., -0.1216, -0.0902, -0.0745],\n",
              "          [-0.2000, -0.1529, -0.1843,  ..., -0.2235, -0.2157, -0.2157]]],\n",
              "\n",
              "\n",
              "        [[[-0.0196,  0.0588,  0.0667,  ...,  0.0902,  0.1059,  0.0980],\n",
              "          [ 0.0980,  0.1294,  0.0902,  ...,  0.1922,  0.1686,  0.1529],\n",
              "          [ 0.1843,  0.1765,  0.1216,  ...,  0.2314,  0.1843,  0.1686],\n",
              "          ...,\n",
              "          [ 0.2235,  0.2549,  0.2627,  ...,  0.3176,  0.2784,  0.3490],\n",
              "          [ 0.2314,  0.2235,  0.2235,  ...,  0.2706,  0.2863,  0.3176],\n",
              "          [ 0.4275,  0.3412,  0.2941,  ...,  0.1843,  0.2235,  0.2706]],\n",
              "\n",
              "         [[-0.1059, -0.0431, -0.0118,  ..., -0.1059, -0.0980, -0.1137],\n",
              "          [-0.0667, -0.0588, -0.0745,  ..., -0.1059, -0.1137, -0.1137],\n",
              "          [-0.0510, -0.0824, -0.1059,  ..., -0.0902, -0.1137, -0.1137],\n",
              "          ...,\n",
              "          [-0.1686, -0.1294, -0.1294,  ..., -0.0118, -0.0745, -0.0431],\n",
              "          [-0.2000, -0.1137, -0.0824,  ..., -0.0431, -0.1294, -0.1765],\n",
              "          [ 0.0118,  0.0824,  0.0667,  ..., -0.0902, -0.1843, -0.2471]],\n",
              "\n",
              "         [[-0.5451, -0.4902, -0.4980,  ..., -0.4275, -0.3882, -0.3490],\n",
              "          [-0.4353, -0.3725, -0.4118,  ..., -0.2706, -0.2784, -0.2706],\n",
              "          [-0.3176, -0.3020, -0.3412,  ..., -0.2627, -0.3020, -0.3098],\n",
              "          ...,\n",
              "          [-0.5216, -0.4824, -0.5373,  ..., -0.3647, -0.4902, -0.5059],\n",
              "          [-0.5059, -0.4510, -0.5216,  ..., -0.4353, -0.4824, -0.5137],\n",
              "          [-0.2863, -0.2784, -0.3804,  ..., -0.4980, -0.5216, -0.5608]]],\n",
              "\n",
              "\n",
              "        [[[-0.0980, -0.0980, -0.1451,  ...,  0.0667,  0.0353, -0.0039],\n",
              "          [-0.3098, -0.2549, -0.2627,  ...,  0.0824,  0.0667,  0.0275],\n",
              "          [-0.3490, -0.3647, -0.2941,  ...,  0.0667,  0.0353,  0.0196],\n",
              "          ...,\n",
              "          [-0.5373, -0.5373, -0.4824,  ...,  0.3176,  0.4510,  0.6000],\n",
              "          [-0.5608, -0.5294, -0.4824,  ...,  0.3647,  0.6078,  0.7098],\n",
              "          [-0.5765, -0.5765, -0.5294,  ...,  0.4353,  0.4510,  0.6627]],\n",
              "\n",
              "         [[-0.0196, -0.0196, -0.0667,  ...,  0.1216,  0.0902,  0.0510],\n",
              "          [-0.2235, -0.1765, -0.1843,  ...,  0.1373,  0.1216,  0.0824],\n",
              "          [-0.2627, -0.2863, -0.2157,  ...,  0.1216,  0.0902,  0.0745],\n",
              "          ...,\n",
              "          [-0.4588, -0.4745, -0.4745,  ...,  0.3176,  0.4588,  0.6078],\n",
              "          [-0.4980, -0.4902, -0.4980,  ...,  0.3725,  0.6157,  0.7176],\n",
              "          [-0.4745, -0.4745, -0.4667,  ...,  0.4431,  0.4588,  0.6706]],\n",
              "\n",
              "         [[ 0.0431,  0.0510,  0.0039,  ...,  0.1843,  0.1529,  0.1137],\n",
              "          [-0.1608, -0.1059, -0.1137,  ...,  0.2000,  0.1843,  0.1451],\n",
              "          [-0.2000, -0.2157, -0.1451,  ...,  0.1843,  0.1529,  0.1373],\n",
              "          ...,\n",
              "          [-0.4275, -0.4510, -0.4431,  ...,  0.3569,  0.4980,  0.6471],\n",
              "          [-0.4510, -0.4510, -0.4510,  ...,  0.4118,  0.6549,  0.7569],\n",
              "          [-0.4275, -0.4353, -0.4353,  ...,  0.4824,  0.4980,  0.7098]]]])"
            ]
          },
          "metadata": {
            "tags": []
          },
          "execution_count": 47
        }
      ]
    }
  ]
}