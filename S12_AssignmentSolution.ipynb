{
  "nbformat": 4,
  "nbformat_minor": 0,
  "metadata": {
    "colab": {
      "name": "S12 AssignmentSolution",
      "provenance": [],
      "collapsed_sections": [],
      "include_colab_link": true
    },
    "kernelspec": {
      "name": "python3",
      "display_name": "Python 3"
    },
    "accelerator": "GPU",
    "widgets": {
      "application/vnd.jupyter.widget-state+json": {
        "a907467e45b54f819c65f3fa7b3cfc1f": {
          "model_module": "@jupyter-widgets/controls",
          "model_name": "HBoxModel",
          "state": {
            "_view_name": "HBoxView",
            "_dom_classes": [],
            "_model_name": "HBoxModel",
            "_view_module": "@jupyter-widgets/controls",
            "_model_module_version": "1.5.0",
            "_view_count": null,
            "_view_module_version": "1.5.0",
            "box_style": "",
            "layout": "IPY_MODEL_dc2507f743af426186be7523d25d52de",
            "_model_module": "@jupyter-widgets/controls",
            "children": [
              "IPY_MODEL_19a91cfcdc5c4803b7a8eb45e69331d8",
              "IPY_MODEL_3b5caa6f64934f609d3e36059fe99ab2"
            ]
          }
        },
        "dc2507f743af426186be7523d25d52de": {
          "model_module": "@jupyter-widgets/base",
          "model_name": "LayoutModel",
          "state": {
            "_view_name": "LayoutView",
            "grid_template_rows": null,
            "right": null,
            "justify_content": null,
            "_view_module": "@jupyter-widgets/base",
            "overflow": null,
            "_model_module_version": "1.2.0",
            "_view_count": null,
            "flex_flow": null,
            "width": null,
            "min_width": null,
            "border": null,
            "align_items": null,
            "bottom": null,
            "_model_module": "@jupyter-widgets/base",
            "top": null,
            "grid_column": null,
            "overflow_y": null,
            "overflow_x": null,
            "grid_auto_flow": null,
            "grid_area": null,
            "grid_template_columns": null,
            "flex": null,
            "_model_name": "LayoutModel",
            "justify_items": null,
            "grid_row": null,
            "max_height": null,
            "align_content": null,
            "visibility": null,
            "align_self": null,
            "height": null,
            "min_height": null,
            "padding": null,
            "grid_auto_rows": null,
            "grid_gap": null,
            "max_width": null,
            "order": null,
            "_view_module_version": "1.2.0",
            "grid_template_areas": null,
            "object_position": null,
            "object_fit": null,
            "grid_auto_columns": null,
            "margin": null,
            "display": null,
            "left": null
          }
        },
        "19a91cfcdc5c4803b7a8eb45e69331d8": {
          "model_module": "@jupyter-widgets/controls",
          "model_name": "FloatProgressModel",
          "state": {
            "_view_name": "ProgressView",
            "style": "IPY_MODEL_1158364c75f84ca0a1d4b4d0b2c5e1cc",
            "_dom_classes": [],
            "description": "100%",
            "_model_name": "FloatProgressModel",
            "bar_style": "success",
            "max": 200,
            "_view_module": "@jupyter-widgets/controls",
            "_model_module_version": "1.5.0",
            "value": 200,
            "_view_count": null,
            "_view_module_version": "1.5.0",
            "orientation": "horizontal",
            "min": 0,
            "description_tooltip": null,
            "_model_module": "@jupyter-widgets/controls",
            "layout": "IPY_MODEL_eca3e9f1932643cbb0b1c4fdc66745b8"
          }
        },
        "3b5caa6f64934f609d3e36059fe99ab2": {
          "model_module": "@jupyter-widgets/controls",
          "model_name": "HTMLModel",
          "state": {
            "_view_name": "HTMLView",
            "style": "IPY_MODEL_3efe70939494471599b6993131afe39d",
            "_dom_classes": [],
            "description": "",
            "_model_name": "HTMLModel",
            "placeholder": "​",
            "_view_module": "@jupyter-widgets/controls",
            "_model_module_version": "1.5.0",
            "value": " 200/200 [00:24&lt;00:00,  8.09it/s]",
            "_view_count": null,
            "_view_module_version": "1.5.0",
            "description_tooltip": null,
            "_model_module": "@jupyter-widgets/controls",
            "layout": "IPY_MODEL_13378029567046018c041afb5a468273"
          }
        },
        "1158364c75f84ca0a1d4b4d0b2c5e1cc": {
          "model_module": "@jupyter-widgets/controls",
          "model_name": "ProgressStyleModel",
          "state": {
            "_view_name": "StyleView",
            "_model_name": "ProgressStyleModel",
            "description_width": "initial",
            "_view_module": "@jupyter-widgets/base",
            "_model_module_version": "1.5.0",
            "_view_count": null,
            "_view_module_version": "1.2.0",
            "bar_color": null,
            "_model_module": "@jupyter-widgets/controls"
          }
        },
        "eca3e9f1932643cbb0b1c4fdc66745b8": {
          "model_module": "@jupyter-widgets/base",
          "model_name": "LayoutModel",
          "state": {
            "_view_name": "LayoutView",
            "grid_template_rows": null,
            "right": null,
            "justify_content": null,
            "_view_module": "@jupyter-widgets/base",
            "overflow": null,
            "_model_module_version": "1.2.0",
            "_view_count": null,
            "flex_flow": null,
            "width": null,
            "min_width": null,
            "border": null,
            "align_items": null,
            "bottom": null,
            "_model_module": "@jupyter-widgets/base",
            "top": null,
            "grid_column": null,
            "overflow_y": null,
            "overflow_x": null,
            "grid_auto_flow": null,
            "grid_area": null,
            "grid_template_columns": null,
            "flex": null,
            "_model_name": "LayoutModel",
            "justify_items": null,
            "grid_row": null,
            "max_height": null,
            "align_content": null,
            "visibility": null,
            "align_self": null,
            "height": null,
            "min_height": null,
            "padding": null,
            "grid_auto_rows": null,
            "grid_gap": null,
            "max_width": null,
            "order": null,
            "_view_module_version": "1.2.0",
            "grid_template_areas": null,
            "object_position": null,
            "object_fit": null,
            "grid_auto_columns": null,
            "margin": null,
            "display": null,
            "left": null
          }
        },
        "3efe70939494471599b6993131afe39d": {
          "model_module": "@jupyter-widgets/controls",
          "model_name": "DescriptionStyleModel",
          "state": {
            "_view_name": "StyleView",
            "_model_name": "DescriptionStyleModel",
            "description_width": "",
            "_view_module": "@jupyter-widgets/base",
            "_model_module_version": "1.5.0",
            "_view_count": null,
            "_view_module_version": "1.2.0",
            "_model_module": "@jupyter-widgets/controls"
          }
        },
        "13378029567046018c041afb5a468273": {
          "model_module": "@jupyter-widgets/base",
          "model_name": "LayoutModel",
          "state": {
            "_view_name": "LayoutView",
            "grid_template_rows": null,
            "right": null,
            "justify_content": null,
            "_view_module": "@jupyter-widgets/base",
            "overflow": null,
            "_model_module_version": "1.2.0",
            "_view_count": null,
            "flex_flow": null,
            "width": null,
            "min_width": null,
            "border": null,
            "align_items": null,
            "bottom": null,
            "_model_module": "@jupyter-widgets/base",
            "top": null,
            "grid_column": null,
            "overflow_y": null,
            "overflow_x": null,
            "grid_auto_flow": null,
            "grid_area": null,
            "grid_template_columns": null,
            "flex": null,
            "_model_name": "LayoutModel",
            "justify_items": null,
            "grid_row": null,
            "max_height": null,
            "align_content": null,
            "visibility": null,
            "align_self": null,
            "height": null,
            "min_height": null,
            "padding": null,
            "grid_auto_rows": null,
            "grid_gap": null,
            "max_width": null,
            "order": null,
            "_view_module_version": "1.2.0",
            "grid_template_areas": null,
            "object_position": null,
            "object_fit": null,
            "grid_auto_columns": null,
            "margin": null,
            "display": null,
            "left": null
          }
        },
        "ae051fe0f27b41119bef585521ffdf1e": {
          "model_module": "@jupyter-widgets/controls",
          "model_name": "HBoxModel",
          "state": {
            "_view_name": "HBoxView",
            "_dom_classes": [],
            "_model_name": "HBoxModel",
            "_view_module": "@jupyter-widgets/controls",
            "_model_module_version": "1.5.0",
            "_view_count": null,
            "_view_module_version": "1.5.0",
            "box_style": "",
            "layout": "IPY_MODEL_50da295146a84a15b1a99542c6b9df0c",
            "_model_module": "@jupyter-widgets/controls",
            "children": [
              "IPY_MODEL_1ea22b3724bf4c2fb68921e84f924544",
              "IPY_MODEL_0f048a03a559475bb23d4c115b290c2f"
            ]
          }
        },
        "50da295146a84a15b1a99542c6b9df0c": {
          "model_module": "@jupyter-widgets/base",
          "model_name": "LayoutModel",
          "state": {
            "_view_name": "LayoutView",
            "grid_template_rows": null,
            "right": null,
            "justify_content": null,
            "_view_module": "@jupyter-widgets/base",
            "overflow": null,
            "_model_module_version": "1.2.0",
            "_view_count": null,
            "flex_flow": null,
            "width": null,
            "min_width": null,
            "border": null,
            "align_items": null,
            "bottom": null,
            "_model_module": "@jupyter-widgets/base",
            "top": null,
            "grid_column": null,
            "overflow_y": null,
            "overflow_x": null,
            "grid_auto_flow": null,
            "grid_area": null,
            "grid_template_columns": null,
            "flex": null,
            "_model_name": "LayoutModel",
            "justify_items": null,
            "grid_row": null,
            "max_height": null,
            "align_content": null,
            "visibility": null,
            "align_self": null,
            "height": null,
            "min_height": null,
            "padding": null,
            "grid_auto_rows": null,
            "grid_gap": null,
            "max_width": null,
            "order": null,
            "_view_module_version": "1.2.0",
            "grid_template_areas": null,
            "object_position": null,
            "object_fit": null,
            "grid_auto_columns": null,
            "margin": null,
            "display": null,
            "left": null
          }
        },
        "1ea22b3724bf4c2fb68921e84f924544": {
          "model_module": "@jupyter-widgets/controls",
          "model_name": "FloatProgressModel",
          "state": {
            "_view_name": "ProgressView",
            "style": "IPY_MODEL_eac5cee08eb2462b9c7b8a90ffd8596a",
            "_dom_classes": [],
            "description": "100%",
            "_model_name": "FloatProgressModel",
            "bar_style": "success",
            "max": 10000,
            "_view_module": "@jupyter-widgets/controls",
            "_model_module_version": "1.5.0",
            "value": 10000,
            "_view_count": null,
            "_view_module_version": "1.5.0",
            "orientation": "horizontal",
            "min": 0,
            "description_tooltip": null,
            "_model_module": "@jupyter-widgets/controls",
            "layout": "IPY_MODEL_f98d594c239e41e08c362386f11b1b19"
          }
        },
        "0f048a03a559475bb23d4c115b290c2f": {
          "model_module": "@jupyter-widgets/controls",
          "model_name": "HTMLModel",
          "state": {
            "_view_name": "HTMLView",
            "style": "IPY_MODEL_0c5c28ce705c4664816f86b5fc404f3c",
            "_dom_classes": [],
            "description": "",
            "_model_name": "HTMLModel",
            "placeholder": "​",
            "_view_module": "@jupyter-widgets/controls",
            "_model_module_version": "1.5.0",
            "value": " 10000/10000 [00:02&lt;00:00, 3848.02it/s]",
            "_view_count": null,
            "_view_module_version": "1.5.0",
            "description_tooltip": null,
            "_model_module": "@jupyter-widgets/controls",
            "layout": "IPY_MODEL_1ccfc94788454095a9226ce63588cf50"
          }
        },
        "eac5cee08eb2462b9c7b8a90ffd8596a": {
          "model_module": "@jupyter-widgets/controls",
          "model_name": "ProgressStyleModel",
          "state": {
            "_view_name": "StyleView",
            "_model_name": "ProgressStyleModel",
            "description_width": "initial",
            "_view_module": "@jupyter-widgets/base",
            "_model_module_version": "1.5.0",
            "_view_count": null,
            "_view_module_version": "1.2.0",
            "bar_color": null,
            "_model_module": "@jupyter-widgets/controls"
          }
        },
        "f98d594c239e41e08c362386f11b1b19": {
          "model_module": "@jupyter-widgets/base",
          "model_name": "LayoutModel",
          "state": {
            "_view_name": "LayoutView",
            "grid_template_rows": null,
            "right": null,
            "justify_content": null,
            "_view_module": "@jupyter-widgets/base",
            "overflow": null,
            "_model_module_version": "1.2.0",
            "_view_count": null,
            "flex_flow": null,
            "width": null,
            "min_width": null,
            "border": null,
            "align_items": null,
            "bottom": null,
            "_model_module": "@jupyter-widgets/base",
            "top": null,
            "grid_column": null,
            "overflow_y": null,
            "overflow_x": null,
            "grid_auto_flow": null,
            "grid_area": null,
            "grid_template_columns": null,
            "flex": null,
            "_model_name": "LayoutModel",
            "justify_items": null,
            "grid_row": null,
            "max_height": null,
            "align_content": null,
            "visibility": null,
            "align_self": null,
            "height": null,
            "min_height": null,
            "padding": null,
            "grid_auto_rows": null,
            "grid_gap": null,
            "max_width": null,
            "order": null,
            "_view_module_version": "1.2.0",
            "grid_template_areas": null,
            "object_position": null,
            "object_fit": null,
            "grid_auto_columns": null,
            "margin": null,
            "display": null,
            "left": null
          }
        },
        "0c5c28ce705c4664816f86b5fc404f3c": {
          "model_module": "@jupyter-widgets/controls",
          "model_name": "DescriptionStyleModel",
          "state": {
            "_view_name": "StyleView",
            "_model_name": "DescriptionStyleModel",
            "description_width": "",
            "_view_module": "@jupyter-widgets/base",
            "_model_module_version": "1.5.0",
            "_view_count": null,
            "_view_module_version": "1.2.0",
            "_model_module": "@jupyter-widgets/controls"
          }
        },
        "1ccfc94788454095a9226ce63588cf50": {
          "model_module": "@jupyter-widgets/base",
          "model_name": "LayoutModel",
          "state": {
            "_view_name": "LayoutView",
            "grid_template_rows": null,
            "right": null,
            "justify_content": null,
            "_view_module": "@jupyter-widgets/base",
            "overflow": null,
            "_model_module_version": "1.2.0",
            "_view_count": null,
            "flex_flow": null,
            "width": null,
            "min_width": null,
            "border": null,
            "align_items": null,
            "bottom": null,
            "_model_module": "@jupyter-widgets/base",
            "top": null,
            "grid_column": null,
            "overflow_y": null,
            "overflow_x": null,
            "grid_auto_flow": null,
            "grid_area": null,
            "grid_template_columns": null,
            "flex": null,
            "_model_name": "LayoutModel",
            "justify_items": null,
            "grid_row": null,
            "max_height": null,
            "align_content": null,
            "visibility": null,
            "align_self": null,
            "height": null,
            "min_height": null,
            "padding": null,
            "grid_auto_rows": null,
            "grid_gap": null,
            "max_width": null,
            "order": null,
            "_view_module_version": "1.2.0",
            "grid_template_areas": null,
            "object_position": null,
            "object_fit": null,
            "grid_auto_columns": null,
            "margin": null,
            "display": null,
            "left": null
          }
        },
        "2d83e9a87c5c412883862565a8fc45dd": {
          "model_module": "@jupyter-widgets/controls",
          "model_name": "HBoxModel",
          "state": {
            "_view_name": "HBoxView",
            "_dom_classes": [],
            "_model_name": "HBoxModel",
            "_view_module": "@jupyter-widgets/controls",
            "_model_module_version": "1.5.0",
            "_view_count": null,
            "_view_module_version": "1.5.0",
            "box_style": "",
            "layout": "IPY_MODEL_29cdb6257ac54f0890792e5f09731eb6",
            "_model_module": "@jupyter-widgets/controls",
            "children": [
              "IPY_MODEL_ab994515430143aeadc4de499d4b96ae",
              "IPY_MODEL_f7b2d458521f4fcc922de56585c44c56"
            ]
          }
        },
        "29cdb6257ac54f0890792e5f09731eb6": {
          "model_module": "@jupyter-widgets/base",
          "model_name": "LayoutModel",
          "state": {
            "_view_name": "LayoutView",
            "grid_template_rows": null,
            "right": null,
            "justify_content": null,
            "_view_module": "@jupyter-widgets/base",
            "overflow": null,
            "_model_module_version": "1.2.0",
            "_view_count": null,
            "flex_flow": null,
            "width": null,
            "min_width": null,
            "border": null,
            "align_items": null,
            "bottom": null,
            "_model_module": "@jupyter-widgets/base",
            "top": null,
            "grid_column": null,
            "overflow_y": null,
            "overflow_x": null,
            "grid_auto_flow": null,
            "grid_area": null,
            "grid_template_columns": null,
            "flex": null,
            "_model_name": "LayoutModel",
            "justify_items": null,
            "grid_row": null,
            "max_height": null,
            "align_content": null,
            "visibility": null,
            "align_self": null,
            "height": null,
            "min_height": null,
            "padding": null,
            "grid_auto_rows": null,
            "grid_gap": null,
            "max_width": null,
            "order": null,
            "_view_module_version": "1.2.0",
            "grid_template_areas": null,
            "object_position": null,
            "object_fit": null,
            "grid_auto_columns": null,
            "margin": null,
            "display": null,
            "left": null
          }
        },
        "ab994515430143aeadc4de499d4b96ae": {
          "model_module": "@jupyter-widgets/controls",
          "model_name": "FloatProgressModel",
          "state": {
            "_view_name": "ProgressView",
            "style": "IPY_MODEL_09a2ce0ef4fa4a14a716fde77d41e3d2",
            "_dom_classes": [],
            "description": "100%",
            "_model_name": "FloatProgressModel",
            "bar_style": "success",
            "max": 150,
            "_view_module": "@jupyter-widgets/controls",
            "_model_module_version": "1.5.0",
            "value": 150,
            "_view_count": null,
            "_view_module_version": "1.5.0",
            "orientation": "horizontal",
            "min": 0,
            "description_tooltip": null,
            "_model_module": "@jupyter-widgets/controls",
            "layout": "IPY_MODEL_484030f333774a77973c4c6c8383ab90"
          }
        },
        "f7b2d458521f4fcc922de56585c44c56": {
          "model_module": "@jupyter-widgets/controls",
          "model_name": "HTMLModel",
          "state": {
            "_view_name": "HTMLView",
            "style": "IPY_MODEL_28fc7836d12f42019ce19eefd2f2fc5b",
            "_dom_classes": [],
            "description": "",
            "_model_name": "HTMLModel",
            "placeholder": "​",
            "_view_module": "@jupyter-widgets/controls",
            "_model_module_version": "1.5.0",
            "value": " 150/150 [01:09&lt;00:00,  2.16it/s]",
            "_view_count": null,
            "_view_module_version": "1.5.0",
            "description_tooltip": null,
            "_model_module": "@jupyter-widgets/controls",
            "layout": "IPY_MODEL_95ed7089017847b2a2e6ada417b176a1"
          }
        },
        "09a2ce0ef4fa4a14a716fde77d41e3d2": {
          "model_module": "@jupyter-widgets/controls",
          "model_name": "ProgressStyleModel",
          "state": {
            "_view_name": "StyleView",
            "_model_name": "ProgressStyleModel",
            "description_width": "initial",
            "_view_module": "@jupyter-widgets/base",
            "_model_module_version": "1.5.0",
            "_view_count": null,
            "_view_module_version": "1.2.0",
            "bar_color": null,
            "_model_module": "@jupyter-widgets/controls"
          }
        },
        "484030f333774a77973c4c6c8383ab90": {
          "model_module": "@jupyter-widgets/base",
          "model_name": "LayoutModel",
          "state": {
            "_view_name": "LayoutView",
            "grid_template_rows": null,
            "right": null,
            "justify_content": null,
            "_view_module": "@jupyter-widgets/base",
            "overflow": null,
            "_model_module_version": "1.2.0",
            "_view_count": null,
            "flex_flow": null,
            "width": null,
            "min_width": null,
            "border": null,
            "align_items": null,
            "bottom": null,
            "_model_module": "@jupyter-widgets/base",
            "top": null,
            "grid_column": null,
            "overflow_y": null,
            "overflow_x": null,
            "grid_auto_flow": null,
            "grid_area": null,
            "grid_template_columns": null,
            "flex": null,
            "_model_name": "LayoutModel",
            "justify_items": null,
            "grid_row": null,
            "max_height": null,
            "align_content": null,
            "visibility": null,
            "align_self": null,
            "height": null,
            "min_height": null,
            "padding": null,
            "grid_auto_rows": null,
            "grid_gap": null,
            "max_width": null,
            "order": null,
            "_view_module_version": "1.2.0",
            "grid_template_areas": null,
            "object_position": null,
            "object_fit": null,
            "grid_auto_columns": null,
            "margin": null,
            "display": null,
            "left": null
          }
        },
        "28fc7836d12f42019ce19eefd2f2fc5b": {
          "model_module": "@jupyter-widgets/controls",
          "model_name": "DescriptionStyleModel",
          "state": {
            "_view_name": "StyleView",
            "_model_name": "DescriptionStyleModel",
            "description_width": "",
            "_view_module": "@jupyter-widgets/base",
            "_model_module_version": "1.5.0",
            "_view_count": null,
            "_view_module_version": "1.2.0",
            "_model_module": "@jupyter-widgets/controls"
          }
        },
        "95ed7089017847b2a2e6ada417b176a1": {
          "model_module": "@jupyter-widgets/base",
          "model_name": "LayoutModel",
          "state": {
            "_view_name": "LayoutView",
            "grid_template_rows": null,
            "right": null,
            "justify_content": null,
            "_view_module": "@jupyter-widgets/base",
            "overflow": null,
            "_model_module_version": "1.2.0",
            "_view_count": null,
            "flex_flow": null,
            "width": null,
            "min_width": null,
            "border": null,
            "align_items": null,
            "bottom": null,
            "_model_module": "@jupyter-widgets/base",
            "top": null,
            "grid_column": null,
            "overflow_y": null,
            "overflow_x": null,
            "grid_auto_flow": null,
            "grid_area": null,
            "grid_template_columns": null,
            "flex": null,
            "_model_name": "LayoutModel",
            "justify_items": null,
            "grid_row": null,
            "max_height": null,
            "align_content": null,
            "visibility": null,
            "align_self": null,
            "height": null,
            "min_height": null,
            "padding": null,
            "grid_auto_rows": null,
            "grid_gap": null,
            "max_width": null,
            "order": null,
            "_view_module_version": "1.2.0",
            "grid_template_areas": null,
            "object_position": null,
            "object_fit": null,
            "grid_auto_columns": null,
            "margin": null,
            "display": null,
            "left": null
          }
        }
      }
    }
  },
  "cells": [
    {
      "cell_type": "markdown",
      "metadata": {
        "id": "view-in-github",
        "colab_type": "text"
      },
      "source": [
        "<a href=\"https://colab.research.google.com/github/Gilf641/EVA4/blob/master/S12_AssignmentSolution.ipynb\" target=\"_parent\"><img src=\"https://colab.research.google.com/assets/colab-badge.svg\" alt=\"Open In Colab\"/></a>"
      ]
    },
    {
      "cell_type": "markdown",
      "metadata": {
        "id": "3nl-Y_33HB4D",
        "colab_type": "text"
      },
      "source": [
        "**Mount Google Drive**"
      ]
    },
    {
      "cell_type": "code",
      "metadata": {
        "id": "dTUngvjG4RIO",
        "colab_type": "code",
        "colab": {
          "base_uri": "https://localhost:8080/",
          "height": 36
        },
        "outputId": "2c2fb308-b4e4-4058-b12b-6f6074003263"
      },
      "source": [
        "from __future__ import print_function\n",
        "%matplotlib inline\n",
        "\n",
        "from google.colab import drive\n",
        "drive.mount(\"/content/drive\", force_remount=True)\n"
      ],
      "execution_count": 1,
      "outputs": [
        {
          "output_type": "stream",
          "text": [
            "Mounted at /content/drive\n"
          ],
          "name": "stdout"
        }
      ]
    },
    {
      "cell_type": "markdown",
      "metadata": {
        "id": "VgepbTxZHGIt",
        "colab_type": "text"
      },
      "source": [
        "**Append Library Path**"
      ]
    },
    {
      "cell_type": "code",
      "metadata": {
        "id": "2PIV9QYf4RpT",
        "colab_type": "code",
        "colab": {
          "base_uri": "https://localhost:8080/",
          "height": 110
        },
        "outputId": "b26715da-da3b-42f2-ee04-2ac40eac1394"
      },
      "source": [
        "import sys\n",
        "sys.path.append(\"/content/drive/My Drive/mylib/evaLibrary\")\n",
        "!ls '/content/drive/My Drive/mylib/evaLibrary'"
      ],
      "execution_count": 2,
      "outputs": [
        {
          "output_type": "stream",
          "text": [
            "AlbTestTransforms.py   cyclicLR.py     K-MeansClusteringCalculation.xlsx\n",
            "AlbTrainTransforms.py  DataLoaders.py  LR_Finder.py\n",
            "albumentations.py      displayData.py  __pycache__\n",
            "all.py\t\t       execute.py      resNet.py\n",
            "customNet.py\t       Gradcam.py      rohan_library.py\n"
          ],
          "name": "stdout"
        }
      ]
    },
    {
      "cell_type": "markdown",
      "metadata": {
        "id": "zoNJ5ag9HLcF",
        "colab_type": "text"
      },
      "source": [
        "**Load required Libraries**"
      ]
    },
    {
      "cell_type": "code",
      "metadata": {
        "id": "B2JvB5lj4hOH",
        "colab_type": "code",
        "colab": {
          "base_uri": "https://localhost:8080/",
          "height": 54
        },
        "outputId": "3534c980-1496-460e-ab3f-956d24f14277"
      },
      "source": [
        "# import execute\n",
        "from resNet import ResNet18\n",
        "import displayData as display\n",
        "import Gradcam as gdc\n",
        "import albumentations as alb\n",
        "import DataLoaders as loader\n",
        "# import AlbTestTransforms\n",
        "# import AlbTrainTransforms\n",
        "import LR_Finder as lrf\n",
        "import cyclicLR as clr\n",
        "# import customNet"
      ],
      "execution_count": 3,
      "outputs": [
        {
          "output_type": "stream",
          "text": [
            "WARNING:LR_Finder:To enable mixed precision training, please install `apex`. Or you can re-install this package by the following command:\n",
            "  pip install torch-lr-finder -v --global-option=\"amp\"\n"
          ],
          "name": "stderr"
        }
      ]
    },
    {
      "cell_type": "markdown",
      "metadata": {
        "id": "qJWFh8ZKHPZE",
        "colab_type": "text"
      },
      "source": [
        "**Download TinyImageNet Zip File**"
      ]
    },
    {
      "cell_type": "code",
      "metadata": {
        "id": "LH8jRTuDwS8m",
        "colab_type": "code",
        "colab": {}
      },
      "source": [
        "# !wget http://cs231n.stanford.edu/tiny-imagenet-200.zip\n",
        "# !unzip -q tiny-imagenet-200.zip && ls tiny-imagenet-200"
      ],
      "execution_count": 4,
      "outputs": []
    },
    {
      "cell_type": "code",
      "metadata": {
        "id": "tq-Cj8cMwWjm",
        "colab_type": "code",
        "colab": {}
      },
      "source": [
        "from torch.utils.data import Dataset, random_split\n",
        "from PIL import Image\n",
        "import numpy as np\n",
        "import torch\n",
        "import os\n",
        "import torchvision.transforms as transforms\n",
        "from tqdm import notebook\n",
        "\n",
        "\n",
        "\n",
        "# pass the above libs to rohan_library\n",
        "\n",
        "def TinyImageNetDataSet(splitRatio = 70, test_transforms = None, train_transforms = None):\n",
        "  classes = extract_classID(path = \"tiny-imagenet-200/wnids.txt\")\n",
        "  data = TinyImageNet(classes, defPath=\"tiny-imagenet-200\")\n",
        "  \n",
        "  totalLen = len(data)\n",
        "  print(totalLen) # 110K\n",
        "\n",
        "  traindata_len = totalLen*splitRatio//100 # 110K * 0.7 = 77K\n",
        "  testdata_len = totalLen - traindata_len # 110K - 77K = 33K\n",
        "  \n",
        "  train, val = random_split(data, [traindata_len, testdata_len]) # split the data according to split ratio\n",
        "  train_dataset = DatasetFromSubset(train, transform=train_transforms) # Data ready for Loading, passed onto Dataloader func\n",
        "  test_dataset = DatasetFromSubset(val, transform=test_transforms)\n",
        "\n",
        "  return train_dataset, test_dataset, classes\n",
        "\n",
        "\n",
        "\n",
        "\n",
        "class TinyImageNet(Dataset):\n",
        "    def __init__(self, classes, defPath):\n",
        "        \n",
        "        self.classes = classes\n",
        "        self.defPath = defPath\n",
        "        self.data = []\n",
        "        self.target = []\n",
        "        \n",
        "        \n",
        "        wnids = open(f\"{defPath}/wnids.txt\", \"r\")\n",
        "\n",
        "        # Train Data\n",
        "        trainImagePath = defPath+\"/train/\"\n",
        "        for cls in notebook.tqdm(wnids, total = 200):\n",
        "          cls = cls.strip() # strip spaces out of class names\n",
        "\n",
        "          indFolderPath = trainImagePath + cls + \"/images/\"\n",
        "          \n",
        "          for i in os.listdir(indFolderPath): # this will list nXXXXXXXX Folders containing 500 Images.\n",
        "            img = Image.open(indFolderPath + i)\n",
        "            npimage = np.asarray(img)\n",
        "                \n",
        "            if(len(npimage.shape) == 2): \n",
        "              npimage = np.repeat(npimage[:, :, np.newaxis], 3, axis=2) # add a new dim using np.newaxis, if it's a 2D\n",
        "                \n",
        "            self.data.append(npimage)  # appending image to data \n",
        "            self.target.append(self.classes.index(cls)) # appending corresponding class using self.classes\n",
        "\n",
        "\n",
        "        # Validation Data\n",
        "        valAnntns = open(f\"{defPath}/val/val_annotations.txt\", \"r\")\n",
        "        for i in notebook.tqdm(valAnntns, total =10000):\n",
        "          img, cls = i.strip().split(\"\\t\")[:2] # this will return image name and class ID. Ex: 'val_1.JPEG', 'n04067472'\n",
        "          img = Image.open(f\"{defPath}/val/images/{img}\")\n",
        "          npimage = np.asarray(img)\n",
        "          \n",
        "          if(len(npimage.shape) == 2):  \n",
        "                npimage = np.repeat(npimage[:, :, np.newaxis], 3, axis=2) # add a new dim using np.newaxis, if it's a 2D\n",
        "          \n",
        "          self.data.append(npimage)  \n",
        "          self.target.append(self.classes.index(cls))\n",
        "\n",
        "\n",
        "    def __len__(self):\n",
        "      \"\"\"\n",
        "      returns len of the dataset\n",
        "      \"\"\"\n",
        "      return len(self.data)\n",
        "\n",
        "\n",
        "    def __getitem__(self, idx):\n",
        "      \"\"\"\n",
        "      returns image data & target for the corresponding index\n",
        "      \"\"\"\n",
        "      data = self.data[idx]\n",
        "      target = self.target[idx]\n",
        "      img = data     \n",
        "      return data,target\n",
        "      \n",
        "  \n",
        "\n",
        "class DatasetFromSubset(Dataset):\n",
        "    \"\"\"\n",
        "    Helper Class for transforming the image using albumentations. Usually the data passed is either train or validation\n",
        "    \"\"\"\n",
        "    def __init__(self, subset, transform=None):\n",
        "        \"\"\"\n",
        "        subset: Train or Validation Dataset\n",
        "        transform : List of Transforms that one wants to apply\n",
        "        \"\"\"\n",
        "        self.subset = subset\n",
        "        self.transform = transform\n",
        "\n",
        "\n",
        "    def __getitem__(self, index):\n",
        "        x, y = self.subset[index]\n",
        "        if self.transform:\n",
        "            x = self.transform(x)\n",
        "        return x, y\n",
        "\n",
        "    def __len__(self):\n",
        "        return len(self.subset)\n",
        "\n",
        "\n",
        "\n",
        "def extract_classID(path = \"tiny-imagenet-200/wnids.txt\"):\n",
        "  \"\"\"\n",
        "  returns the all the class ID's\n",
        "  \"\"\"\n",
        "  IDFile = open(path, \"r\")\n",
        "  classes = []\n",
        "  for line in IDFile:\n",
        "    classes.append(line.strip()) # this will append eg: n04099969 \n",
        "  return classes \n",
        "\n"
      ],
      "execution_count": 5,
      "outputs": []
    },
    {
      "cell_type": "code",
      "metadata": {
        "id": "qfWkLT0XwgTH",
        "colab_type": "code",
        "colab": {}
      },
      "source": [
        "from torchvision import transforms\n",
        "import albumentations as A\n",
        "import albumentations.pytorch as AP\n",
        "import random\n",
        "import numpy as np\n",
        "\n",
        "class AlbumentationTransforms:\n",
        "  \"\"\"\n",
        "  Helper class to create test and train transforms using Albumentations\n",
        "  \"\"\"\n",
        "  def __init__(self, transforms_list=[]):\n",
        "    transforms_list.append(AP.ToTensor()) \n",
        "    self.transforms = A.Compose(transforms_list)\n",
        "\n",
        "\n",
        "  def __call__(self, img):\n",
        "    img = np.array(img) \n",
        "    return self.transforms(image=img)['image']\n",
        "\n",
        "  "
      ],
      "execution_count": 6,
      "outputs": []
    },
    {
      "cell_type": "code",
      "metadata": {
        "id": "RgTuGfXbwpNI",
        "colab_type": "code",
        "colab": {}
      },
      "source": [
        "\n",
        "import torch\n",
        "import torchvision\n",
        "\n",
        "\n",
        "\n",
        "def convData_To_Dataloader(trainset,testset,seed=1,batch_size=128,num_workers=4,pin_memory=True):\n",
        "\t\"\"\"\n",
        "\tConv DataSet Obj to DataLoader\n",
        "\t\"\"\"\n",
        "\n",
        "\tSEED = 1\n",
        "\n",
        "\t# CUDA?\n",
        "\tcuda = torch.cuda.is_available()\n",
        "\n",
        "\t# For reproducibility\n",
        "\ttorch.manual_seed(SEED)\n",
        "\n",
        "\tif cuda:\n",
        "\t\t\ttorch.cuda.manual_seed(SEED)\n",
        "\n",
        "\tdataloader_args = dict(shuffle=True, batch_size=batch_size, num_workers=num_workers, pin_memory=pin_memory) if cuda else dict(shuffle=True, batch_size=64)\n",
        "\n",
        "\ttrainloader = torch.utils.data.DataLoader(trainset, **dataloader_args)\n",
        "\ttestloader = torch.utils.data.DataLoader(testset, **dataloader_args)\n",
        "\n",
        "\n",
        "\treturn  trainloader, testloader\n",
        "\n"
      ],
      "execution_count": 7,
      "outputs": []
    },
    {
      "cell_type": "code",
      "metadata": {
        "id": "w9YMQMPZws3U",
        "colab_type": "code",
        "colab": {
          "base_uri": "https://localhost:8080/",
          "height": 137,
          "referenced_widgets": [
            "a907467e45b54f819c65f3fa7b3cfc1f",
            "dc2507f743af426186be7523d25d52de",
            "19a91cfcdc5c4803b7a8eb45e69331d8",
            "3b5caa6f64934f609d3e36059fe99ab2",
            "1158364c75f84ca0a1d4b4d0b2c5e1cc",
            "eca3e9f1932643cbb0b1c4fdc66745b8",
            "3efe70939494471599b6993131afe39d",
            "13378029567046018c041afb5a468273",
            "ae051fe0f27b41119bef585521ffdf1e",
            "50da295146a84a15b1a99542c6b9df0c",
            "1ea22b3724bf4c2fb68921e84f924544",
            "0f048a03a559475bb23d4c115b290c2f",
            "eac5cee08eb2462b9c7b8a90ffd8596a",
            "f98d594c239e41e08c362386f11b1b19",
            "0c5c28ce705c4664816f86b5fc404f3c",
            "1ccfc94788454095a9226ce63588cf50"
          ]
        },
        "outputId": "8c48c42f-0d30-4a2b-ad9d-34951c84b7ce"
      },
      "source": [
        "import albumentations as A\n",
        "import cv2\n",
        "channel_means = (0.442,0.442,0.442)\n",
        "channel_stdevs = (0.278, 0.278, 0.278)\n",
        "train_transform = AlbumentationTransforms([  \n",
        "                                        A.PadIfNeeded(min_height=70, min_width=70, border_mode=4,  p=1.0),\n",
        "                                        A.RandomCrop(64, 64,  p=1.0),     \n",
        "                                        A.Flip(p=0.5),\n",
        "                                        A.Cutout(num_holes = 2, max_h_size = 8, max_w_size = 8, p = 1.0),\n",
        "                                        A.Normalize(mean=channel_means, std=channel_stdevs)   \n",
        "                                       ])\n",
        "test_transform = AlbumentationTransforms([A.Normalize(mean=channel_means, std=channel_stdevs)])\n",
        "train_dataset , test_dataset,classes = TinyImageNetDataSet(splitRatio = 70,test_transforms = test_transform,train_transforms = train_transform)"
      ],
      "execution_count": 8,
      "outputs": [
        {
          "output_type": "display_data",
          "data": {
            "application/vnd.jupyter.widget-view+json": {
              "model_id": "a907467e45b54f819c65f3fa7b3cfc1f",
              "version_minor": 0,
              "version_major": 2
            },
            "text/plain": [
              "HBox(children=(FloatProgress(value=0.0, max=200.0), HTML(value='')))"
            ]
          },
          "metadata": {
            "tags": []
          }
        },
        {
          "output_type": "stream",
          "text": [
            "\n"
          ],
          "name": "stdout"
        },
        {
          "output_type": "display_data",
          "data": {
            "application/vnd.jupyter.widget-view+json": {
              "model_id": "ae051fe0f27b41119bef585521ffdf1e",
              "version_minor": 0,
              "version_major": 2
            },
            "text/plain": [
              "HBox(children=(FloatProgress(value=0.0, max=10000.0), HTML(value='')))"
            ]
          },
          "metadata": {
            "tags": []
          }
        },
        {
          "output_type": "stream",
          "text": [
            "\n",
            "110000\n"
          ],
          "name": "stdout"
        }
      ]
    },
    {
      "cell_type": "code",
      "metadata": {
        "id": "kXMsx2luw6Tr",
        "colab_type": "code",
        "colab": {}
      },
      "source": [
        "trainLoader, testLoader = convData_To_Dataloader(train_dataset,test_dataset,batch_size=128)"
      ],
      "execution_count": 9,
      "outputs": []
    },
    {
      "cell_type": "code",
      "metadata": {
        "id": "tL0IqoL0xyJa",
        "colab_type": "code",
        "colab": {}
      },
      "source": [
        "\n",
        "import torch\n",
        "import torch.nn as nn\n",
        "import torch.nn.functional as F\n",
        "\n",
        "\n",
        "class BasicBlock(nn.Module):\n",
        "    expansion = 1\n",
        "\n",
        "    def __init__(self, in_planes, planes, stride=1):\n",
        "        super(BasicBlock, self).__init__()\n",
        "        self.conv1 = nn.Conv2d(\n",
        "            in_planes, planes, kernel_size=3, stride=stride, padding=1, bias=False)\n",
        "        self.bn1 = nn.BatchNorm2d(planes)\n",
        "        self.conv2 = nn.Conv2d(planes, planes, kernel_size=3,\n",
        "                               stride=1, padding=1, bias=False)\n",
        "        self.bn2 = nn.BatchNorm2d(planes)\n",
        "\n",
        "        self.shortcut = nn.Sequential() # if no change in number of channels then self.shortcut is like empty\n",
        "        if stride != 1 or in_planes != self.expansion*planes: # this is like if there's change in channel number only then it's used I guess\n",
        "            self.shortcut = nn.Sequential(\n",
        "                nn.Conv2d(in_planes, self.expansion*planes,\n",
        "                          kernel_size=1, stride=stride, bias=False),\n",
        "                nn.BatchNorm2d(self.expansion*planes)\n",
        "            )\n",
        "\n",
        "    def forward(self, x):\n",
        "        out = F.relu(self.bn1(self.conv1(x)))\n",
        "        out = self.bn2(self.conv2(out))\n",
        "        out += self.shortcut(x)\n",
        "        out = F.relu(out)\n",
        "        return out\n",
        "\n",
        "\n",
        "class Bottleneck(nn.Module):\n",
        "    expansion = 4\n",
        "\n",
        "    def __init__(self, in_planes, planes, stride=1):\n",
        "        super(Bottleneck, self).__init__()\n",
        "        self.conv1 = nn.Conv2d(in_planes, planes, kernel_size=1, bias=False)\n",
        "        self.bn1 = nn.BatchNorm2d(planes)\n",
        "        self.conv2 = nn.Conv2d(planes, planes, kernel_size=3,\n",
        "                               stride=stride, padding=1, bias=False)\n",
        "        self.bn2 = nn.BatchNorm2d(planes)\n",
        "        self.conv3 = nn.Conv2d(planes, self.expansion *\n",
        "                               planes, kernel_size=1, bias=False)\n",
        "        self.bn3 = nn.BatchNorm2d(self.expansion*planes)\n",
        "\n",
        "        self.shortcut = nn.Sequential()\n",
        "        if stride != 1 or in_planes != self.expansion*planes:\n",
        "            self.shortcut = nn.Sequential(\n",
        "                nn.Conv2d(in_planes, self.expansion*planes,\n",
        "                          kernel_size=1, stride=stride, bias=False),\n",
        "                nn.BatchNorm2d(self.expansion*planes)\n",
        "            )\n",
        "\n",
        "    def forward(self, x):\n",
        "        out = F.relu(self.bn1(self.conv1(x)))\n",
        "        out = F.relu(self.bn2(self.conv2(out)))\n",
        "        out = self.bn3(self.conv3(out))\n",
        "        out += self.shortcut(x)\n",
        "        out = F.relu(out)\n",
        "        return out\n",
        "\n",
        "\n",
        "# This commenting is for ResNet18\n",
        "class ResNet(nn.Module):\n",
        "    def __init__(self, block, num_blocks, num_classes=200): # block = BasicBlock, num_blocks = [2,2,2,2]\n",
        "        super(ResNet, self).__init__()\n",
        "        self.in_planes = 64  # maybe this is the number of kernels at the start\n",
        "\n",
        "        self.conv1 = nn.Conv2d(3, 64, kernel_size=3,\n",
        "                               stride=1, padding=1, bias=False) # conv2 with incoming 3 channels\n",
        "        self.bn1 = nn.BatchNorm2d(64)\n",
        "        self.layer1 = self._make_layer(block, 64, num_blocks[0], stride=1)\n",
        "        self.layer2 = self._make_layer(block, 128, num_blocks[1], stride=2)\n",
        "        self.layer3 = self._make_layer(block, 256, num_blocks[2], stride=2)\n",
        "        self.layer4 = self._make_layer(block, 512, num_blocks[3], stride=2)\n",
        "        self.linear = nn.Linear(512*block.expansion, num_classes)\n",
        "\n",
        "    def _make_layer(self, block, planes, num_blocks, stride):\n",
        "        strides = [stride] + [1]*(num_blocks-1)\n",
        "        layers = []\n",
        "        for stride in strides:\n",
        "            layers.append(block(self.in_planes, planes, stride))\n",
        "            self.in_planes = planes * block.expansion\n",
        "        return nn.Sequential(*layers)\n",
        "\n",
        "    def forward(self, x):\n",
        "        out = F.relu(self.bn1(self.conv1(x)))\n",
        "        out = self.layer1(out)\n",
        "        out = self.layer2(out)\n",
        "        out = self.layer3(out)\n",
        "        out = self.layer4(out)\n",
        "        out = F.avg_pool2d(out, 8)\n",
        "        out = out.view(out.size(0), -1)\n",
        "        out = self.linear(out)\n",
        "        return out\n",
        "\n",
        "\n",
        "def ResNet18():\n",
        "    return ResNet(BasicBlock, [2, 2, 2, 2])\n",
        "\n",
        "\n",
        "def ResNet34():\n",
        "    return ResNet(BasicBlock, [3, 4, 6, 3])\n",
        "\n",
        "\n",
        "def ResNet50():\n",
        "    return ResNet(Bottleneck, [3, 4, 6, 3])\n",
        "\n",
        "\n",
        "def ResNet101():\n",
        "    return ResNet(Bottleneck, [3, 4, 23, 3])\n",
        "\n",
        "\n",
        "def ResNet152():\n",
        "    return ResNet(Bottleneck, [3, 8, 36, 3])\n",
        "\n",
        "\n",
        "def test():\n",
        "    net = ResNet18()\n",
        "    y = net(torch.randn(1, 3, 32, 32))\n",
        "    print(y.size())\n"
      ],
      "execution_count": 10,
      "outputs": []
    },
    {
      "cell_type": "code",
      "metadata": {
        "id": "Lzn2pxR4x0EH",
        "colab_type": "code",
        "colab": {
          "base_uri": "https://localhost:8080/",
          "height": 1000
        },
        "outputId": "2ea50243-66f5-426f-8496-1bd610b351c7"
      },
      "source": [
        "from torchsummary import summary\n",
        "cuda = torch.cuda.is_available()\n",
        "device = torch.device(\"cuda\" if cuda else \"cpu\")\n",
        "model = ResNet18().to(device)\n",
        "summary(model, input_size=(3, 64, 64))"
      ],
      "execution_count": 11,
      "outputs": [
        {
          "output_type": "stream",
          "text": [
            "----------------------------------------------------------------\n",
            "        Layer (type)               Output Shape         Param #\n",
            "================================================================\n",
            "            Conv2d-1           [-1, 64, 64, 64]           1,728\n",
            "       BatchNorm2d-2           [-1, 64, 64, 64]             128\n",
            "            Conv2d-3           [-1, 64, 64, 64]          36,864\n",
            "       BatchNorm2d-4           [-1, 64, 64, 64]             128\n",
            "            Conv2d-5           [-1, 64, 64, 64]          36,864\n",
            "       BatchNorm2d-6           [-1, 64, 64, 64]             128\n",
            "        BasicBlock-7           [-1, 64, 64, 64]               0\n",
            "            Conv2d-8           [-1, 64, 64, 64]          36,864\n",
            "       BatchNorm2d-9           [-1, 64, 64, 64]             128\n",
            "           Conv2d-10           [-1, 64, 64, 64]          36,864\n",
            "      BatchNorm2d-11           [-1, 64, 64, 64]             128\n",
            "       BasicBlock-12           [-1, 64, 64, 64]               0\n",
            "           Conv2d-13          [-1, 128, 32, 32]          73,728\n",
            "      BatchNorm2d-14          [-1, 128, 32, 32]             256\n",
            "           Conv2d-15          [-1, 128, 32, 32]         147,456\n",
            "      BatchNorm2d-16          [-1, 128, 32, 32]             256\n",
            "           Conv2d-17          [-1, 128, 32, 32]           8,192\n",
            "      BatchNorm2d-18          [-1, 128, 32, 32]             256\n",
            "       BasicBlock-19          [-1, 128, 32, 32]               0\n",
            "           Conv2d-20          [-1, 128, 32, 32]         147,456\n",
            "      BatchNorm2d-21          [-1, 128, 32, 32]             256\n",
            "           Conv2d-22          [-1, 128, 32, 32]         147,456\n",
            "      BatchNorm2d-23          [-1, 128, 32, 32]             256\n",
            "       BasicBlock-24          [-1, 128, 32, 32]               0\n",
            "           Conv2d-25          [-1, 256, 16, 16]         294,912\n",
            "      BatchNorm2d-26          [-1, 256, 16, 16]             512\n",
            "           Conv2d-27          [-1, 256, 16, 16]         589,824\n",
            "      BatchNorm2d-28          [-1, 256, 16, 16]             512\n",
            "           Conv2d-29          [-1, 256, 16, 16]          32,768\n",
            "      BatchNorm2d-30          [-1, 256, 16, 16]             512\n",
            "       BasicBlock-31          [-1, 256, 16, 16]               0\n",
            "           Conv2d-32          [-1, 256, 16, 16]         589,824\n",
            "      BatchNorm2d-33          [-1, 256, 16, 16]             512\n",
            "           Conv2d-34          [-1, 256, 16, 16]         589,824\n",
            "      BatchNorm2d-35          [-1, 256, 16, 16]             512\n",
            "       BasicBlock-36          [-1, 256, 16, 16]               0\n",
            "           Conv2d-37            [-1, 512, 8, 8]       1,179,648\n",
            "      BatchNorm2d-38            [-1, 512, 8, 8]           1,024\n",
            "           Conv2d-39            [-1, 512, 8, 8]       2,359,296\n",
            "      BatchNorm2d-40            [-1, 512, 8, 8]           1,024\n",
            "           Conv2d-41            [-1, 512, 8, 8]         131,072\n",
            "      BatchNorm2d-42            [-1, 512, 8, 8]           1,024\n",
            "       BasicBlock-43            [-1, 512, 8, 8]               0\n",
            "           Conv2d-44            [-1, 512, 8, 8]       2,359,296\n",
            "      BatchNorm2d-45            [-1, 512, 8, 8]           1,024\n",
            "           Conv2d-46            [-1, 512, 8, 8]       2,359,296\n",
            "      BatchNorm2d-47            [-1, 512, 8, 8]           1,024\n",
            "       BasicBlock-48            [-1, 512, 8, 8]               0\n",
            "           Linear-49                  [-1, 200]         102,600\n",
            "================================================================\n",
            "Total params: 11,271,432\n",
            "Trainable params: 11,271,432\n",
            "Non-trainable params: 0\n",
            "----------------------------------------------------------------\n",
            "Input size (MB): 0.05\n",
            "Forward/backward pass size (MB): 45.00\n",
            "Params size (MB): 43.00\n",
            "Estimated Total Size (MB): 88.05\n",
            "----------------------------------------------------------------\n"
          ],
          "name": "stdout"
        }
      ]
    },
    {
      "cell_type": "code",
      "metadata": {
        "id": "fUCfFNcdx19-",
        "colab_type": "code",
        "colab": {
          "base_uri": "https://localhost:8080/",
          "height": 68,
          "referenced_widgets": [
            "2d83e9a87c5c412883862565a8fc45dd",
            "29cdb6257ac54f0890792e5f09731eb6",
            "ab994515430143aeadc4de499d4b96ae",
            "f7b2d458521f4fcc922de56585c44c56",
            "09a2ce0ef4fa4a14a716fde77d41e3d2",
            "484030f333774a77973c4c6c8383ab90",
            "28fc7836d12f42019ce19eefd2f2fc5b",
            "95ed7089017847b2a2e6ada417b176a1"
          ]
        },
        "outputId": "8215afa5-df40-4c7e-e3f1-f16182823723"
      },
      "source": [
        "import torch.optim as optim\n",
        "import torch.nn as nn\n",
        "criterion = nn.CrossEntropyLoss()\n",
        "optimizer = optim.SGD(model.parameters(), lr=1e-2, weight_decay=1e-2)\n",
        "\n",
        "lr_finder = lrf.LRFinder(model, optimizer, criterion, device=\"cuda\")\n",
        "lr_finder.range_test(trainLoader,start_lr=1e-6, end_lr=100, num_iter=150, step_mode='exp')"
      ],
      "execution_count": 12,
      "outputs": [
        {
          "output_type": "display_data",
          "data": {
            "application/vnd.jupyter.widget-view+json": {
              "model_id": "2d83e9a87c5c412883862565a8fc45dd",
              "version_minor": 0,
              "version_major": 2
            },
            "text/plain": [
              "HBox(children=(FloatProgress(value=0.0, max=150.0), HTML(value='')))"
            ]
          },
          "metadata": {
            "tags": []
          }
        },
        {
          "output_type": "stream",
          "text": [
            "\n"
          ],
          "name": "stdout"
        }
      ]
    },
    {
      "cell_type": "code",
      "metadata": {
        "id": "eafewx_S3zAV",
        "colab_type": "code",
        "colab": {
          "base_uri": "https://localhost:8080/",
          "height": 302
        },
        "outputId": "c4d45a31-9de0-4e26-e2c1-145720f5f6ca"
      },
      "source": [
        "lr_finder.plot()"
      ],
      "execution_count": 13,
      "outputs": [
        {
          "output_type": "display_data",
          "data": {
            "image/png": "[encoded data removed]",
            "text/plain": [
              "<Figure size 432x288 with 1 Axes>"
            ]
          },
          "metadata": {
            "tags": [],
            "needs_background": "light"
          }
        },
        {
          "output_type": "execute_result",
          "data": {
            "text/plain": [
              "<matplotlib.axes._subplots.AxesSubplot at 0x7f181e8da4a8>"
            ]
          },
          "metadata": {
            "tags": []
          },
          "execution_count": 13
        }
      ]
    },
    {
      "cell_type": "code",
      "metadata": {
        "id": "D6eIxLyN4A46",
        "colab_type": "code",
        "colab": {}
      },
      "source": [
        "lr_finder.reset()"
      ],
      "execution_count": 14,
      "outputs": []
    },
    {
      "cell_type": "code",
      "metadata": {
        "id": "xEPl3Uwm4FXj",
        "colab_type": "code",
        "colab": {}
      },
      "source": [
        "# clr.lr_rangetest(device, model, trainLoader, criterion, 0.001, 0.01, 10)"
      ],
      "execution_count": 15,
      "outputs": []
    },
    {
      "cell_type": "code",
      "metadata": {
        "id": "qgJt8QnCL5Wx",
        "colab_type": "code",
        "colab": {}
      },
      "source": [
        "from tqdm import tqdm\n",
        "import numpy as np\n",
        "import torch.nn.functional as F\n",
        "import torch\n",
        "\n",
        "\n",
        "class Test_Train():\n",
        "  def __init__(self, model, device, optimizer, criterion, scheduler=True ):\n",
        "\n",
        "\n",
        "    self.model = model\n",
        "    self.device = device\n",
        "    self.optimizer = optimizer\n",
        "    self.criterion = criterion\n",
        "    self.scheduler = scheduler\n",
        "\n",
        "# # This is to hold all the values and plot some graphs to extract few good insights.\n",
        "    self.train_losses = []\n",
        "    self.test_losses = []\n",
        "    self.train_acc = []\n",
        "    self.test_acc = []\n",
        "    self.train_epoch_end = []\n",
        "    self.test_loss_min = np.inf # setting it to infinity(max value)\n",
        "    # when the test loss becomes min I will save the particular model\n",
        "\n",
        "\n",
        "  def train(self, trainloader, epoch):\n",
        "    self.model.train()    # prepare model for training\n",
        "    pbar = tqdm(trainloader)\n",
        "    correct = 0\n",
        "    processed = 0\n",
        "    loss = 0\n",
        "    for batch_idx, (data, target) in enumerate(pbar): # passing on data & target values to device\n",
        "      data, target = data.to(self.device), target.to(self.device)\n",
        "      self.optimizer.zero_grad()    # clear the gradients of all optimized variables\n",
        "\n",
        "      # Predict\n",
        "      y_pred = self.model(data)   # forward pass\n",
        "\n",
        "      # Calculate loss\n",
        "      loss = self.criterion(y_pred, target)\n",
        "\n",
        "      # #Implementing L1 Regularization\n",
        "      # if L1lambda:\n",
        "      #   with torch.enable_grad():\n",
        "      #     l1_loss = 0.\n",
        "      #     for param in self.model.parameters():\n",
        "      #       l1_loss += torch.sum(param.abs())\n",
        "      #     loss = c_loss +  (L1lambda * l1_loss)\n",
        "\n",
        "\n",
        "\n",
        "      # Backpropagation\n",
        "      loss.backward()   # backward pass: compute gradient of the loss with respect to model parameters\n",
        "      self.optimizer.step()   # perform a single optimization step (parameter update)\n",
        "      # if self.scheduler:\n",
        "      #   scheduler.step(loss)\n",
        "\n",
        "\n",
        "      # Update pbar-tqdm\n",
        "      pred = y_pred.argmax(dim=1, keepdim=True)  # get the index of the max log-probability\n",
        "      correct += pred.eq(target.view_as(pred)).sum().item()\n",
        "      processed += len(data)\n",
        "\n",
        "      pbar.set_description(desc= f'Loss={loss.item()} Batch_id={batch_idx} Accuracy={100*correct/processed:0.2f}')\n",
        "    self.train_acc.append(100*correct/processed)\n",
        "    \n",
        "    self.train_epoch_end.append(self.train_acc[-1])\n",
        "    self.train_losses.append(loss)\n",
        "\n",
        "\n",
        "  def test(self, testloader, filename, correct_samples, correctLabels, incorrect_samples):\n",
        "      self.model.eval()  # prep model for evaluation\n",
        "      test_loss = 0\n",
        "      correct = 0\n",
        "\n",
        "      with torch.no_grad(): # setting gradients back to zero\n",
        "          for data, target in testloader:\n",
        "\n",
        "            img_batch = data # this is done to store data\n",
        "            data, target = data.to(self.device), target.to(self.device)\n",
        "\n",
        "            # forward pass: compute predicted outputs by passing inputs to the model\n",
        "            output = self.model(data)\n",
        "\n",
        "            # sum up batch loss\n",
        "            # test_loss += F.nll_loss(output, target, reduction='sum').item()\n",
        "            test_loss = self.criterion(output, target).item()\n",
        "\n",
        "\n",
        "            # get the index of the max log-probability\n",
        "            pred = output.argmax(dim=1, keepdim=True)\n",
        "            correct += pred.eq(target.view_as(pred)).sum().item()\n",
        "\n",
        "            # storing the entire result data as binary\n",
        "            result = pred.eq(target.view_as(pred))\n",
        "            # scheduler.step()\n",
        "\n",
        "            # This is to extract incorrect samples/misclassified images\n",
        "            if len(incorrect_samples) < 25:\n",
        "              for i in range(0, testloader.batch_size):\n",
        "                if not list(result)[i]:\n",
        "                  incorrect_samples.append({'prediction': list(pred)[i], 'label': list(target.view_as(pred))[i],'image': img_batch[i]})\n",
        "\n",
        "\n",
        "            # this is to extract correct samples/classified images\n",
        "            if len(correct_samples) < 25:\n",
        "              for i in range(0, testloader.batch_size):\n",
        "                if list(result)[i]:\n",
        "                  correct_samples.append({'prediction': list(pred)[i], 'label': list(target.view_as(pred))[i],'image': img_batch[i]})\n",
        "                  correctLabels.append(list(target.view_as(pred))[i]) # this is for gradcam\n",
        "\n",
        "\n",
        "\n",
        "\n",
        "      # save model if validation loss has decreased\n",
        "      if test_loss <= self.test_loss_min:\n",
        "          print('Validation loss has  decreased ({:.4f} --> {:.4f}).  Saving model ...'.format(self.test_loss_min,test_loss ))\n",
        "          torch.save(self.model.state_dict(), filename)\n",
        "          self.test_loss_min = test_loss\n",
        "\n",
        "\n",
        "      print('\\nTest set: Average loss: {:.4f}, Accuracy: {}/{} ({:.2f}%)\\n'.format(\n",
        "          test_loss, correct, len(testloader.dataset),\n",
        "          100. * correct / len(testloader.dataset)))\n",
        "\n",
        "\n",
        "      self.test_acc.append(100. * correct / len(testloader.dataset))\n",
        "      self.test_losses.append(test_loss)\n",
        "\n",
        "\n",
        "\n",
        "def cross_entropy_loss():\n",
        "    \"\"\"Returns:\n",
        "        Cross entroy loss function\n",
        "    \"\"\"\n",
        "    return torch.nn.CrossEntropyLoss()\n",
        "\n",
        "def model_summary(model, input_size=(3,32,32)):\n",
        "  \"\"\"\n",
        "  Returns Summary of the model passed in as model\n",
        "  \"\"\"\n",
        "  return summary(model, input_size)\n",
        "\n"
      ],
      "execution_count": 16,
      "outputs": []
    },
    {
      "cell_type": "code",
      "metadata": {
        "id": "KdMC79dj7AGO",
        "colab_type": "code",
        "colab": {
          "base_uri": "https://localhost:8080/",
          "height": 1000
        },
        "outputId": "ad348a28-504d-4019-eda1-4be81f8aa835"
      },
      "source": [
        "incorrectSamples = []\n",
        "correctSamples = []\n",
        "correctLabels = []\n",
        "learningRates = []\n",
        "model = ResNet18().to(device)\n",
        "EPOCHS = 50\n",
        "import torch.optim as optim\n",
        "criterion = nn.CrossEntropyLoss()\n",
        "optimizer = optim.SGD(model.parameters(), lr = 0.001, momentum=0.95, weight_decay = 1e-2, nesterov = True) \n",
        "# scheduler = torch.optim.lr_scheduler.OneCycleLR(optimizer, max_lr = 0.02, total_steps=19000, epochs = 30, steps_per_epoch=len(trainLoader),\n",
        "#                                                 pct_start=1/3, anneal_strategy='linear', cycle_momentum=True, \n",
        "#                                                 base_momentum=0.85, max_momentum=0.95, div_factor=10, final_div_factor=1)\n",
        "\n",
        "scheduler = torch.optim.lr_scheduler.ReduceLROnPlateau(optimizer, mode='min', factor=0.2, patience=3, threshold=0.001)\n",
        "\n",
        "model1 = Test_Train(model, device, optimizer, criterion, scheduler=True)\n",
        "\n",
        "\n",
        "\n",
        "for epoch in range(1, EPOCHS+1):\n",
        "  print('EPOCH: ',epoch)\n",
        "  model1.train(trainLoader, epoch)\n",
        "  model1.test(testLoader, 'model1.pt', correctSamples, correctLabels, incorrectSamples)\n",
        "  scheduler.step(model1.test_losses[-1])\n",
        "  for param_group in optimizer.param_groups:\n",
        "    print('Learning Rate = {a} for EPOCH {e}'.format(a = round(param_group['lr'],5), e=epoch+1))\n",
        "    learningRates.append(param_group['lr'])\n",
        "  "
      ],
      "execution_count": null,
      "outputs": [
        {
          "output_type": "stream",
          "text": [
            "\r  0%|          | 0/602 [00:00<?, ?it/s]"
          ],
          "name": "stderr"
        },
        {
          "output_type": "stream",
          "text": [
            "EPOCH:  1\n"
          ],
          "name": "stdout"
        },
        {
          "output_type": "stream",
          "text": [
            "Loss=4.350662708282471 Batch_id=601 Accuracy=5.89: 100%|██████████| 602/602 [04:37<00:00,  2.17it/s]\n",
            "  0%|          | 0/602 [00:00<?, ?it/s]"
          ],
          "name": "stderr"
        },
        {
          "output_type": "stream",
          "text": [
            "Validation loss has  decreased (inf --> 4.2484).  Saving model ...\n",
            "\n",
            "Test set: Average loss: 4.2484, Accuracy: 3148/33000 (9.54%)\n",
            "\n",
            "Learning Rate = 0.001 for EPOCH 2\n",
            "EPOCH:  2\n"
          ],
          "name": "stdout"
        },
        {
          "output_type": "stream",
          "text": [
            "Loss=4.011900424957275 Batch_id=601 Accuracy=12.94: 100%|██████████| 602/602 [04:37<00:00,  2.17it/s]\n",
            "  0%|          | 0/602 [00:00<?, ?it/s]"
          ],
          "name": "stderr"
        },
        {
          "output_type": "stream",
          "text": [
            "Validation loss has  decreased (4.2484 --> 4.1964).  Saving model ...\n",
            "\n",
            "Test set: Average loss: 4.1964, Accuracy: 4620/33000 (14.00%)\n",
            "\n",
            "Learning Rate = 0.001 for EPOCH 3\n",
            "EPOCH:  3\n"
          ],
          "name": "stdout"
        },
        {
          "output_type": "stream",
          "text": [
            "Loss=3.8958969116210938 Batch_id=601 Accuracy=17.32: 100%|██████████| 602/602 [04:37<00:00,  2.17it/s]\n",
            "  0%|          | 0/602 [00:00<?, ?it/s]"
          ],
          "name": "stderr"
        },
        {
          "output_type": "stream",
          "text": [
            "Validation loss has  decreased (4.1964 --> 3.7596).  Saving model ...\n",
            "\n",
            "Test set: Average loss: 3.7596, Accuracy: 5781/33000 (17.52%)\n",
            "\n",
            "Learning Rate = 0.001 for EPOCH 4\n",
            "EPOCH:  4\n"
          ],
          "name": "stdout"
        },
        {
          "output_type": "stream",
          "text": [
            "Loss=3.655005931854248 Batch_id=601 Accuracy=20.79: 100%|██████████| 602/602 [04:37<00:00,  2.17it/s]\n",
            "  0%|          | 0/602 [00:00<?, ?it/s]"
          ],
          "name": "stderr"
        },
        {
          "output_type": "stream",
          "text": [
            "Validation loss has  decreased (3.7596 --> 3.5017).  Saving model ...\n",
            "\n",
            "Test set: Average loss: 3.5017, Accuracy: 6844/33000 (20.74%)\n",
            "\n",
            "Learning Rate = 0.001 for EPOCH 5\n",
            "EPOCH:  5\n"
          ],
          "name": "stdout"
        },
        {
          "output_type": "stream",
          "text": [
            "Loss=3.020206928253174 Batch_id=601 Accuracy=23.51: 100%|██████████| 602/602 [04:38<00:00,  2.17it/s]\n",
            "  0%|          | 0/602 [00:00<?, ?it/s]"
          ],
          "name": "stderr"
        },
        {
          "output_type": "stream",
          "text": [
            "\n",
            "Test set: Average loss: 3.6182, Accuracy: 7140/33000 (21.64%)\n",
            "\n",
            "Learning Rate = 0.001 for EPOCH 6\n",
            "EPOCH:  6\n"
          ],
          "name": "stdout"
        },
        {
          "output_type": "stream",
          "text": [
            "Loss=3.2671468257904053 Batch_id=601 Accuracy=25.71: 100%|██████████| 602/602 [04:37<00:00,  2.17it/s]\n",
            "  0%|          | 0/602 [00:00<?, ?it/s]"
          ],
          "name": "stderr"
        },
        {
          "output_type": "stream",
          "text": [
            "Validation loss has  decreased (3.5017 --> 3.4185).  Saving model ...\n",
            "\n",
            "Test set: Average loss: 3.4185, Accuracy: 7821/33000 (23.70%)\n",
            "\n",
            "Learning Rate = 0.001 for EPOCH 7\n",
            "EPOCH:  7\n"
          ],
          "name": "stdout"
        },
        {
          "output_type": "stream",
          "text": [
            "Loss=3.352687358856201 Batch_id=601 Accuracy=27.44: 100%|██████████| 602/602 [04:37<00:00,  2.17it/s]\n",
            "  0%|          | 0/602 [00:00<?, ?it/s]"
          ],
          "name": "stderr"
        },
        {
          "output_type": "stream",
          "text": [
            "\n",
            "Test set: Average loss: 3.4349, Accuracy: 7935/33000 (24.05%)\n",
            "\n",
            "Learning Rate = 0.001 for EPOCH 8\n",
            "EPOCH:  8\n"
          ],
          "name": "stdout"
        },
        {
          "output_type": "stream",
          "text": [
            "Loss=2.8716578483581543 Batch_id=601 Accuracy=29.12: 100%|██████████| 602/602 [04:37<00:00,  2.17it/s]\n",
            "  0%|          | 0/602 [00:00<?, ?it/s]"
          ],
          "name": "stderr"
        },
        {
          "output_type": "stream",
          "text": [
            "Validation loss has  decreased (3.4185 --> 3.1480).  Saving model ...\n",
            "\n",
            "Test set: Average loss: 3.1480, Accuracy: 9406/33000 (28.50%)\n",
            "\n",
            "Learning Rate = 0.001 for EPOCH 9\n",
            "EPOCH:  9\n"
          ],
          "name": "stdout"
        },
        {
          "output_type": "stream",
          "text": [
            "Loss=2.9544003009796143 Batch_id=601 Accuracy=30.23: 100%|██████████| 602/602 [04:37<00:00,  2.17it/s]\n",
            "  0%|          | 0/602 [00:00<?, ?it/s]"
          ],
          "name": "stderr"
        },
        {
          "output_type": "stream",
          "text": [
            "\n",
            "Test set: Average loss: 3.2797, Accuracy: 9372/33000 (28.40%)\n",
            "\n",
            "Learning Rate = 0.001 for EPOCH 10\n",
            "EPOCH:  10\n"
          ],
          "name": "stdout"
        },
        {
          "output_type": "stream",
          "text": [
            "Loss=3.046381950378418 Batch_id=601 Accuracy=31.36: 100%|██████████| 602/602 [04:37<00:00,  2.17it/s]\n",
            "  0%|          | 0/602 [00:00<?, ?it/s]"
          ],
          "name": "stderr"
        },
        {
          "output_type": "stream",
          "text": [
            "Validation loss has  decreased (3.1480 --> 3.1217).  Saving model ...\n",
            "\n",
            "Test set: Average loss: 3.1217, Accuracy: 8735/33000 (26.47%)\n",
            "\n",
            "Learning Rate = 0.001 for EPOCH 11\n",
            "EPOCH:  11\n"
          ],
          "name": "stdout"
        },
        {
          "output_type": "stream",
          "text": [
            "Loss=2.841986656188965 Batch_id=601 Accuracy=32.71: 100%|██████████| 602/602 [04:37<00:00,  2.17it/s]\n",
            "  0%|          | 0/602 [00:00<?, ?it/s]"
          ],
          "name": "stderr"
        },
        {
          "output_type": "stream",
          "text": [
            "\n",
            "Test set: Average loss: 3.1543, Accuracy: 10172/33000 (30.82%)\n",
            "\n",
            "Learning Rate = 0.001 for EPOCH 12\n",
            "EPOCH:  12\n"
          ],
          "name": "stdout"
        },
        {
          "output_type": "stream",
          "text": [
            "Loss=2.847827672958374 Batch_id=601 Accuracy=33.76: 100%|██████████| 602/602 [04:37<00:00,  2.17it/s]\n",
            "  0%|          | 0/602 [00:00<?, ?it/s]"
          ],
          "name": "stderr"
        },
        {
          "output_type": "stream",
          "text": [
            "\n",
            "Test set: Average loss: 3.2229, Accuracy: 9942/33000 (30.13%)\n",
            "\n",
            "Learning Rate = 0.001 for EPOCH 13\n",
            "EPOCH:  13\n"
          ],
          "name": "stdout"
        },
        {
          "output_type": "stream",
          "text": [
            "Loss=2.921747922897339 Batch_id=601 Accuracy=34.80: 100%|██████████| 602/602 [04:37<00:00,  2.17it/s]\n",
            "  0%|          | 0/602 [00:00<?, ?it/s]"
          ],
          "name": "stderr"
        },
        {
          "output_type": "stream",
          "text": [
            "Validation loss has  decreased (3.1217 --> 2.6982).  Saving model ...\n",
            "\n",
            "Test set: Average loss: 2.6982, Accuracy: 10045/33000 (30.44%)\n",
            "\n",
            "Learning Rate = 0.001 for EPOCH 14\n",
            "EPOCH:  14\n"
          ],
          "name": "stdout"
        },
        {
          "output_type": "stream",
          "text": [
            "Loss=2.8829691410064697 Batch_id=601 Accuracy=35.75: 100%|██████████| 602/602 [04:37<00:00,  2.17it/s]\n",
            "  0%|          | 0/602 [00:00<?, ?it/s]"
          ],
          "name": "stderr"
        },
        {
          "output_type": "stream",
          "text": [
            "Validation loss has  decreased (2.6982 --> 2.5537).  Saving model ...\n",
            "\n",
            "Test set: Average loss: 2.5537, Accuracy: 10475/33000 (31.74%)\n",
            "\n",
            "Learning Rate = 0.001 for EPOCH 15\n",
            "EPOCH:  15\n"
          ],
          "name": "stdout"
        },
        {
          "output_type": "stream",
          "text": [
            "Loss=2.9338839054107666 Batch_id=601 Accuracy=36.34: 100%|██████████| 602/602 [04:37<00:00,  2.17it/s]\n",
            "  0%|          | 0/602 [00:00<?, ?it/s]"
          ],
          "name": "stderr"
        },
        {
          "output_type": "stream",
          "text": [
            "\n",
            "Test set: Average loss: 2.8865, Accuracy: 11038/33000 (33.45%)\n",
            "\n",
            "Learning Rate = 0.001 for EPOCH 16\n",
            "EPOCH:  16\n"
          ],
          "name": "stdout"
        },
        {
          "output_type": "stream",
          "text": [
            "Loss=2.4499940872192383 Batch_id=601 Accuracy=37.09: 100%|██████████| 602/602 [04:37<00:00,  2.17it/s]\n",
            "  0%|          | 0/602 [00:00<?, ?it/s]"
          ],
          "name": "stderr"
        },
        {
          "output_type": "stream",
          "text": [
            "\n",
            "Test set: Average loss: 3.0435, Accuracy: 10231/33000 (31.00%)\n",
            "\n",
            "Learning Rate = 0.001 for EPOCH 17\n",
            "EPOCH:  17\n"
          ],
          "name": "stdout"
        },
        {
          "output_type": "stream",
          "text": [
            "Loss=3.0032663345336914 Batch_id=601 Accuracy=37.79: 100%|██████████| 602/602 [04:37<00:00,  2.17it/s]\n",
            "  0%|          | 0/602 [00:00<?, ?it/s]"
          ],
          "name": "stderr"
        },
        {
          "output_type": "stream",
          "text": [
            "\n",
            "Test set: Average loss: 2.8657, Accuracy: 11519/33000 (34.91%)\n",
            "\n",
            "Learning Rate = 0.001 for EPOCH 18\n",
            "EPOCH:  18\n"
          ],
          "name": "stdout"
        },
        {
          "output_type": "stream",
          "text": [
            "Loss=2.5953280925750732 Batch_id=601 Accuracy=38.58: 100%|██████████| 602/602 [04:37<00:00,  2.17it/s]\n",
            "  0%|          | 0/602 [00:00<?, ?it/s]"
          ],
          "name": "stderr"
        },
        {
          "output_type": "stream",
          "text": [
            "\n",
            "Test set: Average loss: 2.8109, Accuracy: 11198/33000 (33.93%)\n",
            "\n",
            "Learning Rate = 0.0002 for EPOCH 19\n",
            "EPOCH:  19\n"
          ],
          "name": "stdout"
        },
        {
          "output_type": "stream",
          "text": [
            "Loss=2.331157684326172 Batch_id=601 Accuracy=44.63: 100%|██████████| 602/602 [04:37<00:00,  2.17it/s]\n",
            "  0%|          | 0/602 [00:00<?, ?it/s]"
          ],
          "name": "stderr"
        },
        {
          "output_type": "stream",
          "text": [
            "Validation loss has  decreased (2.5537 --> 2.3994).  Saving model ...\n",
            "\n",
            "Test set: Average loss: 2.3994, Accuracy: 14223/33000 (43.10%)\n",
            "\n",
            "Learning Rate = 0.0002 for EPOCH 20\n",
            "EPOCH:  20\n"
          ],
          "name": "stdout"
        },
        {
          "output_type": "stream",
          "text": [
            "Loss=2.5678274631500244 Batch_id=601 Accuracy=46.76: 100%|██████████| 602/602 [04:37<00:00,  2.17it/s]\n",
            "  0%|          | 0/602 [00:00<?, ?it/s]"
          ],
          "name": "stderr"
        },
        {
          "output_type": "stream",
          "text": [
            "Validation loss has  decreased (2.3994 --> 2.2483).  Saving model ...\n",
            "\n",
            "Test set: Average loss: 2.2483, Accuracy: 14549/33000 (44.09%)\n",
            "\n",
            "Learning Rate = 0.0002 for EPOCH 21\n",
            "EPOCH:  21\n"
          ],
          "name": "stdout"
        },
        {
          "output_type": "stream",
          "text": [
            "Loss=2.4395737648010254 Batch_id=601 Accuracy=47.65: 100%|██████████| 602/602 [04:37<00:00,  2.17it/s]\n",
            "  0%|          | 0/602 [00:00<?, ?it/s]"
          ],
          "name": "stderr"
        },
        {
          "output_type": "stream",
          "text": [
            "\n",
            "Test set: Average loss: 2.4299, Accuracy: 14463/33000 (43.83%)\n",
            "\n",
            "Learning Rate = 0.0002 for EPOCH 22\n",
            "EPOCH:  22\n"
          ],
          "name": "stdout"
        },
        {
          "output_type": "stream",
          "text": [
            "Loss=2.5023844242095947 Batch_id=601 Accuracy=48.28: 100%|██████████| 602/602 [04:37<00:00,  2.17it/s]\n",
            "  0%|          | 0/602 [00:00<?, ?it/s]"
          ],
          "name": "stderr"
        },
        {
          "output_type": "stream",
          "text": [
            "\n",
            "Test set: Average loss: 2.2900, Accuracy: 14620/33000 (44.30%)\n",
            "\n",
            "Learning Rate = 0.0002 for EPOCH 23\n",
            "EPOCH:  23\n"
          ],
          "name": "stdout"
        },
        {
          "output_type": "stream",
          "text": [
            "Loss=2.275973320007324 Batch_id=601 Accuracy=48.80: 100%|██████████| 602/602 [04:37<00:00,  2.17it/s]\n",
            "  0%|          | 0/602 [00:00<?, ?it/s]"
          ],
          "name": "stderr"
        },
        {
          "output_type": "stream",
          "text": [
            "\n",
            "Test set: Average loss: 2.3384, Accuracy: 14946/33000 (45.29%)\n",
            "\n",
            "Learning Rate = 0.0002 for EPOCH 24\n",
            "EPOCH:  24\n"
          ],
          "name": "stdout"
        },
        {
          "output_type": "stream",
          "text": [
            "Loss=2.1350691318511963 Batch_id=601 Accuracy=49.52: 100%|██████████| 602/602 [04:37<00:00,  2.17it/s]\n",
            "  0%|          | 0/602 [00:00<?, ?it/s]"
          ],
          "name": "stderr"
        },
        {
          "output_type": "stream",
          "text": [
            "\n",
            "Test set: Average loss: 2.3284, Accuracy: 14717/33000 (44.60%)\n",
            "\n",
            "Learning Rate = 4e-05 for EPOCH 25\n",
            "EPOCH:  25\n"
          ],
          "name": "stdout"
        },
        {
          "output_type": "stream",
          "text": [
            "Loss=2.246978521347046 Batch_id=601 Accuracy=52.61: 100%|██████████| 602/602 [04:37<00:00,  2.17it/s]\n",
            "  0%|          | 0/602 [00:00<?, ?it/s]"
          ],
          "name": "stderr"
        },
        {
          "output_type": "stream",
          "text": [
            "\n",
            "Test set: Average loss: 2.4097, Accuracy: 15749/33000 (47.72%)\n",
            "\n",
            "Learning Rate = 4e-05 for EPOCH 26\n",
            "EPOCH:  26\n"
          ],
          "name": "stdout"
        },
        {
          "output_type": "stream",
          "text": [
            "Loss=2.2143194675445557 Batch_id=601 Accuracy=53.70: 100%|██████████| 602/602 [04:37<00:00,  2.17it/s]\n",
            "  0%|          | 0/602 [00:00<?, ?it/s]"
          ],
          "name": "stderr"
        },
        {
          "output_type": "stream",
          "text": [
            "Validation loss has  decreased (2.2483 --> 1.9513).  Saving model ...\n",
            "\n",
            "Test set: Average loss: 1.9513, Accuracy: 15785/33000 (47.83%)\n",
            "\n",
            "Learning Rate = 4e-05 for EPOCH 27\n",
            "EPOCH:  27\n"
          ],
          "name": "stdout"
        },
        {
          "output_type": "stream",
          "text": [
            "Loss=1.9244052171707153 Batch_id=601 Accuracy=53.99: 100%|██████████| 602/602 [04:37<00:00,  2.17it/s]\n",
            "  0%|          | 0/602 [00:00<?, ?it/s]"
          ],
          "name": "stderr"
        },
        {
          "output_type": "stream",
          "text": [
            "\n",
            "Test set: Average loss: 2.0341, Accuracy: 15936/33000 (48.29%)\n",
            "\n",
            "Learning Rate = 4e-05 for EPOCH 28\n",
            "EPOCH:  28\n"
          ],
          "name": "stdout"
        },
        {
          "output_type": "stream",
          "text": [
            "Loss=2.0404531955718994 Batch_id=601 Accuracy=54.32: 100%|██████████| 602/602 [04:37<00:00,  2.17it/s]\n",
            "  0%|          | 0/602 [00:00<?, ?it/s]"
          ],
          "name": "stderr"
        },
        {
          "output_type": "stream",
          "text": [
            "\n",
            "Test set: Average loss: 2.3506, Accuracy: 15957/33000 (48.35%)\n",
            "\n",
            "Learning Rate = 4e-05 for EPOCH 29\n",
            "EPOCH:  29\n"
          ],
          "name": "stdout"
        },
        {
          "output_type": "stream",
          "text": [
            "Loss=2.010352611541748 Batch_id=601 Accuracy=54.53: 100%|██████████| 602/602 [04:37<00:00,  2.17it/s]\n",
            "  0%|          | 0/602 [00:00<?, ?it/s]"
          ],
          "name": "stderr"
        },
        {
          "output_type": "stream",
          "text": [
            "\n",
            "Test set: Average loss: 2.1865, Accuracy: 15956/33000 (48.35%)\n",
            "\n",
            "Learning Rate = 4e-05 for EPOCH 30\n",
            "EPOCH:  30\n"
          ],
          "name": "stdout"
        },
        {
          "output_type": "stream",
          "text": [
            "Loss=2.2878904342651367 Batch_id=601 Accuracy=54.87: 100%|██████████| 602/602 [04:37<00:00,  2.17it/s]\n",
            "  0%|          | 0/602 [00:00<?, ?it/s]"
          ],
          "name": "stderr"
        },
        {
          "output_type": "stream",
          "text": [
            "\n",
            "Test set: Average loss: 2.1898, Accuracy: 15965/33000 (48.38%)\n",
            "\n",
            "Learning Rate = 1e-05 for EPOCH 31\n",
            "EPOCH:  31\n"
          ],
          "name": "stdout"
        },
        {
          "output_type": "stream",
          "text": [
            "Loss=1.9710890054702759 Batch_id=601 Accuracy=56.06: 100%|██████████| 602/602 [04:37<00:00,  2.17it/s]\n",
            "  0%|          | 0/602 [00:00<?, ?it/s]"
          ],
          "name": "stderr"
        },
        {
          "output_type": "stream",
          "text": [
            "\n",
            "Test set: Average loss: 2.1060, Accuracy: 16165/33000 (48.98%)\n",
            "\n",
            "Learning Rate = 1e-05 for EPOCH 32\n",
            "EPOCH:  32\n"
          ],
          "name": "stdout"
        },
        {
          "output_type": "stream",
          "text": [
            "Loss=2.124695062637329 Batch_id=601 Accuracy=56.10: 100%|██████████| 602/602 [04:37<00:00,  2.17it/s]\n",
            "  0%|          | 0/602 [00:00<?, ?it/s]"
          ],
          "name": "stderr"
        },
        {
          "output_type": "stream",
          "text": [
            "\n",
            "Test set: Average loss: 2.5592, Accuracy: 16159/33000 (48.97%)\n",
            "\n",
            "Learning Rate = 1e-05 for EPOCH 33\n",
            "EPOCH:  33\n"
          ],
          "name": "stdout"
        },
        {
          "output_type": "stream",
          "text": [
            "Loss=2.2287983894348145 Batch_id=601 Accuracy=56.51: 100%|██████████| 602/602 [04:37<00:00,  2.17it/s]\n",
            "  0%|          | 0/602 [00:00<?, ?it/s]"
          ],
          "name": "stderr"
        },
        {
          "output_type": "stream",
          "text": [
            "Validation loss has  decreased (1.9513 --> 1.9254).  Saving model ...\n",
            "\n",
            "Test set: Average loss: 1.9254, Accuracy: 16184/33000 (49.04%)\n",
            "\n",
            "Learning Rate = 1e-05 for EPOCH 34\n",
            "EPOCH:  34\n"
          ],
          "name": "stdout"
        },
        {
          "output_type": "stream",
          "text": [
            "Loss=2.1799206733703613 Batch_id=601 Accuracy=56.39: 100%|██████████| 602/602 [04:37<00:00,  2.17it/s]\n",
            "  0%|          | 0/602 [00:00<?, ?it/s]"
          ],
          "name": "stderr"
        },
        {
          "output_type": "stream",
          "text": [
            "\n",
            "Test set: Average loss: 1.9640, Accuracy: 16204/33000 (49.10%)\n",
            "\n",
            "Learning Rate = 1e-05 for EPOCH 35\n",
            "EPOCH:  35\n"
          ],
          "name": "stdout"
        },
        {
          "output_type": "stream",
          "text": [
            "Loss=2.0608184337615967 Batch_id=601 Accuracy=56.43: 100%|██████████| 602/602 [04:37<00:00,  2.17it/s]\n",
            "  0%|          | 0/602 [00:00<?, ?it/s]"
          ],
          "name": "stderr"
        },
        {
          "output_type": "stream",
          "text": [
            "\n",
            "Test set: Average loss: 2.7590, Accuracy: 16188/33000 (49.05%)\n",
            "\n",
            "Learning Rate = 1e-05 for EPOCH 36\n",
            "EPOCH:  36\n"
          ],
          "name": "stdout"
        },
        {
          "output_type": "stream",
          "text": [
            "Loss=2.18464994430542 Batch_id=601 Accuracy=56.50: 100%|██████████| 602/602 [04:37<00:00,  2.17it/s]\n",
            "  0%|          | 0/602 [00:00<?, ?it/s]"
          ],
          "name": "stderr"
        },
        {
          "output_type": "stream",
          "text": [
            "\n",
            "Test set: Average loss: 2.1746, Accuracy: 16150/33000 (48.94%)\n",
            "\n",
            "Learning Rate = 1e-05 for EPOCH 37\n",
            "EPOCH:  37\n"
          ],
          "name": "stdout"
        },
        {
          "output_type": "stream",
          "text": [
            "Loss=2.0053701400756836 Batch_id=601 Accuracy=56.56: 100%|██████████| 602/602 [04:37<00:00,  2.17it/s]\n",
            "  0%|          | 0/602 [00:00<?, ?it/s]"
          ],
          "name": "stderr"
        },
        {
          "output_type": "stream",
          "text": [
            "\n",
            "Test set: Average loss: 2.1733, Accuracy: 16231/33000 (49.18%)\n",
            "\n",
            "Learning Rate = 0.0 for EPOCH 38\n",
            "EPOCH:  38\n"
          ],
          "name": "stdout"
        },
        {
          "output_type": "stream",
          "text": [
            "Loss=1.9915087223052979 Batch_id=601 Accuracy=56.97: 100%|██████████| 602/602 [04:37<00:00,  2.17it/s]\n",
            "  0%|          | 0/602 [00:00<?, ?it/s]"
          ],
          "name": "stderr"
        },
        {
          "output_type": "stream",
          "text": [
            "\n",
            "Test set: Average loss: 2.4592, Accuracy: 16257/33000 (49.26%)\n",
            "\n",
            "Learning Rate = 0.0 for EPOCH 39\n",
            "EPOCH:  39\n"
          ],
          "name": "stdout"
        },
        {
          "output_type": "stream",
          "text": [
            "Loss=2.5879509449005127 Batch_id=601 Accuracy=56.92: 100%|██████████| 602/602 [04:37<00:00,  2.17it/s]\n",
            "  0%|          | 0/602 [00:00<?, ?it/s]"
          ],
          "name": "stderr"
        },
        {
          "output_type": "stream",
          "text": [
            "\n",
            "Test set: Average loss: 2.2702, Accuracy: 16211/33000 (49.12%)\n",
            "\n",
            "Learning Rate = 0.0 for EPOCH 40\n",
            "EPOCH:  40\n"
          ],
          "name": "stdout"
        },
        {
          "output_type": "stream",
          "text": [
            "Loss=2.202385663986206 Batch_id=601 Accuracy=56.92: 100%|██████████| 602/602 [04:37<00:00,  2.17it/s]\n",
            "  0%|          | 0/602 [00:00<?, ?it/s]"
          ],
          "name": "stderr"
        },
        {
          "output_type": "stream",
          "text": [
            "\n",
            "Test set: Average loss: 2.1965, Accuracy: 16204/33000 (49.10%)\n",
            "\n",
            "Learning Rate = 0.0 for EPOCH 41\n",
            "EPOCH:  41\n"
          ],
          "name": "stdout"
        },
        {
          "output_type": "stream",
          "text": [
            "Loss=2.079322338104248 Batch_id=74 Accuracy=56.60:  12%|█▏        | 75/602 [00:34<04:01,  2.18it/s]"
          ],
          "name": "stderr"
        }
      ]
    },
    {
      "cell_type": "code",
      "metadata": {
        "id": "ni2O-eOA7RFE",
        "colab_type": "code",
        "colab": {}
      },
      "source": [
        "# a = []\n",
        "# while(1):\n",
        "#   a.append(\"b\")"
      ],
      "execution_count": null,
      "outputs": []
    },
    {
      "cell_type": "markdown",
      "metadata": {
        "id": "BAEd1kM3V--R",
        "colab_type": "text"
      },
      "source": [
        "**Displaying Model Curves**"
      ]
    },
    {
      "cell_type": "code",
      "metadata": {
        "id": "6NExebA0V9sn",
        "colab_type": "code",
        "colab": {}
      },
      "source": [
        "accuracyElements = [(model1.test_acc,\"Validation Accuracy\"),(model1.train_epoch_end,\"Train Accuracy\")]\n",
        "lossElements = [(model1.test_losses,\"Validation Loss\"),(model1.train_losses,\"Train Loss\")]\n",
        "\n",
        "for i in range(1):\n",
        "  display.plot_curve(lossElements,'Training & Validation Loss of ResNet18 on TinyImageNet', y_label='Loss')\n",
        "  display.plot_curve(accuracyElements,'Training & Validation Accuracy of ResNet18 on TinyImageNet')"
      ],
      "execution_count": null,
      "outputs": []
    },
    {
      "cell_type": "code",
      "metadata": {
        "id": "J-UkWI_1KJkv",
        "colab_type": "code",
        "colab": {}
      },
      "source": [
        ""
      ],
      "execution_count": null,
      "outputs": []
    }
  ]
}